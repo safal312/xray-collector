{
 "cells": [
  {
   "cell_type": "code",
   "execution_count": 1,
   "metadata": {},
   "outputs": [],
   "source": [
    "import pandas as pd\n",
    "import requests"
   ]
  },
  {
   "cell_type": "code",
   "execution_count": 2,
   "metadata": {},
   "outputs": [],
   "source": [
    "df = pd.read_csv(\"../data/finalized_data/metadata_with_screenplay_subtitles.csv\", dtype=str)\n",
    "# df_lang = pd.read_csv(\"../data/finalized_data/all_metadata_finalized_withlanguage.csv\")"
   ]
  },
  {
   "cell_type": "code",
   "execution_count": 4,
   "metadata": {},
   "outputs": [
    {
     "data": {
      "text/plain": [
       "(3265, 10)"
      ]
     },
     "execution_count": 4,
     "metadata": {},
     "output_type": "execute_result"
    }
   ],
   "source": [
    "df.shape"
   ]
  },
  {
   "cell_type": "code",
   "execution_count": 6,
   "metadata": {},
   "outputs": [],
   "source": [
    "import requests\n",
    "import os\n",
    "from dotenv import load_dotenv\n",
    "import json"
   ]
  },
  {
   "cell_type": "code",
   "execution_count": null,
   "metadata": {},
   "outputs": [],
   "source": [
    "import requests\n",
    "import os\n",
    "from dotenv import load_dotenv\n",
    "\n",
    "load_dotenv()\n",
    "\n",
    "tmdb_ids = []\n",
    "\n",
    "counter = 0\n",
    "for imdb_id in df['imdb_id']:\n",
    "    counter += 1\n",
    "    print(counter, imdb_id)\n",
    "    url = f\"https://api.themoviedb.org/3/find/tt{imdb_id}?external_source=imdb_id\"\n",
    "\n",
    "    headers = {\n",
    "        \"accept\": \"application/json\",\n",
    "        \"Authorization\": f\"Bearer {os.getenv('TMDB_TOKEN')}\"\n",
    "    }\n",
    "\n",
    "    response = requests.get(url, headers=headers)\n",
    "\n",
    "    tmdb_ids.append(response.json())"
   ]
  },
  {
   "cell_type": "code",
   "execution_count": 13,
   "metadata": {},
   "outputs": [],
   "source": [
    "import json\n",
    "\n",
    "with open(\"tmdb_data.json\", \"w\") as f:\n",
    "    f.write(json.dumps(tmdb_ids))"
   ]
  },
  {
   "cell_type": "code",
   "execution_count": 14,
   "metadata": {},
   "outputs": [
    {
     "data": {
      "text/plain": [
       "{'movie_results': [{'backdrop_path': '/lntyt4OVDbcxA1l7LtwITbrD3FI.jpg',\n",
       "   'id': 1010581,\n",
       "   'title': 'My Fault',\n",
       "   'original_title': 'Culpa mía',\n",
       "   'overview': \"Noah must leave her city, boyfriend, and friends to move into William Leister's mansion, the flashy and wealthy husband of her mother Rafaela. As a proud and independent 17 year old, Noah resists living in a mansion surrounded by luxury. However, it is there where she meets Nick, her new stepbrother, and the clash of their strong personalities becomes evident from the very beginning.\",\n",
       "   'poster_path': '/w46Vw536HwNnEzOa7J24YH9DPRS.jpg',\n",
       "   'media_type': 'movie',\n",
       "   'adult': False,\n",
       "   'original_language': 'es',\n",
       "   'genre_ids': [18, 10749],\n",
       "   'popularity': 335.237,\n",
       "   'release_date': '2023-06-08',\n",
       "   'video': False,\n",
       "   'vote_average': 7.939,\n",
       "   'vote_count': 2898}],\n",
       " 'person_results': [],\n",
       " 'tv_results': [],\n",
       " 'tv_episode_results': [],\n",
       " 'tv_season_results': []}"
      ]
     },
     "execution_count": 14,
     "metadata": {},
     "output_type": "execute_result"
    }
   ],
   "source": [
    "tmdb_ids[0]"
   ]
  },
  {
   "cell_type": "code",
   "execution_count": 22,
   "metadata": {},
   "outputs": [],
   "source": [
    "tmdb_id_numbers = []\n",
    "tmdb_id_lang = []\n",
    "\n",
    "for movie in tmdb_ids:\n",
    "    try:\n",
    "        tmdb_id = movie['movie_results'][0]['id']\n",
    "    except:\n",
    "        tmdb_id = None\n",
    "    \n",
    "    try:\n",
    "        lang = movie['movie_results'][0]['original_language']\n",
    "    except:\n",
    "        lang = None\n",
    "\n",
    "    tmdb_id_numbers.append(tmdb_id)\n",
    "    tmdb_id_lang.append(lang)"
   ]
  },
  {
   "cell_type": "code",
   "execution_count": 23,
   "metadata": {},
   "outputs": [],
   "source": [
    "tmdb_col = pd.Series(tmdb_id_numbers)\n",
    "lang_col = pd.Series(tmdb_id_lang)"
   ]
  },
  {
   "cell_type": "code",
   "execution_count": 24,
   "metadata": {},
   "outputs": [],
   "source": [
    "df['tmdb_id'] = tmdb_col\n",
    "df['original_language'] = lang_col"
   ]
  },
  {
   "cell_type": "code",
   "execution_count": 25,
   "metadata": {},
   "outputs": [
    {
     "data": {
      "text/plain": [
       "44"
      ]
     },
     "execution_count": 25,
     "metadata": {},
     "output_type": "execute_result"
    }
   ],
   "source": [
    "df['tmdb_id'].isnull().sum()"
   ]
  },
  {
   "cell_type": "code",
   "execution_count": 26,
   "metadata": {},
   "outputs": [
    {
     "data": {
      "text/plain": [
       "44"
      ]
     },
     "execution_count": 26,
     "metadata": {},
     "output_type": "execute_result"
    }
   ],
   "source": [
    "df['original_language'].isnull().sum()"
   ]
  },
  {
   "cell_type": "code",
   "execution_count": 27,
   "metadata": {},
   "outputs": [
    {
     "data": {
      "text/html": [
       "<div>\n",
       "<style scoped>\n",
       "    .dataframe tbody tr th:only-of-type {\n",
       "        vertical-align: middle;\n",
       "    }\n",
       "\n",
       "    .dataframe tbody tr th {\n",
       "        vertical-align: top;\n",
       "    }\n",
       "\n",
       "    .dataframe thead th {\n",
       "        text-align: right;\n",
       "    }\n",
       "</style>\n",
       "<table border=\"1\" class=\"dataframe\">\n",
       "  <thead>\n",
       "    <tr style=\"text-align: right;\">\n",
       "      <th></th>\n",
       "      <th>title</th>\n",
       "      <th>imdb_id</th>\n",
       "      <th>file</th>\n",
       "      <th>dir</th>\n",
       "      <th>synopsis</th>\n",
       "      <th>year</th>\n",
       "      <th>link</th>\n",
       "      <th>screenplay</th>\n",
       "      <th>sp_file</th>\n",
       "      <th>subtitle</th>\n",
       "      <th>tmdb_id</th>\n",
       "      <th>original_language</th>\n",
       "    </tr>\n",
       "  </thead>\n",
       "  <tbody>\n",
       "    <tr>\n",
       "      <th>0</th>\n",
       "      <td>My Fault</td>\n",
       "      <td>21909764</td>\n",
       "      <td>0_My_Fault</td>\n",
       "      <td>com</td>\n",
       "      <td>Noah must leave her town, boyfriend and friend...</td>\n",
       "      <td>2023.0</td>\n",
       "      <td>/My-Fault-Nicole-Wallace/dp/B0B683GB78/ref=sr_...</td>\n",
       "      <td>False</td>\n",
       "      <td>NaN</td>\n",
       "      <td>SDH_EN</td>\n",
       "      <td>1010581.0</td>\n",
       "      <td>es</td>\n",
       "    </tr>\n",
       "    <tr>\n",
       "      <th>1</th>\n",
       "      <td>On The Trail of UFOS: Dark Sky</td>\n",
       "      <td>14928972</td>\n",
       "      <td>1000_On_The_Trail_of_UFOS_Dark_Sky</td>\n",
       "      <td>com</td>\n",
       "      <td>On the Trail of UFOs: Dark Sky traces decades ...</td>\n",
       "      <td>2021.0</td>\n",
       "      <td>/Trail-UFOS-Dark-Sky/dp/B09BKF2WGQ/ref=sr_1_24...</td>\n",
       "      <td>False</td>\n",
       "      <td>NaN</td>\n",
       "      <td>SDH</td>\n",
       "      <td>853703.0</td>\n",
       "      <td>en</td>\n",
       "    </tr>\n",
       "    <tr>\n",
       "      <th>2</th>\n",
       "      <td>Student Of The Year</td>\n",
       "      <td>2172071</td>\n",
       "      <td>1001_Student_Of_The_Year</td>\n",
       "      <td>com</td>\n",
       "      <td>Introducing Alia Bhatt (Sharanya Singhania), S...</td>\n",
       "      <td>2012.0</td>\n",
       "      <td>/Student-Year-Sidharth-Malhotra/dp/B0BZTD87WK/...</td>\n",
       "      <td>False</td>\n",
       "      <td>NaN</td>\n",
       "      <td>EN</td>\n",
       "      <td>138122.0</td>\n",
       "      <td>hi</td>\n",
       "    </tr>\n",
       "    <tr>\n",
       "      <th>3</th>\n",
       "      <td>The Badge, The Bible and Bigfoot</td>\n",
       "      <td>11208026</td>\n",
       "      <td>1005_The_Badge_The_Bible_and_Bigfoot</td>\n",
       "      <td>com</td>\n",
       "      <td>In a small coastal town Bigfoot is sighted, an...</td>\n",
       "      <td>2019.0</td>\n",
       "      <td>/Badge-Bible-Bigfoot-Ashley-Wright/dp/B09JMYV8...</td>\n",
       "      <td>False</td>\n",
       "      <td>NaN</td>\n",
       "      <td>SDH</td>\n",
       "      <td>690499.0</td>\n",
       "      <td>en</td>\n",
       "    </tr>\n",
       "    <tr>\n",
       "      <th>4</th>\n",
       "      <td>Sharknado 5: Global Swarming</td>\n",
       "      <td>6298780</td>\n",
       "      <td>1009_Sharknado_5_Global_Swarming</td>\n",
       "      <td>com</td>\n",
       "      <td>With much of North America lying in ruins, the...</td>\n",
       "      <td>2017.0</td>\n",
       "      <td>/Sharknado-Global-Swarming-Ian-Ziering/dp/B07M...</td>\n",
       "      <td>False</td>\n",
       "      <td>NaN</td>\n",
       "      <td>SDH</td>\n",
       "      <td>438970.0</td>\n",
       "      <td>en</td>\n",
       "    </tr>\n",
       "  </tbody>\n",
       "</table>\n",
       "</div>"
      ],
      "text/plain": [
       "                              title   imdb_id  \\\n",
       "0                          My Fault  21909764   \n",
       "1    On The Trail of UFOS: Dark Sky  14928972   \n",
       "2               Student Of The Year   2172071   \n",
       "3  The Badge, The Bible and Bigfoot  11208026   \n",
       "4      Sharknado 5: Global Swarming   6298780   \n",
       "\n",
       "                                   file  dir  \\\n",
       "0                            0_My_Fault  com   \n",
       "1    1000_On_The_Trail_of_UFOS_Dark_Sky  com   \n",
       "2              1001_Student_Of_The_Year  com   \n",
       "3  1005_The_Badge_The_Bible_and_Bigfoot  com   \n",
       "4      1009_Sharknado_5_Global_Swarming  com   \n",
       "\n",
       "                                            synopsis    year  \\\n",
       "0  Noah must leave her town, boyfriend and friend...  2023.0   \n",
       "1  On the Trail of UFOs: Dark Sky traces decades ...  2021.0   \n",
       "2  Introducing Alia Bhatt (Sharanya Singhania), S...  2012.0   \n",
       "3  In a small coastal town Bigfoot is sighted, an...  2019.0   \n",
       "4  With much of North America lying in ruins, the...  2017.0   \n",
       "\n",
       "                                                link screenplay sp_file  \\\n",
       "0  /My-Fault-Nicole-Wallace/dp/B0B683GB78/ref=sr_...      False     NaN   \n",
       "1  /Trail-UFOS-Dark-Sky/dp/B09BKF2WGQ/ref=sr_1_24...      False     NaN   \n",
       "2  /Student-Year-Sidharth-Malhotra/dp/B0BZTD87WK/...      False     NaN   \n",
       "3  /Badge-Bible-Bigfoot-Ashley-Wright/dp/B09JMYV8...      False     NaN   \n",
       "4  /Sharknado-Global-Swarming-Ian-Ziering/dp/B07M...      False     NaN   \n",
       "\n",
       "  subtitle    tmdb_id original_language  \n",
       "0   SDH_EN  1010581.0                es  \n",
       "1      SDH   853703.0                en  \n",
       "2       EN   138122.0                hi  \n",
       "3      SDH   690499.0                en  \n",
       "4      SDH   438970.0                en  "
      ]
     },
     "execution_count": 27,
     "metadata": {},
     "output_type": "execute_result"
    }
   ],
   "source": [
    "df.head()"
   ]
  },
  {
   "cell_type": "markdown",
   "metadata": {},
   "source": [
    "Get country origin"
   ]
  },
  {
   "cell_type": "code",
   "execution_count": null,
   "metadata": {},
   "outputs": [],
   "source": [
    "tmdb_detail_info = []\n",
    "\n",
    "counter = 0\n",
    "for id in df['tmdb_id']:\n",
    "    counter += 1\n",
    "    print(counter, id)\n",
    "    if id is None: tmdb_detail_info.append(None); continue\n",
    "    \n",
    "    url = f\"https://api.themoviedb.org/3/movie/{id}\"\n",
    "\n",
    "    headers = {\n",
    "        \"accept\": \"application/json\",\n",
    "        \"Authorization\": f\"Bearer {os.getenv('TMDB_TOKEN')}\"\n",
    "    }\n",
    "\n",
    "    response = requests.get(url, headers=headers)\n",
    "\n",
    "    tmdb_detail_info.append(response.json())"
   ]
  },
  {
   "cell_type": "code",
   "execution_count": 43,
   "metadata": {},
   "outputs": [],
   "source": [
    "import json\n",
    "\n",
    "with open(\"tmdb_detailed_data.json\", \"w\") as f:\n",
    "    f.write(json.dumps(tmdb_detail_info))"
   ]
  },
  {
   "cell_type": "code",
   "execution_count": 44,
   "metadata": {},
   "outputs": [],
   "source": [
    "tmdb_id_country = []\n",
    "\n",
    "for movie in tmdb_detail_info:\n",
    "    try:\n",
    "        country = movie['origin_country'][0]\n",
    "    except:\n",
    "        country = None\n",
    "\n",
    "    tmdb_id_country.append(country)"
   ]
  },
  {
   "cell_type": "code",
   "execution_count": 45,
   "metadata": {},
   "outputs": [
    {
     "data": {
      "text/plain": [
       "3265"
      ]
     },
     "execution_count": 45,
     "metadata": {},
     "output_type": "execute_result"
    }
   ],
   "source": [
    "len(tmdb_id_country)"
   ]
  },
  {
   "cell_type": "code",
   "execution_count": 46,
   "metadata": {},
   "outputs": [],
   "source": [
    "tmdb_country = pd.Series(tmdb_id_country)"
   ]
  },
  {
   "cell_type": "code",
   "execution_count": 47,
   "metadata": {},
   "outputs": [],
   "source": [
    "df['origin_country'] = tmdb_country"
   ]
  },
  {
   "cell_type": "code",
   "execution_count": 49,
   "metadata": {},
   "outputs": [
    {
     "data": {
      "text/plain": [
       "44"
      ]
     },
     "execution_count": 49,
     "metadata": {},
     "output_type": "execute_result"
    }
   ],
   "source": [
    "df['origin_country'].isnull().sum()"
   ]
  },
  {
   "cell_type": "code",
   "execution_count": 51,
   "metadata": {},
   "outputs": [
    {
     "data": {
      "text/html": [
       "<div>\n",
       "<style scoped>\n",
       "    .dataframe tbody tr th:only-of-type {\n",
       "        vertical-align: middle;\n",
       "    }\n",
       "\n",
       "    .dataframe tbody tr th {\n",
       "        vertical-align: top;\n",
       "    }\n",
       "\n",
       "    .dataframe thead th {\n",
       "        text-align: right;\n",
       "    }\n",
       "</style>\n",
       "<table border=\"1\" class=\"dataframe\">\n",
       "  <thead>\n",
       "    <tr style=\"text-align: right;\">\n",
       "      <th></th>\n",
       "      <th>title</th>\n",
       "      <th>imdb_id</th>\n",
       "      <th>file</th>\n",
       "      <th>dir</th>\n",
       "      <th>synopsis</th>\n",
       "      <th>year</th>\n",
       "      <th>link</th>\n",
       "      <th>screenplay</th>\n",
       "      <th>sp_file</th>\n",
       "      <th>subtitle</th>\n",
       "      <th>tmdb_id</th>\n",
       "      <th>original_language</th>\n",
       "      <th>origin_country</th>\n",
       "    </tr>\n",
       "  </thead>\n",
       "  <tbody>\n",
       "    <tr>\n",
       "      <th>0</th>\n",
       "      <td>My Fault</td>\n",
       "      <td>21909764</td>\n",
       "      <td>0_My_Fault</td>\n",
       "      <td>com</td>\n",
       "      <td>Noah must leave her town, boyfriend and friend...</td>\n",
       "      <td>2023.0</td>\n",
       "      <td>/My-Fault-Nicole-Wallace/dp/B0B683GB78/ref=sr_...</td>\n",
       "      <td>False</td>\n",
       "      <td>NaN</td>\n",
       "      <td>SDH_EN</td>\n",
       "      <td>1010581.0</td>\n",
       "      <td>es</td>\n",
       "      <td>ES</td>\n",
       "    </tr>\n",
       "    <tr>\n",
       "      <th>1</th>\n",
       "      <td>On The Trail of UFOS: Dark Sky</td>\n",
       "      <td>14928972</td>\n",
       "      <td>1000_On_The_Trail_of_UFOS_Dark_Sky</td>\n",
       "      <td>com</td>\n",
       "      <td>On the Trail of UFOs: Dark Sky traces decades ...</td>\n",
       "      <td>2021.0</td>\n",
       "      <td>/Trail-UFOS-Dark-Sky/dp/B09BKF2WGQ/ref=sr_1_24...</td>\n",
       "      <td>False</td>\n",
       "      <td>NaN</td>\n",
       "      <td>SDH</td>\n",
       "      <td>853703.0</td>\n",
       "      <td>en</td>\n",
       "      <td>US</td>\n",
       "    </tr>\n",
       "    <tr>\n",
       "      <th>2</th>\n",
       "      <td>Student Of The Year</td>\n",
       "      <td>2172071</td>\n",
       "      <td>1001_Student_Of_The_Year</td>\n",
       "      <td>com</td>\n",
       "      <td>Introducing Alia Bhatt (Sharanya Singhania), S...</td>\n",
       "      <td>2012.0</td>\n",
       "      <td>/Student-Year-Sidharth-Malhotra/dp/B0BZTD87WK/...</td>\n",
       "      <td>False</td>\n",
       "      <td>NaN</td>\n",
       "      <td>EN</td>\n",
       "      <td>138122.0</td>\n",
       "      <td>hi</td>\n",
       "      <td>IN</td>\n",
       "    </tr>\n",
       "    <tr>\n",
       "      <th>3</th>\n",
       "      <td>The Badge, The Bible and Bigfoot</td>\n",
       "      <td>11208026</td>\n",
       "      <td>1005_The_Badge_The_Bible_and_Bigfoot</td>\n",
       "      <td>com</td>\n",
       "      <td>In a small coastal town Bigfoot is sighted, an...</td>\n",
       "      <td>2019.0</td>\n",
       "      <td>/Badge-Bible-Bigfoot-Ashley-Wright/dp/B09JMYV8...</td>\n",
       "      <td>False</td>\n",
       "      <td>NaN</td>\n",
       "      <td>SDH</td>\n",
       "      <td>690499.0</td>\n",
       "      <td>en</td>\n",
       "      <td>US</td>\n",
       "    </tr>\n",
       "    <tr>\n",
       "      <th>4</th>\n",
       "      <td>Sharknado 5: Global Swarming</td>\n",
       "      <td>6298780</td>\n",
       "      <td>1009_Sharknado_5_Global_Swarming</td>\n",
       "      <td>com</td>\n",
       "      <td>With much of North America lying in ruins, the...</td>\n",
       "      <td>2017.0</td>\n",
       "      <td>/Sharknado-Global-Swarming-Ian-Ziering/dp/B07M...</td>\n",
       "      <td>False</td>\n",
       "      <td>NaN</td>\n",
       "      <td>SDH</td>\n",
       "      <td>438970.0</td>\n",
       "      <td>en</td>\n",
       "      <td>US</td>\n",
       "    </tr>\n",
       "  </tbody>\n",
       "</table>\n",
       "</div>"
      ],
      "text/plain": [
       "                              title   imdb_id  \\\n",
       "0                          My Fault  21909764   \n",
       "1    On The Trail of UFOS: Dark Sky  14928972   \n",
       "2               Student Of The Year   2172071   \n",
       "3  The Badge, The Bible and Bigfoot  11208026   \n",
       "4      Sharknado 5: Global Swarming   6298780   \n",
       "\n",
       "                                   file  dir  \\\n",
       "0                            0_My_Fault  com   \n",
       "1    1000_On_The_Trail_of_UFOS_Dark_Sky  com   \n",
       "2              1001_Student_Of_The_Year  com   \n",
       "3  1005_The_Badge_The_Bible_and_Bigfoot  com   \n",
       "4      1009_Sharknado_5_Global_Swarming  com   \n",
       "\n",
       "                                            synopsis    year  \\\n",
       "0  Noah must leave her town, boyfriend and friend...  2023.0   \n",
       "1  On the Trail of UFOs: Dark Sky traces decades ...  2021.0   \n",
       "2  Introducing Alia Bhatt (Sharanya Singhania), S...  2012.0   \n",
       "3  In a small coastal town Bigfoot is sighted, an...  2019.0   \n",
       "4  With much of North America lying in ruins, the...  2017.0   \n",
       "\n",
       "                                                link screenplay sp_file  \\\n",
       "0  /My-Fault-Nicole-Wallace/dp/B0B683GB78/ref=sr_...      False     NaN   \n",
       "1  /Trail-UFOS-Dark-Sky/dp/B09BKF2WGQ/ref=sr_1_24...      False     NaN   \n",
       "2  /Student-Year-Sidharth-Malhotra/dp/B0BZTD87WK/...      False     NaN   \n",
       "3  /Badge-Bible-Bigfoot-Ashley-Wright/dp/B09JMYV8...      False     NaN   \n",
       "4  /Sharknado-Global-Swarming-Ian-Ziering/dp/B07M...      False     NaN   \n",
       "\n",
       "  subtitle    tmdb_id original_language origin_country  \n",
       "0   SDH_EN  1010581.0                es             ES  \n",
       "1      SDH   853703.0                en             US  \n",
       "2       EN   138122.0                hi             IN  \n",
       "3      SDH   690499.0                en             US  \n",
       "4      SDH   438970.0                en             US  "
      ]
     },
     "execution_count": 51,
     "metadata": {},
     "output_type": "execute_result"
    }
   ],
   "source": [
    "df.head()"
   ]
  },
  {
   "cell_type": "code",
   "execution_count": 52,
   "metadata": {},
   "outputs": [],
   "source": [
    "df.to_csv(\"../data/finalized_data/metadata_with_screenplay_subtitles_tmdb.csv\", index=False)"
   ]
  }
 ],
 "metadata": {
  "kernelspec": {
   "display_name": "Python 3",
   "language": "python",
   "name": "python3"
  },
  "language_info": {
   "codemirror_mode": {
    "name": "ipython",
    "version": 3
   },
   "file_extension": ".py",
   "mimetype": "text/x-python",
   "name": "python",
   "nbconvert_exporter": "python",
   "pygments_lexer": "ipython3",
   "version": "3.11.3"
  }
 },
 "nbformat": 4,
 "nbformat_minor": 2
}
