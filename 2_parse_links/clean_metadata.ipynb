{
 "cells": [
  {
   "cell_type": "code",
   "execution_count": 83,
   "metadata": {},
   "outputs": [],
   "source": [
    "import pandas as pd\n",
    "import numpy as np\n",
    "from unidecode import unidecode\n",
    "import urllib"
   ]
  },
  {
   "cell_type": "code",
   "execution_count": 84,
   "metadata": {},
   "outputs": [],
   "source": [
    "import sys\n",
    "sys.path.append(\"../\")\n",
    "from consts import CLEAN_SCRAPE_DIR, BEFORE_2010_DIR, IN_2010S, AFTER_2020"
   ]
  },
  {
   "cell_type": "code",
   "execution_count": 85,
   "metadata": {},
   "outputs": [],
   "source": [
    "TARGET_DIR = CLEAN_SCRAPE_DIR"
   ]
  },
  {
   "cell_type": "code",
   "execution_count": 86,
   "metadata": {},
   "outputs": [],
   "source": [
    "df = pd.read_csv(f\"./metadata/{TARGET_DIR}/meta_en_prime.csv\", encoding='cp1252', header=None)\n",
    "# USEFUL ENCODINGS: cp1252, utf-8"
   ]
  },
  {
   "cell_type": "code",
   "execution_count": 87,
   "metadata": {},
   "outputs": [
    {
     "data": {
      "text/html": [
       "<div>\n",
       "<style scoped>\n",
       "    .dataframe tbody tr th:only-of-type {\n",
       "        vertical-align: middle;\n",
       "    }\n",
       "\n",
       "    .dataframe tbody tr th {\n",
       "        vertical-align: top;\n",
       "    }\n",
       "\n",
       "    .dataframe thead th {\n",
       "        text-align: right;\n",
       "    }\n",
       "</style>\n",
       "<table border=\"1\" class=\"dataframe\">\n",
       "  <thead>\n",
       "    <tr style=\"text-align: right;\">\n",
       "      <th></th>\n",
       "      <th>0</th>\n",
       "      <th>1</th>\n",
       "      <th>2</th>\n",
       "    </tr>\n",
       "  </thead>\n",
       "  <tbody>\n",
       "    <tr>\n",
       "      <th>6379</th>\n",
       "      <td>Cabin 28</td>\n",
       "      <td>/Cabin-28-Lee-Bane/dp/B079WDP9CP/ref=sr_1_1580...</td>\n",
       "      <td>2017|NR|CC</td>\n",
       "    </tr>\n",
       "    <tr>\n",
       "      <th>6380</th>\n",
       "      <td>The Perfect Victim</td>\n",
       "      <td>/Perfect-Victim-Elizabeth-Rohrbaugh/dp/B07749H...</td>\n",
       "      <td>2013|CC</td>\n",
       "    </tr>\n",
       "    <tr>\n",
       "      <th>6381</th>\n",
       "      <td>EVANGELION:3.33 YOU CAN (NOT) REDO.</td>\n",
       "      <td>/EVANGELION-3-33-YOU-CAN-REDO/dp/B08SVTV9DQ/re...</td>\n",
       "      <td>2013|CC</td>\n",
       "    </tr>\n",
       "    <tr>\n",
       "      <th>6382</th>\n",
       "      <td>God's Miracles</td>\n",
       "      <td>/Gods-Miracles-Bryant-Gumbel/dp/B0763TBQXY/ref...</td>\n",
       "      <td>1982|CC</td>\n",
       "    </tr>\n",
       "    <tr>\n",
       "      <th>6383</th>\n",
       "      <td>Philomena</td>\n",
       "      <td>/Philomena-Judi-Dench/dp/B00IIVK3ZU/ref=sr_1_1...</td>\n",
       "      <td>2013|PG-13|CC</td>\n",
       "    </tr>\n",
       "  </tbody>\n",
       "</table>\n",
       "</div>"
      ],
      "text/plain": [
       "                                        0  \\\n",
       "6379                             Cabin 28   \n",
       "6380                   The Perfect Victim   \n",
       "6381  EVANGELION:3.33 YOU CAN (NOT) REDO.   \n",
       "6382                       God's Miracles   \n",
       "6383                            Philomena   \n",
       "\n",
       "                                                      1              2  \n",
       "6379  /Cabin-28-Lee-Bane/dp/B079WDP9CP/ref=sr_1_1580...     2017|NR|CC  \n",
       "6380  /Perfect-Victim-Elizabeth-Rohrbaugh/dp/B07749H...        2013|CC  \n",
       "6381  /EVANGELION-3-33-YOU-CAN-REDO/dp/B08SVTV9DQ/re...        2013|CC  \n",
       "6382  /Gods-Miracles-Bryant-Gumbel/dp/B0763TBQXY/ref...        1982|CC  \n",
       "6383  /Philomena-Judi-Dench/dp/B00IIVK3ZU/ref=sr_1_1...  2013|PG-13|CC  "
      ]
     },
     "execution_count": 87,
     "metadata": {},
     "output_type": "execute_result"
    }
   ],
   "source": [
    "df.tail()"
   ]
  },
  {
   "cell_type": "code",
   "execution_count": 88,
   "metadata": {},
   "outputs": [],
   "source": [
    "df.columns=['title', 'link', 'tags']"
   ]
  },
  {
   "cell_type": "code",
   "execution_count": 89,
   "metadata": {},
   "outputs": [
    {
     "data": {
      "text/plain": [
       "(6384, 3)"
      ]
     },
     "execution_count": 89,
     "metadata": {},
     "output_type": "execute_result"
    }
   ],
   "source": [
    "df.shape"
   ]
  },
  {
   "cell_type": "code",
   "execution_count": 90,
   "metadata": {},
   "outputs": [],
   "source": [
    "df['year'] = pd.to_numeric(df['tags'].str.split('|').str[0], errors='coerce')"
   ]
  },
  {
   "cell_type": "markdown",
   "metadata": {},
   "source": [
    "### First, we'll convert the name to only alphanumeric characters"
   ]
  },
  {
   "cell_type": "code",
   "execution_count": 91,
   "metadata": {},
   "outputs": [],
   "source": [
    "df['clean_title'] = [unidecode(text) for text in df['title']]\n",
    "df['clean_title'] = df['clean_title'].str.replace(\"[^0-9a-zA-Z ]\", \"\", regex=True).str.replace(\" \", \"_\")"
   ]
  },
  {
   "cell_type": "code",
   "execution_count": 92,
   "metadata": {},
   "outputs": [
    {
     "data": {
      "text/html": [
       "<div>\n",
       "<style scoped>\n",
       "    .dataframe tbody tr th:only-of-type {\n",
       "        vertical-align: middle;\n",
       "    }\n",
       "\n",
       "    .dataframe tbody tr th {\n",
       "        vertical-align: top;\n",
       "    }\n",
       "\n",
       "    .dataframe thead th {\n",
       "        text-align: right;\n",
       "    }\n",
       "</style>\n",
       "<table border=\"1\" class=\"dataframe\">\n",
       "  <thead>\n",
       "    <tr style=\"text-align: right;\">\n",
       "      <th></th>\n",
       "      <th>title</th>\n",
       "      <th>link</th>\n",
       "      <th>tags</th>\n",
       "      <th>year</th>\n",
       "      <th>clean_title</th>\n",
       "    </tr>\n",
       "  </thead>\n",
       "  <tbody>\n",
       "    <tr>\n",
       "      <th>0</th>\n",
       "      <td>My Fault</td>\n",
       "      <td>/My-Fault-Nicole-Wallace/dp/B0B683GB78/ref=sr_...</td>\n",
       "      <td>2023|CC</td>\n",
       "      <td>2023.0</td>\n",
       "      <td>My_Fault</td>\n",
       "    </tr>\n",
       "    <tr>\n",
       "      <th>1</th>\n",
       "      <td>Jurassic World Dominion</td>\n",
       "      <td>/Jurassic-World-Dominion-Chris-Pratt/dp/B0B5NN...</td>\n",
       "      <td>2022|PG-13|CC</td>\n",
       "      <td>2022.0</td>\n",
       "      <td>Jurassic_World_Dominion</td>\n",
       "    </tr>\n",
       "    <tr>\n",
       "      <th>2</th>\n",
       "      <td>Top Gun: Maverick</td>\n",
       "      <td>/Top-Gun-Maverick-Tom-Cruise/dp/B0B214XZB4/ref...</td>\n",
       "      <td>2022|PG-13|CC</td>\n",
       "      <td>2022.0</td>\n",
       "      <td>Top_Gun_Maverick</td>\n",
       "    </tr>\n",
       "    <tr>\n",
       "      <th>3</th>\n",
       "      <td>Creed III</td>\n",
       "      <td>/Creed-III-Michael-B-Jordan/dp/B0B8TKJCRQ/ref=...</td>\n",
       "      <td>2023|PG-13|CC</td>\n",
       "      <td>2023.0</td>\n",
       "      <td>Creed_III</td>\n",
       "    </tr>\n",
       "    <tr>\n",
       "      <th>4</th>\n",
       "      <td>Sonic the Hedgehog 2</td>\n",
       "      <td>/Sonic-Hedgehog-2-James-Marsden/dp/B09ZRVBZG7/...</td>\n",
       "      <td>2022|PG|CC</td>\n",
       "      <td>2022.0</td>\n",
       "      <td>Sonic_the_Hedgehog_2</td>\n",
       "    </tr>\n",
       "  </tbody>\n",
       "</table>\n",
       "</div>"
      ],
      "text/plain": [
       "                     title                                               link  \\\n",
       "0                 My Fault  /My-Fault-Nicole-Wallace/dp/B0B683GB78/ref=sr_...   \n",
       "1  Jurassic World Dominion  /Jurassic-World-Dominion-Chris-Pratt/dp/B0B5NN...   \n",
       "2        Top Gun: Maverick  /Top-Gun-Maverick-Tom-Cruise/dp/B0B214XZB4/ref...   \n",
       "3                Creed III  /Creed-III-Michael-B-Jordan/dp/B0B8TKJCRQ/ref=...   \n",
       "4     Sonic the Hedgehog 2  /Sonic-Hedgehog-2-James-Marsden/dp/B09ZRVBZG7/...   \n",
       "\n",
       "            tags    year              clean_title  \n",
       "0        2023|CC  2023.0                 My_Fault  \n",
       "1  2022|PG-13|CC  2022.0  Jurassic_World_Dominion  \n",
       "2  2022|PG-13|CC  2022.0         Top_Gun_Maverick  \n",
       "3  2023|PG-13|CC  2023.0                Creed_III  \n",
       "4     2022|PG|CC  2022.0     Sonic_the_Hedgehog_2  "
      ]
     },
     "execution_count": 92,
     "metadata": {},
     "output_type": "execute_result"
    }
   ],
   "source": [
    "df.head()"
   ]
  },
  {
   "cell_type": "markdown",
   "metadata": {},
   "source": [
    "We'll also add the index to make the names unique."
   ]
  },
  {
   "cell_type": "code",
   "execution_count": 93,
   "metadata": {},
   "outputs": [],
   "source": [
    "df['fname'] = pd.Series(np.arange(0, df.shape[0]), dtype='str') + \"_\" + df['clean_title']"
   ]
  },
  {
   "cell_type": "code",
   "execution_count": 94,
   "metadata": {},
   "outputs": [
    {
     "data": {
      "text/html": [
       "<div>\n",
       "<style scoped>\n",
       "    .dataframe tbody tr th:only-of-type {\n",
       "        vertical-align: middle;\n",
       "    }\n",
       "\n",
       "    .dataframe tbody tr th {\n",
       "        vertical-align: top;\n",
       "    }\n",
       "\n",
       "    .dataframe thead th {\n",
       "        text-align: right;\n",
       "    }\n",
       "</style>\n",
       "<table border=\"1\" class=\"dataframe\">\n",
       "  <thead>\n",
       "    <tr style=\"text-align: right;\">\n",
       "      <th></th>\n",
       "      <th>title</th>\n",
       "      <th>link</th>\n",
       "      <th>tags</th>\n",
       "      <th>year</th>\n",
       "      <th>clean_title</th>\n",
       "      <th>fname</th>\n",
       "    </tr>\n",
       "  </thead>\n",
       "  <tbody>\n",
       "    <tr>\n",
       "      <th>0</th>\n",
       "      <td>My Fault</td>\n",
       "      <td>/My-Fault-Nicole-Wallace/dp/B0B683GB78/ref=sr_...</td>\n",
       "      <td>2023|CC</td>\n",
       "      <td>2023.0</td>\n",
       "      <td>My_Fault</td>\n",
       "      <td>0_My_Fault</td>\n",
       "    </tr>\n",
       "    <tr>\n",
       "      <th>1</th>\n",
       "      <td>Jurassic World Dominion</td>\n",
       "      <td>/Jurassic-World-Dominion-Chris-Pratt/dp/B0B5NN...</td>\n",
       "      <td>2022|PG-13|CC</td>\n",
       "      <td>2022.0</td>\n",
       "      <td>Jurassic_World_Dominion</td>\n",
       "      <td>1_Jurassic_World_Dominion</td>\n",
       "    </tr>\n",
       "    <tr>\n",
       "      <th>2</th>\n",
       "      <td>Top Gun: Maverick</td>\n",
       "      <td>/Top-Gun-Maverick-Tom-Cruise/dp/B0B214XZB4/ref...</td>\n",
       "      <td>2022|PG-13|CC</td>\n",
       "      <td>2022.0</td>\n",
       "      <td>Top_Gun_Maverick</td>\n",
       "      <td>2_Top_Gun_Maverick</td>\n",
       "    </tr>\n",
       "    <tr>\n",
       "      <th>3</th>\n",
       "      <td>Creed III</td>\n",
       "      <td>/Creed-III-Michael-B-Jordan/dp/B0B8TKJCRQ/ref=...</td>\n",
       "      <td>2023|PG-13|CC</td>\n",
       "      <td>2023.0</td>\n",
       "      <td>Creed_III</td>\n",
       "      <td>3_Creed_III</td>\n",
       "    </tr>\n",
       "    <tr>\n",
       "      <th>4</th>\n",
       "      <td>Sonic the Hedgehog 2</td>\n",
       "      <td>/Sonic-Hedgehog-2-James-Marsden/dp/B09ZRVBZG7/...</td>\n",
       "      <td>2022|PG|CC</td>\n",
       "      <td>2022.0</td>\n",
       "      <td>Sonic_the_Hedgehog_2</td>\n",
       "      <td>4_Sonic_the_Hedgehog_2</td>\n",
       "    </tr>\n",
       "  </tbody>\n",
       "</table>\n",
       "</div>"
      ],
      "text/plain": [
       "                     title                                               link  \\\n",
       "0                 My Fault  /My-Fault-Nicole-Wallace/dp/B0B683GB78/ref=sr_...   \n",
       "1  Jurassic World Dominion  /Jurassic-World-Dominion-Chris-Pratt/dp/B0B5NN...   \n",
       "2        Top Gun: Maverick  /Top-Gun-Maverick-Tom-Cruise/dp/B0B214XZB4/ref...   \n",
       "3                Creed III  /Creed-III-Michael-B-Jordan/dp/B0B8TKJCRQ/ref=...   \n",
       "4     Sonic the Hedgehog 2  /Sonic-Hedgehog-2-James-Marsden/dp/B09ZRVBZG7/...   \n",
       "\n",
       "            tags    year              clean_title                      fname  \n",
       "0        2023|CC  2023.0                 My_Fault                 0_My_Fault  \n",
       "1  2022|PG-13|CC  2022.0  Jurassic_World_Dominion  1_Jurassic_World_Dominion  \n",
       "2  2022|PG-13|CC  2022.0         Top_Gun_Maverick         2_Top_Gun_Maverick  \n",
       "3  2023|PG-13|CC  2023.0                Creed_III                3_Creed_III  \n",
       "4     2022|PG|CC  2022.0     Sonic_the_Hedgehog_2     4_Sonic_the_Hedgehog_2  "
      ]
     },
     "execution_count": 94,
     "metadata": {},
     "output_type": "execute_result"
    }
   ],
   "source": [
    "df.head()"
   ]
  },
  {
   "cell_type": "code",
   "execution_count": 95,
   "metadata": {},
   "outputs": [
    {
     "data": {
      "text/html": [
       "<div>\n",
       "<style scoped>\n",
       "    .dataframe tbody tr th:only-of-type {\n",
       "        vertical-align: middle;\n",
       "    }\n",
       "\n",
       "    .dataframe tbody tr th {\n",
       "        vertical-align: top;\n",
       "    }\n",
       "\n",
       "    .dataframe thead th {\n",
       "        text-align: right;\n",
       "    }\n",
       "</style>\n",
       "<table border=\"1\" class=\"dataframe\">\n",
       "  <thead>\n",
       "    <tr style=\"text-align: right;\">\n",
       "      <th></th>\n",
       "      <th>title</th>\n",
       "      <th>link</th>\n",
       "      <th>tags</th>\n",
       "      <th>year</th>\n",
       "      <th>clean_title</th>\n",
       "      <th>fname</th>\n",
       "    </tr>\n",
       "  </thead>\n",
       "  <tbody>\n",
       "    <tr>\n",
       "      <th>867</th>\n",
       "      <td>Blackbird</td>\n",
       "      <td>/Blackbird-Susan-Sarandon/dp/B09P1MH4V7/ref=sr...</td>\n",
       "      <td>2020|R|CC</td>\n",
       "      <td>2020.0</td>\n",
       "      <td>Blackbird</td>\n",
       "      <td>867_Blackbird</td>\n",
       "    </tr>\n",
       "    <tr>\n",
       "      <th>1250</th>\n",
       "      <td>Global Meltdown</td>\n",
       "      <td>/Global-Meltdown-Michael-Pare/dp/B0B66791WP/re...</td>\n",
       "      <td>2018|TV-MA|CC</td>\n",
       "      <td>2018.0</td>\n",
       "      <td>Global_Meltdown</td>\n",
       "      <td>1250_Global_Meltdown</td>\n",
       "    </tr>\n",
       "    <tr>\n",
       "      <th>1413</th>\n",
       "      <td>The Lost World</td>\n",
       "      <td>/Lost-World-John-Rhys-Davies/dp/B077YZHZYD/ref...</td>\n",
       "      <td>1992|CC</td>\n",
       "      <td>1992.0</td>\n",
       "      <td>The_Lost_World</td>\n",
       "      <td>1413_The_Lost_World</td>\n",
       "    </tr>\n",
       "    <tr>\n",
       "      <th>1582</th>\n",
       "      <td>Payback</td>\n",
       "      <td>/Payback-Matt-Levett/dp/B08TLP11CP/ref=sr_1_30...</td>\n",
       "      <td>2021|CC</td>\n",
       "      <td>2021.0</td>\n",
       "      <td>Payback</td>\n",
       "      <td>1582_Payback</td>\n",
       "    </tr>\n",
       "    <tr>\n",
       "      <th>2009</th>\n",
       "      <td>His Girl Friday</td>\n",
       "      <td>/His-Girl-Friday-Cary-Grant/dp/B099D8SF1F/ref=...</td>\n",
       "      <td>1940|TV-14|CC</td>\n",
       "      <td>1940.0</td>\n",
       "      <td>His_Girl_Friday</td>\n",
       "      <td>2009_His_Girl_Friday</td>\n",
       "    </tr>\n",
       "    <tr>\n",
       "      <th>...</th>\n",
       "      <td>...</td>\n",
       "      <td>...</td>\n",
       "      <td>...</td>\n",
       "      <td>...</td>\n",
       "      <td>...</td>\n",
       "      <td>...</td>\n",
       "    </tr>\n",
       "    <tr>\n",
       "      <th>6146</th>\n",
       "      <td>Goodbye World</td>\n",
       "      <td>/Goodbye-World-Adrian-Grenier/dp/B0755CXJ95/re...</td>\n",
       "      <td>2014|TV-14|CC</td>\n",
       "      <td>2014.0</td>\n",
       "      <td>Goodbye_World</td>\n",
       "      <td>6146_Goodbye_World</td>\n",
       "    </tr>\n",
       "    <tr>\n",
       "      <th>6198</th>\n",
       "      <td>One Body Too Many</td>\n",
       "      <td>/One-Body-Many-Jack-Haley/dp/B0B8X5WR6X/ref=sr...</td>\n",
       "      <td>2023|CC</td>\n",
       "      <td>2023.0</td>\n",
       "      <td>One_Body_Too_Many</td>\n",
       "      <td>6198_One_Body_Too_Many</td>\n",
       "    </tr>\n",
       "    <tr>\n",
       "      <th>6216</th>\n",
       "      <td>Jigsaw</td>\n",
       "      <td>/Jigsaw-4K-UHD-Hannah-Anderson/dp/B07WHL775C/r...</td>\n",
       "      <td>2017|R|CC</td>\n",
       "      <td>2017.0</td>\n",
       "      <td>Jigsaw</td>\n",
       "      <td>6216_Jigsaw</td>\n",
       "    </tr>\n",
       "    <tr>\n",
       "      <th>6282</th>\n",
       "      <td>Abandoned</td>\n",
       "      <td>/Abandoned-Dominic-Purcell/dp/B076279G5R/ref=s...</td>\n",
       "      <td>2016|CC</td>\n",
       "      <td>2016.0</td>\n",
       "      <td>Abandoned</td>\n",
       "      <td>6282_Abandoned</td>\n",
       "    </tr>\n",
       "    <tr>\n",
       "      <th>6369</th>\n",
       "      <td>Forget Me Not</td>\n",
       "      <td>/Forget-Me-Not-Carly-Schroeder/dp/B07YVKXMHB/r...</td>\n",
       "      <td>2009|CC</td>\n",
       "      <td>2009.0</td>\n",
       "      <td>Forget_Me_Not</td>\n",
       "      <td>6369_Forget_Me_Not</td>\n",
       "    </tr>\n",
       "  </tbody>\n",
       "</table>\n",
       "<p>94 rows × 6 columns</p>\n",
       "</div>"
      ],
      "text/plain": [
       "                  title                                               link  \\\n",
       "867           Blackbird  /Blackbird-Susan-Sarandon/dp/B09P1MH4V7/ref=sr...   \n",
       "1250    Global Meltdown  /Global-Meltdown-Michael-Pare/dp/B0B66791WP/re...   \n",
       "1413     The Lost World  /Lost-World-John-Rhys-Davies/dp/B077YZHZYD/ref...   \n",
       "1582            Payback  /Payback-Matt-Levett/dp/B08TLP11CP/ref=sr_1_30...   \n",
       "2009    His Girl Friday  /His-Girl-Friday-Cary-Grant/dp/B099D8SF1F/ref=...   \n",
       "...                 ...                                                ...   \n",
       "6146      Goodbye World  /Goodbye-World-Adrian-Grenier/dp/B0755CXJ95/re...   \n",
       "6198  One Body Too Many  /One-Body-Many-Jack-Haley/dp/B0B8X5WR6X/ref=sr...   \n",
       "6216             Jigsaw  /Jigsaw-4K-UHD-Hannah-Anderson/dp/B07WHL775C/r...   \n",
       "6282          Abandoned  /Abandoned-Dominic-Purcell/dp/B076279G5R/ref=s...   \n",
       "6369      Forget Me Not  /Forget-Me-Not-Carly-Schroeder/dp/B07YVKXMHB/r...   \n",
       "\n",
       "               tags    year        clean_title                   fname  \n",
       "867       2020|R|CC  2020.0          Blackbird           867_Blackbird  \n",
       "1250  2018|TV-MA|CC  2018.0    Global_Meltdown    1250_Global_Meltdown  \n",
       "1413        1992|CC  1992.0     The_Lost_World     1413_The_Lost_World  \n",
       "1582        2021|CC  2021.0            Payback            1582_Payback  \n",
       "2009  1940|TV-14|CC  1940.0    His_Girl_Friday    2009_His_Girl_Friday  \n",
       "...             ...     ...                ...                     ...  \n",
       "6146  2014|TV-14|CC  2014.0      Goodbye_World      6146_Goodbye_World  \n",
       "6198        2023|CC  2023.0  One_Body_Too_Many  6198_One_Body_Too_Many  \n",
       "6216      2017|R|CC  2017.0             Jigsaw             6216_Jigsaw  \n",
       "6282        2016|CC  2016.0          Abandoned          6282_Abandoned  \n",
       "6369        2009|CC  2009.0      Forget_Me_Not      6369_Forget_Me_Not  \n",
       "\n",
       "[94 rows x 6 columns]"
      ]
     },
     "execution_count": 95,
     "metadata": {},
     "output_type": "execute_result"
    }
   ],
   "source": [
    "df[df['title'].duplicated()]"
   ]
  },
  {
   "cell_type": "markdown",
   "metadata": {},
   "source": [
    "There could be multiple files with the same name. I checked tags as well. Same movies can have slightly different tags (years) too. But if the short_url matches, then it is likely a duplicate."
   ]
  },
  {
   "cell_type": "code",
   "execution_count": 96,
   "metadata": {},
   "outputs": [
    {
     "data": {
      "text/html": [
       "<div>\n",
       "<style scoped>\n",
       "    .dataframe tbody tr th:only-of-type {\n",
       "        vertical-align: middle;\n",
       "    }\n",
       "\n",
       "    .dataframe tbody tr th {\n",
       "        vertical-align: top;\n",
       "    }\n",
       "\n",
       "    .dataframe thead th {\n",
       "        text-align: right;\n",
       "    }\n",
       "</style>\n",
       "<table border=\"1\" class=\"dataframe\">\n",
       "  <thead>\n",
       "    <tr style=\"text-align: right;\">\n",
       "      <th></th>\n",
       "      <th>title</th>\n",
       "      <th>link</th>\n",
       "      <th>tags</th>\n",
       "      <th>year</th>\n",
       "      <th>clean_title</th>\n",
       "      <th>fname</th>\n",
       "    </tr>\n",
       "  </thead>\n",
       "  <tbody>\n",
       "    <tr>\n",
       "      <th>4372</th>\n",
       "      <td>No Surrender</td>\n",
       "      <td>/No-Surrender-Mena-Suvari/dp/B08XVTSDX8/ref=sr...</td>\n",
       "      <td>2012|TV-14|CC</td>\n",
       "      <td>2012.0</td>\n",
       "      <td>No_Surrender</td>\n",
       "      <td>4372_No_Surrender</td>\n",
       "    </tr>\n",
       "    <tr>\n",
       "      <th>4769</th>\n",
       "      <td>No Surrender</td>\n",
       "      <td>/No-Surrender-Brandon-Hayes/dp/B074MJJFHF/ref=...</td>\n",
       "      <td>2013|CC</td>\n",
       "      <td>2013.0</td>\n",
       "      <td>No_Surrender</td>\n",
       "      <td>4769_No_Surrender</td>\n",
       "    </tr>\n",
       "  </tbody>\n",
       "</table>\n",
       "</div>"
      ],
      "text/plain": [
       "             title                                               link  \\\n",
       "4372  No Surrender  /No-Surrender-Mena-Suvari/dp/B08XVTSDX8/ref=sr...   \n",
       "4769  No Surrender  /No-Surrender-Brandon-Hayes/dp/B074MJJFHF/ref=...   \n",
       "\n",
       "               tags    year   clean_title              fname  \n",
       "4372  2012|TV-14|CC  2012.0  No_Surrender  4372_No_Surrender  \n",
       "4769        2013|CC  2013.0  No_Surrender  4769_No_Surrender  "
      ]
     },
     "execution_count": 96,
     "metadata": {},
     "output_type": "execute_result"
    }
   ],
   "source": [
    "df[df['title'] == \"No Surrender\"]"
   ]
  },
  {
   "cell_type": "code",
   "execution_count": 97,
   "metadata": {},
   "outputs": [],
   "source": [
    "df['short_url'] = df['link'].str.extract(\"(/[^/]*/)\")"
   ]
  },
  {
   "cell_type": "markdown",
   "metadata": {},
   "source": [
    "Some can also have the same short_url, but could be different movies. We can check the title as well along with the short_url for validation like Doc Wst - Part 1 and Doc West - Part 2 in com dataset."
   ]
  },
  {
   "cell_type": "code",
   "execution_count": 98,
   "metadata": {},
   "outputs": [],
   "source": [
    "df[df['short_url'].isin(df[df[['short_url']].duplicated()]['short_url'])].sort_values(by='short_url', ascending=True).to_csv(\"test.csv\")"
   ]
  },
  {
   "cell_type": "code",
   "execution_count": 99,
   "metadata": {},
   "outputs": [
    {
     "data": {
      "text/html": [
       "<div>\n",
       "<style scoped>\n",
       "    .dataframe tbody tr th:only-of-type {\n",
       "        vertical-align: middle;\n",
       "    }\n",
       "\n",
       "    .dataframe tbody tr th {\n",
       "        vertical-align: top;\n",
       "    }\n",
       "\n",
       "    .dataframe thead th {\n",
       "        text-align: right;\n",
       "    }\n",
       "</style>\n",
       "<table border=\"1\" class=\"dataframe\">\n",
       "  <thead>\n",
       "    <tr style=\"text-align: right;\">\n",
       "      <th></th>\n",
       "      <th>title</th>\n",
       "      <th>link</th>\n",
       "      <th>tags</th>\n",
       "      <th>year</th>\n",
       "      <th>clean_title</th>\n",
       "      <th>fname</th>\n",
       "      <th>short_url</th>\n",
       "    </tr>\n",
       "  </thead>\n",
       "  <tbody>\n",
       "  </tbody>\n",
       "</table>\n",
       "</div>"
      ],
      "text/plain": [
       "Empty DataFrame\n",
       "Columns: [title, link, tags, year, clean_title, fname, short_url]\n",
       "Index: []"
      ]
     },
     "execution_count": 99,
     "metadata": {},
     "output_type": "execute_result"
    }
   ],
   "source": [
    "df[df[\"short_url\"] == \"/Nishabdham-Telugu-Anushka-Shetty/\"]"
   ]
  },
  {
   "cell_type": "code",
   "execution_count": 102,
   "metadata": {},
   "outputs": [],
   "source": [
    "dups = df[df[['title', 'year']].duplicated()]"
   ]
  },
  {
   "cell_type": "code",
   "execution_count": 103,
   "metadata": {},
   "outputs": [
    {
     "data": {
      "text/plain": [
       "(37, 7)"
      ]
     },
     "execution_count": 103,
     "metadata": {},
     "output_type": "execute_result"
    }
   ],
   "source": [
    "dups.shape"
   ]
  },
  {
   "cell_type": "code",
   "execution_count": 117,
   "metadata": {},
   "outputs": [
    {
     "data": {
      "text/html": [
       "<div>\n",
       "<style scoped>\n",
       "    .dataframe tbody tr th:only-of-type {\n",
       "        vertical-align: middle;\n",
       "    }\n",
       "\n",
       "    .dataframe tbody tr th {\n",
       "        vertical-align: top;\n",
       "    }\n",
       "\n",
       "    .dataframe thead th {\n",
       "        text-align: right;\n",
       "    }\n",
       "</style>\n",
       "<table border=\"1\" class=\"dataframe\">\n",
       "  <thead>\n",
       "    <tr style=\"text-align: right;\">\n",
       "      <th></th>\n",
       "      <th>Unnamed: 0</th>\n",
       "      <th>title</th>\n",
       "      <th>link</th>\n",
       "      <th>tags</th>\n",
       "      <th>year</th>\n",
       "      <th>clean_title</th>\n",
       "      <th>fname</th>\n",
       "      <th>short_url</th>\n",
       "    </tr>\n",
       "  </thead>\n",
       "  <tbody>\n",
       "    <tr>\n",
       "      <th>1</th>\n",
       "      <td>3960</td>\n",
       "      <td>\"1/1\"</td>\n",
       "      <td>/1-Lindsey-Shaw/dp/B0B8JJW2SY/ref=sr_1_5129?qi...</td>\n",
       "      <td>2018|TV-MA|CC</td>\n",
       "      <td>2018.0</td>\n",
       "      <td>11</td>\n",
       "      <td>3960_11</td>\n",
       "      <td>/1-Lindsey-Shaw/</td>\n",
       "    </tr>\n",
       "    <tr>\n",
       "      <th>3</th>\n",
       "      <td>3818</td>\n",
       "      <td>1900</td>\n",
       "      <td>/1900-Robert-Niro/dp/B07RF9PNDY/ref=sr_1_5003?...</td>\n",
       "      <td>1977|R|CC</td>\n",
       "      <td>1977.0</td>\n",
       "      <td>1900</td>\n",
       "      <td>3818_1900</td>\n",
       "      <td>/1900-Robert-Niro/</td>\n",
       "    </tr>\n",
       "    <tr>\n",
       "      <th>11</th>\n",
       "      <td>2242</td>\n",
       "      <td>Angel And The Badman</td>\n",
       "      <td>/Angel-Badman-John-Wayne/dp/B09KGHXVQ9/ref=sr_...</td>\n",
       "      <td>1947|CC</td>\n",
       "      <td>1947.0</td>\n",
       "      <td>Angel_And_The_Badman</td>\n",
       "      <td>2242_Angel_And_The_Badman</td>\n",
       "      <td>/Angel-Badman-John-Wayne/</td>\n",
       "    </tr>\n",
       "    <tr>\n",
       "      <th>12</th>\n",
       "      <td>843</td>\n",
       "      <td>Angel And The Badman</td>\n",
       "      <td>/Angel-Badman-John-Wayne/dp/B099YLPFLK/ref=sr_...</td>\n",
       "      <td>1947|CC</td>\n",
       "      <td>1947.0</td>\n",
       "      <td>Angel_And_The_Badman</td>\n",
       "      <td>843_Angel_And_The_Badman</td>\n",
       "      <td>/Angel-Badman-John-Wayne/</td>\n",
       "    </tr>\n",
       "    <tr>\n",
       "      <th>30</th>\n",
       "      <td>5704</td>\n",
       "      <td>Cartoon Classics - Vol. 3: 25 Favorite Cartoon...</td>\n",
       "      <td>/Cartoon-Classics-Favorite-Cartoons-Hours/dp/B...</td>\n",
       "      <td>2017|PG-13|CC</td>\n",
       "      <td>2017.0</td>\n",
       "      <td>Cartoon_Classics__Vol_3_25_Favorite_Cartoons__...</td>\n",
       "      <td>5704_Cartoon_Classics__Vol_3_25_Favorite_Carto...</td>\n",
       "      <td>/Cartoon-Classics-Favorite-Cartoons-Hours/</td>\n",
       "    </tr>\n",
       "    <tr>\n",
       "      <th>34</th>\n",
       "      <td>3855</td>\n",
       "      <td>The Competition</td>\n",
       "      <td>/Competition-Thora-Birch/dp/B07843WHHK/ref=sr_...</td>\n",
       "      <td>2018|TV-14|CC</td>\n",
       "      <td>2018.0</td>\n",
       "      <td>The_Competition</td>\n",
       "      <td>3855_The_Competition</td>\n",
       "      <td>/Competition-Thora-Birch/</td>\n",
       "    </tr>\n",
       "    <tr>\n",
       "      <th>50</th>\n",
       "      <td>4633</td>\n",
       "      <td>Howard The Duck</td>\n",
       "      <td>/Howard-Duck-Lea-Thompson/dp/B0C2SQJFZQ/ref=sr...</td>\n",
       "      <td>1986|PG|CC</td>\n",
       "      <td>1986.0</td>\n",
       "      <td>Howard_The_Duck</td>\n",
       "      <td>4633_Howard_The_Duck</td>\n",
       "      <td>/Howard-Duck-Lea-Thompson/</td>\n",
       "    </tr>\n",
       "    <tr>\n",
       "      <th>62</th>\n",
       "      <td>4327</td>\n",
       "      <td>By Night’s End</td>\n",
       "      <td>/Nights-End-Michelle-Rose/dp/B08G88RRHV/ref=sr...</td>\n",
       "      <td>2020|NR|CC</td>\n",
       "      <td>2020.0</td>\n",
       "      <td>By_Nights_End</td>\n",
       "      <td>4327_By_Nights_End</td>\n",
       "      <td>/Nights-End-Michelle-Rose/</td>\n",
       "    </tr>\n",
       "    <tr>\n",
       "      <th>64</th>\n",
       "      <td>534</td>\n",
       "      <td>Nursery Rhymes and Kids Songs Vol 2 - All Babi...</td>\n",
       "      <td>/Nursery-Rhymes-Kids-Songs-Vol/dp/B0B8N8MWMR/r...</td>\n",
       "      <td>2022|CC</td>\n",
       "      <td>2022.0</td>\n",
       "      <td>Nursery_Rhymes_and_Kids_Songs_Vol_2__All_Babie...</td>\n",
       "      <td>534_Nursery_Rhymes_and_Kids_Songs_Vol_2__All_B...</td>\n",
       "      <td>/Nursery-Rhymes-Kids-Songs-Vol/</td>\n",
       "    </tr>\n",
       "  </tbody>\n",
       "</table>\n",
       "</div>"
      ],
      "text/plain": [
       "    Unnamed: 0                                              title  \\\n",
       "1         3960                                              \"1/1\"   \n",
       "3         3818                                               1900   \n",
       "11        2242                               Angel And The Badman   \n",
       "12         843                               Angel And The Badman   \n",
       "30        5704  Cartoon Classics - Vol. 3: 25 Favorite Cartoon...   \n",
       "34        3855                                    The Competition   \n",
       "50        4633                                    Howard The Duck   \n",
       "62        4327                                     By Night’s End   \n",
       "64         534  Nursery Rhymes and Kids Songs Vol 2 - All Babi...   \n",
       "\n",
       "                                                 link           tags    year  \\\n",
       "1   /1-Lindsey-Shaw/dp/B0B8JJW2SY/ref=sr_1_5129?qi...  2018|TV-MA|CC  2018.0   \n",
       "3   /1900-Robert-Niro/dp/B07RF9PNDY/ref=sr_1_5003?...      1977|R|CC  1977.0   \n",
       "11  /Angel-Badman-John-Wayne/dp/B09KGHXVQ9/ref=sr_...        1947|CC  1947.0   \n",
       "12  /Angel-Badman-John-Wayne/dp/B099YLPFLK/ref=sr_...        1947|CC  1947.0   \n",
       "30  /Cartoon-Classics-Favorite-Cartoons-Hours/dp/B...  2017|PG-13|CC  2017.0   \n",
       "34  /Competition-Thora-Birch/dp/B07843WHHK/ref=sr_...  2018|TV-14|CC  2018.0   \n",
       "50  /Howard-Duck-Lea-Thompson/dp/B0C2SQJFZQ/ref=sr...     1986|PG|CC  1986.0   \n",
       "62  /Nights-End-Michelle-Rose/dp/B08G88RRHV/ref=sr...     2020|NR|CC  2020.0   \n",
       "64  /Nursery-Rhymes-Kids-Songs-Vol/dp/B0B8N8MWMR/r...        2022|CC  2022.0   \n",
       "\n",
       "                                          clean_title  \\\n",
       "1                                                  11   \n",
       "3                                                1900   \n",
       "11                               Angel_And_The_Badman   \n",
       "12                               Angel_And_The_Badman   \n",
       "30  Cartoon_Classics__Vol_3_25_Favorite_Cartoons__...   \n",
       "34                                    The_Competition   \n",
       "50                                    Howard_The_Duck   \n",
       "62                                      By_Nights_End   \n",
       "64  Nursery_Rhymes_and_Kids_Songs_Vol_2__All_Babie...   \n",
       "\n",
       "                                                fname  \\\n",
       "1                                             3960_11   \n",
       "3                                           3818_1900   \n",
       "11                          2242_Angel_And_The_Badman   \n",
       "12                           843_Angel_And_The_Badman   \n",
       "30  5704_Cartoon_Classics__Vol_3_25_Favorite_Carto...   \n",
       "34                               3855_The_Competition   \n",
       "50                               4633_Howard_The_Duck   \n",
       "62                                 4327_By_Nights_End   \n",
       "64  534_Nursery_Rhymes_and_Kids_Songs_Vol_2__All_B...   \n",
       "\n",
       "                                     short_url  \n",
       "1                             /1-Lindsey-Shaw/  \n",
       "3                           /1900-Robert-Niro/  \n",
       "11                   /Angel-Badman-John-Wayne/  \n",
       "12                   /Angel-Badman-John-Wayne/  \n",
       "30  /Cartoon-Classics-Favorite-Cartoons-Hours/  \n",
       "34                   /Competition-Thora-Birch/  \n",
       "50                  /Howard-Duck-Lea-Thompson/  \n",
       "62                  /Nights-End-Michelle-Rose/  \n",
       "64             /Nursery-Rhymes-Kids-Songs-Vol/  "
      ]
     },
     "execution_count": 117,
     "metadata": {},
     "output_type": "execute_result"
    }
   ],
   "source": [
    "df = pd.read_csv(\"test.csv\")\n",
    "df[~df['title'].isin(df[~df[['short_url', 'year']].duplicated()]['title'])]"
   ]
  },
  {
   "cell_type": "markdown",
   "metadata": {},
   "source": [
    "Let's check some of them."
   ]
  },
  {
   "cell_type": "code",
   "execution_count": 48,
   "metadata": {},
   "outputs": [],
   "source": [
    "# for url in dups['short_url']:\n",
    "#     print(df.loc[df['short_url'] == url])\n",
    "#     input()"
   ]
  },
  {
   "cell_type": "markdown",
   "metadata": {},
   "source": [
    "These are some cases: The Little Princess, two dates, but newer one is just remastered\n",
    "Virginia, listed as two entries, but are same movies.\n",
    "There were many such cases, but seems like checking for short_url and title is a good heuristic to remove duplicates."
   ]
  },
  {
   "cell_type": "code",
   "execution_count": 49,
   "metadata": {},
   "outputs": [],
   "source": [
    "df_clean = df[~df[['title', 'year']].duplicated()]"
   ]
  },
  {
   "cell_type": "markdown",
   "metadata": {},
   "source": [
    "We removed entries with duplicate title and year."
   ]
  },
  {
   "cell_type": "markdown",
   "metadata": {},
   "source": [
    "We'll also remove entries with duplicate title and short_url next."
   ]
  },
  {
   "cell_type": "code",
   "execution_count": 50,
   "metadata": {},
   "outputs": [],
   "source": [
    "df_clean = df_clean[~df_clean[['title', 'short_url']].duplicated()]"
   ]
  },
  {
   "cell_type": "code",
   "execution_count": 51,
   "metadata": {},
   "outputs": [
    {
     "data": {
      "text/plain": [
       "((93, 9), (61, 9))"
      ]
     },
     "execution_count": 51,
     "metadata": {},
     "output_type": "execute_result"
    }
   ],
   "source": [
    "df.shape, df_clean.shape"
   ]
  },
  {
   "cell_type": "markdown",
   "metadata": {},
   "source": [
    "However, let's check the entries with duplicate titles."
   ]
  },
  {
   "cell_type": "code",
   "execution_count": 52,
   "metadata": {},
   "outputs": [
    {
     "data": {
      "text/html": [
       "<div>\n",
       "<style scoped>\n",
       "    .dataframe tbody tr th:only-of-type {\n",
       "        vertical-align: middle;\n",
       "    }\n",
       "\n",
       "    .dataframe tbody tr th {\n",
       "        vertical-align: top;\n",
       "    }\n",
       "\n",
       "    .dataframe thead th {\n",
       "        text-align: right;\n",
       "    }\n",
       "</style>\n",
       "<table border=\"1\" class=\"dataframe\">\n",
       "  <thead>\n",
       "    <tr style=\"text-align: right;\">\n",
       "      <th></th>\n",
       "      <th>Unnamed: 0.1</th>\n",
       "      <th>Unnamed: 0</th>\n",
       "      <th>title</th>\n",
       "      <th>link</th>\n",
       "      <th>tags</th>\n",
       "      <th>year</th>\n",
       "      <th>clean_title</th>\n",
       "      <th>fname</th>\n",
       "      <th>short_url</th>\n",
       "    </tr>\n",
       "  </thead>\n",
       "  <tbody>\n",
       "  </tbody>\n",
       "</table>\n",
       "</div>"
      ],
      "text/plain": [
       "Empty DataFrame\n",
       "Columns: [Unnamed: 0.1, Unnamed: 0, title, link, tags, year, clean_title, fname, short_url]\n",
       "Index: []"
      ]
     },
     "execution_count": 52,
     "metadata": {},
     "output_type": "execute_result"
    }
   ],
   "source": [
    "df_clean[df_clean['title'] == \"Bad Cupid\"]"
   ]
  },
  {
   "cell_type": "code",
   "execution_count": 53,
   "metadata": {},
   "outputs": [
    {
     "data": {
      "text/html": [
       "<div>\n",
       "<style scoped>\n",
       "    .dataframe tbody tr th:only-of-type {\n",
       "        vertical-align: middle;\n",
       "    }\n",
       "\n",
       "    .dataframe tbody tr th {\n",
       "        vertical-align: top;\n",
       "    }\n",
       "\n",
       "    .dataframe thead th {\n",
       "        text-align: right;\n",
       "    }\n",
       "</style>\n",
       "<table border=\"1\" class=\"dataframe\">\n",
       "  <thead>\n",
       "    <tr style=\"text-align: right;\">\n",
       "      <th></th>\n",
       "      <th>Unnamed: 0.1</th>\n",
       "      <th>Unnamed: 0</th>\n",
       "      <th>title</th>\n",
       "      <th>link</th>\n",
       "      <th>tags</th>\n",
       "      <th>year</th>\n",
       "      <th>clean_title</th>\n",
       "      <th>fname</th>\n",
       "      <th>short_url</th>\n",
       "    </tr>\n",
       "  </thead>\n",
       "  <tbody>\n",
       "  </tbody>\n",
       "</table>\n",
       "</div>"
      ],
      "text/plain": [
       "Empty DataFrame\n",
       "Columns: [Unnamed: 0.1, Unnamed: 0, title, link, tags, year, clean_title, fname, short_url]\n",
       "Index: []"
      ]
     },
     "execution_count": 53,
     "metadata": {},
     "output_type": "execute_result"
    }
   ],
   "source": [
    "df_clean[df_clean['title'].duplicated()]"
   ]
  },
  {
   "cell_type": "code",
   "execution_count": 54,
   "metadata": {},
   "outputs": [],
   "source": [
    "# df_clean[df_clean['title'] == \"Chasing\"]"
   ]
  },
  {
   "cell_type": "markdown",
   "metadata": {},
   "source": [
    "For some cases like above, we need to unquote the url and unidecode. (Some characters with accents could be removed by pandas which will cause issues in matching later)"
   ]
  },
  {
   "cell_type": "code",
   "execution_count": 55,
   "metadata": {},
   "outputs": [],
   "source": [
    "df_clean_copy = df_clean.copy()\n",
    "df_clean_copy['clean_short_url'] = [unidecode(urllib.parse.unquote(string)) for string in df_clean_copy['short_url']]"
   ]
  },
  {
   "cell_type": "code",
   "execution_count": 56,
   "metadata": {},
   "outputs": [
    {
     "data": {
      "text/html": [
       "<div>\n",
       "<style scoped>\n",
       "    .dataframe tbody tr th:only-of-type {\n",
       "        vertical-align: middle;\n",
       "    }\n",
       "\n",
       "    .dataframe tbody tr th {\n",
       "        vertical-align: top;\n",
       "    }\n",
       "\n",
       "    .dataframe thead th {\n",
       "        text-align: right;\n",
       "    }\n",
       "</style>\n",
       "<table border=\"1\" class=\"dataframe\">\n",
       "  <thead>\n",
       "    <tr style=\"text-align: right;\">\n",
       "      <th></th>\n",
       "      <th>Unnamed: 0.1</th>\n",
       "      <th>Unnamed: 0</th>\n",
       "      <th>title</th>\n",
       "      <th>link</th>\n",
       "      <th>tags</th>\n",
       "      <th>year</th>\n",
       "      <th>clean_title</th>\n",
       "      <th>fname</th>\n",
       "      <th>short_url</th>\n",
       "      <th>clean_short_url</th>\n",
       "    </tr>\n",
       "  </thead>\n",
       "  <tbody>\n",
       "    <tr>\n",
       "      <th>0</th>\n",
       "      <td>0</td>\n",
       "      <td>4729</td>\n",
       "      <td>1/1</td>\n",
       "      <td>/1-Lindsey-Shaw/dp/B07DCXF18Q/ref=sr_1_5834?qi...</td>\n",
       "      <td>2018|TV-MA|CC</td>\n",
       "      <td>2018.0</td>\n",
       "      <td>11</td>\n",
       "      <td>4729_11</td>\n",
       "      <td>/1-Lindsey-Shaw/</td>\n",
       "      <td>/1-Lindsey-Shaw/</td>\n",
       "    </tr>\n",
       "    <tr>\n",
       "      <th>1</th>\n",
       "      <td>1</td>\n",
       "      <td>3960</td>\n",
       "      <td>\"1/1\"</td>\n",
       "      <td>/1-Lindsey-Shaw/dp/B0B8JJW2SY/ref=sr_1_5129?qi...</td>\n",
       "      <td>2018|TV-MA|CC</td>\n",
       "      <td>2018.0</td>\n",
       "      <td>11</td>\n",
       "      <td>3960_11</td>\n",
       "      <td>/1-Lindsey-Shaw/</td>\n",
       "      <td>/1-Lindsey-Shaw/</td>\n",
       "    </tr>\n",
       "    <tr>\n",
       "      <th>2</th>\n",
       "      <td>2</td>\n",
       "      <td>4076</td>\n",
       "      <td>1900: Extended</td>\n",
       "      <td>/1900-Robert-Niro/dp/B014R1VMA4/ref=sr_1_5245?...</td>\n",
       "      <td>1977|R|CC</td>\n",
       "      <td>1977.0</td>\n",
       "      <td>1900_Extended</td>\n",
       "      <td>4076_1900_Extended</td>\n",
       "      <td>/1900-Robert-Niro/</td>\n",
       "      <td>/1900-Robert-Niro/</td>\n",
       "    </tr>\n",
       "    <tr>\n",
       "      <th>3</th>\n",
       "      <td>3</td>\n",
       "      <td>3818</td>\n",
       "      <td>1900</td>\n",
       "      <td>/1900-Robert-Niro/dp/B07RF9PNDY/ref=sr_1_5003?...</td>\n",
       "      <td>1977|R|CC</td>\n",
       "      <td>1977.0</td>\n",
       "      <td>1900</td>\n",
       "      <td>3818_1900</td>\n",
       "      <td>/1900-Robert-Niro/</td>\n",
       "      <td>/1900-Robert-Niro/</td>\n",
       "    </tr>\n",
       "    <tr>\n",
       "      <th>4</th>\n",
       "      <td>4</td>\n",
       "      <td>6282</td>\n",
       "      <td>Abandoned</td>\n",
       "      <td>/Abandoned-Dominic-Purcell/dp/B076279G5R/ref=s...</td>\n",
       "      <td>2016|CC</td>\n",
       "      <td>2016.0</td>\n",
       "      <td>Abandoned</td>\n",
       "      <td>6282_Abandoned</td>\n",
       "      <td>/Abandoned-Dominic-Purcell/</td>\n",
       "      <td>/Abandoned-Dominic-Purcell/</td>\n",
       "    </tr>\n",
       "  </tbody>\n",
       "</table>\n",
       "</div>"
      ],
      "text/plain": [
       "   Unnamed: 0.1  Unnamed: 0           title  \\\n",
       "0             0        4729             1/1   \n",
       "1             1        3960           \"1/1\"   \n",
       "2             2        4076  1900: Extended   \n",
       "3             3        3818            1900   \n",
       "4             4        6282       Abandoned   \n",
       "\n",
       "                                                link           tags    year  \\\n",
       "0  /1-Lindsey-Shaw/dp/B07DCXF18Q/ref=sr_1_5834?qi...  2018|TV-MA|CC  2018.0   \n",
       "1  /1-Lindsey-Shaw/dp/B0B8JJW2SY/ref=sr_1_5129?qi...  2018|TV-MA|CC  2018.0   \n",
       "2  /1900-Robert-Niro/dp/B014R1VMA4/ref=sr_1_5245?...      1977|R|CC  1977.0   \n",
       "3  /1900-Robert-Niro/dp/B07RF9PNDY/ref=sr_1_5003?...      1977|R|CC  1977.0   \n",
       "4  /Abandoned-Dominic-Purcell/dp/B076279G5R/ref=s...        2016|CC  2016.0   \n",
       "\n",
       "     clean_title               fname                    short_url  \\\n",
       "0             11             4729_11             /1-Lindsey-Shaw/   \n",
       "1             11             3960_11             /1-Lindsey-Shaw/   \n",
       "2  1900_Extended  4076_1900_Extended           /1900-Robert-Niro/   \n",
       "3           1900           3818_1900           /1900-Robert-Niro/   \n",
       "4      Abandoned      6282_Abandoned  /Abandoned-Dominic-Purcell/   \n",
       "\n",
       "               clean_short_url  \n",
       "0             /1-Lindsey-Shaw/  \n",
       "1             /1-Lindsey-Shaw/  \n",
       "2           /1900-Robert-Niro/  \n",
       "3           /1900-Robert-Niro/  \n",
       "4  /Abandoned-Dominic-Purcell/  "
      ]
     },
     "execution_count": 56,
     "metadata": {},
     "output_type": "execute_result"
    }
   ],
   "source": [
    "df_clean_copy.head()"
   ]
  },
  {
   "cell_type": "markdown",
   "metadata": {},
   "source": [
    "Let's check for duplicates."
   ]
  },
  {
   "cell_type": "code",
   "execution_count": 57,
   "metadata": {},
   "outputs": [
    {
     "data": {
      "text/html": [
       "<div>\n",
       "<style scoped>\n",
       "    .dataframe tbody tr th:only-of-type {\n",
       "        vertical-align: middle;\n",
       "    }\n",
       "\n",
       "    .dataframe tbody tr th {\n",
       "        vertical-align: top;\n",
       "    }\n",
       "\n",
       "    .dataframe thead th {\n",
       "        text-align: right;\n",
       "    }\n",
       "</style>\n",
       "<table border=\"1\" class=\"dataframe\">\n",
       "  <thead>\n",
       "    <tr style=\"text-align: right;\">\n",
       "      <th></th>\n",
       "      <th>Unnamed: 0.1</th>\n",
       "      <th>Unnamed: 0</th>\n",
       "      <th>title</th>\n",
       "      <th>link</th>\n",
       "      <th>tags</th>\n",
       "      <th>year</th>\n",
       "      <th>clean_title</th>\n",
       "      <th>fname</th>\n",
       "      <th>short_url</th>\n",
       "      <th>clean_short_url</th>\n",
       "    </tr>\n",
       "  </thead>\n",
       "  <tbody>\n",
       "  </tbody>\n",
       "</table>\n",
       "</div>"
      ],
      "text/plain": [
       "Empty DataFrame\n",
       "Columns: [Unnamed: 0.1, Unnamed: 0, title, link, tags, year, clean_title, fname, short_url, clean_short_url]\n",
       "Index: []"
      ]
     },
     "execution_count": 57,
     "metadata": {},
     "output_type": "execute_result"
    }
   ],
   "source": [
    "df_clean_copy[df_clean_copy[['title', 'clean_short_url']].duplicated()]"
   ]
  },
  {
   "cell_type": "markdown",
   "metadata": {},
   "source": [
    "There was only one such entry, so we'll just remove it."
   ]
  },
  {
   "cell_type": "code",
   "execution_count": 58,
   "metadata": {},
   "outputs": [],
   "source": [
    "df_clean_copy = df_clean_copy[~df_clean_copy[['title', 'clean_short_url']].duplicated()]"
   ]
  },
  {
   "cell_type": "code",
   "execution_count": 59,
   "metadata": {},
   "outputs": [
    {
     "data": {
      "text/plain": [
       "(61, 10)"
      ]
     },
     "execution_count": 59,
     "metadata": {},
     "output_type": "execute_result"
    }
   ],
   "source": [
    "df_clean_copy.shape"
   ]
  },
  {
   "cell_type": "code",
   "execution_count": 60,
   "metadata": {},
   "outputs": [],
   "source": [
    "df_clean_copy.to_csv(f\"./metadata/{TARGET_DIR}/clean_meta_en_prime.csv\", index=False)"
   ]
  }
 ],
 "metadata": {
  "kernelspec": {
   "display_name": "env",
   "language": "python",
   "name": "python3"
  },
  "language_info": {
   "codemirror_mode": {
    "name": "ipython",
    "version": 3
   },
   "file_extension": ".py",
   "mimetype": "text/x-python",
   "name": "python",
   "nbconvert_exporter": "python",
   "pygments_lexer": "ipython3",
   "version": "3.11.3"
  },
  "orig_nbformat": 4
 },
 "nbformat": 4,
 "nbformat_minor": 2
}
