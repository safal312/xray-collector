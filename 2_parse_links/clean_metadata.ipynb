{
 "cells": [
  {
   "cell_type": "code",
   "execution_count": 1,
   "metadata": {},
   "outputs": [],
   "source": [
    "import pandas as pd\n",
    "import numpy as np\n",
    "from unidecode import unidecode\n",
    "import urllib"
   ]
  },
  {
   "cell_type": "code",
   "execution_count": 4,
   "metadata": {},
   "outputs": [],
   "source": [
    "df = pd.read_csv(\"./metadata/com/meta_en_prime.csv\", encoding='cp1252', header=None)"
   ]
  },
  {
   "cell_type": "code",
   "execution_count": 5,
   "metadata": {},
   "outputs": [
    {
     "data": {
      "text/html": [
       "<div>\n",
       "<style scoped>\n",
       "    .dataframe tbody tr th:only-of-type {\n",
       "        vertical-align: middle;\n",
       "    }\n",
       "\n",
       "    .dataframe tbody tr th {\n",
       "        vertical-align: top;\n",
       "    }\n",
       "\n",
       "    .dataframe thead th {\n",
       "        text-align: right;\n",
       "    }\n",
       "</style>\n",
       "<table border=\"1\" class=\"dataframe\">\n",
       "  <thead>\n",
       "    <tr style=\"text-align: right;\">\n",
       "      <th></th>\n",
       "      <th>0</th>\n",
       "      <th>1</th>\n",
       "      <th>2</th>\n",
       "    </tr>\n",
       "  </thead>\n",
       "  <tbody>\n",
       "    <tr>\n",
       "      <th>6379</th>\n",
       "      <td>Cabin 28</td>\n",
       "      <td>/Cabin-28-Lee-Bane/dp/B079WDP9CP/ref=sr_1_1580...</td>\n",
       "      <td>2017|NR|CC</td>\n",
       "    </tr>\n",
       "    <tr>\n",
       "      <th>6380</th>\n",
       "      <td>The Perfect Victim</td>\n",
       "      <td>/Perfect-Victim-Elizabeth-Rohrbaugh/dp/B07749H...</td>\n",
       "      <td>2013|CC</td>\n",
       "    </tr>\n",
       "    <tr>\n",
       "      <th>6381</th>\n",
       "      <td>EVANGELION:3.33 YOU CAN (NOT) REDO.</td>\n",
       "      <td>/EVANGELION-3-33-YOU-CAN-REDO/dp/B08SVTV9DQ/re...</td>\n",
       "      <td>2013|CC</td>\n",
       "    </tr>\n",
       "    <tr>\n",
       "      <th>6382</th>\n",
       "      <td>God's Miracles</td>\n",
       "      <td>/Gods-Miracles-Bryant-Gumbel/dp/B0763TBQXY/ref...</td>\n",
       "      <td>1982|CC</td>\n",
       "    </tr>\n",
       "    <tr>\n",
       "      <th>6383</th>\n",
       "      <td>Philomena</td>\n",
       "      <td>/Philomena-Judi-Dench/dp/B00IIVK3ZU/ref=sr_1_1...</td>\n",
       "      <td>2013|PG-13|CC</td>\n",
       "    </tr>\n",
       "  </tbody>\n",
       "</table>\n",
       "</div>"
      ],
      "text/plain": [
       "                                        0  \\\n",
       "6379                             Cabin 28   \n",
       "6380                   The Perfect Victim   \n",
       "6381  EVANGELION:3.33 YOU CAN (NOT) REDO.   \n",
       "6382                       God's Miracles   \n",
       "6383                            Philomena   \n",
       "\n",
       "                                                      1              2  \n",
       "6379  /Cabin-28-Lee-Bane/dp/B079WDP9CP/ref=sr_1_1580...     2017|NR|CC  \n",
       "6380  /Perfect-Victim-Elizabeth-Rohrbaugh/dp/B07749H...        2013|CC  \n",
       "6381  /EVANGELION-3-33-YOU-CAN-REDO/dp/B08SVTV9DQ/re...        2013|CC  \n",
       "6382  /Gods-Miracles-Bryant-Gumbel/dp/B0763TBQXY/ref...        1982|CC  \n",
       "6383  /Philomena-Judi-Dench/dp/B00IIVK3ZU/ref=sr_1_1...  2013|PG-13|CC  "
      ]
     },
     "execution_count": 5,
     "metadata": {},
     "output_type": "execute_result"
    }
   ],
   "source": [
    "df.tail()"
   ]
  },
  {
   "cell_type": "code",
   "execution_count": 6,
   "metadata": {},
   "outputs": [],
   "source": [
    "df.columns=['title', 'link', 'tags']"
   ]
  },
  {
   "cell_type": "code",
   "execution_count": 9,
   "metadata": {},
   "outputs": [
    {
     "data": {
      "text/plain": [
       "(6384, 3)"
      ]
     },
     "execution_count": 9,
     "metadata": {},
     "output_type": "execute_result"
    }
   ],
   "source": [
    "df.shape"
   ]
  },
  {
   "cell_type": "markdown",
   "metadata": {},
   "source": [
    "### First, we'll convert the name to only alphanumeric characters"
   ]
  },
  {
   "cell_type": "code",
   "execution_count": 10,
   "metadata": {},
   "outputs": [],
   "source": [
    "df['clean_title'] = [unidecode(text) for text in df['title']]\n",
    "df['clean_title'] = df['clean_title'].str.replace(\"[^0-9a-zA-Z ]\", \"\", regex=True).str.replace(\" \", \"_\")"
   ]
  },
  {
   "cell_type": "code",
   "execution_count": 11,
   "metadata": {},
   "outputs": [
    {
     "data": {
      "text/plain": [
       "title                                             Los sonámbulos\n",
       "link           /Los-son%C3%A1mbulos-%C3%89rica-Rivas/dp/B0918...\n",
       "tags                                                      2019|R\n",
       "clean_title                                       Los_sonambulos\n",
       "Name: 435, dtype: object"
      ]
     },
     "execution_count": 11,
     "metadata": {},
     "output_type": "execute_result"
    }
   ],
   "source": [
    "df.loc[435,]"
   ]
  },
  {
   "cell_type": "markdown",
   "metadata": {},
   "source": [
    "We'll also add the index to make the names unique."
   ]
  },
  {
   "cell_type": "code",
   "execution_count": 12,
   "metadata": {},
   "outputs": [],
   "source": [
    "df['fname'] = pd.Series(np.arange(0, df.shape[0]), dtype='str') + \"_\" + df['clean_title']"
   ]
  },
  {
   "cell_type": "code",
   "execution_count": 13,
   "metadata": {},
   "outputs": [
    {
     "data": {
      "text/html": [
       "<div>\n",
       "<style scoped>\n",
       "    .dataframe tbody tr th:only-of-type {\n",
       "        vertical-align: middle;\n",
       "    }\n",
       "\n",
       "    .dataframe tbody tr th {\n",
       "        vertical-align: top;\n",
       "    }\n",
       "\n",
       "    .dataframe thead th {\n",
       "        text-align: right;\n",
       "    }\n",
       "</style>\n",
       "<table border=\"1\" class=\"dataframe\">\n",
       "  <thead>\n",
       "    <tr style=\"text-align: right;\">\n",
       "      <th></th>\n",
       "      <th>title</th>\n",
       "      <th>link</th>\n",
       "      <th>tags</th>\n",
       "      <th>clean_title</th>\n",
       "      <th>fname</th>\n",
       "    </tr>\n",
       "  </thead>\n",
       "  <tbody>\n",
       "    <tr>\n",
       "      <th>0</th>\n",
       "      <td>My Fault</td>\n",
       "      <td>/My-Fault-Nicole-Wallace/dp/B0B683GB78/ref=sr_...</td>\n",
       "      <td>2023|CC</td>\n",
       "      <td>My_Fault</td>\n",
       "      <td>0_My_Fault</td>\n",
       "    </tr>\n",
       "    <tr>\n",
       "      <th>1</th>\n",
       "      <td>Jurassic World Dominion</td>\n",
       "      <td>/Jurassic-World-Dominion-Chris-Pratt/dp/B0B5NN...</td>\n",
       "      <td>2022|PG-13|CC</td>\n",
       "      <td>Jurassic_World_Dominion</td>\n",
       "      <td>1_Jurassic_World_Dominion</td>\n",
       "    </tr>\n",
       "    <tr>\n",
       "      <th>2</th>\n",
       "      <td>Top Gun: Maverick</td>\n",
       "      <td>/Top-Gun-Maverick-Tom-Cruise/dp/B0B214XZB4/ref...</td>\n",
       "      <td>2022|PG-13|CC</td>\n",
       "      <td>Top_Gun_Maverick</td>\n",
       "      <td>2_Top_Gun_Maverick</td>\n",
       "    </tr>\n",
       "    <tr>\n",
       "      <th>3</th>\n",
       "      <td>Creed III</td>\n",
       "      <td>/Creed-III-Michael-B-Jordan/dp/B0B8TKJCRQ/ref=...</td>\n",
       "      <td>2023|PG-13|CC</td>\n",
       "      <td>Creed_III</td>\n",
       "      <td>3_Creed_III</td>\n",
       "    </tr>\n",
       "    <tr>\n",
       "      <th>4</th>\n",
       "      <td>Sonic the Hedgehog 2</td>\n",
       "      <td>/Sonic-Hedgehog-2-James-Marsden/dp/B09ZRVBZG7/...</td>\n",
       "      <td>2022|PG|CC</td>\n",
       "      <td>Sonic_the_Hedgehog_2</td>\n",
       "      <td>4_Sonic_the_Hedgehog_2</td>\n",
       "    </tr>\n",
       "  </tbody>\n",
       "</table>\n",
       "</div>"
      ],
      "text/plain": [
       "                     title                                               link  \\\n",
       "0                 My Fault  /My-Fault-Nicole-Wallace/dp/B0B683GB78/ref=sr_...   \n",
       "1  Jurassic World Dominion  /Jurassic-World-Dominion-Chris-Pratt/dp/B0B5NN...   \n",
       "2        Top Gun: Maverick  /Top-Gun-Maverick-Tom-Cruise/dp/B0B214XZB4/ref...   \n",
       "3                Creed III  /Creed-III-Michael-B-Jordan/dp/B0B8TKJCRQ/ref=...   \n",
       "4     Sonic the Hedgehog 2  /Sonic-Hedgehog-2-James-Marsden/dp/B09ZRVBZG7/...   \n",
       "\n",
       "            tags              clean_title                      fname  \n",
       "0        2023|CC                 My_Fault                 0_My_Fault  \n",
       "1  2022|PG-13|CC  Jurassic_World_Dominion  1_Jurassic_World_Dominion  \n",
       "2  2022|PG-13|CC         Top_Gun_Maverick         2_Top_Gun_Maverick  \n",
       "3  2023|PG-13|CC                Creed_III                3_Creed_III  \n",
       "4     2022|PG|CC     Sonic_the_Hedgehog_2     4_Sonic_the_Hedgehog_2  "
      ]
     },
     "execution_count": 13,
     "metadata": {},
     "output_type": "execute_result"
    }
   ],
   "source": [
    "df.head()"
   ]
  },
  {
   "cell_type": "code",
   "execution_count": 14,
   "metadata": {},
   "outputs": [
    {
     "data": {
      "text/html": [
       "<div>\n",
       "<style scoped>\n",
       "    .dataframe tbody tr th:only-of-type {\n",
       "        vertical-align: middle;\n",
       "    }\n",
       "\n",
       "    .dataframe tbody tr th {\n",
       "        vertical-align: top;\n",
       "    }\n",
       "\n",
       "    .dataframe thead th {\n",
       "        text-align: right;\n",
       "    }\n",
       "</style>\n",
       "<table border=\"1\" class=\"dataframe\">\n",
       "  <thead>\n",
       "    <tr style=\"text-align: right;\">\n",
       "      <th></th>\n",
       "      <th>title</th>\n",
       "      <th>link</th>\n",
       "      <th>tags</th>\n",
       "      <th>clean_title</th>\n",
       "      <th>fname</th>\n",
       "    </tr>\n",
       "  </thead>\n",
       "  <tbody>\n",
       "    <tr>\n",
       "      <th>867</th>\n",
       "      <td>Blackbird</td>\n",
       "      <td>/Blackbird-Susan-Sarandon/dp/B09P1MH4V7/ref=sr...</td>\n",
       "      <td>2020|R|CC</td>\n",
       "      <td>Blackbird</td>\n",
       "      <td>867_Blackbird</td>\n",
       "    </tr>\n",
       "    <tr>\n",
       "      <th>1250</th>\n",
       "      <td>Global Meltdown</td>\n",
       "      <td>/Global-Meltdown-Michael-Pare/dp/B0B66791WP/re...</td>\n",
       "      <td>2018|TV-MA|CC</td>\n",
       "      <td>Global_Meltdown</td>\n",
       "      <td>1250_Global_Meltdown</td>\n",
       "    </tr>\n",
       "    <tr>\n",
       "      <th>1413</th>\n",
       "      <td>The Lost World</td>\n",
       "      <td>/Lost-World-John-Rhys-Davies/dp/B077YZHZYD/ref...</td>\n",
       "      <td>1992|CC</td>\n",
       "      <td>The_Lost_World</td>\n",
       "      <td>1413_The_Lost_World</td>\n",
       "    </tr>\n",
       "    <tr>\n",
       "      <th>1582</th>\n",
       "      <td>Payback</td>\n",
       "      <td>/Payback-Matt-Levett/dp/B08TLP11CP/ref=sr_1_30...</td>\n",
       "      <td>2021|CC</td>\n",
       "      <td>Payback</td>\n",
       "      <td>1582_Payback</td>\n",
       "    </tr>\n",
       "    <tr>\n",
       "      <th>2009</th>\n",
       "      <td>His Girl Friday</td>\n",
       "      <td>/His-Girl-Friday-Cary-Grant/dp/B099D8SF1F/ref=...</td>\n",
       "      <td>1940|TV-14|CC</td>\n",
       "      <td>His_Girl_Friday</td>\n",
       "      <td>2009_His_Girl_Friday</td>\n",
       "    </tr>\n",
       "    <tr>\n",
       "      <th>...</th>\n",
       "      <td>...</td>\n",
       "      <td>...</td>\n",
       "      <td>...</td>\n",
       "      <td>...</td>\n",
       "      <td>...</td>\n",
       "    </tr>\n",
       "    <tr>\n",
       "      <th>6146</th>\n",
       "      <td>Goodbye World</td>\n",
       "      <td>/Goodbye-World-Adrian-Grenier/dp/B0755CXJ95/re...</td>\n",
       "      <td>2014|TV-14|CC</td>\n",
       "      <td>Goodbye_World</td>\n",
       "      <td>6146_Goodbye_World</td>\n",
       "    </tr>\n",
       "    <tr>\n",
       "      <th>6198</th>\n",
       "      <td>One Body Too Many</td>\n",
       "      <td>/One-Body-Many-Jack-Haley/dp/B0B8X5WR6X/ref=sr...</td>\n",
       "      <td>2023|CC</td>\n",
       "      <td>One_Body_Too_Many</td>\n",
       "      <td>6198_One_Body_Too_Many</td>\n",
       "    </tr>\n",
       "    <tr>\n",
       "      <th>6216</th>\n",
       "      <td>Jigsaw</td>\n",
       "      <td>/Jigsaw-4K-UHD-Hannah-Anderson/dp/B07WHL775C/r...</td>\n",
       "      <td>2017|R|CC</td>\n",
       "      <td>Jigsaw</td>\n",
       "      <td>6216_Jigsaw</td>\n",
       "    </tr>\n",
       "    <tr>\n",
       "      <th>6282</th>\n",
       "      <td>Abandoned</td>\n",
       "      <td>/Abandoned-Dominic-Purcell/dp/B076279G5R/ref=s...</td>\n",
       "      <td>2016|CC</td>\n",
       "      <td>Abandoned</td>\n",
       "      <td>6282_Abandoned</td>\n",
       "    </tr>\n",
       "    <tr>\n",
       "      <th>6369</th>\n",
       "      <td>Forget Me Not</td>\n",
       "      <td>/Forget-Me-Not-Carly-Schroeder/dp/B07YVKXMHB/r...</td>\n",
       "      <td>2009|CC</td>\n",
       "      <td>Forget_Me_Not</td>\n",
       "      <td>6369_Forget_Me_Not</td>\n",
       "    </tr>\n",
       "  </tbody>\n",
       "</table>\n",
       "<p>94 rows × 5 columns</p>\n",
       "</div>"
      ],
      "text/plain": [
       "                  title                                               link  \\\n",
       "867           Blackbird  /Blackbird-Susan-Sarandon/dp/B09P1MH4V7/ref=sr...   \n",
       "1250    Global Meltdown  /Global-Meltdown-Michael-Pare/dp/B0B66791WP/re...   \n",
       "1413     The Lost World  /Lost-World-John-Rhys-Davies/dp/B077YZHZYD/ref...   \n",
       "1582            Payback  /Payback-Matt-Levett/dp/B08TLP11CP/ref=sr_1_30...   \n",
       "2009    His Girl Friday  /His-Girl-Friday-Cary-Grant/dp/B099D8SF1F/ref=...   \n",
       "...                 ...                                                ...   \n",
       "6146      Goodbye World  /Goodbye-World-Adrian-Grenier/dp/B0755CXJ95/re...   \n",
       "6198  One Body Too Many  /One-Body-Many-Jack-Haley/dp/B0B8X5WR6X/ref=sr...   \n",
       "6216             Jigsaw  /Jigsaw-4K-UHD-Hannah-Anderson/dp/B07WHL775C/r...   \n",
       "6282          Abandoned  /Abandoned-Dominic-Purcell/dp/B076279G5R/ref=s...   \n",
       "6369      Forget Me Not  /Forget-Me-Not-Carly-Schroeder/dp/B07YVKXMHB/r...   \n",
       "\n",
       "               tags        clean_title                   fname  \n",
       "867       2020|R|CC          Blackbird           867_Blackbird  \n",
       "1250  2018|TV-MA|CC    Global_Meltdown    1250_Global_Meltdown  \n",
       "1413        1992|CC     The_Lost_World     1413_The_Lost_World  \n",
       "1582        2021|CC            Payback            1582_Payback  \n",
       "2009  1940|TV-14|CC    His_Girl_Friday    2009_His_Girl_Friday  \n",
       "...             ...                ...                     ...  \n",
       "6146  2014|TV-14|CC      Goodbye_World      6146_Goodbye_World  \n",
       "6198        2023|CC  One_Body_Too_Many  6198_One_Body_Too_Many  \n",
       "6216      2017|R|CC             Jigsaw             6216_Jigsaw  \n",
       "6282        2016|CC          Abandoned          6282_Abandoned  \n",
       "6369        2009|CC      Forget_Me_Not      6369_Forget_Me_Not  \n",
       "\n",
       "[94 rows x 5 columns]"
      ]
     },
     "execution_count": 14,
     "metadata": {},
     "output_type": "execute_result"
    }
   ],
   "source": [
    "df[df['title'].duplicated()]"
   ]
  },
  {
   "cell_type": "markdown",
   "metadata": {},
   "source": [
    "There could be multiple files with the same name. I checked tags as well. Same movies can have slightly different tags too. But if the short_url matches, then it is likely a duplicate."
   ]
  },
  {
   "cell_type": "code",
   "execution_count": 15,
   "metadata": {},
   "outputs": [
    {
     "data": {
      "text/html": [
       "<div>\n",
       "<style scoped>\n",
       "    .dataframe tbody tr th:only-of-type {\n",
       "        vertical-align: middle;\n",
       "    }\n",
       "\n",
       "    .dataframe tbody tr th {\n",
       "        vertical-align: top;\n",
       "    }\n",
       "\n",
       "    .dataframe thead th {\n",
       "        text-align: right;\n",
       "    }\n",
       "</style>\n",
       "<table border=\"1\" class=\"dataframe\">\n",
       "  <thead>\n",
       "    <tr style=\"text-align: right;\">\n",
       "      <th></th>\n",
       "      <th>title</th>\n",
       "      <th>link</th>\n",
       "      <th>tags</th>\n",
       "      <th>clean_title</th>\n",
       "      <th>fname</th>\n",
       "    </tr>\n",
       "  </thead>\n",
       "  <tbody>\n",
       "    <tr>\n",
       "      <th>954</th>\n",
       "      <td>Abandoned</td>\n",
       "      <td>/Abandoned-Brittany-Murphy/dp/B0040J2VQ8/ref=s...</td>\n",
       "      <td>2010|PG-13|CC</td>\n",
       "      <td>Abandoned</td>\n",
       "      <td>954_Abandoned</td>\n",
       "    </tr>\n",
       "    <tr>\n",
       "      <th>2798</th>\n",
       "      <td>Abandoned</td>\n",
       "      <td>/Abandoned-Dominic-Purcell/dp/B01D97X1DS/ref=s...</td>\n",
       "      <td>2016|TV-14|CC</td>\n",
       "      <td>Abandoned</td>\n",
       "      <td>2798_Abandoned</td>\n",
       "    </tr>\n",
       "    <tr>\n",
       "      <th>6282</th>\n",
       "      <td>Abandoned</td>\n",
       "      <td>/Abandoned-Dominic-Purcell/dp/B076279G5R/ref=s...</td>\n",
       "      <td>2016|CC</td>\n",
       "      <td>Abandoned</td>\n",
       "      <td>6282_Abandoned</td>\n",
       "    </tr>\n",
       "  </tbody>\n",
       "</table>\n",
       "</div>"
      ],
      "text/plain": [
       "          title                                               link  \\\n",
       "954   Abandoned  /Abandoned-Brittany-Murphy/dp/B0040J2VQ8/ref=s...   \n",
       "2798  Abandoned  /Abandoned-Dominic-Purcell/dp/B01D97X1DS/ref=s...   \n",
       "6282  Abandoned  /Abandoned-Dominic-Purcell/dp/B076279G5R/ref=s...   \n",
       "\n",
       "               tags clean_title           fname  \n",
       "954   2010|PG-13|CC   Abandoned   954_Abandoned  \n",
       "2798  2016|TV-14|CC   Abandoned  2798_Abandoned  \n",
       "6282        2016|CC   Abandoned  6282_Abandoned  "
      ]
     },
     "execution_count": 15,
     "metadata": {},
     "output_type": "execute_result"
    }
   ],
   "source": [
    "df[df['title'] == \"Abandoned\"]"
   ]
  },
  {
   "cell_type": "code",
   "execution_count": 16,
   "metadata": {},
   "outputs": [],
   "source": [
    "df['short_url'] = df['link'].str.extract(\"(/[^/]*/)\")"
   ]
  },
  {
   "cell_type": "markdown",
   "metadata": {},
   "source": [
    "Some can also have the same short_url, but could be different movies. We can check the title as well along with the short_url for validation."
   ]
  },
  {
   "cell_type": "code",
   "execution_count": 17,
   "metadata": {},
   "outputs": [
    {
     "data": {
      "text/html": [
       "<div>\n",
       "<style scoped>\n",
       "    .dataframe tbody tr th:only-of-type {\n",
       "        vertical-align: middle;\n",
       "    }\n",
       "\n",
       "    .dataframe tbody tr th {\n",
       "        vertical-align: top;\n",
       "    }\n",
       "\n",
       "    .dataframe thead th {\n",
       "        text-align: right;\n",
       "    }\n",
       "</style>\n",
       "<table border=\"1\" class=\"dataframe\">\n",
       "  <thead>\n",
       "    <tr style=\"text-align: right;\">\n",
       "      <th></th>\n",
       "      <th>title</th>\n",
       "      <th>link</th>\n",
       "      <th>tags</th>\n",
       "      <th>clean_title</th>\n",
       "      <th>fname</th>\n",
       "      <th>short_url</th>\n",
       "    </tr>\n",
       "  </thead>\n",
       "  <tbody>\n",
       "    <tr>\n",
       "      <th>109</th>\n",
       "      <td>Stalked By My Doctor: The Return</td>\n",
       "      <td>/Stalked-My-Doctor-Eric-Roberts/dp/B01LWIKCNZ/...</td>\n",
       "      <td>2016|CC</td>\n",
       "      <td>Stalked_By_My_Doctor_The_Return</td>\n",
       "      <td>109_Stalked_By_My_Doctor_The_Return</td>\n",
       "      <td>/Stalked-My-Doctor-Eric-Roberts/</td>\n",
       "    </tr>\n",
       "    <tr>\n",
       "      <th>5835</th>\n",
       "      <td>Stalked By My Doctor</td>\n",
       "      <td>/Stalked-My-Doctor-Eric-Roberts/dp/B089Y8G8SN/...</td>\n",
       "      <td>2015|TV-14|CC</td>\n",
       "      <td>Stalked_By_My_Doctor</td>\n",
       "      <td>5835_Stalked_By_My_Doctor</td>\n",
       "      <td>/Stalked-My-Doctor-Eric-Roberts/</td>\n",
       "    </tr>\n",
       "  </tbody>\n",
       "</table>\n",
       "</div>"
      ],
      "text/plain": [
       "                                 title  \\\n",
       "109   Stalked By My Doctor: The Return   \n",
       "5835              Stalked By My Doctor   \n",
       "\n",
       "                                                   link           tags  \\\n",
       "109   /Stalked-My-Doctor-Eric-Roberts/dp/B01LWIKCNZ/...        2016|CC   \n",
       "5835  /Stalked-My-Doctor-Eric-Roberts/dp/B089Y8G8SN/...  2015|TV-14|CC   \n",
       "\n",
       "                          clean_title                                fname  \\\n",
       "109   Stalked_By_My_Doctor_The_Return  109_Stalked_By_My_Doctor_The_Return   \n",
       "5835             Stalked_By_My_Doctor            5835_Stalked_By_My_Doctor   \n",
       "\n",
       "                             short_url  \n",
       "109   /Stalked-My-Doctor-Eric-Roberts/  \n",
       "5835  /Stalked-My-Doctor-Eric-Roberts/  "
      ]
     },
     "execution_count": 17,
     "metadata": {},
     "output_type": "execute_result"
    }
   ],
   "source": [
    "df[df[\"short_url\"] == \"/Stalked-My-Doctor-Eric-Roberts/\"]"
   ]
  },
  {
   "cell_type": "code",
   "execution_count": 18,
   "metadata": {},
   "outputs": [],
   "source": [
    "dups = df[df[['title', 'short_url']].duplicated()]"
   ]
  },
  {
   "cell_type": "code",
   "execution_count": 19,
   "metadata": {},
   "outputs": [
    {
     "data": {
      "text/plain": [
       "(32, 6)"
      ]
     },
     "execution_count": 19,
     "metadata": {},
     "output_type": "execute_result"
    }
   ],
   "source": [
    "dups.shape"
   ]
  },
  {
   "cell_type": "markdown",
   "metadata": {},
   "source": [
    "Let's check some of them."
   ]
  },
  {
   "cell_type": "code",
   "execution_count": 66,
   "metadata": {},
   "outputs": [],
   "source": [
    "# for url in dups['short_url']:\n",
    "#     print(df.loc[df['short_url'] == url])\n",
    "#     input()"
   ]
  },
  {
   "cell_type": "markdown",
   "metadata": {},
   "source": [
    "These are some cases: The Little Princess, two dates, but newer one is just remastered\n",
    "Virginia, listed as two entries, but are same movies.\n",
    "There were many such cases, but seems like checking for short_url and title is a good heuristic to remove duplicates."
   ]
  },
  {
   "cell_type": "code",
   "execution_count": 20,
   "metadata": {},
   "outputs": [],
   "source": [
    "df_clean = df[~df[['title', 'short_url']].duplicated()]"
   ]
  },
  {
   "cell_type": "code",
   "execution_count": 21,
   "metadata": {},
   "outputs": [
    {
     "data": {
      "text/plain": [
       "((6384, 6), (6352, 6))"
      ]
     },
     "execution_count": 21,
     "metadata": {},
     "output_type": "execute_result"
    }
   ],
   "source": [
    "df.shape, df_clean.shape"
   ]
  },
  {
   "cell_type": "markdown",
   "metadata": {},
   "source": [
    "We removed 32 duplicates."
   ]
  },
  {
   "cell_type": "markdown",
   "metadata": {},
   "source": [
    "However, let's check the entries with duplicate titles."
   ]
  },
  {
   "cell_type": "code",
   "execution_count": 22,
   "metadata": {},
   "outputs": [
    {
     "data": {
      "text/html": [
       "<div>\n",
       "<style scoped>\n",
       "    .dataframe tbody tr th:only-of-type {\n",
       "        vertical-align: middle;\n",
       "    }\n",
       "\n",
       "    .dataframe tbody tr th {\n",
       "        vertical-align: top;\n",
       "    }\n",
       "\n",
       "    .dataframe thead th {\n",
       "        text-align: right;\n",
       "    }\n",
       "</style>\n",
       "<table border=\"1\" class=\"dataframe\">\n",
       "  <thead>\n",
       "    <tr style=\"text-align: right;\">\n",
       "      <th></th>\n",
       "      <th>title</th>\n",
       "      <th>link</th>\n",
       "      <th>tags</th>\n",
       "      <th>clean_title</th>\n",
       "      <th>fname</th>\n",
       "      <th>short_url</th>\n",
       "    </tr>\n",
       "  </thead>\n",
       "  <tbody>\n",
       "    <tr>\n",
       "      <th>1250</th>\n",
       "      <td>Global Meltdown</td>\n",
       "      <td>/Global-Meltdown-Michael-Pare/dp/B0B66791WP/re...</td>\n",
       "      <td>2018|TV-MA|CC</td>\n",
       "      <td>Global_Meltdown</td>\n",
       "      <td>1250_Global_Meltdown</td>\n",
       "      <td>/Global-Meltdown-Michael-Pare/</td>\n",
       "    </tr>\n",
       "    <tr>\n",
       "      <th>1413</th>\n",
       "      <td>The Lost World</td>\n",
       "      <td>/Lost-World-John-Rhys-Davies/dp/B077YZHZYD/ref...</td>\n",
       "      <td>1992|CC</td>\n",
       "      <td>The_Lost_World</td>\n",
       "      <td>1413_The_Lost_World</td>\n",
       "      <td>/Lost-World-John-Rhys-Davies/</td>\n",
       "    </tr>\n",
       "    <tr>\n",
       "      <th>1582</th>\n",
       "      <td>Payback</td>\n",
       "      <td>/Payback-Matt-Levett/dp/B08TLP11CP/ref=sr_1_30...</td>\n",
       "      <td>2021|CC</td>\n",
       "      <td>Payback</td>\n",
       "      <td>1582_Payback</td>\n",
       "      <td>/Payback-Matt-Levett/</td>\n",
       "    </tr>\n",
       "    <tr>\n",
       "      <th>2056</th>\n",
       "      <td>Awakened</td>\n",
       "      <td>/Awakened-JulianneMichelle/dp/B018JNSEXO/ref=s...</td>\n",
       "      <td>2014|NR|CC</td>\n",
       "      <td>Awakened</td>\n",
       "      <td>2056_Awakened</td>\n",
       "      <td>/Awakened-JulianneMichelle/</td>\n",
       "    </tr>\n",
       "    <tr>\n",
       "      <th>2330</th>\n",
       "      <td>The Dark</td>\n",
       "      <td>/Dark-Maria-Bello/dp/B06XSGLDC4/ref=sr_1_363?q...</td>\n",
       "      <td>2006|R|CC</td>\n",
       "      <td>The_Dark</td>\n",
       "      <td>2330_The_Dark</td>\n",
       "      <td>/Dark-Maria-Bello/</td>\n",
       "    </tr>\n",
       "    <tr>\n",
       "      <th>...</th>\n",
       "      <td>...</td>\n",
       "      <td>...</td>\n",
       "      <td>...</td>\n",
       "      <td>...</td>\n",
       "      <td>...</td>\n",
       "      <td>...</td>\n",
       "    </tr>\n",
       "    <tr>\n",
       "      <th>6087</th>\n",
       "      <td>Charade</td>\n",
       "      <td>/Charade-Audrey-Hepburn/dp/B07G1DSL2J/ref=sr_1...</td>\n",
       "      <td>1963|CC</td>\n",
       "      <td>Charade</td>\n",
       "      <td>6087_Charade</td>\n",
       "      <td>/Charade-Audrey-Hepburn/</td>\n",
       "    </tr>\n",
       "    <tr>\n",
       "      <th>6089</th>\n",
       "      <td>A Mother's Revenge</td>\n",
       "      <td>/Mothers-Revenge-Jamie-Luner/dp/B01NBAZM9G/ref...</td>\n",
       "      <td>2016|CC</td>\n",
       "      <td>A_Mothers_Revenge</td>\n",
       "      <td>6089_A_Mothers_Revenge</td>\n",
       "      <td>/Mothers-Revenge-Jamie-Luner/</td>\n",
       "    </tr>\n",
       "    <tr>\n",
       "      <th>6198</th>\n",
       "      <td>One Body Too Many</td>\n",
       "      <td>/One-Body-Many-Jack-Haley/dp/B0B8X5WR6X/ref=sr...</td>\n",
       "      <td>2023|CC</td>\n",
       "      <td>One_Body_Too_Many</td>\n",
       "      <td>6198_One_Body_Too_Many</td>\n",
       "      <td>/One-Body-Many-Jack-Haley/</td>\n",
       "    </tr>\n",
       "    <tr>\n",
       "      <th>6216</th>\n",
       "      <td>Jigsaw</td>\n",
       "      <td>/Jigsaw-4K-UHD-Hannah-Anderson/dp/B07WHL775C/r...</td>\n",
       "      <td>2017|R|CC</td>\n",
       "      <td>Jigsaw</td>\n",
       "      <td>6216_Jigsaw</td>\n",
       "      <td>/Jigsaw-4K-UHD-Hannah-Anderson/</td>\n",
       "    </tr>\n",
       "    <tr>\n",
       "      <th>6369</th>\n",
       "      <td>Forget Me Not</td>\n",
       "      <td>/Forget-Me-Not-Carly-Schroeder/dp/B07YVKXMHB/r...</td>\n",
       "      <td>2009|CC</td>\n",
       "      <td>Forget_Me_Not</td>\n",
       "      <td>6369_Forget_Me_Not</td>\n",
       "      <td>/Forget-Me-Not-Carly-Schroeder/</td>\n",
       "    </tr>\n",
       "  </tbody>\n",
       "</table>\n",
       "<p>62 rows × 6 columns</p>\n",
       "</div>"
      ],
      "text/plain": [
       "                   title                                               link  \\\n",
       "1250     Global Meltdown  /Global-Meltdown-Michael-Pare/dp/B0B66791WP/re...   \n",
       "1413      The Lost World  /Lost-World-John-Rhys-Davies/dp/B077YZHZYD/ref...   \n",
       "1582             Payback  /Payback-Matt-Levett/dp/B08TLP11CP/ref=sr_1_30...   \n",
       "2056            Awakened  /Awakened-JulianneMichelle/dp/B018JNSEXO/ref=s...   \n",
       "2330            The Dark  /Dark-Maria-Bello/dp/B06XSGLDC4/ref=sr_1_363?q...   \n",
       "...                  ...                                                ...   \n",
       "6087             Charade  /Charade-Audrey-Hepburn/dp/B07G1DSL2J/ref=sr_1...   \n",
       "6089  A Mother's Revenge  /Mothers-Revenge-Jamie-Luner/dp/B01NBAZM9G/ref...   \n",
       "6198   One Body Too Many  /One-Body-Many-Jack-Haley/dp/B0B8X5WR6X/ref=sr...   \n",
       "6216              Jigsaw  /Jigsaw-4K-UHD-Hannah-Anderson/dp/B07WHL775C/r...   \n",
       "6369       Forget Me Not  /Forget-Me-Not-Carly-Schroeder/dp/B07YVKXMHB/r...   \n",
       "\n",
       "               tags        clean_title                   fname  \\\n",
       "1250  2018|TV-MA|CC    Global_Meltdown    1250_Global_Meltdown   \n",
       "1413        1992|CC     The_Lost_World     1413_The_Lost_World   \n",
       "1582        2021|CC            Payback            1582_Payback   \n",
       "2056     2014|NR|CC           Awakened           2056_Awakened   \n",
       "2330      2006|R|CC           The_Dark           2330_The_Dark   \n",
       "...             ...                ...                     ...   \n",
       "6087        1963|CC            Charade            6087_Charade   \n",
       "6089        2016|CC  A_Mothers_Revenge  6089_A_Mothers_Revenge   \n",
       "6198        2023|CC  One_Body_Too_Many  6198_One_Body_Too_Many   \n",
       "6216      2017|R|CC             Jigsaw             6216_Jigsaw   \n",
       "6369        2009|CC      Forget_Me_Not      6369_Forget_Me_Not   \n",
       "\n",
       "                            short_url  \n",
       "1250   /Global-Meltdown-Michael-Pare/  \n",
       "1413    /Lost-World-John-Rhys-Davies/  \n",
       "1582            /Payback-Matt-Levett/  \n",
       "2056      /Awakened-JulianneMichelle/  \n",
       "2330               /Dark-Maria-Bello/  \n",
       "...                               ...  \n",
       "6087         /Charade-Audrey-Hepburn/  \n",
       "6089    /Mothers-Revenge-Jamie-Luner/  \n",
       "6198       /One-Body-Many-Jack-Haley/  \n",
       "6216  /Jigsaw-4K-UHD-Hannah-Anderson/  \n",
       "6369  /Forget-Me-Not-Carly-Schroeder/  \n",
       "\n",
       "[62 rows x 6 columns]"
      ]
     },
     "execution_count": 22,
     "metadata": {},
     "output_type": "execute_result"
    }
   ],
   "source": [
    "df_clean[df_clean['title'].duplicated()]"
   ]
  },
  {
   "cell_type": "code",
   "execution_count": 23,
   "metadata": {},
   "outputs": [
    {
     "data": {
      "text/html": [
       "<div>\n",
       "<style scoped>\n",
       "    .dataframe tbody tr th:only-of-type {\n",
       "        vertical-align: middle;\n",
       "    }\n",
       "\n",
       "    .dataframe tbody tr th {\n",
       "        vertical-align: top;\n",
       "    }\n",
       "\n",
       "    .dataframe thead th {\n",
       "        text-align: right;\n",
       "    }\n",
       "</style>\n",
       "<table border=\"1\" class=\"dataframe\">\n",
       "  <thead>\n",
       "    <tr style=\"text-align: right;\">\n",
       "      <th></th>\n",
       "      <th>title</th>\n",
       "      <th>link</th>\n",
       "      <th>tags</th>\n",
       "      <th>clean_title</th>\n",
       "      <th>fname</th>\n",
       "      <th>short_url</th>\n",
       "    </tr>\n",
       "  </thead>\n",
       "  <tbody>\n",
       "    <tr>\n",
       "      <th>940</th>\n",
       "      <td>Global Meltdown</td>\n",
       "      <td>/Global-Meltdown-Michael-Par%C3%A9/dp/B07JFTCZ...</td>\n",
       "      <td>2018|TV-MA|CC</td>\n",
       "      <td>Global_Meltdown</td>\n",
       "      <td>940_Global_Meltdown</td>\n",
       "      <td>/Global-Meltdown-Michael-Par%C3%A9/</td>\n",
       "    </tr>\n",
       "    <tr>\n",
       "      <th>1250</th>\n",
       "      <td>Global Meltdown</td>\n",
       "      <td>/Global-Meltdown-Michael-Pare/dp/B0B66791WP/re...</td>\n",
       "      <td>2018|TV-MA|CC</td>\n",
       "      <td>Global_Meltdown</td>\n",
       "      <td>1250_Global_Meltdown</td>\n",
       "      <td>/Global-Meltdown-Michael-Pare/</td>\n",
       "    </tr>\n",
       "  </tbody>\n",
       "</table>\n",
       "</div>"
      ],
      "text/plain": [
       "                title                                               link  \\\n",
       "940   Global Meltdown  /Global-Meltdown-Michael-Par%C3%A9/dp/B07JFTCZ...   \n",
       "1250  Global Meltdown  /Global-Meltdown-Michael-Pare/dp/B0B66791WP/re...   \n",
       "\n",
       "               tags      clean_title                 fname  \\\n",
       "940   2018|TV-MA|CC  Global_Meltdown   940_Global_Meltdown   \n",
       "1250  2018|TV-MA|CC  Global_Meltdown  1250_Global_Meltdown   \n",
       "\n",
       "                                short_url  \n",
       "940   /Global-Meltdown-Michael-Par%C3%A9/  \n",
       "1250       /Global-Meltdown-Michael-Pare/  "
      ]
     },
     "execution_count": 23,
     "metadata": {},
     "output_type": "execute_result"
    }
   ],
   "source": [
    "df_clean[df_clean['title'] == \"Global Meltdown\"]"
   ]
  },
  {
   "cell_type": "markdown",
   "metadata": {},
   "source": [
    "For such cases above, we need to unquote the url and unidecode."
   ]
  },
  {
   "cell_type": "code",
   "execution_count": 24,
   "metadata": {},
   "outputs": [],
   "source": [
    "df_clean_copy = df_clean.copy()\n",
    "df_clean_copy['clean_short_url'] = [unidecode(urllib.parse.unquote(string)) for string in df_clean_copy['short_url']]"
   ]
  },
  {
   "cell_type": "code",
   "execution_count": 25,
   "metadata": {},
   "outputs": [
    {
     "data": {
      "text/html": [
       "<div>\n",
       "<style scoped>\n",
       "    .dataframe tbody tr th:only-of-type {\n",
       "        vertical-align: middle;\n",
       "    }\n",
       "\n",
       "    .dataframe tbody tr th {\n",
       "        vertical-align: top;\n",
       "    }\n",
       "\n",
       "    .dataframe thead th {\n",
       "        text-align: right;\n",
       "    }\n",
       "</style>\n",
       "<table border=\"1\" class=\"dataframe\">\n",
       "  <thead>\n",
       "    <tr style=\"text-align: right;\">\n",
       "      <th></th>\n",
       "      <th>title</th>\n",
       "      <th>link</th>\n",
       "      <th>tags</th>\n",
       "      <th>clean_title</th>\n",
       "      <th>fname</th>\n",
       "      <th>short_url</th>\n",
       "      <th>clean_short_url</th>\n",
       "    </tr>\n",
       "  </thead>\n",
       "  <tbody>\n",
       "    <tr>\n",
       "      <th>0</th>\n",
       "      <td>My Fault</td>\n",
       "      <td>/My-Fault-Nicole-Wallace/dp/B0B683GB78/ref=sr_...</td>\n",
       "      <td>2023|CC</td>\n",
       "      <td>My_Fault</td>\n",
       "      <td>0_My_Fault</td>\n",
       "      <td>/My-Fault-Nicole-Wallace/</td>\n",
       "      <td>/My-Fault-Nicole-Wallace/</td>\n",
       "    </tr>\n",
       "    <tr>\n",
       "      <th>1</th>\n",
       "      <td>Jurassic World Dominion</td>\n",
       "      <td>/Jurassic-World-Dominion-Chris-Pratt/dp/B0B5NN...</td>\n",
       "      <td>2022|PG-13|CC</td>\n",
       "      <td>Jurassic_World_Dominion</td>\n",
       "      <td>1_Jurassic_World_Dominion</td>\n",
       "      <td>/Jurassic-World-Dominion-Chris-Pratt/</td>\n",
       "      <td>/Jurassic-World-Dominion-Chris-Pratt/</td>\n",
       "    </tr>\n",
       "    <tr>\n",
       "      <th>2</th>\n",
       "      <td>Top Gun: Maverick</td>\n",
       "      <td>/Top-Gun-Maverick-Tom-Cruise/dp/B0B214XZB4/ref...</td>\n",
       "      <td>2022|PG-13|CC</td>\n",
       "      <td>Top_Gun_Maverick</td>\n",
       "      <td>2_Top_Gun_Maverick</td>\n",
       "      <td>/Top-Gun-Maverick-Tom-Cruise/</td>\n",
       "      <td>/Top-Gun-Maverick-Tom-Cruise/</td>\n",
       "    </tr>\n",
       "    <tr>\n",
       "      <th>3</th>\n",
       "      <td>Creed III</td>\n",
       "      <td>/Creed-III-Michael-B-Jordan/dp/B0B8TKJCRQ/ref=...</td>\n",
       "      <td>2023|PG-13|CC</td>\n",
       "      <td>Creed_III</td>\n",
       "      <td>3_Creed_III</td>\n",
       "      <td>/Creed-III-Michael-B-Jordan/</td>\n",
       "      <td>/Creed-III-Michael-B-Jordan/</td>\n",
       "    </tr>\n",
       "    <tr>\n",
       "      <th>4</th>\n",
       "      <td>Sonic the Hedgehog 2</td>\n",
       "      <td>/Sonic-Hedgehog-2-James-Marsden/dp/B09ZRVBZG7/...</td>\n",
       "      <td>2022|PG|CC</td>\n",
       "      <td>Sonic_the_Hedgehog_2</td>\n",
       "      <td>4_Sonic_the_Hedgehog_2</td>\n",
       "      <td>/Sonic-Hedgehog-2-James-Marsden/</td>\n",
       "      <td>/Sonic-Hedgehog-2-James-Marsden/</td>\n",
       "    </tr>\n",
       "  </tbody>\n",
       "</table>\n",
       "</div>"
      ],
      "text/plain": [
       "                     title                                               link  \\\n",
       "0                 My Fault  /My-Fault-Nicole-Wallace/dp/B0B683GB78/ref=sr_...   \n",
       "1  Jurassic World Dominion  /Jurassic-World-Dominion-Chris-Pratt/dp/B0B5NN...   \n",
       "2        Top Gun: Maverick  /Top-Gun-Maverick-Tom-Cruise/dp/B0B214XZB4/ref...   \n",
       "3                Creed III  /Creed-III-Michael-B-Jordan/dp/B0B8TKJCRQ/ref=...   \n",
       "4     Sonic the Hedgehog 2  /Sonic-Hedgehog-2-James-Marsden/dp/B09ZRVBZG7/...   \n",
       "\n",
       "            tags              clean_title                      fname  \\\n",
       "0        2023|CC                 My_Fault                 0_My_Fault   \n",
       "1  2022|PG-13|CC  Jurassic_World_Dominion  1_Jurassic_World_Dominion   \n",
       "2  2022|PG-13|CC         Top_Gun_Maverick         2_Top_Gun_Maverick   \n",
       "3  2023|PG-13|CC                Creed_III                3_Creed_III   \n",
       "4     2022|PG|CC     Sonic_the_Hedgehog_2     4_Sonic_the_Hedgehog_2   \n",
       "\n",
       "                               short_url  \\\n",
       "0              /My-Fault-Nicole-Wallace/   \n",
       "1  /Jurassic-World-Dominion-Chris-Pratt/   \n",
       "2          /Top-Gun-Maverick-Tom-Cruise/   \n",
       "3           /Creed-III-Michael-B-Jordan/   \n",
       "4       /Sonic-Hedgehog-2-James-Marsden/   \n",
       "\n",
       "                         clean_short_url  \n",
       "0              /My-Fault-Nicole-Wallace/  \n",
       "1  /Jurassic-World-Dominion-Chris-Pratt/  \n",
       "2          /Top-Gun-Maverick-Tom-Cruise/  \n",
       "3           /Creed-III-Michael-B-Jordan/  \n",
       "4       /Sonic-Hedgehog-2-James-Marsden/  "
      ]
     },
     "execution_count": 25,
     "metadata": {},
     "output_type": "execute_result"
    }
   ],
   "source": [
    "df_clean_copy.head()"
   ]
  },
  {
   "cell_type": "markdown",
   "metadata": {},
   "source": [
    "Let's check for duplicates."
   ]
  },
  {
   "cell_type": "code",
   "execution_count": 26,
   "metadata": {},
   "outputs": [
    {
     "data": {
      "text/html": [
       "<div>\n",
       "<style scoped>\n",
       "    .dataframe tbody tr th:only-of-type {\n",
       "        vertical-align: middle;\n",
       "    }\n",
       "\n",
       "    .dataframe tbody tr th {\n",
       "        vertical-align: top;\n",
       "    }\n",
       "\n",
       "    .dataframe thead th {\n",
       "        text-align: right;\n",
       "    }\n",
       "</style>\n",
       "<table border=\"1\" class=\"dataframe\">\n",
       "  <thead>\n",
       "    <tr style=\"text-align: right;\">\n",
       "      <th></th>\n",
       "      <th>title</th>\n",
       "      <th>link</th>\n",
       "      <th>tags</th>\n",
       "      <th>clean_title</th>\n",
       "      <th>fname</th>\n",
       "      <th>short_url</th>\n",
       "      <th>clean_short_url</th>\n",
       "    </tr>\n",
       "  </thead>\n",
       "  <tbody>\n",
       "    <tr>\n",
       "      <th>1250</th>\n",
       "      <td>Global Meltdown</td>\n",
       "      <td>/Global-Meltdown-Michael-Pare/dp/B0B66791WP/re...</td>\n",
       "      <td>2018|TV-MA|CC</td>\n",
       "      <td>Global_Meltdown</td>\n",
       "      <td>1250_Global_Meltdown</td>\n",
       "      <td>/Global-Meltdown-Michael-Pare/</td>\n",
       "      <td>/Global-Meltdown-Michael-Pare/</td>\n",
       "    </tr>\n",
       "  </tbody>\n",
       "</table>\n",
       "</div>"
      ],
      "text/plain": [
       "                title                                               link  \\\n",
       "1250  Global Meltdown  /Global-Meltdown-Michael-Pare/dp/B0B66791WP/re...   \n",
       "\n",
       "               tags      clean_title                 fname  \\\n",
       "1250  2018|TV-MA|CC  Global_Meltdown  1250_Global_Meltdown   \n",
       "\n",
       "                           short_url                 clean_short_url  \n",
       "1250  /Global-Meltdown-Michael-Pare/  /Global-Meltdown-Michael-Pare/  "
      ]
     },
     "execution_count": 26,
     "metadata": {},
     "output_type": "execute_result"
    }
   ],
   "source": [
    "df_clean_copy[df_clean_copy[['title', 'clean_short_url']].duplicated()]"
   ]
  },
  {
   "cell_type": "markdown",
   "metadata": {},
   "source": [
    "There was only one such entry, so we'll just remove it."
   ]
  },
  {
   "cell_type": "code",
   "execution_count": 27,
   "metadata": {},
   "outputs": [],
   "source": [
    "df_clean_copy = df_clean_copy[~df_clean_copy[['title', 'clean_short_url']].duplicated()]"
   ]
  },
  {
   "cell_type": "code",
   "execution_count": 28,
   "metadata": {},
   "outputs": [
    {
     "data": {
      "text/plain": [
       "(6351, 7)"
      ]
     },
     "execution_count": 28,
     "metadata": {},
     "output_type": "execute_result"
    }
   ],
   "source": [
    "df_clean_copy.shape"
   ]
  },
  {
   "cell_type": "code",
   "execution_count": 29,
   "metadata": {},
   "outputs": [],
   "source": [
    "df_clean_copy.to_csv(\"./metadata/com/clean_meta_en_prime.csv\", index=False)"
   ]
  }
 ],
 "metadata": {
  "kernelspec": {
   "display_name": "env",
   "language": "python",
   "name": "python3"
  },
  "language_info": {
   "codemirror_mode": {
    "name": "ipython",
    "version": 3
   },
   "file_extension": ".py",
   "mimetype": "text/x-python",
   "name": "python",
   "nbconvert_exporter": "python",
   "pygments_lexer": "ipython3",
   "version": "3.11.3"
  },
  "orig_nbformat": 4
 },
 "nbformat": 4,
 "nbformat_minor": 2
}
