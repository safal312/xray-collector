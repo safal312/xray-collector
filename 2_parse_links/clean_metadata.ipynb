{
 "cells": [
  {
   "cell_type": "markdown",
   "metadata": {},
   "source": [
    "### 2: Clean Movie Links Metadata"
   ]
  },
  {
   "cell_type": "markdown",
   "metadata": {},
   "source": [
    "This notebook parses and standardizes tags and titles of movies in the movie listing. Explores varieties of duplicated movie entries and de-duplication techniques."
   ]
  },
  {
   "cell_type": "code",
   "execution_count": 1,
   "metadata": {},
   "outputs": [],
   "source": [
    "import pandas as pd\n",
    "import numpy as np\n",
    "from unidecode import unidecode\n",
    "import urllib"
   ]
  },
  {
   "cell_type": "code",
   "execution_count": 2,
   "metadata": {},
   "outputs": [],
   "source": [
    "import sys\n",
    "sys.path.append(\"../\")\n",
    "from consts import CLEAN_SCRAPE_DIR, BEFORE_2010_DIR, IN_2010S, AFTER_2020"
   ]
  },
  {
   "cell_type": "code",
   "execution_count": 3,
   "metadata": {},
   "outputs": [],
   "source": [
    "# set batch variable here and run the cell and everything below for each\n",
    "TARGET_DIR = AFTER_2020"
   ]
  },
  {
   "cell_type": "code",
   "execution_count": 4,
   "metadata": {},
   "outputs": [],
   "source": [
    "METADATA_DIR = \"../data/2_metadata\""
   ]
  },
  {
   "cell_type": "code",
   "execution_count": 5,
   "metadata": {},
   "outputs": [],
   "source": [
    "# USEFUL ENCODINGS: cp1252, utf-8\n",
    "try:\n",
    "    df = pd.read_csv(f\"{METADATA_DIR}/{TARGET_DIR}/meta_en_prime.csv\", encoding='utf-8', header=None)\n",
    "except:\n",
    "    df = pd.read_csv(f\"{METADATA_DIR}/{TARGET_DIR}/meta_en_prime.csv\", encoding='cp1252', header=None)"
   ]
  },
  {
   "cell_type": "code",
   "execution_count": 6,
   "metadata": {},
   "outputs": [
    {
     "data": {
      "text/html": [
       "<div>\n",
       "<style scoped>\n",
       "    .dataframe tbody tr th:only-of-type {\n",
       "        vertical-align: middle;\n",
       "    }\n",
       "\n",
       "    .dataframe tbody tr th {\n",
       "        vertical-align: top;\n",
       "    }\n",
       "\n",
       "    .dataframe thead th {\n",
       "        text-align: right;\n",
       "    }\n",
       "</style>\n",
       "<table border=\"1\" class=\"dataframe\">\n",
       "  <thead>\n",
       "    <tr style=\"text-align: right;\">\n",
       "      <th></th>\n",
       "      <th>0</th>\n",
       "      <th>1</th>\n",
       "      <th>2</th>\n",
       "    </tr>\n",
       "  </thead>\n",
       "  <tbody>\n",
       "    <tr>\n",
       "      <th>2890</th>\n",
       "      <td>Future Soldier</td>\n",
       "      <td>/Future-Soldier-Sean-Earl-McPherson/dp/B0BZJSK...</td>\n",
       "      <td>2023|TV-14|CC</td>\n",
       "    </tr>\n",
       "    <tr>\n",
       "      <th>2891</th>\n",
       "      <td>Pawankhind</td>\n",
       "      <td>/Pawankhind-Chinmay-Mandlekar/dp/B09QFHQSNX/re...</td>\n",
       "      <td>2022|CC</td>\n",
       "    </tr>\n",
       "    <tr>\n",
       "      <th>2892</th>\n",
       "      <td>French Biriyani</td>\n",
       "      <td>/French-Biriyani-Danish-Sait/dp/B08CZH1RWY/ref...</td>\n",
       "      <td>2020|CC</td>\n",
       "    </tr>\n",
       "    <tr>\n",
       "      <th>2893</th>\n",
       "      <td>Brutus vs Cesar</td>\n",
       "      <td>/Brutus-vs-Cesar-Kheiron/dp/B09FKJNRJ6/ref=sr_...</td>\n",
       "      <td>2020|PG-13|CC</td>\n",
       "    </tr>\n",
       "    <tr>\n",
       "      <th>2894</th>\n",
       "      <td>Deadlocked</td>\n",
       "      <td>/Deadlocked-Taylor-Tunes/dp/B08PC9YZCF/ref=sr_...</td>\n",
       "      <td>2020|CC</td>\n",
       "    </tr>\n",
       "  </tbody>\n",
       "</table>\n",
       "</div>"
      ],
      "text/plain": [
       "                    0                                                  1  \\\n",
       "2890   Future Soldier  /Future-Soldier-Sean-Earl-McPherson/dp/B0BZJSK...   \n",
       "2891       Pawankhind  /Pawankhind-Chinmay-Mandlekar/dp/B09QFHQSNX/re...   \n",
       "2892  French Biriyani  /French-Biriyani-Danish-Sait/dp/B08CZH1RWY/ref...   \n",
       "2893  Brutus vs Cesar  /Brutus-vs-Cesar-Kheiron/dp/B09FKJNRJ6/ref=sr_...   \n",
       "2894       Deadlocked  /Deadlocked-Taylor-Tunes/dp/B08PC9YZCF/ref=sr_...   \n",
       "\n",
       "                  2  \n",
       "2890  2023|TV-14|CC  \n",
       "2891        2022|CC  \n",
       "2892        2020|CC  \n",
       "2893  2020|PG-13|CC  \n",
       "2894        2020|CC  "
      ]
     },
     "execution_count": 6,
     "metadata": {},
     "output_type": "execute_result"
    }
   ],
   "source": [
    "df.tail()"
   ]
  },
  {
   "cell_type": "code",
   "execution_count": 7,
   "metadata": {},
   "outputs": [],
   "source": [
    "df.columns=['title', 'link', 'tags']"
   ]
  },
  {
   "cell_type": "code",
   "execution_count": 8,
   "metadata": {},
   "outputs": [
    {
     "data": {
      "text/plain": [
       "(2895, 3)"
      ]
     },
     "execution_count": 8,
     "metadata": {},
     "output_type": "execute_result"
    }
   ],
   "source": [
    "df.shape"
   ]
  },
  {
   "cell_type": "code",
   "execution_count": 9,
   "metadata": {},
   "outputs": [],
   "source": [
    "df['year'] = pd.to_numeric(df['tags'].str.split('|').str[0], errors='coerce')"
   ]
  },
  {
   "cell_type": "markdown",
   "metadata": {},
   "source": [
    "First, we'll convert the name to only alphanumeric characters"
   ]
  },
  {
   "cell_type": "code",
   "execution_count": 10,
   "metadata": {},
   "outputs": [],
   "source": [
    "df['clean_title'] = [unidecode(text) for text in df['title']]\n",
    "df['clean_title'] = df['clean_title'].str.replace(\"[^0-9a-zA-Z ]\", \"\", regex=True).str.replace(\" \", \"_\")"
   ]
  },
  {
   "cell_type": "code",
   "execution_count": 11,
   "metadata": {},
   "outputs": [
    {
     "data": {
      "text/html": [
       "<div>\n",
       "<style scoped>\n",
       "    .dataframe tbody tr th:only-of-type {\n",
       "        vertical-align: middle;\n",
       "    }\n",
       "\n",
       "    .dataframe tbody tr th {\n",
       "        vertical-align: top;\n",
       "    }\n",
       "\n",
       "    .dataframe thead th {\n",
       "        text-align: right;\n",
       "    }\n",
       "</style>\n",
       "<table border=\"1\" class=\"dataframe\">\n",
       "  <thead>\n",
       "    <tr style=\"text-align: right;\">\n",
       "      <th></th>\n",
       "      <th>title</th>\n",
       "      <th>link</th>\n",
       "      <th>tags</th>\n",
       "      <th>year</th>\n",
       "      <th>clean_title</th>\n",
       "    </tr>\n",
       "  </thead>\n",
       "  <tbody>\n",
       "    <tr>\n",
       "      <th>0</th>\n",
       "      <td>Creed III</td>\n",
       "      <td>/Creed-III-Michael-B-Jordan/dp/B0B8TJ2897/ref=...</td>\n",
       "      <td>2023|PG-13|CC</td>\n",
       "      <td>2023.0</td>\n",
       "      <td>Creed_III</td>\n",
       "    </tr>\n",
       "    <tr>\n",
       "      <th>1</th>\n",
       "      <td>Jurassic World Dominion</td>\n",
       "      <td>/Jurassic-World-Dominion-Chris-Pratt/dp/B0B5MQ...</td>\n",
       "      <td>2022|PG-13|CC</td>\n",
       "      <td>2022.0</td>\n",
       "      <td>Jurassic_World_Dominion</td>\n",
       "    </tr>\n",
       "    <tr>\n",
       "      <th>2</th>\n",
       "      <td>Air</td>\n",
       "      <td>/AIR-Matt-Damon/dp/B0B8Q3JMCG/ref=sr_1_3?qid=1...</td>\n",
       "      <td>2023|R|CC</td>\n",
       "      <td>2023.0</td>\n",
       "      <td>Air</td>\n",
       "    </tr>\n",
       "    <tr>\n",
       "      <th>3</th>\n",
       "      <td>Top Gun: Maverick</td>\n",
       "      <td>/Top-Gun-Maverick-Tom-Cruise/dp/B0B215H8Y3/ref...</td>\n",
       "      <td>2022|PG-13|CC</td>\n",
       "      <td>2022.0</td>\n",
       "      <td>Top_Gun_Maverick</td>\n",
       "    </tr>\n",
       "    <tr>\n",
       "      <th>4</th>\n",
       "      <td>80 for Brady</td>\n",
       "      <td>/80-Brady-Lily-Tomlin/dp/B0B84Z7N5K/ref=sr_1_5...</td>\n",
       "      <td>2023|PG-13|CC</td>\n",
       "      <td>2023.0</td>\n",
       "      <td>80_for_Brady</td>\n",
       "    </tr>\n",
       "  </tbody>\n",
       "</table>\n",
       "</div>"
      ],
      "text/plain": [
       "                     title                                               link  \\\n",
       "0                Creed III  /Creed-III-Michael-B-Jordan/dp/B0B8TJ2897/ref=...   \n",
       "1  Jurassic World Dominion  /Jurassic-World-Dominion-Chris-Pratt/dp/B0B5MQ...   \n",
       "2                      Air  /AIR-Matt-Damon/dp/B0B8Q3JMCG/ref=sr_1_3?qid=1...   \n",
       "3        Top Gun: Maverick  /Top-Gun-Maverick-Tom-Cruise/dp/B0B215H8Y3/ref...   \n",
       "4             80 for Brady  /80-Brady-Lily-Tomlin/dp/B0B84Z7N5K/ref=sr_1_5...   \n",
       "\n",
       "            tags    year              clean_title  \n",
       "0  2023|PG-13|CC  2023.0                Creed_III  \n",
       "1  2022|PG-13|CC  2022.0  Jurassic_World_Dominion  \n",
       "2      2023|R|CC  2023.0                      Air  \n",
       "3  2022|PG-13|CC  2022.0         Top_Gun_Maverick  \n",
       "4  2023|PG-13|CC  2023.0             80_for_Brady  "
      ]
     },
     "execution_count": 11,
     "metadata": {},
     "output_type": "execute_result"
    }
   ],
   "source": [
    "df.head()"
   ]
  },
  {
   "cell_type": "markdown",
   "metadata": {},
   "source": [
    "We'll also add the index to make the names unique."
   ]
  },
  {
   "cell_type": "code",
   "execution_count": 12,
   "metadata": {},
   "outputs": [],
   "source": [
    "df['file'] = pd.Series(np.arange(0, df.shape[0]), dtype='str') + \"_\" + df['clean_title']"
   ]
  },
  {
   "cell_type": "code",
   "execution_count": 13,
   "metadata": {},
   "outputs": [
    {
     "data": {
      "text/html": [
       "<div>\n",
       "<style scoped>\n",
       "    .dataframe tbody tr th:only-of-type {\n",
       "        vertical-align: middle;\n",
       "    }\n",
       "\n",
       "    .dataframe tbody tr th {\n",
       "        vertical-align: top;\n",
       "    }\n",
       "\n",
       "    .dataframe thead th {\n",
       "        text-align: right;\n",
       "    }\n",
       "</style>\n",
       "<table border=\"1\" class=\"dataframe\">\n",
       "  <thead>\n",
       "    <tr style=\"text-align: right;\">\n",
       "      <th></th>\n",
       "      <th>title</th>\n",
       "      <th>link</th>\n",
       "      <th>tags</th>\n",
       "      <th>year</th>\n",
       "      <th>clean_title</th>\n",
       "      <th>file</th>\n",
       "    </tr>\n",
       "  </thead>\n",
       "  <tbody>\n",
       "    <tr>\n",
       "      <th>0</th>\n",
       "      <td>Creed III</td>\n",
       "      <td>/Creed-III-Michael-B-Jordan/dp/B0B8TJ2897/ref=...</td>\n",
       "      <td>2023|PG-13|CC</td>\n",
       "      <td>2023.0</td>\n",
       "      <td>Creed_III</td>\n",
       "      <td>0_Creed_III</td>\n",
       "    </tr>\n",
       "    <tr>\n",
       "      <th>1</th>\n",
       "      <td>Jurassic World Dominion</td>\n",
       "      <td>/Jurassic-World-Dominion-Chris-Pratt/dp/B0B5MQ...</td>\n",
       "      <td>2022|PG-13|CC</td>\n",
       "      <td>2022.0</td>\n",
       "      <td>Jurassic_World_Dominion</td>\n",
       "      <td>1_Jurassic_World_Dominion</td>\n",
       "    </tr>\n",
       "    <tr>\n",
       "      <th>2</th>\n",
       "      <td>Air</td>\n",
       "      <td>/AIR-Matt-Damon/dp/B0B8Q3JMCG/ref=sr_1_3?qid=1...</td>\n",
       "      <td>2023|R|CC</td>\n",
       "      <td>2023.0</td>\n",
       "      <td>Air</td>\n",
       "      <td>2_Air</td>\n",
       "    </tr>\n",
       "    <tr>\n",
       "      <th>3</th>\n",
       "      <td>Top Gun: Maverick</td>\n",
       "      <td>/Top-Gun-Maverick-Tom-Cruise/dp/B0B215H8Y3/ref...</td>\n",
       "      <td>2022|PG-13|CC</td>\n",
       "      <td>2022.0</td>\n",
       "      <td>Top_Gun_Maverick</td>\n",
       "      <td>3_Top_Gun_Maverick</td>\n",
       "    </tr>\n",
       "    <tr>\n",
       "      <th>4</th>\n",
       "      <td>80 for Brady</td>\n",
       "      <td>/80-Brady-Lily-Tomlin/dp/B0B84Z7N5K/ref=sr_1_5...</td>\n",
       "      <td>2023|PG-13|CC</td>\n",
       "      <td>2023.0</td>\n",
       "      <td>80_for_Brady</td>\n",
       "      <td>4_80_for_Brady</td>\n",
       "    </tr>\n",
       "  </tbody>\n",
       "</table>\n",
       "</div>"
      ],
      "text/plain": [
       "                     title                                               link  \\\n",
       "0                Creed III  /Creed-III-Michael-B-Jordan/dp/B0B8TJ2897/ref=...   \n",
       "1  Jurassic World Dominion  /Jurassic-World-Dominion-Chris-Pratt/dp/B0B5MQ...   \n",
       "2                      Air  /AIR-Matt-Damon/dp/B0B8Q3JMCG/ref=sr_1_3?qid=1...   \n",
       "3        Top Gun: Maverick  /Top-Gun-Maverick-Tom-Cruise/dp/B0B215H8Y3/ref...   \n",
       "4             80 for Brady  /80-Brady-Lily-Tomlin/dp/B0B84Z7N5K/ref=sr_1_5...   \n",
       "\n",
       "            tags    year              clean_title                       file  \n",
       "0  2023|PG-13|CC  2023.0                Creed_III                0_Creed_III  \n",
       "1  2022|PG-13|CC  2022.0  Jurassic_World_Dominion  1_Jurassic_World_Dominion  \n",
       "2      2023|R|CC  2023.0                      Air                      2_Air  \n",
       "3  2022|PG-13|CC  2022.0         Top_Gun_Maverick         3_Top_Gun_Maverick  \n",
       "4  2023|PG-13|CC  2023.0             80_for_Brady             4_80_for_Brady  "
      ]
     },
     "execution_count": 13,
     "metadata": {},
     "output_type": "execute_result"
    }
   ],
   "source": [
    "df.head()"
   ]
  },
  {
   "cell_type": "code",
   "execution_count": 15,
   "metadata": {},
   "outputs": [
    {
     "data": {
      "text/html": [
       "<div>\n",
       "<style scoped>\n",
       "    .dataframe tbody tr th:only-of-type {\n",
       "        vertical-align: middle;\n",
       "    }\n",
       "\n",
       "    .dataframe tbody tr th {\n",
       "        vertical-align: top;\n",
       "    }\n",
       "\n",
       "    .dataframe thead th {\n",
       "        text-align: right;\n",
       "    }\n",
       "</style>\n",
       "<table border=\"1\" class=\"dataframe\">\n",
       "  <thead>\n",
       "    <tr style=\"text-align: right;\">\n",
       "      <th></th>\n",
       "      <th>title</th>\n",
       "      <th>link</th>\n",
       "      <th>tags</th>\n",
       "      <th>year</th>\n",
       "      <th>clean_title</th>\n",
       "      <th>file</th>\n",
       "    </tr>\n",
       "  </thead>\n",
       "  <tbody>\n",
       "    <tr>\n",
       "      <th>352</th>\n",
       "      <td>Bad Cupid</td>\n",
       "      <td>/Bad-Cupid-John-Rhys-Davies/dp/B08V11VWGT/ref=...</td>\n",
       "      <td>2021|CC</td>\n",
       "      <td>2021.0</td>\n",
       "      <td>Bad_Cupid</td>\n",
       "      <td>352_Bad_Cupid</td>\n",
       "    </tr>\n",
       "    <tr>\n",
       "      <th>540</th>\n",
       "      <td>My True Fairytale</td>\n",
       "      <td>/My-True-Fairytale-D-Mitry/dp/B0B66ZSLRD/ref=s...</td>\n",
       "      <td>2020|TV-PG|CC</td>\n",
       "      <td>2020.0</td>\n",
       "      <td>My_True_Fairytale</td>\n",
       "      <td>540_My_True_Fairytale</td>\n",
       "    </tr>\n",
       "    <tr>\n",
       "      <th>562</th>\n",
       "      <td>Nishabdham (Telugu)</td>\n",
       "      <td>/Nishabdham-Telugu-Anushka-Shetty/dp/B095HXX6X...</td>\n",
       "      <td>2020|CC</td>\n",
       "      <td>2020.0</td>\n",
       "      <td>Nishabdham_Telugu</td>\n",
       "      <td>562_Nishabdham_Telugu</td>\n",
       "    </tr>\n",
       "    <tr>\n",
       "      <th>697</th>\n",
       "      <td>Lost Transmissions</td>\n",
       "      <td>/Lost-Transmissions-Simon-Pegg/dp/B0BTQ4ZX2P/r...</td>\n",
       "      <td>2020|CC</td>\n",
       "      <td>2020.0</td>\n",
       "      <td>Lost_Transmissions</td>\n",
       "      <td>697_Lost_Transmissions</td>\n",
       "    </tr>\n",
       "    <tr>\n",
       "      <th>710</th>\n",
       "      <td>Halal Love Story</td>\n",
       "      <td>/Halal-Love-Story-Indrajith-Sukumaran/dp/B08KW...</td>\n",
       "      <td>2020|CC</td>\n",
       "      <td>2020.0</td>\n",
       "      <td>Halal_Love_Story</td>\n",
       "      <td>710_Halal_Love_Story</td>\n",
       "    </tr>\n",
       "    <tr>\n",
       "      <th>889</th>\n",
       "      <td>Las huellas de elBulli</td>\n",
       "      <td>/Las-huellas-elBulli-Eduard-Xatruch/dp/B0C86S9...</td>\n",
       "      <td>2021|CC</td>\n",
       "      <td>2021.0</td>\n",
       "      <td>Las_huellas_de_elBulli</td>\n",
       "      <td>889_Las_huellas_de_elBulli</td>\n",
       "    </tr>\n",
       "    <tr>\n",
       "      <th>918</th>\n",
       "      <td>Silence (Malayalam)</td>\n",
       "      <td>/Silence-Malayalam-Anushka-Shetty/dp/B095HWYLB...</td>\n",
       "      <td>2020|CC</td>\n",
       "      <td>2020.0</td>\n",
       "      <td>Silence_Malayalam</td>\n",
       "      <td>918_Silence_Malayalam</td>\n",
       "    </tr>\n",
       "    <tr>\n",
       "      <th>921</th>\n",
       "      <td>Penguin (Malayalam)</td>\n",
       "      <td>/Penguin-Malayalam-Keerthy-Suresh/dp/B095HTPPB...</td>\n",
       "      <td>2020|CC</td>\n",
       "      <td>2020.0</td>\n",
       "      <td>Penguin_Malayalam</td>\n",
       "      <td>921_Penguin_Malayalam</td>\n",
       "    </tr>\n",
       "    <tr>\n",
       "      <th>928</th>\n",
       "      <td>Ponmagal Vandhal</td>\n",
       "      <td>/Ponmagal-Vandhal-Jyotika/dp/B095HZDBMM/ref=sr...</td>\n",
       "      <td>2020|CC</td>\n",
       "      <td>2020.0</td>\n",
       "      <td>Ponmagal_Vandhal</td>\n",
       "      <td>928_Ponmagal_Vandhal</td>\n",
       "    </tr>\n",
       "    <tr>\n",
       "      <th>1098</th>\n",
       "      <td>She</td>\n",
       "      <td>/She-Sahasra-Kirthi/dp/B094C1JS67/ref=sr_1_255...</td>\n",
       "      <td>2021|CC</td>\n",
       "      <td>2021.0</td>\n",
       "      <td>She</td>\n",
       "      <td>1098_She</td>\n",
       "    </tr>\n",
       "    <tr>\n",
       "      <th>1120</th>\n",
       "      <td>Silence (Tamil)</td>\n",
       "      <td>/Silence-Tamil-Anushka-Shetty/dp/B093THL21V/re...</td>\n",
       "      <td>2020|CC</td>\n",
       "      <td>2020.0</td>\n",
       "      <td>Silence_Tamil</td>\n",
       "      <td>1120_Silence_Tamil</td>\n",
       "    </tr>\n",
       "    <tr>\n",
       "      <th>1124</th>\n",
       "      <td>Calls</td>\n",
       "      <td>/Calls-V-J-Chitra/dp/B092CV2T73/ref=sr_1_2581?...</td>\n",
       "      <td>2021|CC</td>\n",
       "      <td>2021.0</td>\n",
       "      <td>Calls</td>\n",
       "      <td>1124_Calls</td>\n",
       "    </tr>\n",
       "    <tr>\n",
       "      <th>1147</th>\n",
       "      <td>Chasing</td>\n",
       "      <td>/Chasing-Jason-Caldwell/dp/B0B75KFGZH/ref=sr_1...</td>\n",
       "      <td>2022|CC</td>\n",
       "      <td>2022.0</td>\n",
       "      <td>Chasing</td>\n",
       "      <td>1147_Chasing</td>\n",
       "    </tr>\n",
       "    <tr>\n",
       "      <th>1180</th>\n",
       "      <td>Nemesis</td>\n",
       "      <td>/Nemesis-Billy-Murray/dp/B097C1MGKH/ref=sr_1_2...</td>\n",
       "      <td>2021|CC</td>\n",
       "      <td>2021.0</td>\n",
       "      <td>Nemesis</td>\n",
       "      <td>1180_Nemesis</td>\n",
       "    </tr>\n",
       "    <tr>\n",
       "      <th>1273</th>\n",
       "      <td>Madha</td>\n",
       "      <td>/Madha-Trishna-Mukherjee/dp/B086LJ6VXP/ref=sr_...</td>\n",
       "      <td>PG-13</td>\n",
       "      <td>NaN</td>\n",
       "      <td>Madha</td>\n",
       "      <td>1273_Madha</td>\n",
       "    </tr>\n",
       "    <tr>\n",
       "      <th>1275</th>\n",
       "      <td>10</td>\n",
       "      <td>/10-Jes%C3%BAs-Calvo/dp/B0B8SNRSTC/ref=sr_1_27...</td>\n",
       "      <td>2023|CC</td>\n",
       "      <td>2023.0</td>\n",
       "      <td>10</td>\n",
       "      <td>1275_10</td>\n",
       "    </tr>\n",
       "    <tr>\n",
       "      <th>1399</th>\n",
       "      <td>LCD Soundsystem Holiday Special</td>\n",
       "      <td>/Soundsystem-Holiday-Special-Macaulay-Culkin/d...</td>\n",
       "      <td>2021|NR|CC</td>\n",
       "      <td>2021.0</td>\n",
       "      <td>LCD_Soundsystem_Holiday_Special</td>\n",
       "      <td>1399_LCD_Soundsystem_Holiday_Special</td>\n",
       "    </tr>\n",
       "    <tr>\n",
       "      <th>1417</th>\n",
       "      <td>Kaduva</td>\n",
       "      <td>/Kaduva-Prithviraj-Sukumaran/dp/B0B5PD5L2D/ref...</td>\n",
       "      <td>2022|CC</td>\n",
       "      <td>2022.0</td>\n",
       "      <td>Kaduva</td>\n",
       "      <td>1417_Kaduva</td>\n",
       "    </tr>\n",
       "    <tr>\n",
       "      <th>1450</th>\n",
       "      <td>Murder Bury Win</td>\n",
       "      <td>/Murder-Bury-Win-Michael-Lovan/dp/B0B8LCDL44/r...</td>\n",
       "      <td>2020|TV-14|CC</td>\n",
       "      <td>2020.0</td>\n",
       "      <td>Murder_Bury_Win</td>\n",
       "      <td>1450_Murder_Bury_Win</td>\n",
       "    </tr>\n",
       "    <tr>\n",
       "      <th>1462</th>\n",
       "      <td>Hal King</td>\n",
       "      <td>/Hal-King-Tyrik-Ballard/dp/B0C26CXG3N/ref=sr_1...</td>\n",
       "      <td>2021|TV-MA|CC</td>\n",
       "      <td>2021.0</td>\n",
       "      <td>Hal_King</td>\n",
       "      <td>1462_Hal_King</td>\n",
       "    </tr>\n",
       "    <tr>\n",
       "      <th>1711</th>\n",
       "      <td>Legacy</td>\n",
       "      <td>/Legacy-Yann-Arthus-Bertrand/dp/B09TZDK6VZ/ref...</td>\n",
       "      <td>2021|CC</td>\n",
       "      <td>2021.0</td>\n",
       "      <td>Legacy</td>\n",
       "      <td>1711_Legacy</td>\n",
       "    </tr>\n",
       "    <tr>\n",
       "      <th>1796</th>\n",
       "      <td>Blackbird</td>\n",
       "      <td>/Blackbird-Susan-Sarandon/dp/B09P1MH4V7/ref=sr...</td>\n",
       "      <td>2020|R|CC</td>\n",
       "      <td>2020.0</td>\n",
       "      <td>Blackbird</td>\n",
       "      <td>1796_Blackbird</td>\n",
       "    </tr>\n",
       "    <tr>\n",
       "      <th>1813</th>\n",
       "      <td>The Trench</td>\n",
       "      <td>/Trench-Daniel-Craig/dp/B099WJ5J15/ref=sr_1_59...</td>\n",
       "      <td>2020|CC</td>\n",
       "      <td>2020.0</td>\n",
       "      <td>The_Trench</td>\n",
       "      <td>1813_The_Trench</td>\n",
       "    </tr>\n",
       "    <tr>\n",
       "      <th>1848</th>\n",
       "      <td>Bones and All</td>\n",
       "      <td>/Bones-All-Taylor-Russell/dp/B0B8S8ZYS2/ref=sr...</td>\n",
       "      <td>2022|R|CC</td>\n",
       "      <td>2022.0</td>\n",
       "      <td>Bones_and_All</td>\n",
       "      <td>1848_Bones_and_All</td>\n",
       "    </tr>\n",
       "    <tr>\n",
       "      <th>2079</th>\n",
       "      <td>Code Of Thieves</td>\n",
       "      <td>/Code-Thieves-Tory-Monay/dp/B0894FY14R/ref=sr_...</td>\n",
       "      <td>2020|CC</td>\n",
       "      <td>2020.0</td>\n",
       "      <td>Code_Of_Thieves</td>\n",
       "      <td>2079_Code_Of_Thieves</td>\n",
       "    </tr>\n",
       "    <tr>\n",
       "      <th>2404</th>\n",
       "      <td>The Last Seven</td>\n",
       "      <td>/Last-Seven-Simon-Phillips/dp/B09PV6RY43/ref=s...</td>\n",
       "      <td>2022|CC</td>\n",
       "      <td>2022.0</td>\n",
       "      <td>The_Last_Seven</td>\n",
       "      <td>2404_The_Last_Seven</td>\n",
       "    </tr>\n",
       "    <tr>\n",
       "      <th>2485</th>\n",
       "      <td>Val</td>\n",
       "      <td>/Val-Misha-Reeves/dp/B09CS3HSM7/ref=sr_1_1207?...</td>\n",
       "      <td>2021|TV-MA|CC</td>\n",
       "      <td>2021.0</td>\n",
       "      <td>Val</td>\n",
       "      <td>2485_Val</td>\n",
       "    </tr>\n",
       "    <tr>\n",
       "      <th>2490</th>\n",
       "      <td>V (Telugu)</td>\n",
       "      <td>/V-Telugu-Nani/dp/B08GYRCM7D/ref=sr_1_1212?qid...</td>\n",
       "      <td>2020|CC</td>\n",
       "      <td>2020.0</td>\n",
       "      <td>V_Telugu</td>\n",
       "      <td>2490_V_Telugu</td>\n",
       "    </tr>\n",
       "    <tr>\n",
       "      <th>2610</th>\n",
       "      <td>Boxing Day</td>\n",
       "      <td>/Boxing-Day-Aml-Ameen/dp/B0B9BTV1BS/ref=sr_1_1...</td>\n",
       "      <td>2021|CC</td>\n",
       "      <td>2021.0</td>\n",
       "      <td>Boxing_Day</td>\n",
       "      <td>2610_Boxing_Day</td>\n",
       "    </tr>\n",
       "    <tr>\n",
       "      <th>2770</th>\n",
       "      <td>Cinderella</td>\n",
       "      <td>/Cinderella-Raai-Laxmi/dp/B09JL2MP4K/ref=sr_1_...</td>\n",
       "      <td>2021|CC</td>\n",
       "      <td>2021.0</td>\n",
       "      <td>Cinderella</td>\n",
       "      <td>2770_Cinderella</td>\n",
       "    </tr>\n",
       "    <tr>\n",
       "      <th>2774</th>\n",
       "      <td>Entanglement</td>\n",
       "      <td>/Entanglement-Cisco-Reyes/dp/B097D8L622/ref=sr...</td>\n",
       "      <td>2021|CC</td>\n",
       "      <td>2021.0</td>\n",
       "      <td>Entanglement</td>\n",
       "      <td>2774_Entanglement</td>\n",
       "    </tr>\n",
       "  </tbody>\n",
       "</table>\n",
       "</div>"
      ],
      "text/plain": [
       "                                title  \\\n",
       "352                         Bad Cupid   \n",
       "540                 My True Fairytale   \n",
       "562               Nishabdham (Telugu)   \n",
       "697                Lost Transmissions   \n",
       "710                  Halal Love Story   \n",
       "889            Las huellas de elBulli   \n",
       "918               Silence (Malayalam)   \n",
       "921               Penguin (Malayalam)   \n",
       "928                  Ponmagal Vandhal   \n",
       "1098                              She   \n",
       "1120                  Silence (Tamil)   \n",
       "1124                            Calls   \n",
       "1147                          Chasing   \n",
       "1180                          Nemesis   \n",
       "1273                            Madha   \n",
       "1275                               10   \n",
       "1399  LCD Soundsystem Holiday Special   \n",
       "1417                           Kaduva   \n",
       "1450                  Murder Bury Win   \n",
       "1462                         Hal King   \n",
       "1711                           Legacy   \n",
       "1796                        Blackbird   \n",
       "1813                       The Trench   \n",
       "1848                    Bones and All   \n",
       "2079                  Code Of Thieves   \n",
       "2404                   The Last Seven   \n",
       "2485                              Val   \n",
       "2490                       V (Telugu)   \n",
       "2610                       Boxing Day   \n",
       "2770                       Cinderella   \n",
       "2774                     Entanglement   \n",
       "\n",
       "                                                   link           tags  \\\n",
       "352   /Bad-Cupid-John-Rhys-Davies/dp/B08V11VWGT/ref=...        2021|CC   \n",
       "540   /My-True-Fairytale-D-Mitry/dp/B0B66ZSLRD/ref=s...  2020|TV-PG|CC   \n",
       "562   /Nishabdham-Telugu-Anushka-Shetty/dp/B095HXX6X...        2020|CC   \n",
       "697   /Lost-Transmissions-Simon-Pegg/dp/B0BTQ4ZX2P/r...        2020|CC   \n",
       "710   /Halal-Love-Story-Indrajith-Sukumaran/dp/B08KW...        2020|CC   \n",
       "889   /Las-huellas-elBulli-Eduard-Xatruch/dp/B0C86S9...        2021|CC   \n",
       "918   /Silence-Malayalam-Anushka-Shetty/dp/B095HWYLB...        2020|CC   \n",
       "921   /Penguin-Malayalam-Keerthy-Suresh/dp/B095HTPPB...        2020|CC   \n",
       "928   /Ponmagal-Vandhal-Jyotika/dp/B095HZDBMM/ref=sr...        2020|CC   \n",
       "1098  /She-Sahasra-Kirthi/dp/B094C1JS67/ref=sr_1_255...        2021|CC   \n",
       "1120  /Silence-Tamil-Anushka-Shetty/dp/B093THL21V/re...        2020|CC   \n",
       "1124  /Calls-V-J-Chitra/dp/B092CV2T73/ref=sr_1_2581?...        2021|CC   \n",
       "1147  /Chasing-Jason-Caldwell/dp/B0B75KFGZH/ref=sr_1...        2022|CC   \n",
       "1180  /Nemesis-Billy-Murray/dp/B097C1MGKH/ref=sr_1_2...        2021|CC   \n",
       "1273  /Madha-Trishna-Mukherjee/dp/B086LJ6VXP/ref=sr_...          PG-13   \n",
       "1275  /10-Jes%C3%BAs-Calvo/dp/B0B8SNRSTC/ref=sr_1_27...        2023|CC   \n",
       "1399  /Soundsystem-Holiday-Special-Macaulay-Culkin/d...     2021|NR|CC   \n",
       "1417  /Kaduva-Prithviraj-Sukumaran/dp/B0B5PD5L2D/ref...        2022|CC   \n",
       "1450  /Murder-Bury-Win-Michael-Lovan/dp/B0B8LCDL44/r...  2020|TV-14|CC   \n",
       "1462  /Hal-King-Tyrik-Ballard/dp/B0C26CXG3N/ref=sr_1...  2021|TV-MA|CC   \n",
       "1711  /Legacy-Yann-Arthus-Bertrand/dp/B09TZDK6VZ/ref...        2021|CC   \n",
       "1796  /Blackbird-Susan-Sarandon/dp/B09P1MH4V7/ref=sr...      2020|R|CC   \n",
       "1813  /Trench-Daniel-Craig/dp/B099WJ5J15/ref=sr_1_59...        2020|CC   \n",
       "1848  /Bones-All-Taylor-Russell/dp/B0B8S8ZYS2/ref=sr...      2022|R|CC   \n",
       "2079  /Code-Thieves-Tory-Monay/dp/B0894FY14R/ref=sr_...        2020|CC   \n",
       "2404  /Last-Seven-Simon-Phillips/dp/B09PV6RY43/ref=s...        2022|CC   \n",
       "2485  /Val-Misha-Reeves/dp/B09CS3HSM7/ref=sr_1_1207?...  2021|TV-MA|CC   \n",
       "2490  /V-Telugu-Nani/dp/B08GYRCM7D/ref=sr_1_1212?qid...        2020|CC   \n",
       "2610  /Boxing-Day-Aml-Ameen/dp/B0B9BTV1BS/ref=sr_1_1...        2021|CC   \n",
       "2770  /Cinderella-Raai-Laxmi/dp/B09JL2MP4K/ref=sr_1_...        2021|CC   \n",
       "2774  /Entanglement-Cisco-Reyes/dp/B097D8L622/ref=sr...        2021|CC   \n",
       "\n",
       "        year                      clean_title  \\\n",
       "352   2021.0                        Bad_Cupid   \n",
       "540   2020.0                My_True_Fairytale   \n",
       "562   2020.0                Nishabdham_Telugu   \n",
       "697   2020.0               Lost_Transmissions   \n",
       "710   2020.0                 Halal_Love_Story   \n",
       "889   2021.0           Las_huellas_de_elBulli   \n",
       "918   2020.0                Silence_Malayalam   \n",
       "921   2020.0                Penguin_Malayalam   \n",
       "928   2020.0                 Ponmagal_Vandhal   \n",
       "1098  2021.0                              She   \n",
       "1120  2020.0                    Silence_Tamil   \n",
       "1124  2021.0                            Calls   \n",
       "1147  2022.0                          Chasing   \n",
       "1180  2021.0                          Nemesis   \n",
       "1273     NaN                            Madha   \n",
       "1275  2023.0                               10   \n",
       "1399  2021.0  LCD_Soundsystem_Holiday_Special   \n",
       "1417  2022.0                           Kaduva   \n",
       "1450  2020.0                  Murder_Bury_Win   \n",
       "1462  2021.0                         Hal_King   \n",
       "1711  2021.0                           Legacy   \n",
       "1796  2020.0                        Blackbird   \n",
       "1813  2020.0                       The_Trench   \n",
       "1848  2022.0                    Bones_and_All   \n",
       "2079  2020.0                  Code_Of_Thieves   \n",
       "2404  2022.0                   The_Last_Seven   \n",
       "2485  2021.0                              Val   \n",
       "2490  2020.0                         V_Telugu   \n",
       "2610  2021.0                       Boxing_Day   \n",
       "2770  2021.0                       Cinderella   \n",
       "2774  2021.0                     Entanglement   \n",
       "\n",
       "                                      file  \n",
       "352                          352_Bad_Cupid  \n",
       "540                  540_My_True_Fairytale  \n",
       "562                  562_Nishabdham_Telugu  \n",
       "697                 697_Lost_Transmissions  \n",
       "710                   710_Halal_Love_Story  \n",
       "889             889_Las_huellas_de_elBulli  \n",
       "918                  918_Silence_Malayalam  \n",
       "921                  921_Penguin_Malayalam  \n",
       "928                   928_Ponmagal_Vandhal  \n",
       "1098                              1098_She  \n",
       "1120                    1120_Silence_Tamil  \n",
       "1124                            1124_Calls  \n",
       "1147                          1147_Chasing  \n",
       "1180                          1180_Nemesis  \n",
       "1273                            1273_Madha  \n",
       "1275                               1275_10  \n",
       "1399  1399_LCD_Soundsystem_Holiday_Special  \n",
       "1417                           1417_Kaduva  \n",
       "1450                  1450_Murder_Bury_Win  \n",
       "1462                         1462_Hal_King  \n",
       "1711                           1711_Legacy  \n",
       "1796                        1796_Blackbird  \n",
       "1813                       1813_The_Trench  \n",
       "1848                    1848_Bones_and_All  \n",
       "2079                  2079_Code_Of_Thieves  \n",
       "2404                   2404_The_Last_Seven  \n",
       "2485                              2485_Val  \n",
       "2490                         2490_V_Telugu  \n",
       "2610                       2610_Boxing_Day  \n",
       "2770                       2770_Cinderella  \n",
       "2774                     2774_Entanglement  "
      ]
     },
     "execution_count": 15,
     "metadata": {},
     "output_type": "execute_result"
    }
   ],
   "source": [
    "df[df['title'].duplicated()]"
   ]
  },
  {
   "cell_type": "markdown",
   "metadata": {},
   "source": [
    "There could be multiple files with the same name. Same movies can have slightly different tags (years) too. Using the short_url matches, then it is likely a duplicate with some exceptions."
   ]
  },
  {
   "cell_type": "code",
   "execution_count": 16,
   "metadata": {},
   "outputs": [
    {
     "data": {
      "text/html": [
       "<div>\n",
       "<style scoped>\n",
       "    .dataframe tbody tr th:only-of-type {\n",
       "        vertical-align: middle;\n",
       "    }\n",
       "\n",
       "    .dataframe tbody tr th {\n",
       "        vertical-align: top;\n",
       "    }\n",
       "\n",
       "    .dataframe thead th {\n",
       "        text-align: right;\n",
       "    }\n",
       "</style>\n",
       "<table border=\"1\" class=\"dataframe\">\n",
       "  <thead>\n",
       "    <tr style=\"text-align: right;\">\n",
       "      <th></th>\n",
       "      <th>title</th>\n",
       "      <th>link</th>\n",
       "      <th>tags</th>\n",
       "      <th>year</th>\n",
       "      <th>clean_title</th>\n",
       "      <th>file</th>\n",
       "    </tr>\n",
       "  </thead>\n",
       "  <tbody>\n",
       "  </tbody>\n",
       "</table>\n",
       "</div>"
      ],
      "text/plain": [
       "Empty DataFrame\n",
       "Columns: [title, link, tags, year, clean_title, file]\n",
       "Index: []"
      ]
     },
     "execution_count": 16,
     "metadata": {},
     "output_type": "execute_result"
    }
   ],
   "source": [
    "df[df['title'] == \"No Surrender\"]"
   ]
  },
  {
   "cell_type": "code",
   "execution_count": 17,
   "metadata": {},
   "outputs": [],
   "source": [
    "df['short_url'] = df['link'].str.extract(\"(/[^/]*/)\")"
   ]
  },
  {
   "cell_type": "markdown",
   "metadata": {},
   "source": [
    "Some can also have the same short_url, but could be different movies. \n",
    "Example: *Doc West - Part 1* and *Doc West - Part 2* in the CLEA_SCRAPE/com batch."
   ]
  },
  {
   "cell_type": "code",
   "execution_count": 113,
   "metadata": {},
   "outputs": [],
   "source": [
    "# Inspect movie duplicates based on short_url\n",
    "# df[df['short_url'].isin(df[df[['short_url']].duplicated()]['short_url'])].sort_values(by='short_url', ascending=True).to_csv(\"test.csv\")"
   ]
  },
  {
   "cell_type": "code",
   "execution_count": 114,
   "metadata": {},
   "outputs": [],
   "source": [
    "# df = pd.read_csv(\"test.csv\")\n",
    "# df[~df['title'].isin(df[~df[['short_url', 'year']].duplicated()]['title'])]"
   ]
  },
  {
   "cell_type": "markdown",
   "metadata": {},
   "source": [
    "We can check the title as well along with the short_url for validation."
   ]
  },
  {
   "cell_type": "code",
   "execution_count": 18,
   "metadata": {},
   "outputs": [],
   "source": [
    "dups = df[df[['title', 'year']].duplicated()]"
   ]
  },
  {
   "cell_type": "code",
   "execution_count": 19,
   "metadata": {},
   "outputs": [
    {
     "data": {
      "text/plain": [
       "(24, 7)"
      ]
     },
     "execution_count": 19,
     "metadata": {},
     "output_type": "execute_result"
    }
   ],
   "source": [
    "dups.shape"
   ]
  },
  {
   "cell_type": "markdown",
   "metadata": {},
   "source": [
    "Following is code to inspect some of the duplicates."
   ]
  },
  {
   "cell_type": "code",
   "execution_count": 20,
   "metadata": {},
   "outputs": [],
   "source": [
    "# sample_param = 0.5\n",
    "# dups['short_url'].sample(int(len(dups) * sample_param))\n",
    "\n",
    "# for url in dups['short_url']:\n",
    "#     print(df.loc[df['short_url'] == url])\n",
    "#     input()"
   ]
  },
  {
   "cell_type": "markdown",
   "metadata": {},
   "source": [
    "Manual inspection shows checking for short_url and title is a good heuristic to remove duplicates. Later in the pipeline, we generate imdb ids for each of the movies using which we can remove the duplicates that remain.\n",
    "\n",
    "We also find that generally movies with same title and year are not the same movie. Thus, first, we remove based on the title and year. Then, we remove movies based on the title and short_url next."
   ]
  },
  {
   "cell_type": "markdown",
   "metadata": {},
   "source": [
    "We removed entries with duplicate title and year."
   ]
  },
  {
   "cell_type": "code",
   "execution_count": 21,
   "metadata": {},
   "outputs": [],
   "source": [
    "df_clean = df[~df[['title', 'year']].duplicated()]"
   ]
  },
  {
   "cell_type": "markdown",
   "metadata": {},
   "source": [
    "We'll also remove entries with duplicate title and short_url next."
   ]
  },
  {
   "cell_type": "code",
   "execution_count": 22,
   "metadata": {},
   "outputs": [],
   "source": [
    "df_clean = df_clean[~df_clean[['title', 'short_url']].duplicated()]\n",
    "df_clean_copy = df_clean.copy()\n",
    "df_clean_copy['clean_short_url'] = [unidecode(urllib.parse.unquote(string)) for string in df_clean_copy['short_url']]"
   ]
  },
  {
   "cell_type": "code",
   "execution_count": 23,
   "metadata": {},
   "outputs": [
    {
     "data": {
      "text/html": [
       "<div>\n",
       "<style scoped>\n",
       "    .dataframe tbody tr th:only-of-type {\n",
       "        vertical-align: middle;\n",
       "    }\n",
       "\n",
       "    .dataframe tbody tr th {\n",
       "        vertical-align: top;\n",
       "    }\n",
       "\n",
       "    .dataframe thead th {\n",
       "        text-align: right;\n",
       "    }\n",
       "</style>\n",
       "<table border=\"1\" class=\"dataframe\">\n",
       "  <thead>\n",
       "    <tr style=\"text-align: right;\">\n",
       "      <th></th>\n",
       "      <th>title</th>\n",
       "      <th>link</th>\n",
       "      <th>tags</th>\n",
       "      <th>year</th>\n",
       "      <th>clean_title</th>\n",
       "      <th>file</th>\n",
       "      <th>short_url</th>\n",
       "      <th>clean_short_url</th>\n",
       "    </tr>\n",
       "  </thead>\n",
       "  <tbody>\n",
       "  </tbody>\n",
       "</table>\n",
       "</div>"
      ],
      "text/plain": [
       "Empty DataFrame\n",
       "Columns: [title, link, tags, year, clean_title, file, short_url, clean_short_url]\n",
       "Index: []"
      ]
     },
     "execution_count": 23,
     "metadata": {},
     "output_type": "execute_result"
    }
   ],
   "source": [
    "df_clean_copy[df_clean_copy[['title', 'clean_short_url']].duplicated()]"
   ]
  },
  {
   "cell_type": "code",
   "execution_count": 24,
   "metadata": {},
   "outputs": [],
   "source": [
    "df_clean_copy = df_clean_copy[~df_clean_copy[['title', 'clean_short_url']].duplicated()]"
   ]
  },
  {
   "cell_type": "code",
   "execution_count": 25,
   "metadata": {},
   "outputs": [
    {
     "data": {
      "text/plain": [
       "(2870, 8)"
      ]
     },
     "execution_count": 25,
     "metadata": {},
     "output_type": "execute_result"
    }
   ],
   "source": [
    "df_clean_copy.shape"
   ]
  },
  {
   "cell_type": "code",
   "execution_count": 123,
   "metadata": {},
   "outputs": [],
   "source": [
    "df_clean_copy.to_csv(f\"{METADATA_DIR}/{TARGET_DIR}/clean_meta_en_prime.csv\", index=False)"
   ]
  }
 ],
 "metadata": {
  "kernelspec": {
   "display_name": "env",
   "language": "python",
   "name": "python3"
  },
  "language_info": {
   "codemirror_mode": {
    "name": "ipython",
    "version": 3
   },
   "file_extension": ".py",
   "mimetype": "text/x-python",
   "name": "python",
   "nbconvert_exporter": "python",
   "pygments_lexer": "ipython3",
   "version": "3.11.3"
  },
  "orig_nbformat": 4
 },
 "nbformat": 4,
 "nbformat_minor": 2
}
