{
 "cells": [
  {
   "cell_type": "code",
   "execution_count": 1,
   "metadata": {},
   "outputs": [],
   "source": [
    "import pandas as pd"
   ]
  },
  {
   "cell_type": "code",
   "execution_count": 2,
   "metadata": {},
   "outputs": [],
   "source": [
    "import sys\n",
    "sys.path.append(\"../\")\n",
    "from consts import CLEAN_SCRAPE_DIR, BEFORE_2010_DIR, IN_2010S, AFTER_2020"
   ]
  },
  {
   "cell_type": "code",
   "execution_count": 3,
   "metadata": {},
   "outputs": [],
   "source": [
    "# !pip install matplotlib"
   ]
  },
  {
   "cell_type": "code",
   "execution_count": 4,
   "metadata": {},
   "outputs": [],
   "source": [
    "TARGET_DIR = CLEAN_SCRAPE_DIR\n",
    "REFERENCE_DIRS = [BEFORE_2010_DIR, IN_2010S, AFTER_2020]"
   ]
  },
  {
   "cell_type": "code",
   "execution_count": 5,
   "metadata": {},
   "outputs": [],
   "source": [
    "refs = [pd.read_csv(f\"./metadata/{dir}/clean_meta_en_prime.csv\") for dir in REFERENCE_DIRS]"
   ]
  },
  {
   "cell_type": "code",
   "execution_count": 6,
   "metadata": {},
   "outputs": [],
   "source": [
    "target = pd.read_csv(f\"./metadata/{TARGET_DIR}/clean_meta_en_prime.csv\")"
   ]
  },
  {
   "cell_type": "code",
   "execution_count": 7,
   "metadata": {},
   "outputs": [
    {
     "data": {
      "text/html": [
       "<div>\n",
       "<style scoped>\n",
       "    .dataframe tbody tr th:only-of-type {\n",
       "        vertical-align: middle;\n",
       "    }\n",
       "\n",
       "    .dataframe tbody tr th {\n",
       "        vertical-align: top;\n",
       "    }\n",
       "\n",
       "    .dataframe thead th {\n",
       "        text-align: right;\n",
       "    }\n",
       "</style>\n",
       "<table border=\"1\" class=\"dataframe\">\n",
       "  <thead>\n",
       "    <tr style=\"text-align: right;\">\n",
       "      <th></th>\n",
       "      <th>title</th>\n",
       "      <th>link</th>\n",
       "      <th>tags</th>\n",
       "      <th>year</th>\n",
       "      <th>clean_title</th>\n",
       "      <th>fname</th>\n",
       "      <th>short_url</th>\n",
       "      <th>clean_short_url</th>\n",
       "    </tr>\n",
       "  </thead>\n",
       "  <tbody>\n",
       "    <tr>\n",
       "      <th>0</th>\n",
       "      <td>My Fault</td>\n",
       "      <td>/My-Fault-Nicole-Wallace/dp/B0B683GB78/ref=sr_...</td>\n",
       "      <td>2023|CC</td>\n",
       "      <td>2023.0</td>\n",
       "      <td>My_Fault</td>\n",
       "      <td>0_My_Fault</td>\n",
       "      <td>/My-Fault-Nicole-Wallace/</td>\n",
       "      <td>/My-Fault-Nicole-Wallace/</td>\n",
       "    </tr>\n",
       "    <tr>\n",
       "      <th>1</th>\n",
       "      <td>Jurassic World Dominion</td>\n",
       "      <td>/Jurassic-World-Dominion-Chris-Pratt/dp/B0B5NN...</td>\n",
       "      <td>2022|PG-13|CC</td>\n",
       "      <td>2022.0</td>\n",
       "      <td>Jurassic_World_Dominion</td>\n",
       "      <td>1_Jurassic_World_Dominion</td>\n",
       "      <td>/Jurassic-World-Dominion-Chris-Pratt/</td>\n",
       "      <td>/Jurassic-World-Dominion-Chris-Pratt/</td>\n",
       "    </tr>\n",
       "    <tr>\n",
       "      <th>2</th>\n",
       "      <td>Top Gun: Maverick</td>\n",
       "      <td>/Top-Gun-Maverick-Tom-Cruise/dp/B0B214XZB4/ref...</td>\n",
       "      <td>2022|PG-13|CC</td>\n",
       "      <td>2022.0</td>\n",
       "      <td>Top_Gun_Maverick</td>\n",
       "      <td>2_Top_Gun_Maverick</td>\n",
       "      <td>/Top-Gun-Maverick-Tom-Cruise/</td>\n",
       "      <td>/Top-Gun-Maverick-Tom-Cruise/</td>\n",
       "    </tr>\n",
       "    <tr>\n",
       "      <th>3</th>\n",
       "      <td>Creed III</td>\n",
       "      <td>/Creed-III-Michael-B-Jordan/dp/B0B8TKJCRQ/ref=...</td>\n",
       "      <td>2023|PG-13|CC</td>\n",
       "      <td>2023.0</td>\n",
       "      <td>Creed_III</td>\n",
       "      <td>3_Creed_III</td>\n",
       "      <td>/Creed-III-Michael-B-Jordan/</td>\n",
       "      <td>/Creed-III-Michael-B-Jordan/</td>\n",
       "    </tr>\n",
       "    <tr>\n",
       "      <th>4</th>\n",
       "      <td>Sonic the Hedgehog 2</td>\n",
       "      <td>/Sonic-Hedgehog-2-James-Marsden/dp/B09ZRVBZG7/...</td>\n",
       "      <td>2022|PG|CC</td>\n",
       "      <td>2022.0</td>\n",
       "      <td>Sonic_the_Hedgehog_2</td>\n",
       "      <td>4_Sonic_the_Hedgehog_2</td>\n",
       "      <td>/Sonic-Hedgehog-2-James-Marsden/</td>\n",
       "      <td>/Sonic-Hedgehog-2-James-Marsden/</td>\n",
       "    </tr>\n",
       "  </tbody>\n",
       "</table>\n",
       "</div>"
      ],
      "text/plain": [
       "                     title                                               link  \\\n",
       "0                 My Fault  /My-Fault-Nicole-Wallace/dp/B0B683GB78/ref=sr_...   \n",
       "1  Jurassic World Dominion  /Jurassic-World-Dominion-Chris-Pratt/dp/B0B5NN...   \n",
       "2        Top Gun: Maverick  /Top-Gun-Maverick-Tom-Cruise/dp/B0B214XZB4/ref...   \n",
       "3                Creed III  /Creed-III-Michael-B-Jordan/dp/B0B8TKJCRQ/ref=...   \n",
       "4     Sonic the Hedgehog 2  /Sonic-Hedgehog-2-James-Marsden/dp/B09ZRVBZG7/...   \n",
       "\n",
       "            tags    year              clean_title                      fname  \\\n",
       "0        2023|CC  2023.0                 My_Fault                 0_My_Fault   \n",
       "1  2022|PG-13|CC  2022.0  Jurassic_World_Dominion  1_Jurassic_World_Dominion   \n",
       "2  2022|PG-13|CC  2022.0         Top_Gun_Maverick         2_Top_Gun_Maverick   \n",
       "3  2023|PG-13|CC  2023.0                Creed_III                3_Creed_III   \n",
       "4     2022|PG|CC  2022.0     Sonic_the_Hedgehog_2     4_Sonic_the_Hedgehog_2   \n",
       "\n",
       "                               short_url  \\\n",
       "0              /My-Fault-Nicole-Wallace/   \n",
       "1  /Jurassic-World-Dominion-Chris-Pratt/   \n",
       "2          /Top-Gun-Maverick-Tom-Cruise/   \n",
       "3           /Creed-III-Michael-B-Jordan/   \n",
       "4       /Sonic-Hedgehog-2-James-Marsden/   \n",
       "\n",
       "                         clean_short_url  \n",
       "0              /My-Fault-Nicole-Wallace/  \n",
       "1  /Jurassic-World-Dominion-Chris-Pratt/  \n",
       "2          /Top-Gun-Maverick-Tom-Cruise/  \n",
       "3           /Creed-III-Michael-B-Jordan/  \n",
       "4       /Sonic-Hedgehog-2-James-Marsden/  "
      ]
     },
     "execution_count": 7,
     "metadata": {},
     "output_type": "execute_result"
    }
   ],
   "source": [
    "target.head()"
   ]
  },
  {
   "cell_type": "code",
   "execution_count": 12,
   "metadata": {},
   "outputs": [
    {
     "name": "stdout",
     "output_type": "stream",
     "text": [
      "(4612, 8)\n",
      "(2170, 8)\n",
      "(530, 8)\n"
     ]
    }
   ],
   "source": [
    "subset = target.copy()\n",
    "for ref_df in refs:\n",
    "    subset = subset[~((subset['title'].isin(ref_df['title'])) & (subset['clean_short_url'].isin(ref_df['clean_short_url'])))]\n",
    "    print(subset.shape)"
   ]
  },
  {
   "cell_type": "code",
   "execution_count": 9,
   "metadata": {},
   "outputs": [
    {
     "data": {
      "text/plain": [
       "(530, 8)"
      ]
     },
     "execution_count": 9,
     "metadata": {},
     "output_type": "execute_result"
    }
   ],
   "source": [
    "subset.shape"
   ]
  },
  {
   "cell_type": "code",
   "execution_count": 13,
   "metadata": {},
   "outputs": [],
   "source": [
    "subset.to_csv(f\"./metadata/{TARGET_DIR}/sub_clean_meta_en_prime.csv\", index=False)"
   ]
  }
 ],
 "metadata": {
  "kernelspec": {
   "display_name": "env",
   "language": "python",
   "name": "python3"
  },
  "language_info": {
   "codemirror_mode": {
    "name": "ipython",
    "version": 3
   },
   "file_extension": ".py",
   "mimetype": "text/x-python",
   "name": "python",
   "nbconvert_exporter": "python",
   "pygments_lexer": "ipython3",
   "version": "3.11.3"
  },
  "orig_nbformat": 4
 },
 "nbformat": 4,
 "nbformat_minor": 2
}
