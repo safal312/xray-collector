{
 "cells": [
  {
   "cell_type": "markdown",
   "metadata": {},
   "source": [
    "### 3: Remove Duplicates Across Batches"
   ]
  },
  {
   "cell_type": "markdown",
   "metadata": {},
   "source": [
    "This notebook removes duplicates between batches. Given a target directory, it removes duplicates that it shares with rest of the batches."
   ]
  },
  {
   "cell_type": "code",
   "execution_count": 1,
   "metadata": {},
   "outputs": [],
   "source": [
    "import pandas as pd"
   ]
  },
  {
   "cell_type": "code",
   "execution_count": 2,
   "metadata": {},
   "outputs": [],
   "source": [
    "import sys\n",
    "sys.path.append(\"../\")\n",
    "from consts import CLEAN_SCRAPE_DIR, BEFORE_2010_DIR, IN_2010S, AFTER_2020"
   ]
  },
  {
   "cell_type": "code",
   "execution_count": 11,
   "metadata": {},
   "outputs": [],
   "source": [
    "METADATA_DIR = \"../data/2_metadata\""
   ]
  },
  {
   "cell_type": "code",
   "execution_count": 13,
   "metadata": {},
   "outputs": [],
   "source": [
    "all_dirs = [CLEAN_SCRAPE_DIR, BEFORE_2010_DIR, IN_2010S, AFTER_2020]"
   ]
  },
  {
   "cell_type": "code",
   "execution_count": 39,
   "metadata": {},
   "outputs": [],
   "source": [
    "# set batch variable here and run the cell and everything below for each\n",
    "TARGET_DIR = all_dirs[3]\n",
    "REFERENCE_DIRS = [dir for dir in all_dirs if dir != TARGET_DIR]"
   ]
  },
  {
   "cell_type": "code",
   "execution_count": 40,
   "metadata": {},
   "outputs": [
    {
     "data": {
      "text/plain": [
       "['com', 'before2010', 'in2010s']"
      ]
     },
     "execution_count": 40,
     "metadata": {},
     "output_type": "execute_result"
    }
   ],
   "source": [
    "REFERENCE_DIRS"
   ]
  },
  {
   "cell_type": "code",
   "execution_count": 41,
   "metadata": {},
   "outputs": [],
   "source": [
    "refs = [pd.read_csv(f\"{METADATA_DIR}/{dir}/clean_meta_en_prime.csv\") for dir in REFERENCE_DIRS]"
   ]
  },
  {
   "cell_type": "code",
   "execution_count": 42,
   "metadata": {},
   "outputs": [],
   "source": [
    "target = pd.read_csv(f\"{METADATA_DIR}/{TARGET_DIR}/clean_meta_en_prime.csv\")"
   ]
  },
  {
   "cell_type": "code",
   "execution_count": 43,
   "metadata": {},
   "outputs": [
    {
     "data": {
      "text/html": [
       "<div>\n",
       "<style scoped>\n",
       "    .dataframe tbody tr th:only-of-type {\n",
       "        vertical-align: middle;\n",
       "    }\n",
       "\n",
       "    .dataframe tbody tr th {\n",
       "        vertical-align: top;\n",
       "    }\n",
       "\n",
       "    .dataframe thead th {\n",
       "        text-align: right;\n",
       "    }\n",
       "</style>\n",
       "<table border=\"1\" class=\"dataframe\">\n",
       "  <thead>\n",
       "    <tr style=\"text-align: right;\">\n",
       "      <th></th>\n",
       "      <th>title</th>\n",
       "      <th>link</th>\n",
       "      <th>tags</th>\n",
       "      <th>year</th>\n",
       "      <th>clean_title</th>\n",
       "      <th>fname</th>\n",
       "      <th>short_url</th>\n",
       "      <th>clean_short_url</th>\n",
       "    </tr>\n",
       "  </thead>\n",
       "  <tbody>\n",
       "    <tr>\n",
       "      <th>0</th>\n",
       "      <td>Creed III</td>\n",
       "      <td>/Creed-III-Michael-B-Jordan/dp/B0B8TJ2897/ref=...</td>\n",
       "      <td>2023|PG-13|CC</td>\n",
       "      <td>2023.0</td>\n",
       "      <td>Creed_III</td>\n",
       "      <td>0_Creed_III</td>\n",
       "      <td>/Creed-III-Michael-B-Jordan/</td>\n",
       "      <td>/Creed-III-Michael-B-Jordan/</td>\n",
       "    </tr>\n",
       "    <tr>\n",
       "      <th>1</th>\n",
       "      <td>Jurassic World Dominion</td>\n",
       "      <td>/Jurassic-World-Dominion-Chris-Pratt/dp/B0B5MQ...</td>\n",
       "      <td>2022|PG-13|CC</td>\n",
       "      <td>2022.0</td>\n",
       "      <td>Jurassic_World_Dominion</td>\n",
       "      <td>1_Jurassic_World_Dominion</td>\n",
       "      <td>/Jurassic-World-Dominion-Chris-Pratt/</td>\n",
       "      <td>/Jurassic-World-Dominion-Chris-Pratt/</td>\n",
       "    </tr>\n",
       "    <tr>\n",
       "      <th>2</th>\n",
       "      <td>Air</td>\n",
       "      <td>/AIR-Matt-Damon/dp/B0B8Q3JMCG/ref=sr_1_3?qid=1...</td>\n",
       "      <td>2023|R|CC</td>\n",
       "      <td>2023.0</td>\n",
       "      <td>Air</td>\n",
       "      <td>2_Air</td>\n",
       "      <td>/AIR-Matt-Damon/</td>\n",
       "      <td>/AIR-Matt-Damon/</td>\n",
       "    </tr>\n",
       "    <tr>\n",
       "      <th>3</th>\n",
       "      <td>Top Gun: Maverick</td>\n",
       "      <td>/Top-Gun-Maverick-Tom-Cruise/dp/B0B215H8Y3/ref...</td>\n",
       "      <td>2022|PG-13|CC</td>\n",
       "      <td>2022.0</td>\n",
       "      <td>Top_Gun_Maverick</td>\n",
       "      <td>3_Top_Gun_Maverick</td>\n",
       "      <td>/Top-Gun-Maverick-Tom-Cruise/</td>\n",
       "      <td>/Top-Gun-Maverick-Tom-Cruise/</td>\n",
       "    </tr>\n",
       "    <tr>\n",
       "      <th>4</th>\n",
       "      <td>80 for Brady</td>\n",
       "      <td>/80-Brady-Lily-Tomlin/dp/B0B84Z7N5K/ref=sr_1_5...</td>\n",
       "      <td>2023|PG-13|CC</td>\n",
       "      <td>2023.0</td>\n",
       "      <td>80_for_Brady</td>\n",
       "      <td>4_80_for_Brady</td>\n",
       "      <td>/80-Brady-Lily-Tomlin/</td>\n",
       "      <td>/80-Brady-Lily-Tomlin/</td>\n",
       "    </tr>\n",
       "  </tbody>\n",
       "</table>\n",
       "</div>"
      ],
      "text/plain": [
       "                     title                                               link  \\\n",
       "0                Creed III  /Creed-III-Michael-B-Jordan/dp/B0B8TJ2897/ref=...   \n",
       "1  Jurassic World Dominion  /Jurassic-World-Dominion-Chris-Pratt/dp/B0B5MQ...   \n",
       "2                      Air  /AIR-Matt-Damon/dp/B0B8Q3JMCG/ref=sr_1_3?qid=1...   \n",
       "3        Top Gun: Maverick  /Top-Gun-Maverick-Tom-Cruise/dp/B0B215H8Y3/ref...   \n",
       "4             80 for Brady  /80-Brady-Lily-Tomlin/dp/B0B84Z7N5K/ref=sr_1_5...   \n",
       "\n",
       "            tags    year              clean_title                      fname  \\\n",
       "0  2023|PG-13|CC  2023.0                Creed_III                0_Creed_III   \n",
       "1  2022|PG-13|CC  2022.0  Jurassic_World_Dominion  1_Jurassic_World_Dominion   \n",
       "2      2023|R|CC  2023.0                      Air                      2_Air   \n",
       "3  2022|PG-13|CC  2022.0         Top_Gun_Maverick         3_Top_Gun_Maverick   \n",
       "4  2023|PG-13|CC  2023.0             80_for_Brady             4_80_for_Brady   \n",
       "\n",
       "                               short_url  \\\n",
       "0           /Creed-III-Michael-B-Jordan/   \n",
       "1  /Jurassic-World-Dominion-Chris-Pratt/   \n",
       "2                       /AIR-Matt-Damon/   \n",
       "3          /Top-Gun-Maverick-Tom-Cruise/   \n",
       "4                 /80-Brady-Lily-Tomlin/   \n",
       "\n",
       "                         clean_short_url  \n",
       "0           /Creed-III-Michael-B-Jordan/  \n",
       "1  /Jurassic-World-Dominion-Chris-Pratt/  \n",
       "2                       /AIR-Matt-Damon/  \n",
       "3          /Top-Gun-Maverick-Tom-Cruise/  \n",
       "4                 /80-Brady-Lily-Tomlin/  "
      ]
     },
     "execution_count": 43,
     "metadata": {},
     "output_type": "execute_result"
    }
   ],
   "source": [
    "target.head()"
   ]
  },
  {
   "cell_type": "code",
   "execution_count": 44,
   "metadata": {},
   "outputs": [
    {
     "name": "stdout",
     "output_type": "stream",
     "text": [
      "(1220, 8)\n",
      "(1220, 8)\n",
      "(1219, 8)\n"
     ]
    }
   ],
   "source": [
    "subset = target.copy()\n",
    "for ref_df in refs:\n",
    "    subset = subset[~((subset['title'].isin(ref_df['title'])) & (subset['clean_short_url'].isin(ref_df['clean_short_url'])))]\n",
    "    print(subset.shape)"
   ]
  },
  {
   "cell_type": "code",
   "execution_count": 45,
   "metadata": {},
   "outputs": [
    {
     "data": {
      "text/plain": [
       "(1219, 8)"
      ]
     },
     "execution_count": 45,
     "metadata": {},
     "output_type": "execute_result"
    }
   ],
   "source": [
    "subset.shape"
   ]
  },
  {
   "cell_type": "code",
   "execution_count": 46,
   "metadata": {},
   "outputs": [],
   "source": [
    "subset.to_csv(f\"{METADATA_DIR}/{TARGET_DIR}/sub_clean_meta_en_prime.csv\", index=False)"
   ]
  }
 ],
 "metadata": {
  "kernelspec": {
   "display_name": "env",
   "language": "python",
   "name": "python3"
  },
  "language_info": {
   "codemirror_mode": {
    "name": "ipython",
    "version": 3
   },
   "file_extension": ".py",
   "mimetype": "text/x-python",
   "name": "python",
   "nbconvert_exporter": "python",
   "pygments_lexer": "ipython3",
   "version": "3.11.3"
  },
  "orig_nbformat": 4
 },
 "nbformat": 4,
 "nbformat_minor": 2
}
