{
 "cells": [
  {
   "cell_type": "code",
   "execution_count": 1,
   "metadata": {},
   "outputs": [],
   "source": [
    "import os\n",
    "import pandas as pd\n",
    "import matplotlib.pyplot as plt\n",
    "import seaborn as sns"
   ]
  },
  {
   "cell_type": "code",
   "execution_count": 2,
   "metadata": {},
   "outputs": [],
   "source": [
    "import sys\n",
    "sys.path.append(\"../\")\n",
    "from consts import CLEAN_SCRAPE_DIR, BEFORE_2010_DIR, IN_2010S, AFTER_2020\n",
    "TARGET_DIR = CLEAN_SCRAPE_DIR"
   ]
  },
  {
   "cell_type": "code",
   "execution_count": 3,
   "metadata": {},
   "outputs": [],
   "source": [
    "df = pd.read_csv(f\"./parsed_metadata/{TARGET_DIR}/meta_en_prime.csv\")"
   ]
  },
  {
   "cell_type": "code",
   "execution_count": 10,
   "metadata": {},
   "outputs": [
    {
     "data": {
      "text/html": [
       "<div>\n",
       "<style scoped>\n",
       "    .dataframe tbody tr th:only-of-type {\n",
       "        vertical-align: middle;\n",
       "    }\n",
       "\n",
       "    .dataframe tbody tr th {\n",
       "        vertical-align: top;\n",
       "    }\n",
       "\n",
       "    .dataframe thead th {\n",
       "        text-align: right;\n",
       "    }\n",
       "</style>\n",
       "<table border=\"1\" class=\"dataframe\">\n",
       "  <thead>\n",
       "    <tr style=\"text-align: right;\">\n",
       "      <th></th>\n",
       "      <th>file</th>\n",
       "      <th>synopsis</th>\n",
       "      <th>genres</th>\n",
       "      <th>amazon_rating</th>\n",
       "      <th>global_ratings</th>\n",
       "      <th>error</th>\n",
       "      <th>imdb-rating-badge</th>\n",
       "      <th>runtime-badge</th>\n",
       "      <th>release-year-badge</th>\n",
       "      <th>x-ray-badge</th>\n",
       "      <th>hdr-badge</th>\n",
       "      <th>uhd-badge</th>\n",
       "      <th>rating-badge</th>\n",
       "      <th>link</th>\n",
       "    </tr>\n",
       "  </thead>\n",
       "  <tbody>\n",
       "    <tr>\n",
       "      <th>0</th>\n",
       "      <td>0_My_Fault.html</td>\n",
       "      <td>Noah must leave her town, boyfriend and friend...</td>\n",
       "      <td>Drama,Young Adult Audience</td>\n",
       "      <td>Rated 4.7 out of 5 stars by 788 Amazon customers.</td>\n",
       "      <td>788</td>\n",
       "      <td>1</td>\n",
       "      <td>IMDb 6.3</td>\n",
       "      <td>1 h 57 min</td>\n",
       "      <td>2023.0</td>\n",
       "      <td>X-Ray</td>\n",
       "      <td>HDR</td>\n",
       "      <td>UHD</td>\n",
       "      <td>16+</td>\n",
       "      <td>/gp/video/detail/B0B683GB78/ref=atv_dp_atf_pri...</td>\n",
       "    </tr>\n",
       "    <tr>\n",
       "      <th>1</th>\n",
       "      <td>1000_On_The_Trail_of_UFOS_Dark_Sky.html</td>\n",
       "      <td>On the Trail of UFOs: Dark Sky traces decades ...</td>\n",
       "      <td>Documentary</td>\n",
       "      <td>Rated 3.7 out of 5 stars by 407 Amazon customers.</td>\n",
       "      <td>407</td>\n",
       "      <td>1</td>\n",
       "      <td>IMDb 5.7</td>\n",
       "      <td>1 h 25 min</td>\n",
       "      <td>2021.0</td>\n",
       "      <td>X-Ray</td>\n",
       "      <td>NaN</td>\n",
       "      <td>NaN</td>\n",
       "      <td>13+</td>\n",
       "      <td>/gp/video/detail/B09BKF2WGQ/ref=atv_dp_atf_pri...</td>\n",
       "    </tr>\n",
       "    <tr>\n",
       "      <th>2</th>\n",
       "      <td>1001_Student_Of_The_Year.html</td>\n",
       "      <td>Introducing Alia Bhatt (Sharanya Singhania), S...</td>\n",
       "      <td>Comedy,Sports,Romance</td>\n",
       "      <td>Rated 3.7 out of 5 stars by 60 Amazon customers.</td>\n",
       "      <td>60</td>\n",
       "      <td>1</td>\n",
       "      <td>IMDb 5.2</td>\n",
       "      <td>2 h 25 min</td>\n",
       "      <td>2012.0</td>\n",
       "      <td>X-Ray</td>\n",
       "      <td>NaN</td>\n",
       "      <td>NaN</td>\n",
       "      <td>13+</td>\n",
       "      <td>/gp/video/detail/B0BZTD87WK/ref=atv_dp_atf_pri...</td>\n",
       "    </tr>\n",
       "    <tr>\n",
       "      <th>3</th>\n",
       "      <td>1002_Pussycat_Pussycat_I_Love_You.html</td>\n",
       "      <td>An American playwright living in Rome, fearing...</td>\n",
       "      <td>Comedy</td>\n",
       "      <td>Rated 3 out of 5 stars by 11 Amazon customers.</td>\n",
       "      <td>11</td>\n",
       "      <td>1</td>\n",
       "      <td>IMDb 4.5</td>\n",
       "      <td>1 h 40 min</td>\n",
       "      <td>1970.0</td>\n",
       "      <td>NaN</td>\n",
       "      <td>NaN</td>\n",
       "      <td>NaN</td>\n",
       "      <td>R</td>\n",
       "      <td>/gp/video/detail/B009P8K2TW/ref=atv_dp_atf_pri...</td>\n",
       "    </tr>\n",
       "    <tr>\n",
       "      <th>4</th>\n",
       "      <td>1003_Severed_Ways.html</td>\n",
       "      <td>On the coast of North America in AD 1007, two ...</td>\n",
       "      <td>Adventure,Action</td>\n",
       "      <td>Rated 2.9 out of 5 stars by 131 Amazon customers.</td>\n",
       "      <td>131</td>\n",
       "      <td>1</td>\n",
       "      <td>IMDb 4.3</td>\n",
       "      <td>1 h 49 min</td>\n",
       "      <td>2007.0</td>\n",
       "      <td>NaN</td>\n",
       "      <td>NaN</td>\n",
       "      <td>NaN</td>\n",
       "      <td>16+</td>\n",
       "      <td>/gp/video/detail/B002JXRSOW/ref=atv_dp_atf_pri...</td>\n",
       "    </tr>\n",
       "  </tbody>\n",
       "</table>\n",
       "</div>"
      ],
      "text/plain": [
       "                                      file  \\\n",
       "0                          0_My_Fault.html   \n",
       "1  1000_On_The_Trail_of_UFOS_Dark_Sky.html   \n",
       "2            1001_Student_Of_The_Year.html   \n",
       "3   1002_Pussycat_Pussycat_I_Love_You.html   \n",
       "4                   1003_Severed_Ways.html   \n",
       "\n",
       "                                            synopsis  \\\n",
       "0  Noah must leave her town, boyfriend and friend...   \n",
       "1  On the Trail of UFOs: Dark Sky traces decades ...   \n",
       "2  Introducing Alia Bhatt (Sharanya Singhania), S...   \n",
       "3  An American playwright living in Rome, fearing...   \n",
       "4  On the coast of North America in AD 1007, two ...   \n",
       "\n",
       "                       genres  \\\n",
       "0  Drama,Young Adult Audience   \n",
       "1                 Documentary   \n",
       "2       Comedy,Sports,Romance   \n",
       "3                      Comedy   \n",
       "4            Adventure,Action   \n",
       "\n",
       "                                       amazon_rating global_ratings  error  \\\n",
       "0  Rated 4.7 out of 5 stars by 788 Amazon customers.            788      1   \n",
       "1  Rated 3.7 out of 5 stars by 407 Amazon customers.            407      1   \n",
       "2   Rated 3.7 out of 5 stars by 60 Amazon customers.             60      1   \n",
       "3     Rated 3 out of 5 stars by 11 Amazon customers.             11      1   \n",
       "4  Rated 2.9 out of 5 stars by 131 Amazon customers.            131      1   \n",
       "\n",
       "  imdb-rating-badge runtime-badge  release-year-badge x-ray-badge hdr-badge  \\\n",
       "0          IMDb 6.3    1 h 57 min              2023.0       X-Ray       HDR   \n",
       "1          IMDb 5.7    1 h 25 min              2021.0       X-Ray       NaN   \n",
       "2          IMDb 5.2    2 h 25 min              2012.0       X-Ray       NaN   \n",
       "3          IMDb 4.5    1 h 40 min              1970.0         NaN       NaN   \n",
       "4          IMDb 4.3    1 h 49 min              2007.0         NaN       NaN   \n",
       "\n",
       "  uhd-badge rating-badge                                               link  \n",
       "0       UHD          16+  /gp/video/detail/B0B683GB78/ref=atv_dp_atf_pri...  \n",
       "1       NaN          13+  /gp/video/detail/B09BKF2WGQ/ref=atv_dp_atf_pri...  \n",
       "2       NaN          13+  /gp/video/detail/B0BZTD87WK/ref=atv_dp_atf_pri...  \n",
       "3       NaN            R  /gp/video/detail/B009P8K2TW/ref=atv_dp_atf_pri...  \n",
       "4       NaN          16+  /gp/video/detail/B002JXRSOW/ref=atv_dp_atf_pri...  "
      ]
     },
     "execution_count": 10,
     "metadata": {},
     "output_type": "execute_result"
    }
   ],
   "source": [
    "df.head()"
   ]
  },
  {
   "cell_type": "code",
   "execution_count": 11,
   "metadata": {},
   "outputs": [
    {
     "data": {
      "text/plain": [
       "Index(['file', 'synopsis', 'genres', 'amazon_rating', 'global_ratings',\n",
       "       'error', 'imdb-rating-badge', 'runtime-badge', 'release-year-badge',\n",
       "       'x-ray-badge', 'hdr-badge', 'uhd-badge', 'rating-badge', 'link'],\n",
       "      dtype='object')"
      ]
     },
     "execution_count": 11,
     "metadata": {},
     "output_type": "execute_result"
    }
   ],
   "source": [
    "df.columns"
   ]
  },
  {
   "cell_type": "markdown",
   "metadata": {},
   "source": [
    "### Cleaning"
   ]
  },
  {
   "cell_type": "markdown",
   "metadata": {},
   "source": [
    "We need to ensure that we don't have any entries with no links. These entries are usually movies that are not included with prime."
   ]
  },
  {
   "cell_type": "code",
   "execution_count": 12,
   "metadata": {},
   "outputs": [],
   "source": [
    "df_links = df[~df['link'].isnull()]"
   ]
  },
  {
   "cell_type": "code",
   "execution_count": 7,
   "metadata": {},
   "outputs": [],
   "source": [
    "df[df['link'].isnull()].to_csv(\"check.csv\")"
   ]
  },
  {
   "cell_type": "code",
   "execution_count": 13,
   "metadata": {},
   "outputs": [
    {
     "data": {
      "text/plain": [
       "((6351, 14), (6322, 14))"
      ]
     },
     "execution_count": 13,
     "metadata": {},
     "output_type": "execute_result"
    }
   ],
   "source": [
    "df.shape, df_links.shape"
   ]
  },
  {
   "cell_type": "markdown",
   "metadata": {},
   "source": [
    "Evaluate missing x-ray data"
   ]
  },
  {
   "cell_type": "code",
   "execution_count": 9,
   "metadata": {},
   "outputs": [
    {
     "name": "stderr",
     "output_type": "stream",
     "text": [
      "C:\\Users\\safal\\AppData\\Local\\Temp\\ipykernel_9516\\3942016705.py:4: SettingWithCopyWarning: \n",
      "A value is trying to be set on a copy of a slice from a DataFrame.\n",
      "Try using .loc[row_indexer,col_indexer] = value instead\n",
      "\n",
      "See the caveats in the documentation: https://pandas.pydata.org/pandas-docs/stable/user_guide/indexing.html#returning-a-view-versus-a-copy\n",
      "  df_filtered1['release-year-badge'] = df_filtered1['release-year-badge'].astype(int)\n"
     ]
    },
    {
     "data": {
      "image/png": "[encoded data removed]",
      "text/plain": [
       "<Figure size 1200x500 with 2 Axes>"
      ]
     },
     "metadata": {},
     "output_type": "display_data"
    }
   ],
   "source": [
    "# Assuming df_links is your DataFrame and 'release-year-badge' is the column of interest\n",
    "df_filtered1 = df_links[~df_links['release-year-badge'].isnull()]\n",
    "# Convert 'release-year-badge' to integer type\n",
    "df_filtered1['release-year-badge'] = df_filtered1['release-year-badge'].astype(int)\n",
    "# df_filtered = df_filtered1[(df_filtered1['x-ray-badge'].isnull())]\n",
    "\n",
    "\n",
    "# Create a figure with two subplots\n",
    "fig, axes = plt.subplots(nrows=1, ncols=2, figsize=(12, 5))\n",
    "\n",
    "# Plot 1: Countplot\n",
    "ax1 = sns.histplot(x='release-year-badge', data=df_filtered1, ax=axes[0], bins=11)\n",
    "ax1.set_title('Count of Release Years before Filtering')\n",
    "ax1.set_xlabel('Release Year')\n",
    "ax1.set_ylabel('Count')\n",
    "\n",
    "# Add count annotations to the first plot\n",
    "for p in ax1.patches:\n",
    "    ax1.annotate(f'{p.get_height()}', (p.get_x() + p.get_width() / 2., p.get_height()), ha='center', va='center', xytext=(0, 10), textcoords='offset points')\n",
    "\n",
    "# Plot 2: Another Countplot (you can modify this based on your second plot)\n",
    "ax2 = sns.histplot(x='release-year-badge', data=df_filtered1[~df_filtered1['x-ray-badge'].isnull()], ax=axes[1], bins=11)\n",
    "ax2.set_title('Count After Filtering')\n",
    "ax2.set_xlabel('Release Year')\n",
    "ax2.set_ylabel('Count')\n",
    "\n",
    "# Add count annotations to the second plot\n",
    "for p in ax2.patches:\n",
    "    ax2.annotate(f'{p.get_height()}', (p.get_x() + p.get_width() / 2., p.get_height()), ha='center', va='center', xytext=(0, 10), textcoords='offset points')\n",
    "\n",
    "# Adjust layout to prevent overlap\n",
    "plt.tight_layout()\n",
    "\n",
    "# Show the plots\n",
    "plt.show()"
   ]
  },
  {
   "cell_type": "markdown",
   "metadata": {},
   "source": [
    "Now, we need to remove all entries that don't have Xray data, as indicated by the x-ray-badge field"
   ]
  },
  {
   "cell_type": "code",
   "execution_count": 17,
   "metadata": {},
   "outputs": [],
   "source": [
    "df_xrays = df_links[~df_links['x-ray-badge'].isnull()]"
   ]
  },
  {
   "cell_type": "code",
   "execution_count": 18,
   "metadata": {},
   "outputs": [
    {
     "data": {
      "text/html": [
       "<div>\n",
       "<style scoped>\n",
       "    .dataframe tbody tr th:only-of-type {\n",
       "        vertical-align: middle;\n",
       "    }\n",
       "\n",
       "    .dataframe tbody tr th {\n",
       "        vertical-align: top;\n",
       "    }\n",
       "\n",
       "    .dataframe thead th {\n",
       "        text-align: right;\n",
       "    }\n",
       "</style>\n",
       "<table border=\"1\" class=\"dataframe\">\n",
       "  <thead>\n",
       "    <tr style=\"text-align: right;\">\n",
       "      <th></th>\n",
       "      <th>file</th>\n",
       "      <th>synopsis</th>\n",
       "      <th>genres</th>\n",
       "      <th>amazon_rating</th>\n",
       "      <th>global_ratings</th>\n",
       "      <th>error</th>\n",
       "      <th>imdb-rating-badge</th>\n",
       "      <th>runtime-badge</th>\n",
       "      <th>release-year-badge</th>\n",
       "      <th>rating-badge</th>\n",
       "      <th>link</th>\n",
       "      <th>x-ray-badge</th>\n",
       "      <th>uhd-badge</th>\n",
       "      <th>hdr-badge</th>\n",
       "    </tr>\n",
       "  </thead>\n",
       "  <tbody>\n",
       "    <tr>\n",
       "      <th>6</th>\n",
       "      <td>1006_The_Spectaculars.html</td>\n",
       "      <td>Ed Lima is an egocentric stand-up comedian who...</td>\n",
       "      <td>Comedy,Drama</td>\n",
       "      <td>NaN</td>\n",
       "      <td>NaN</td>\n",
       "      <td>1</td>\n",
       "      <td>IMDb 5.8</td>\n",
       "      <td>1 h 27 min</td>\n",
       "      <td>2020</td>\n",
       "      <td>16+</td>\n",
       "      <td>/gp/video/detail/B08LYGVGZJ/ref=atv_dp_atf_pri...</td>\n",
       "      <td>X-Ray</td>\n",
       "      <td>NaN</td>\n",
       "      <td>NaN</td>\n",
       "    </tr>\n",
       "    <tr>\n",
       "      <th>13</th>\n",
       "      <td>1013_Dongri_Danger.html</td>\n",
       "      <td>Dawood, Gangsters, Mayyat and Rahul, these are...</td>\n",
       "      <td>Comedy</td>\n",
       "      <td>Rated 3.6 out of 5 stars by 11 Amazon customers.</td>\n",
       "      <td>11</td>\n",
       "      <td>1</td>\n",
       "      <td>IMDb 4.9</td>\n",
       "      <td>56min</td>\n",
       "      <td>2022</td>\n",
       "      <td>16+</td>\n",
       "      <td>/gp/video/detail/B09Q2BH23G/ref=atv_dp_atf_pri...</td>\n",
       "      <td>X-Ray</td>\n",
       "      <td>UHD</td>\n",
       "      <td>NaN</td>\n",
       "    </tr>\n",
       "    <tr>\n",
       "      <th>32</th>\n",
       "      <td>1032_LA_GORDA_FABIOLA_MODEL_63.html</td>\n",
       "      <td>Health problems, overweight, children and the ...</td>\n",
       "      <td>Comedy</td>\n",
       "      <td>Rated 5 out of 5 stars by 1 Amazon customers.</td>\n",
       "      <td>1</td>\n",
       "      <td>1</td>\n",
       "      <td>NaN</td>\n",
       "      <td>45min</td>\n",
       "      <td>2022</td>\n",
       "      <td>16+</td>\n",
       "      <td>/gp/video/detail/B09WXSDQST/ref=atv_dp_atf_pri...</td>\n",
       "      <td>X-Ray</td>\n",
       "      <td>UHD</td>\n",
       "      <td>HDR</td>\n",
       "    </tr>\n",
       "    <tr>\n",
       "      <th>42</th>\n",
       "      <td>1042_Ashish_Shakya__Life_Is_Good.html</td>\n",
       "      <td>Ashish Shakya aka 'That AIB Guy' aka 'Hai Dear...</td>\n",
       "      <td>Comedy</td>\n",
       "      <td>Rated 3.7 out of 5 stars by 9 Amazon customers.</td>\n",
       "      <td>9</td>\n",
       "      <td>1</td>\n",
       "      <td>IMDb 4.6</td>\n",
       "      <td>54min</td>\n",
       "      <td>2020</td>\n",
       "      <td>18+</td>\n",
       "      <td>/gp/video/detail/B0846CJJS8/ref=atv_dp_atf_pri...</td>\n",
       "      <td>X-Ray</td>\n",
       "      <td>NaN</td>\n",
       "      <td>NaN</td>\n",
       "    </tr>\n",
       "    <tr>\n",
       "      <th>70</th>\n",
       "      <td>1070_Baggy_in__as_KungFu_Bonda_A_Mostly_Englis...</td>\n",
       "      <td>Baggy takes you on a hilarious journey about g...</td>\n",
       "      <td>Comedy,Arts, Entertainment, and Culture</td>\n",
       "      <td>Rated 2.9 out of 5 stars by 10 Amazon customers.</td>\n",
       "      <td>10</td>\n",
       "      <td>1</td>\n",
       "      <td>IMDb 5.4</td>\n",
       "      <td>1 h 17 min</td>\n",
       "      <td>2020</td>\n",
       "      <td>16+</td>\n",
       "      <td>/gp/video/detail/B0877TMV6K/ref=atv_dp_atf_pri...</td>\n",
       "      <td>X-Ray</td>\n",
       "      <td>UHD</td>\n",
       "      <td>NaN</td>\n",
       "    </tr>\n",
       "  </tbody>\n",
       "</table>\n",
       "</div>"
      ],
      "text/plain": [
       "                                                 file  \\\n",
       "6                          1006_The_Spectaculars.html   \n",
       "13                            1013_Dongri_Danger.html   \n",
       "32                1032_LA_GORDA_FABIOLA_MODEL_63.html   \n",
       "42              1042_Ashish_Shakya__Life_Is_Good.html   \n",
       "70  1070_Baggy_in__as_KungFu_Bonda_A_Mostly_Englis...   \n",
       "\n",
       "                                             synopsis  \\\n",
       "6   Ed Lima is an egocentric stand-up comedian who...   \n",
       "13  Dawood, Gangsters, Mayyat and Rahul, these are...   \n",
       "32  Health problems, overweight, children and the ...   \n",
       "42  Ashish Shakya aka 'That AIB Guy' aka 'Hai Dear...   \n",
       "70  Baggy takes you on a hilarious journey about g...   \n",
       "\n",
       "                                     genres  \\\n",
       "6                              Comedy,Drama   \n",
       "13                                   Comedy   \n",
       "32                                   Comedy   \n",
       "42                                   Comedy   \n",
       "70  Comedy,Arts, Entertainment, and Culture   \n",
       "\n",
       "                                       amazon_rating global_ratings  error  \\\n",
       "6                                                NaN            NaN      1   \n",
       "13  Rated 3.6 out of 5 stars by 11 Amazon customers.             11      1   \n",
       "32     Rated 5 out of 5 stars by 1 Amazon customers.              1      1   \n",
       "42   Rated 3.7 out of 5 stars by 9 Amazon customers.              9      1   \n",
       "70  Rated 2.9 out of 5 stars by 10 Amazon customers.             10      1   \n",
       "\n",
       "   imdb-rating-badge runtime-badge  release-year-badge rating-badge  \\\n",
       "6           IMDb 5.8    1 h 27 min                2020          16+   \n",
       "13          IMDb 4.9         56min                2022          16+   \n",
       "32               NaN         45min                2022          16+   \n",
       "42          IMDb 4.6         54min                2020          18+   \n",
       "70          IMDb 5.4    1 h 17 min                2020          16+   \n",
       "\n",
       "                                                 link x-ray-badge uhd-badge  \\\n",
       "6   /gp/video/detail/B08LYGVGZJ/ref=atv_dp_atf_pri...       X-Ray       NaN   \n",
       "13  /gp/video/detail/B09Q2BH23G/ref=atv_dp_atf_pri...       X-Ray       UHD   \n",
       "32  /gp/video/detail/B09WXSDQST/ref=atv_dp_atf_pri...       X-Ray       UHD   \n",
       "42  /gp/video/detail/B0846CJJS8/ref=atv_dp_atf_pri...       X-Ray       NaN   \n",
       "70  /gp/video/detail/B0877TMV6K/ref=atv_dp_atf_pri...       X-Ray       UHD   \n",
       "\n",
       "   hdr-badge  \n",
       "6        NaN  \n",
       "13       NaN  \n",
       "32       HDR  \n",
       "42       NaN  \n",
       "70       NaN  "
      ]
     },
     "execution_count": 18,
     "metadata": {},
     "output_type": "execute_result"
    }
   ],
   "source": [
    "df_xrays.head()"
   ]
  },
  {
   "cell_type": "code",
   "execution_count": 20,
   "metadata": {},
   "outputs": [],
   "source": [
    "if not os.path.exists(f\"./metadata_with_xray/{TARGET_DIR}\"): os.mkdir(f\"./metadata_with_xray/{TARGET_DIR}\")\n",
    "df_xrays.to_csv(f'./metadata_with_xray/{TARGET_DIR}/meta_en_prime.csv', index=False)"
   ]
  },
  {
   "cell_type": "code",
   "execution_count": 21,
   "metadata": {},
   "outputs": [
    {
     "data": {
      "text/plain": [
       "0.24055829228243022"
      ]
     },
     "execution_count": 21,
     "metadata": {},
     "output_type": "execute_result"
    }
   ],
   "source": [
    "(len(df_links['x-ray-badge']) - df_links['x-ray-badge'].isnull().sum()) / len(df_links['x-ray-badge'])"
   ]
  },
  {
   "cell_type": "code",
   "execution_count": 22,
   "metadata": {},
   "outputs": [
    {
     "data": {
      "text/plain": [
       "293"
      ]
     },
     "execution_count": 22,
     "metadata": {},
     "output_type": "execute_result"
    }
   ],
   "source": [
    "len(df_links['x-ray-badge']) - df_links['x-ray-badge'].isnull().sum()"
   ]
  }
 ],
 "metadata": {
  "kernelspec": {
   "display_name": "Python 3",
   "language": "python",
   "name": "python3"
  },
  "language_info": {
   "codemirror_mode": {
    "name": "ipython",
    "version": 3
   },
   "file_extension": ".py",
   "mimetype": "text/x-python",
   "name": "python",
   "nbconvert_exporter": "python",
   "pygments_lexer": "ipython3",
   "version": "3.11.3"
  },
  "orig_nbformat": 4
 },
 "nbformat": 4,
 "nbformat_minor": 2
}
