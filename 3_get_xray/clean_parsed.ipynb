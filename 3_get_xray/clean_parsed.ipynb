{
 "cells": [
  {
   "cell_type": "code",
   "execution_count": 9,
   "metadata": {},
   "outputs": [],
   "source": [
    "import os\n",
    "import pandas as pd"
   ]
  },
  {
   "cell_type": "code",
   "execution_count": 10,
   "metadata": {},
   "outputs": [],
   "source": [
    "import sys\n",
    "sys.path.append(\"../\")\n",
    "from consts import CLEAN_SCRAPE_DIR, BEFORE_2010_DIR, IN_2010S, AFTER_2020\n",
    "TARGET_DIR = AFTER_2020"
   ]
  },
  {
   "cell_type": "code",
   "execution_count": 11,
   "metadata": {},
   "outputs": [],
   "source": [
    "df = pd.read_csv(f\"./parsed_metadata/{TARGET_DIR}/meta_en_prime.csv\")"
   ]
  },
  {
   "cell_type": "code",
   "execution_count": 12,
   "metadata": {},
   "outputs": [
    {
     "data": {
      "text/html": [
       "<div>\n",
       "<style scoped>\n",
       "    .dataframe tbody tr th:only-of-type {\n",
       "        vertical-align: middle;\n",
       "    }\n",
       "\n",
       "    .dataframe tbody tr th {\n",
       "        vertical-align: top;\n",
       "    }\n",
       "\n",
       "    .dataframe thead th {\n",
       "        text-align: right;\n",
       "    }\n",
       "</style>\n",
       "<table border=\"1\" class=\"dataframe\">\n",
       "  <thead>\n",
       "    <tr style=\"text-align: right;\">\n",
       "      <th></th>\n",
       "      <th>file</th>\n",
       "      <th>synopsis</th>\n",
       "      <th>genres</th>\n",
       "      <th>amazon_rating</th>\n",
       "      <th>global_ratings</th>\n",
       "      <th>error</th>\n",
       "      <th>imdb-rating-badge</th>\n",
       "      <th>runtime-badge</th>\n",
       "      <th>release-year-badge</th>\n",
       "      <th>rating-badge</th>\n",
       "      <th>link</th>\n",
       "      <th>x-ray-badge</th>\n",
       "      <th>uhd-badge</th>\n",
       "      <th>hdr-badge</th>\n",
       "    </tr>\n",
       "  </thead>\n",
       "  <tbody>\n",
       "    <tr>\n",
       "      <th>0</th>\n",
       "      <td>1000_Chai_Kahani.html</td>\n",
       "      <td>Chai Kahani Is the story of a passionate write...</td>\n",
       "      <td>Drama,Romance</td>\n",
       "      <td>NaN</td>\n",
       "      <td>NaN</td>\n",
       "      <td>1</td>\n",
       "      <td>IMDb 8.3</td>\n",
       "      <td>54min</td>\n",
       "      <td>2021</td>\n",
       "      <td>16+</td>\n",
       "      <td>/gp/video/detail/B091MMFGND/ref=atv_dp_atf_pri...</td>\n",
       "      <td>NaN</td>\n",
       "      <td>NaN</td>\n",
       "      <td>NaN</td>\n",
       "    </tr>\n",
       "    <tr>\n",
       "      <th>1</th>\n",
       "      <td>1001_Into_the_Waves.html</td>\n",
       "      <td>Two brothers hitch hike across Tasmania to get...</td>\n",
       "      <td>Drama</td>\n",
       "      <td>Rated 4 out of 5 stars by 1 Amazon customers.</td>\n",
       "      <td>1</td>\n",
       "      <td>1</td>\n",
       "      <td>IMDb 6.3</td>\n",
       "      <td>1 h 12 min</td>\n",
       "      <td>2020</td>\n",
       "      <td>18+</td>\n",
       "      <td>/gp/video/detail/B099GVFWQ3/ref=atv_dp_atf_pri...</td>\n",
       "      <td>NaN</td>\n",
       "      <td>NaN</td>\n",
       "      <td>NaN</td>\n",
       "    </tr>\n",
       "    <tr>\n",
       "      <th>2</th>\n",
       "      <td>1002_Buddy_Goes_to_Nollywood.html</td>\n",
       "      <td>An out of work British actor and entertainer i...</td>\n",
       "      <td>Documentary,International</td>\n",
       "      <td>NaN</td>\n",
       "      <td>NaN</td>\n",
       "      <td>1</td>\n",
       "      <td>IMDb 8.3</td>\n",
       "      <td>1 h 21 min</td>\n",
       "      <td>2020</td>\n",
       "      <td>13+</td>\n",
       "      <td>/gp/video/detail/B0B5JR9Q2W/ref=atv_dp_atf_pri...</td>\n",
       "      <td>NaN</td>\n",
       "      <td>NaN</td>\n",
       "      <td>NaN</td>\n",
       "    </tr>\n",
       "    <tr>\n",
       "      <th>3</th>\n",
       "      <td>1003_Chinnanjiru_Kiliye.html</td>\n",
       "      <td>A naturopathy practitioner with a strong distr...</td>\n",
       "      <td>Romance,Drama</td>\n",
       "      <td>Rated 3.3 out of 5 stars by 6 Amazon customers.</td>\n",
       "      <td>6</td>\n",
       "      <td>1</td>\n",
       "      <td>IMDb 8.2</td>\n",
       "      <td>2h</td>\n",
       "      <td>2021</td>\n",
       "      <td>13+</td>\n",
       "      <td>/gp/video/detail/B09HZPV84F/ref=atv_dp_atf_pri...</td>\n",
       "      <td>NaN</td>\n",
       "      <td>NaN</td>\n",
       "      <td>NaN</td>\n",
       "    </tr>\n",
       "    <tr>\n",
       "      <th>4</th>\n",
       "      <td>1004_Give_Up_The_Ghost.html</td>\n",
       "      <td>Give Up The Ghost follows a man on his death b...</td>\n",
       "      <td>Drama,Romance</td>\n",
       "      <td>Rated 4 out of 5 stars by 1 Amazon customers.</td>\n",
       "      <td>1</td>\n",
       "      <td>1</td>\n",
       "      <td>IMDb 5.9</td>\n",
       "      <td>1 h 17 min</td>\n",
       "      <td>2021</td>\n",
       "      <td>16+</td>\n",
       "      <td>/gp/video/detail/B09DTGV5YF/ref=atv_dp_atf_pri...</td>\n",
       "      <td>NaN</td>\n",
       "      <td>NaN</td>\n",
       "      <td>NaN</td>\n",
       "    </tr>\n",
       "  </tbody>\n",
       "</table>\n",
       "</div>"
      ],
      "text/plain": [
       "                                file  \\\n",
       "0              1000_Chai_Kahani.html   \n",
       "1           1001_Into_the_Waves.html   \n",
       "2  1002_Buddy_Goes_to_Nollywood.html   \n",
       "3       1003_Chinnanjiru_Kiliye.html   \n",
       "4        1004_Give_Up_The_Ghost.html   \n",
       "\n",
       "                                            synopsis  \\\n",
       "0  Chai Kahani Is the story of a passionate write...   \n",
       "1  Two brothers hitch hike across Tasmania to get...   \n",
       "2  An out of work British actor and entertainer i...   \n",
       "3  A naturopathy practitioner with a strong distr...   \n",
       "4  Give Up The Ghost follows a man on his death b...   \n",
       "\n",
       "                      genres                                    amazon_rating  \\\n",
       "0              Drama,Romance                                              NaN   \n",
       "1                      Drama    Rated 4 out of 5 stars by 1 Amazon customers.   \n",
       "2  Documentary,International                                              NaN   \n",
       "3              Romance,Drama  Rated 3.3 out of 5 stars by 6 Amazon customers.   \n",
       "4              Drama,Romance    Rated 4 out of 5 stars by 1 Amazon customers.   \n",
       "\n",
       "  global_ratings  error imdb-rating-badge runtime-badge  release-year-badge  \\\n",
       "0            NaN      1          IMDb 8.3         54min                2021   \n",
       "1              1      1          IMDb 6.3    1 h 12 min                2020   \n",
       "2            NaN      1          IMDb 8.3    1 h 21 min                2020   \n",
       "3              6      1          IMDb 8.2            2h                2021   \n",
       "4              1      1          IMDb 5.9    1 h 17 min                2021   \n",
       "\n",
       "  rating-badge                                               link x-ray-badge  \\\n",
       "0          16+  /gp/video/detail/B091MMFGND/ref=atv_dp_atf_pri...         NaN   \n",
       "1          18+  /gp/video/detail/B099GVFWQ3/ref=atv_dp_atf_pri...         NaN   \n",
       "2          13+  /gp/video/detail/B0B5JR9Q2W/ref=atv_dp_atf_pri...         NaN   \n",
       "3          13+  /gp/video/detail/B09HZPV84F/ref=atv_dp_atf_pri...         NaN   \n",
       "4          16+  /gp/video/detail/B09DTGV5YF/ref=atv_dp_atf_pri...         NaN   \n",
       "\n",
       "  uhd-badge hdr-badge  \n",
       "0       NaN       NaN  \n",
       "1       NaN       NaN  \n",
       "2       NaN       NaN  \n",
       "3       NaN       NaN  \n",
       "4       NaN       NaN  "
      ]
     },
     "execution_count": 12,
     "metadata": {},
     "output_type": "execute_result"
    }
   ],
   "source": [
    "df.head()"
   ]
  },
  {
   "cell_type": "code",
   "execution_count": 13,
   "metadata": {},
   "outputs": [
    {
     "data": {
      "text/plain": [
       "Index(['file', 'synopsis', 'genres', 'amazon_rating', 'global_ratings',\n",
       "       'error', 'imdb-rating-badge', 'runtime-badge', 'release-year-badge',\n",
       "       'rating-badge', 'link', 'x-ray-badge', 'uhd-badge', 'hdr-badge'],\n",
       "      dtype='object')"
      ]
     },
     "execution_count": 13,
     "metadata": {},
     "output_type": "execute_result"
    }
   ],
   "source": [
    "df.columns"
   ]
  },
  {
   "cell_type": "markdown",
   "metadata": {},
   "source": [
    "### Cleaning"
   ]
  },
  {
   "cell_type": "markdown",
   "metadata": {},
   "source": [
    "We need to ensure that we don't have any entries with no links. These entries are usually movies that are not included with prime."
   ]
  },
  {
   "cell_type": "code",
   "execution_count": 14,
   "metadata": {},
   "outputs": [],
   "source": [
    "df_links = df[~df['link'].isnull()]"
   ]
  },
  {
   "cell_type": "code",
   "execution_count": 15,
   "metadata": {},
   "outputs": [],
   "source": [
    "df[df['link'].isnull()].to_csv(\"check.csv\")"
   ]
  },
  {
   "cell_type": "code",
   "execution_count": 16,
   "metadata": {},
   "outputs": [
    {
     "data": {
      "text/plain": [
       "((1219, 14), (1218, 14))"
      ]
     },
     "execution_count": 16,
     "metadata": {},
     "output_type": "execute_result"
    }
   ],
   "source": [
    "df.shape, df_links.shape"
   ]
  },
  {
   "cell_type": "markdown",
   "metadata": {},
   "source": [
    "Now, we need to remove all entries that don't have Xray data, as indicated by the x-ray-badge field"
   ]
  },
  {
   "cell_type": "code",
   "execution_count": 17,
   "metadata": {},
   "outputs": [],
   "source": [
    "df_xrays = df_links[~df_links['x-ray-badge'].isnull()]"
   ]
  },
  {
   "cell_type": "code",
   "execution_count": 18,
   "metadata": {},
   "outputs": [
    {
     "data": {
      "text/html": [
       "<div>\n",
       "<style scoped>\n",
       "    .dataframe tbody tr th:only-of-type {\n",
       "        vertical-align: middle;\n",
       "    }\n",
       "\n",
       "    .dataframe tbody tr th {\n",
       "        vertical-align: top;\n",
       "    }\n",
       "\n",
       "    .dataframe thead th {\n",
       "        text-align: right;\n",
       "    }\n",
       "</style>\n",
       "<table border=\"1\" class=\"dataframe\">\n",
       "  <thead>\n",
       "    <tr style=\"text-align: right;\">\n",
       "      <th></th>\n",
       "      <th>file</th>\n",
       "      <th>synopsis</th>\n",
       "      <th>genres</th>\n",
       "      <th>amazon_rating</th>\n",
       "      <th>global_ratings</th>\n",
       "      <th>error</th>\n",
       "      <th>imdb-rating-badge</th>\n",
       "      <th>runtime-badge</th>\n",
       "      <th>release-year-badge</th>\n",
       "      <th>rating-badge</th>\n",
       "      <th>link</th>\n",
       "      <th>x-ray-badge</th>\n",
       "      <th>uhd-badge</th>\n",
       "      <th>hdr-badge</th>\n",
       "    </tr>\n",
       "  </thead>\n",
       "  <tbody>\n",
       "    <tr>\n",
       "      <th>6</th>\n",
       "      <td>1006_The_Spectaculars.html</td>\n",
       "      <td>Ed Lima is an egocentric stand-up comedian who...</td>\n",
       "      <td>Comedy,Drama</td>\n",
       "      <td>NaN</td>\n",
       "      <td>NaN</td>\n",
       "      <td>1</td>\n",
       "      <td>IMDb 5.8</td>\n",
       "      <td>1 h 27 min</td>\n",
       "      <td>2020</td>\n",
       "      <td>16+</td>\n",
       "      <td>/gp/video/detail/B08LYGVGZJ/ref=atv_dp_atf_pri...</td>\n",
       "      <td>X-Ray</td>\n",
       "      <td>NaN</td>\n",
       "      <td>NaN</td>\n",
       "    </tr>\n",
       "    <tr>\n",
       "      <th>13</th>\n",
       "      <td>1013_Dongri_Danger.html</td>\n",
       "      <td>Dawood, Gangsters, Mayyat and Rahul, these are...</td>\n",
       "      <td>Comedy</td>\n",
       "      <td>Rated 3.6 out of 5 stars by 11 Amazon customers.</td>\n",
       "      <td>11</td>\n",
       "      <td>1</td>\n",
       "      <td>IMDb 4.9</td>\n",
       "      <td>56min</td>\n",
       "      <td>2022</td>\n",
       "      <td>16+</td>\n",
       "      <td>/gp/video/detail/B09Q2BH23G/ref=atv_dp_atf_pri...</td>\n",
       "      <td>X-Ray</td>\n",
       "      <td>UHD</td>\n",
       "      <td>NaN</td>\n",
       "    </tr>\n",
       "    <tr>\n",
       "      <th>32</th>\n",
       "      <td>1032_LA_GORDA_FABIOLA_MODEL_63.html</td>\n",
       "      <td>Health problems, overweight, children and the ...</td>\n",
       "      <td>Comedy</td>\n",
       "      <td>Rated 5 out of 5 stars by 1 Amazon customers.</td>\n",
       "      <td>1</td>\n",
       "      <td>1</td>\n",
       "      <td>NaN</td>\n",
       "      <td>45min</td>\n",
       "      <td>2022</td>\n",
       "      <td>16+</td>\n",
       "      <td>/gp/video/detail/B09WXSDQST/ref=atv_dp_atf_pri...</td>\n",
       "      <td>X-Ray</td>\n",
       "      <td>UHD</td>\n",
       "      <td>HDR</td>\n",
       "    </tr>\n",
       "    <tr>\n",
       "      <th>42</th>\n",
       "      <td>1042_Ashish_Shakya__Life_Is_Good.html</td>\n",
       "      <td>Ashish Shakya aka 'That AIB Guy' aka 'Hai Dear...</td>\n",
       "      <td>Comedy</td>\n",
       "      <td>Rated 3.7 out of 5 stars by 9 Amazon customers.</td>\n",
       "      <td>9</td>\n",
       "      <td>1</td>\n",
       "      <td>IMDb 4.6</td>\n",
       "      <td>54min</td>\n",
       "      <td>2020</td>\n",
       "      <td>18+</td>\n",
       "      <td>/gp/video/detail/B0846CJJS8/ref=atv_dp_atf_pri...</td>\n",
       "      <td>X-Ray</td>\n",
       "      <td>NaN</td>\n",
       "      <td>NaN</td>\n",
       "    </tr>\n",
       "    <tr>\n",
       "      <th>70</th>\n",
       "      <td>1070_Baggy_in__as_KungFu_Bonda_A_Mostly_Englis...</td>\n",
       "      <td>Baggy takes you on a hilarious journey about g...</td>\n",
       "      <td>Comedy,Arts, Entertainment, and Culture</td>\n",
       "      <td>Rated 2.9 out of 5 stars by 10 Amazon customers.</td>\n",
       "      <td>10</td>\n",
       "      <td>1</td>\n",
       "      <td>IMDb 5.4</td>\n",
       "      <td>1 h 17 min</td>\n",
       "      <td>2020</td>\n",
       "      <td>16+</td>\n",
       "      <td>/gp/video/detail/B0877TMV6K/ref=atv_dp_atf_pri...</td>\n",
       "      <td>X-Ray</td>\n",
       "      <td>UHD</td>\n",
       "      <td>NaN</td>\n",
       "    </tr>\n",
       "  </tbody>\n",
       "</table>\n",
       "</div>"
      ],
      "text/plain": [
       "                                                 file  \\\n",
       "6                          1006_The_Spectaculars.html   \n",
       "13                            1013_Dongri_Danger.html   \n",
       "32                1032_LA_GORDA_FABIOLA_MODEL_63.html   \n",
       "42              1042_Ashish_Shakya__Life_Is_Good.html   \n",
       "70  1070_Baggy_in__as_KungFu_Bonda_A_Mostly_Englis...   \n",
       "\n",
       "                                             synopsis  \\\n",
       "6   Ed Lima is an egocentric stand-up comedian who...   \n",
       "13  Dawood, Gangsters, Mayyat and Rahul, these are...   \n",
       "32  Health problems, overweight, children and the ...   \n",
       "42  Ashish Shakya aka 'That AIB Guy' aka 'Hai Dear...   \n",
       "70  Baggy takes you on a hilarious journey about g...   \n",
       "\n",
       "                                     genres  \\\n",
       "6                              Comedy,Drama   \n",
       "13                                   Comedy   \n",
       "32                                   Comedy   \n",
       "42                                   Comedy   \n",
       "70  Comedy,Arts, Entertainment, and Culture   \n",
       "\n",
       "                                       amazon_rating global_ratings  error  \\\n",
       "6                                                NaN            NaN      1   \n",
       "13  Rated 3.6 out of 5 stars by 11 Amazon customers.             11      1   \n",
       "32     Rated 5 out of 5 stars by 1 Amazon customers.              1      1   \n",
       "42   Rated 3.7 out of 5 stars by 9 Amazon customers.              9      1   \n",
       "70  Rated 2.9 out of 5 stars by 10 Amazon customers.             10      1   \n",
       "\n",
       "   imdb-rating-badge runtime-badge  release-year-badge rating-badge  \\\n",
       "6           IMDb 5.8    1 h 27 min                2020          16+   \n",
       "13          IMDb 4.9         56min                2022          16+   \n",
       "32               NaN         45min                2022          16+   \n",
       "42          IMDb 4.6         54min                2020          18+   \n",
       "70          IMDb 5.4    1 h 17 min                2020          16+   \n",
       "\n",
       "                                                 link x-ray-badge uhd-badge  \\\n",
       "6   /gp/video/detail/B08LYGVGZJ/ref=atv_dp_atf_pri...       X-Ray       NaN   \n",
       "13  /gp/video/detail/B09Q2BH23G/ref=atv_dp_atf_pri...       X-Ray       UHD   \n",
       "32  /gp/video/detail/B09WXSDQST/ref=atv_dp_atf_pri...       X-Ray       UHD   \n",
       "42  /gp/video/detail/B0846CJJS8/ref=atv_dp_atf_pri...       X-Ray       NaN   \n",
       "70  /gp/video/detail/B0877TMV6K/ref=atv_dp_atf_pri...       X-Ray       UHD   \n",
       "\n",
       "   hdr-badge  \n",
       "6        NaN  \n",
       "13       NaN  \n",
       "32       HDR  \n",
       "42       NaN  \n",
       "70       NaN  "
      ]
     },
     "execution_count": 18,
     "metadata": {},
     "output_type": "execute_result"
    }
   ],
   "source": [
    "df_xrays.head()"
   ]
  },
  {
   "cell_type": "code",
   "execution_count": 20,
   "metadata": {},
   "outputs": [],
   "source": [
    "if not os.path.exists(f\"./metadata_with_xray/{TARGET_DIR}\"): os.mkdir(f\"./metadata_with_xray/{TARGET_DIR}\")\n",
    "df_xrays.to_csv(f'./metadata_with_xray/{TARGET_DIR}/meta_en_prime.csv', index=False)"
   ]
  },
  {
   "cell_type": "code",
   "execution_count": 21,
   "metadata": {},
   "outputs": [
    {
     "data": {
      "text/plain": [
       "0.24055829228243022"
      ]
     },
     "execution_count": 21,
     "metadata": {},
     "output_type": "execute_result"
    }
   ],
   "source": [
    "(len(df_links['x-ray-badge']) - df_links['x-ray-badge'].isnull().sum()) / len(df_links['x-ray-badge'])"
   ]
  },
  {
   "cell_type": "code",
   "execution_count": 22,
   "metadata": {},
   "outputs": [
    {
     "data": {
      "text/plain": [
       "293"
      ]
     },
     "execution_count": 22,
     "metadata": {},
     "output_type": "execute_result"
    }
   ],
   "source": [
    "len(df_links['x-ray-badge']) - df_links['x-ray-badge'].isnull().sum()"
   ]
  }
 ],
 "metadata": {
  "kernelspec": {
   "display_name": "Python 3",
   "language": "python",
   "name": "python3"
  },
  "language_info": {
   "codemirror_mode": {
    "name": "ipython",
    "version": 3
   },
   "file_extension": ".py",
   "mimetype": "text/x-python",
   "name": "python",
   "nbconvert_exporter": "python",
   "pygments_lexer": "ipython3",
   "version": "3.11.3"
  },
  "orig_nbformat": 4
 },
 "nbformat": 4,
 "nbformat_minor": 2
}
