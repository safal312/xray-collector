{
 "cells": [
  {
   "cell_type": "code",
   "execution_count": 32,
   "metadata": {},
   "outputs": [],
   "source": [
    "import pandas as pd"
   ]
  },
  {
   "cell_type": "code",
   "execution_count": 33,
   "metadata": {},
   "outputs": [],
   "source": [
    "df = pd.read_csv(\"./parsed_metadata/com/meta_en_prime.csv\")"
   ]
  },
  {
   "cell_type": "code",
   "execution_count": 34,
   "metadata": {},
   "outputs": [
    {
     "data": {
      "text/html": [
       "<div>\n",
       "<style scoped>\n",
       "    .dataframe tbody tr th:only-of-type {\n",
       "        vertical-align: middle;\n",
       "    }\n",
       "\n",
       "    .dataframe tbody tr th {\n",
       "        vertical-align: top;\n",
       "    }\n",
       "\n",
       "    .dataframe thead th {\n",
       "        text-align: right;\n",
       "    }\n",
       "</style>\n",
       "<table border=\"1\" class=\"dataframe\">\n",
       "  <thead>\n",
       "    <tr style=\"text-align: right;\">\n",
       "      <th></th>\n",
       "      <th>file</th>\n",
       "      <th>synopsis</th>\n",
       "      <th>genres</th>\n",
       "      <th>amazon_rating</th>\n",
       "      <th>global_ratings</th>\n",
       "      <th>error</th>\n",
       "      <th>imdb-rating-badge</th>\n",
       "      <th>runtime-badge</th>\n",
       "      <th>release-year-badge</th>\n",
       "      <th>x-ray-badge</th>\n",
       "      <th>hdr-badge</th>\n",
       "      <th>uhd-badge</th>\n",
       "      <th>rating-badge</th>\n",
       "      <th>link</th>\n",
       "    </tr>\n",
       "  </thead>\n",
       "  <tbody>\n",
       "    <tr>\n",
       "      <th>0</th>\n",
       "      <td>0_My_Fault.html</td>\n",
       "      <td>Noah must leave her town, boyfriend and friend...</td>\n",
       "      <td>Drama,Young Adult Audience</td>\n",
       "      <td>Rated 4.7 out of 5 stars by 788 Amazon customers.</td>\n",
       "      <td>788</td>\n",
       "      <td>1</td>\n",
       "      <td>IMDb 6.3</td>\n",
       "      <td>1 h 57 min</td>\n",
       "      <td>2023.0</td>\n",
       "      <td>X-Ray</td>\n",
       "      <td>HDR</td>\n",
       "      <td>UHD</td>\n",
       "      <td>16+</td>\n",
       "      <td>/gp/video/detail/B0B683GB78/ref=atv_dp_atf_pri...</td>\n",
       "    </tr>\n",
       "    <tr>\n",
       "      <th>1</th>\n",
       "      <td>1000_On_The_Trail_of_UFOS_Dark_Sky.html</td>\n",
       "      <td>On the Trail of UFOs: Dark Sky traces decades ...</td>\n",
       "      <td>Documentary</td>\n",
       "      <td>Rated 3.7 out of 5 stars by 407 Amazon customers.</td>\n",
       "      <td>407</td>\n",
       "      <td>1</td>\n",
       "      <td>IMDb 5.7</td>\n",
       "      <td>1 h 25 min</td>\n",
       "      <td>2021.0</td>\n",
       "      <td>X-Ray</td>\n",
       "      <td>NaN</td>\n",
       "      <td>NaN</td>\n",
       "      <td>13+</td>\n",
       "      <td>/gp/video/detail/B09BKF2WGQ/ref=atv_dp_atf_pri...</td>\n",
       "    </tr>\n",
       "    <tr>\n",
       "      <th>2</th>\n",
       "      <td>1001_Student_Of_The_Year.html</td>\n",
       "      <td>Introducing Alia Bhatt (Sharanya Singhania), S...</td>\n",
       "      <td>Comedy,Sports,Romance</td>\n",
       "      <td>Rated 3.7 out of 5 stars by 60 Amazon customers.</td>\n",
       "      <td>60</td>\n",
       "      <td>1</td>\n",
       "      <td>IMDb 5.2</td>\n",
       "      <td>2 h 25 min</td>\n",
       "      <td>2012.0</td>\n",
       "      <td>X-Ray</td>\n",
       "      <td>NaN</td>\n",
       "      <td>NaN</td>\n",
       "      <td>13+</td>\n",
       "      <td>/gp/video/detail/B0BZTD87WK/ref=atv_dp_atf_pri...</td>\n",
       "    </tr>\n",
       "    <tr>\n",
       "      <th>3</th>\n",
       "      <td>1002_Pussycat_Pussycat_I_Love_You.html</td>\n",
       "      <td>An American playwright living in Rome, fearing...</td>\n",
       "      <td>Comedy</td>\n",
       "      <td>Rated 3 out of 5 stars by 11 Amazon customers.</td>\n",
       "      <td>11</td>\n",
       "      <td>1</td>\n",
       "      <td>IMDb 4.5</td>\n",
       "      <td>1 h 40 min</td>\n",
       "      <td>1970.0</td>\n",
       "      <td>NaN</td>\n",
       "      <td>NaN</td>\n",
       "      <td>NaN</td>\n",
       "      <td>R</td>\n",
       "      <td>/gp/video/detail/B009P8K2TW/ref=atv_dp_atf_pri...</td>\n",
       "    </tr>\n",
       "    <tr>\n",
       "      <th>4</th>\n",
       "      <td>1003_Severed_Ways.html</td>\n",
       "      <td>On the coast of North America in AD 1007, two ...</td>\n",
       "      <td>Adventure,Action</td>\n",
       "      <td>Rated 2.9 out of 5 stars by 131 Amazon customers.</td>\n",
       "      <td>131</td>\n",
       "      <td>1</td>\n",
       "      <td>IMDb 4.3</td>\n",
       "      <td>1 h 49 min</td>\n",
       "      <td>2007.0</td>\n",
       "      <td>NaN</td>\n",
       "      <td>NaN</td>\n",
       "      <td>NaN</td>\n",
       "      <td>16+</td>\n",
       "      <td>/gp/video/detail/B002JXRSOW/ref=atv_dp_atf_pri...</td>\n",
       "    </tr>\n",
       "  </tbody>\n",
       "</table>\n",
       "</div>"
      ],
      "text/plain": [
       "                                      file  \\\n",
       "0                          0_My_Fault.html   \n",
       "1  1000_On_The_Trail_of_UFOS_Dark_Sky.html   \n",
       "2            1001_Student_Of_The_Year.html   \n",
       "3   1002_Pussycat_Pussycat_I_Love_You.html   \n",
       "4                   1003_Severed_Ways.html   \n",
       "\n",
       "                                            synopsis  \\\n",
       "0  Noah must leave her town, boyfriend and friend...   \n",
       "1  On the Trail of UFOs: Dark Sky traces decades ...   \n",
       "2  Introducing Alia Bhatt (Sharanya Singhania), S...   \n",
       "3  An American playwright living in Rome, fearing...   \n",
       "4  On the coast of North America in AD 1007, two ...   \n",
       "\n",
       "                       genres  \\\n",
       "0  Drama,Young Adult Audience   \n",
       "1                 Documentary   \n",
       "2       Comedy,Sports,Romance   \n",
       "3                      Comedy   \n",
       "4            Adventure,Action   \n",
       "\n",
       "                                       amazon_rating global_ratings  error  \\\n",
       "0  Rated 4.7 out of 5 stars by 788 Amazon customers.            788      1   \n",
       "1  Rated 3.7 out of 5 stars by 407 Amazon customers.            407      1   \n",
       "2   Rated 3.7 out of 5 stars by 60 Amazon customers.             60      1   \n",
       "3     Rated 3 out of 5 stars by 11 Amazon customers.             11      1   \n",
       "4  Rated 2.9 out of 5 stars by 131 Amazon customers.            131      1   \n",
       "\n",
       "  imdb-rating-badge runtime-badge  release-year-badge x-ray-badge hdr-badge  \\\n",
       "0          IMDb 6.3    1 h 57 min              2023.0       X-Ray       HDR   \n",
       "1          IMDb 5.7    1 h 25 min              2021.0       X-Ray       NaN   \n",
       "2          IMDb 5.2    2 h 25 min              2012.0       X-Ray       NaN   \n",
       "3          IMDb 4.5    1 h 40 min              1970.0         NaN       NaN   \n",
       "4          IMDb 4.3    1 h 49 min              2007.0         NaN       NaN   \n",
       "\n",
       "  uhd-badge rating-badge                                               link  \n",
       "0       UHD          16+  /gp/video/detail/B0B683GB78/ref=atv_dp_atf_pri...  \n",
       "1       NaN          13+  /gp/video/detail/B09BKF2WGQ/ref=atv_dp_atf_pri...  \n",
       "2       NaN          13+  /gp/video/detail/B0BZTD87WK/ref=atv_dp_atf_pri...  \n",
       "3       NaN            R  /gp/video/detail/B009P8K2TW/ref=atv_dp_atf_pri...  \n",
       "4       NaN          16+  /gp/video/detail/B002JXRSOW/ref=atv_dp_atf_pri...  "
      ]
     },
     "execution_count": 34,
     "metadata": {},
     "output_type": "execute_result"
    }
   ],
   "source": [
    "df.head()"
   ]
  },
  {
   "cell_type": "code",
   "execution_count": 35,
   "metadata": {},
   "outputs": [
    {
     "data": {
      "text/plain": [
       "Index(['file', 'synopsis', 'genres', 'amazon_rating', 'global_ratings',\n",
       "       'error', 'imdb-rating-badge', 'runtime-badge', 'release-year-badge',\n",
       "       'x-ray-badge', 'hdr-badge', 'uhd-badge', 'rating-badge', 'link'],\n",
       "      dtype='object')"
      ]
     },
     "execution_count": 35,
     "metadata": {},
     "output_type": "execute_result"
    }
   ],
   "source": [
    "df.columns"
   ]
  },
  {
   "cell_type": "markdown",
   "metadata": {},
   "source": [
    "### Cleaning"
   ]
  },
  {
   "cell_type": "markdown",
   "metadata": {},
   "source": [
    "We need to ensure that we don't have any entries with no links. These entries are usually movies that are not included with prime."
   ]
  },
  {
   "cell_type": "code",
   "execution_count": 38,
   "metadata": {},
   "outputs": [],
   "source": [
    "df_links = df[~df['link'].isnull()]"
   ]
  },
  {
   "cell_type": "code",
   "execution_count": 39,
   "metadata": {},
   "outputs": [
    {
     "data": {
      "text/plain": [
       "((6351, 14), (6322, 14))"
      ]
     },
     "execution_count": 39,
     "metadata": {},
     "output_type": "execute_result"
    }
   ],
   "source": [
    "df.shape, df_links.shape"
   ]
  },
  {
   "cell_type": "markdown",
   "metadata": {},
   "source": [
    "Now, we need to remove all entries that don't have Xray data, as indicated by the x-ray-badge field"
   ]
  },
  {
   "cell_type": "code",
   "execution_count": 41,
   "metadata": {},
   "outputs": [],
   "source": [
    "df_xrays = df_links[~df_links['x-ray-badge'].isnull()]"
   ]
  },
  {
   "cell_type": "code",
   "execution_count": 43,
   "metadata": {},
   "outputs": [
    {
     "data": {
      "text/html": [
       "<div>\n",
       "<style scoped>\n",
       "    .dataframe tbody tr th:only-of-type {\n",
       "        vertical-align: middle;\n",
       "    }\n",
       "\n",
       "    .dataframe tbody tr th {\n",
       "        vertical-align: top;\n",
       "    }\n",
       "\n",
       "    .dataframe thead th {\n",
       "        text-align: right;\n",
       "    }\n",
       "</style>\n",
       "<table border=\"1\" class=\"dataframe\">\n",
       "  <thead>\n",
       "    <tr style=\"text-align: right;\">\n",
       "      <th></th>\n",
       "      <th>file</th>\n",
       "      <th>synopsis</th>\n",
       "      <th>genres</th>\n",
       "      <th>amazon_rating</th>\n",
       "      <th>global_ratings</th>\n",
       "      <th>error</th>\n",
       "      <th>imdb-rating-badge</th>\n",
       "      <th>runtime-badge</th>\n",
       "      <th>release-year-badge</th>\n",
       "      <th>x-ray-badge</th>\n",
       "      <th>hdr-badge</th>\n",
       "      <th>uhd-badge</th>\n",
       "      <th>rating-badge</th>\n",
       "      <th>link</th>\n",
       "    </tr>\n",
       "  </thead>\n",
       "  <tbody>\n",
       "    <tr>\n",
       "      <th>0</th>\n",
       "      <td>0_My_Fault.html</td>\n",
       "      <td>Noah must leave her town, boyfriend and friend...</td>\n",
       "      <td>Drama,Young Adult Audience</td>\n",
       "      <td>Rated 4.7 out of 5 stars by 788 Amazon customers.</td>\n",
       "      <td>788</td>\n",
       "      <td>1</td>\n",
       "      <td>IMDb 6.3</td>\n",
       "      <td>1 h 57 min</td>\n",
       "      <td>2023.0</td>\n",
       "      <td>X-Ray</td>\n",
       "      <td>HDR</td>\n",
       "      <td>UHD</td>\n",
       "      <td>16+</td>\n",
       "      <td>/gp/video/detail/B0B683GB78/ref=atv_dp_atf_pri...</td>\n",
       "    </tr>\n",
       "    <tr>\n",
       "      <th>1</th>\n",
       "      <td>1000_On_The_Trail_of_UFOS_Dark_Sky.html</td>\n",
       "      <td>On the Trail of UFOs: Dark Sky traces decades ...</td>\n",
       "      <td>Documentary</td>\n",
       "      <td>Rated 3.7 out of 5 stars by 407 Amazon customers.</td>\n",
       "      <td>407</td>\n",
       "      <td>1</td>\n",
       "      <td>IMDb 5.7</td>\n",
       "      <td>1 h 25 min</td>\n",
       "      <td>2021.0</td>\n",
       "      <td>X-Ray</td>\n",
       "      <td>NaN</td>\n",
       "      <td>NaN</td>\n",
       "      <td>13+</td>\n",
       "      <td>/gp/video/detail/B09BKF2WGQ/ref=atv_dp_atf_pri...</td>\n",
       "    </tr>\n",
       "    <tr>\n",
       "      <th>2</th>\n",
       "      <td>1001_Student_Of_The_Year.html</td>\n",
       "      <td>Introducing Alia Bhatt (Sharanya Singhania), S...</td>\n",
       "      <td>Comedy,Sports,Romance</td>\n",
       "      <td>Rated 3.7 out of 5 stars by 60 Amazon customers.</td>\n",
       "      <td>60</td>\n",
       "      <td>1</td>\n",
       "      <td>IMDb 5.2</td>\n",
       "      <td>2 h 25 min</td>\n",
       "      <td>2012.0</td>\n",
       "      <td>X-Ray</td>\n",
       "      <td>NaN</td>\n",
       "      <td>NaN</td>\n",
       "      <td>13+</td>\n",
       "      <td>/gp/video/detail/B0BZTD87WK/ref=atv_dp_atf_pri...</td>\n",
       "    </tr>\n",
       "    <tr>\n",
       "      <th>6</th>\n",
       "      <td>1005_The_Badge_The_Bible_and_Bigfoot.html</td>\n",
       "      <td>In a small coastal town Bigfoot is sighted, an...</td>\n",
       "      <td>Science Fiction,Suspense</td>\n",
       "      <td>Rated 2.8 out of 5 stars by 69 Amazon customers.</td>\n",
       "      <td>69</td>\n",
       "      <td>1</td>\n",
       "      <td>IMDb 1.8</td>\n",
       "      <td>1 h 6 min</td>\n",
       "      <td>2019.0</td>\n",
       "      <td>X-Ray</td>\n",
       "      <td>NaN</td>\n",
       "      <td>NaN</td>\n",
       "      <td>7+</td>\n",
       "      <td>/gp/video/detail/B09JMYV8D2/ref=atv_dp_atf_pri...</td>\n",
       "    </tr>\n",
       "    <tr>\n",
       "      <th>9</th>\n",
       "      <td>1008_Winter_Ridge.html</td>\n",
       "      <td>Young detective Ryan Barnes, torn apart after ...</td>\n",
       "      <td>Drama,International</td>\n",
       "      <td>Rated 3.2 out of 5 stars by 37 Amazon customers.</td>\n",
       "      <td>37</td>\n",
       "      <td>1</td>\n",
       "      <td>IMDb 4.3</td>\n",
       "      <td>1 h 26 min</td>\n",
       "      <td>2018.0</td>\n",
       "      <td>X-Ray</td>\n",
       "      <td>NaN</td>\n",
       "      <td>NaN</td>\n",
       "      <td>16+</td>\n",
       "      <td>/gp/video/detail/B07FDPV4NZ/ref=atv_dp_atf_pri...</td>\n",
       "    </tr>\n",
       "  </tbody>\n",
       "</table>\n",
       "</div>"
      ],
      "text/plain": [
       "                                        file  \\\n",
       "0                            0_My_Fault.html   \n",
       "1    1000_On_The_Trail_of_UFOS_Dark_Sky.html   \n",
       "2              1001_Student_Of_The_Year.html   \n",
       "6  1005_The_Badge_The_Bible_and_Bigfoot.html   \n",
       "9                     1008_Winter_Ridge.html   \n",
       "\n",
       "                                            synopsis  \\\n",
       "0  Noah must leave her town, boyfriend and friend...   \n",
       "1  On the Trail of UFOs: Dark Sky traces decades ...   \n",
       "2  Introducing Alia Bhatt (Sharanya Singhania), S...   \n",
       "6  In a small coastal town Bigfoot is sighted, an...   \n",
       "9  Young detective Ryan Barnes, torn apart after ...   \n",
       "\n",
       "                       genres  \\\n",
       "0  Drama,Young Adult Audience   \n",
       "1                 Documentary   \n",
       "2       Comedy,Sports,Romance   \n",
       "6    Science Fiction,Suspense   \n",
       "9         Drama,International   \n",
       "\n",
       "                                       amazon_rating global_ratings  error  \\\n",
       "0  Rated 4.7 out of 5 stars by 788 Amazon customers.            788      1   \n",
       "1  Rated 3.7 out of 5 stars by 407 Amazon customers.            407      1   \n",
       "2   Rated 3.7 out of 5 stars by 60 Amazon customers.             60      1   \n",
       "6   Rated 2.8 out of 5 stars by 69 Amazon customers.             69      1   \n",
       "9   Rated 3.2 out of 5 stars by 37 Amazon customers.             37      1   \n",
       "\n",
       "  imdb-rating-badge runtime-badge  release-year-badge x-ray-badge hdr-badge  \\\n",
       "0          IMDb 6.3    1 h 57 min              2023.0       X-Ray       HDR   \n",
       "1          IMDb 5.7    1 h 25 min              2021.0       X-Ray       NaN   \n",
       "2          IMDb 5.2    2 h 25 min              2012.0       X-Ray       NaN   \n",
       "6          IMDb 1.8     1 h 6 min              2019.0       X-Ray       NaN   \n",
       "9          IMDb 4.3    1 h 26 min              2018.0       X-Ray       NaN   \n",
       "\n",
       "  uhd-badge rating-badge                                               link  \n",
       "0       UHD          16+  /gp/video/detail/B0B683GB78/ref=atv_dp_atf_pri...  \n",
       "1       NaN          13+  /gp/video/detail/B09BKF2WGQ/ref=atv_dp_atf_pri...  \n",
       "2       NaN          13+  /gp/video/detail/B0BZTD87WK/ref=atv_dp_atf_pri...  \n",
       "6       NaN           7+  /gp/video/detail/B09JMYV8D2/ref=atv_dp_atf_pri...  \n",
       "9       NaN          16+  /gp/video/detail/B07FDPV4NZ/ref=atv_dp_atf_pri...  "
      ]
     },
     "execution_count": 43,
     "metadata": {},
     "output_type": "execute_result"
    }
   ],
   "source": [
    "df_xrays.head()"
   ]
  },
  {
   "cell_type": "code",
   "execution_count": 47,
   "metadata": {},
   "outputs": [],
   "source": [
    "df_xrays.to_csv('./metadata_with_xray/com/meta_en_prime.csv', index=False)"
   ]
  },
  {
   "cell_type": "code",
   "execution_count": 44,
   "metadata": {},
   "outputs": [
    {
     "data": {
      "text/plain": [
       "0.4909838658652325"
      ]
     },
     "execution_count": 44,
     "metadata": {},
     "output_type": "execute_result"
    }
   ],
   "source": [
    "(len(df_links['x-ray-badge']) - df_links['x-ray-badge'].isnull().sum()) / len(df_links['x-ray-badge'])"
   ]
  },
  {
   "cell_type": "code",
   "execution_count": 45,
   "metadata": {},
   "outputs": [
    {
     "data": {
      "text/plain": [
       "3104"
      ]
     },
     "execution_count": 45,
     "metadata": {},
     "output_type": "execute_result"
    }
   ],
   "source": [
    "len(df_links['x-ray-badge']) - df_links['x-ray-badge'].isnull().sum()"
   ]
  }
 ],
 "metadata": {
  "kernelspec": {
   "display_name": "Python 3",
   "language": "python",
   "name": "python3"
  },
  "language_info": {
   "codemirror_mode": {
    "name": "ipython",
    "version": 3
   },
   "file_extension": ".py",
   "mimetype": "text/x-python",
   "name": "python",
   "nbconvert_exporter": "python",
   "pygments_lexer": "ipython3",
   "version": "3.11.3"
  },
  "orig_nbformat": 4
 },
 "nbformat": 4,
 "nbformat_minor": 2
}
