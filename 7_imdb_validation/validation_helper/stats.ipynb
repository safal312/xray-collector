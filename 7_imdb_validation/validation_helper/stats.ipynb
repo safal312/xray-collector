{
 "cells": [
  {
   "cell_type": "code",
   "execution_count": 1,
   "metadata": {},
   "outputs": [],
   "source": [
    "import pandas as pd"
   ]
  },
  {
   "cell_type": "code",
   "execution_count": 2,
   "metadata": {},
   "outputs": [],
   "source": [
    "df = pd.read_csv('validated_file.csv', header=None)"
   ]
  },
  {
   "cell_type": "code",
   "execution_count": 3,
   "metadata": {},
   "outputs": [
    {
     "data": {
      "text/html": [
       "<div>\n",
       "<style scoped>\n",
       "    .dataframe tbody tr th:only-of-type {\n",
       "        vertical-align: middle;\n",
       "    }\n",
       "\n",
       "    .dataframe tbody tr th {\n",
       "        vertical-align: top;\n",
       "    }\n",
       "\n",
       "    .dataframe thead th {\n",
       "        text-align: right;\n",
       "    }\n",
       "</style>\n",
       "<table border=\"1\" class=\"dataframe\">\n",
       "  <thead>\n",
       "    <tr style=\"text-align: right;\">\n",
       "      <th></th>\n",
       "      <th>0</th>\n",
       "      <th>1</th>\n",
       "      <th>2</th>\n",
       "      <th>3</th>\n",
       "      <th>4</th>\n",
       "      <th>5</th>\n",
       "    </tr>\n",
       "  </thead>\n",
       "  <tbody>\n",
       "    <tr>\n",
       "      <th>0</th>\n",
       "      <td>147800.0</td>\n",
       "      <td>10 Things I Hate About You</td>\n",
       "      <td>1</td>\n",
       "      <td>NaN</td>\n",
       "      <td>https://imsdb.com/scripts/10-Things-I-Hate-Abo...</td>\n",
       "      <td>NaN</td>\n",
       "    </tr>\n",
       "    <tr>\n",
       "      <th>1</th>\n",
       "      <td>417385.0</td>\n",
       "      <td>12 and Holding</td>\n",
       "      <td>1</td>\n",
       "      <td>NaN</td>\n",
       "      <td>https://imsdb.com/scripts/12-and-Holding.html</td>\n",
       "      <td>NaN</td>\n",
       "    </tr>\n",
       "    <tr>\n",
       "      <th>2</th>\n",
       "      <td>3148266.0</td>\n",
       "      <td>12 Monkeys</td>\n",
       "      <td>0</td>\n",
       "      <td>114746.0</td>\n",
       "      <td>https://imsdb.com/scripts/12-Monkeys.html</td>\n",
       "      <td>Given id is tv show</td>\n",
       "    </tr>\n",
       "    <tr>\n",
       "      <th>3</th>\n",
       "      <td>2024544.0</td>\n",
       "      <td>12 Years a Slave</td>\n",
       "      <td>1</td>\n",
       "      <td>NaN</td>\n",
       "      <td>https://imsdb.com/scripts/12-Years-a-Slave.html</td>\n",
       "      <td>NaN</td>\n",
       "    </tr>\n",
       "    <tr>\n",
       "      <th>4</th>\n",
       "      <td>1542344.0</td>\n",
       "      <td>127 Hours</td>\n",
       "      <td>1</td>\n",
       "      <td>NaN</td>\n",
       "      <td>https://imsdb.com/scripts/127-Hours.html</td>\n",
       "      <td>NaN</td>\n",
       "    </tr>\n",
       "  </tbody>\n",
       "</table>\n",
       "</div>"
      ],
      "text/plain": [
       "           0                           1  2         3   \n",
       "0   147800.0  10 Things I Hate About You  1       NaN  \\\n",
       "1   417385.0              12 and Holding  1       NaN   \n",
       "2  3148266.0                  12 Monkeys  0  114746.0   \n",
       "3  2024544.0            12 Years a Slave  1       NaN   \n",
       "4  1542344.0                   127 Hours  1       NaN   \n",
       "\n",
       "                                                   4                    5  \n",
       "0  https://imsdb.com/scripts/10-Things-I-Hate-Abo...                  NaN  \n",
       "1      https://imsdb.com/scripts/12-and-Holding.html                  NaN  \n",
       "2          https://imsdb.com/scripts/12-Monkeys.html  Given id is tv show  \n",
       "3    https://imsdb.com/scripts/12-Years-a-Slave.html                  NaN  \n",
       "4           https://imsdb.com/scripts/127-Hours.html                  NaN  "
      ]
     },
     "execution_count": 3,
     "metadata": {},
     "output_type": "execute_result"
    }
   ],
   "source": [
    "df.head()"
   ]
  },
  {
   "cell_type": "code",
   "execution_count": 4,
   "metadata": {},
   "outputs": [
    {
     "data": {
      "text/plain": [
       "2\n",
       "1    1413\n",
       "0     240\n",
       "Name: count, dtype: int64"
      ]
     },
     "execution_count": 4,
     "metadata": {},
     "output_type": "execute_result"
    }
   ],
   "source": [
    "df.loc[:,2].value_counts()"
   ]
  },
  {
   "cell_type": "code",
   "execution_count": null,
   "metadata": {},
   "outputs": [],
   "source": []
  }
 ],
 "metadata": {
  "kernelspec": {
   "display_name": "env",
   "language": "python",
   "name": "python3"
  },
  "language_info": {
   "codemirror_mode": {
    "name": "ipython",
    "version": 3
   },
   "file_extension": ".py",
   "mimetype": "text/x-python",
   "name": "python",
   "nbconvert_exporter": "python",
   "pygments_lexer": "ipython3",
   "version": "3.10.6"
  },
  "orig_nbformat": 4
 },
 "nbformat": 4,
 "nbformat_minor": 2
}
