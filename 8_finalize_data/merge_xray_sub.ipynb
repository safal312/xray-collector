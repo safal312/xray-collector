{
 "cells": [
  {
   "cell_type": "markdown",
   "metadata": {},
   "source": [
    "### Merge Movies Metadata"
   ]
  },
  {
   "cell_type": "markdown",
   "metadata": {},
   "source": [
    "Merge the movies metadata file with information on whether we have subtitles or screenplays for each of them."
   ]
  },
  {
   "cell_type": "code",
   "execution_count": 1,
   "metadata": {},
   "outputs": [],
   "source": [
    "import pandas as pd"
   ]
  },
  {
   "cell_type": "code",
   "execution_count": 2,
   "metadata": {},
   "outputs": [],
   "source": [
    "df_x = pd.read_csv(\"../data/6_character_metadata/all_metadata_finalized.csv\", dtype={\"imdb_id\": str})"
   ]
  },
  {
   "cell_type": "code",
   "execution_count": 3,
   "metadata": {},
   "outputs": [
    {
     "data": {
      "text/plain": [
       "Index(['title', 'imdb_id', 'file', 'dir', 'synopsis', 'year', 'link'], dtype='object')"
      ]
     },
     "execution_count": 3,
     "metadata": {},
     "output_type": "execute_result"
    }
   ],
   "source": [
    "df_x.columns"
   ]
  },
  {
   "cell_type": "markdown",
   "metadata": {},
   "source": [
    "Read the file with metadata on subtitles collected."
   ]
  },
  {
   "cell_type": "code",
   "execution_count": 4,
   "metadata": {},
   "outputs": [],
   "source": [
    "df_subtitles = pd.read_csv(\"../data/5_subtitles/subtitles_collected.csv\")"
   ]
  },
  {
   "cell_type": "code",
   "execution_count": 5,
   "metadata": {},
   "outputs": [
    {
     "data": {
      "text/plain": [
       "(3576, 12)"
      ]
     },
     "execution_count": 5,
     "metadata": {},
     "output_type": "execute_result"
    }
   ],
   "source": [
    "df_subtitles.shape"
   ]
  },
  {
   "cell_type": "code",
   "execution_count": 6,
   "metadata": {},
   "outputs": [
    {
     "data": {
      "text/html": [
       "<div>\n",
       "<style scoped>\n",
       "    .dataframe tbody tr th:only-of-type {\n",
       "        vertical-align: middle;\n",
       "    }\n",
       "\n",
       "    .dataframe tbody tr th {\n",
       "        vertical-align: top;\n",
       "    }\n",
       "\n",
       "    .dataframe thead th {\n",
       "        text-align: right;\n",
       "    }\n",
       "</style>\n",
       "<table border=\"1\" class=\"dataframe\">\n",
       "  <thead>\n",
       "    <tr style=\"text-align: right;\">\n",
       "      <th></th>\n",
       "      <th>file</th>\n",
       "      <th>title</th>\n",
       "      <th>entityType</th>\n",
       "      <th>runtimeSeconds</th>\n",
       "      <th>synopsis</th>\n",
       "      <th>rating_count</th>\n",
       "      <th>rating</th>\n",
       "      <th>en_type</th>\n",
       "      <th>en_url</th>\n",
       "      <th>sdh_sub_lang</th>\n",
       "      <th>url</th>\n",
       "      <th>subtitle</th>\n",
       "    </tr>\n",
       "  </thead>\n",
       "  <tbody>\n",
       "    <tr>\n",
       "      <th>0</th>\n",
       "      <td>0_My_Fault</td>\n",
       "      <td>My Fault</td>\n",
       "      <td>Movie</td>\n",
       "      <td>7056.0</td>\n",
       "      <td>Noah must leave her town, boyfriend and friend...</td>\n",
       "      <td>817.0</td>\n",
       "      <td>4.7</td>\n",
       "      <td>subtitle</td>\n",
       "      <td>https://cf-timedtext.aux.pv-cdn.net/6d68/fe19/...</td>\n",
       "      <td>es-es</td>\n",
       "      <td>https://cf-timedtext.aux.pv-cdn.net/bdaf/38e0/...</td>\n",
       "      <td>SDH_EN</td>\n",
       "    </tr>\n",
       "    <tr>\n",
       "      <th>1</th>\n",
       "      <td>1000_On_The_Trail_of_UFOS_Dark_Sky</td>\n",
       "      <td>On The Trail of UFOS: Dark Sky</td>\n",
       "      <td>Movie</td>\n",
       "      <td>5123.0</td>\n",
       "      <td>On the Trail of UFOs: Dark Sky traces decades ...</td>\n",
       "      <td>408.0</td>\n",
       "      <td>3.7</td>\n",
       "      <td>sdh</td>\n",
       "      <td>https://cf-timedtext.aux.pv-cdn.net/463a/c028/...</td>\n",
       "      <td>en-us</td>\n",
       "      <td>https://cf-timedtext.aux.pv-cdn.net/463a/c028/...</td>\n",
       "      <td>SDH</td>\n",
       "    </tr>\n",
       "    <tr>\n",
       "      <th>2</th>\n",
       "      <td>1001_Student_Of_The_Year</td>\n",
       "      <td>Student Of The Year</td>\n",
       "      <td>Movie</td>\n",
       "      <td>8722.0</td>\n",
       "      <td>Introducing Alia Bhatt (Sharanya Singhania), S...</td>\n",
       "      <td>60.0</td>\n",
       "      <td>3.7</td>\n",
       "      <td>subtitle</td>\n",
       "      <td>https://cf-timedtext.aux.pv-cdn.net/8a5a/ab97/...</td>\n",
       "      <td>NaN</td>\n",
       "      <td>NaN</td>\n",
       "      <td>EN</td>\n",
       "    </tr>\n",
       "    <tr>\n",
       "      <th>3</th>\n",
       "      <td>1005_The_Badge_The_Bible_and_Bigfoot</td>\n",
       "      <td>The Badge, The Bible and Bigfoot</td>\n",
       "      <td>Movie</td>\n",
       "      <td>3971.0</td>\n",
       "      <td>In a small coastal town Bigfoot is sighted, an...</td>\n",
       "      <td>69.0</td>\n",
       "      <td>2.8</td>\n",
       "      <td>sdh</td>\n",
       "      <td>https://cf-timedtext.aux.pv-cdn.net/ff4c/7b1e/...</td>\n",
       "      <td>en-us</td>\n",
       "      <td>https://cf-timedtext.aux.pv-cdn.net/ff4c/7b1e/...</td>\n",
       "      <td>SDH</td>\n",
       "    </tr>\n",
       "    <tr>\n",
       "      <th>4</th>\n",
       "      <td>1009_Sharknado_5_Global_Swarming</td>\n",
       "      <td>Sharknado 5: Global Swarming</td>\n",
       "      <td>Movie</td>\n",
       "      <td>5159.0</td>\n",
       "      <td>With much of North America lying in ruins, the...</td>\n",
       "      <td>731.0</td>\n",
       "      <td>4.6</td>\n",
       "      <td>sdh</td>\n",
       "      <td>https://cf-timedtext.aux.pv-cdn.net/5d3d/ebe2/...</td>\n",
       "      <td>en-us</td>\n",
       "      <td>https://cf-timedtext.aux.pv-cdn.net/5d3d/ebe2/...</td>\n",
       "      <td>SDH</td>\n",
       "    </tr>\n",
       "  </tbody>\n",
       "</table>\n",
       "</div>"
      ],
      "text/plain": [
       "                                   file                             title  \\\n",
       "0                            0_My_Fault                          My Fault   \n",
       "1    1000_On_The_Trail_of_UFOS_Dark_Sky    On The Trail of UFOS: Dark Sky   \n",
       "2              1001_Student_Of_The_Year               Student Of The Year   \n",
       "3  1005_The_Badge_The_Bible_and_Bigfoot  The Badge, The Bible and Bigfoot   \n",
       "4      1009_Sharknado_5_Global_Swarming      Sharknado 5: Global Swarming   \n",
       "\n",
       "  entityType  runtimeSeconds  \\\n",
       "0      Movie          7056.0   \n",
       "1      Movie          5123.0   \n",
       "2      Movie          8722.0   \n",
       "3      Movie          3971.0   \n",
       "4      Movie          5159.0   \n",
       "\n",
       "                                            synopsis  rating_count  rating  \\\n",
       "0  Noah must leave her town, boyfriend and friend...         817.0     4.7   \n",
       "1  On the Trail of UFOs: Dark Sky traces decades ...         408.0     3.7   \n",
       "2  Introducing Alia Bhatt (Sharanya Singhania), S...          60.0     3.7   \n",
       "3  In a small coastal town Bigfoot is sighted, an...          69.0     2.8   \n",
       "4  With much of North America lying in ruins, the...         731.0     4.6   \n",
       "\n",
       "    en_type                                             en_url sdh_sub_lang  \\\n",
       "0  subtitle  https://cf-timedtext.aux.pv-cdn.net/6d68/fe19/...        es-es   \n",
       "1       sdh  https://cf-timedtext.aux.pv-cdn.net/463a/c028/...        en-us   \n",
       "2  subtitle  https://cf-timedtext.aux.pv-cdn.net/8a5a/ab97/...          NaN   \n",
       "3       sdh  https://cf-timedtext.aux.pv-cdn.net/ff4c/7b1e/...        en-us   \n",
       "4       sdh  https://cf-timedtext.aux.pv-cdn.net/5d3d/ebe2/...        en-us   \n",
       "\n",
       "                                                 url subtitle  \n",
       "0  https://cf-timedtext.aux.pv-cdn.net/bdaf/38e0/...   SDH_EN  \n",
       "1  https://cf-timedtext.aux.pv-cdn.net/463a/c028/...      SDH  \n",
       "2                                                NaN       EN  \n",
       "3  https://cf-timedtext.aux.pv-cdn.net/ff4c/7b1e/...      SDH  \n",
       "4  https://cf-timedtext.aux.pv-cdn.net/5d3d/ebe2/...      SDH  "
      ]
     },
     "execution_count": 6,
     "metadata": {},
     "output_type": "execute_result"
    }
   ],
   "source": [
    "df_subtitles.head()"
   ]
  },
  {
   "cell_type": "code",
   "execution_count": 7,
   "metadata": {},
   "outputs": [],
   "source": [
    "df_merge_with_sub = df_x.merge(df_subtitles[[\"file\", \"subtitle\"]], \"left\", on=\"file\")"
   ]
  },
  {
   "cell_type": "code",
   "execution_count": 8,
   "metadata": {},
   "outputs": [
    {
     "data": {
      "text/plain": [
       "(3265, 8)"
      ]
     },
     "execution_count": 8,
     "metadata": {},
     "output_type": "execute_result"
    }
   ],
   "source": [
    "df_merge_with_sub.shape"
   ]
  },
  {
   "cell_type": "code",
   "execution_count": 9,
   "metadata": {},
   "outputs": [
    {
     "data": {
      "text/plain": [
       "Index(['title', 'imdb_id', 'file', 'dir', 'synopsis', 'year', 'link',\n",
       "       'subtitle'],\n",
       "      dtype='object')"
      ]
     },
     "execution_count": 9,
     "metadata": {},
     "output_type": "execute_result"
    }
   ],
   "source": [
    "df_merge_with_sub.columns"
   ]
  },
  {
   "cell_type": "code",
   "execution_count": 10,
   "metadata": {},
   "outputs": [],
   "source": [
    "df_merge_with_sub[['title', 'imdb_id', 'file', 'dir', 'synopsis', 'year', 'link', 'subtitle']].to_csv(\"../data/finalzed_data/metadata_with_subtitles.csv\", index=False)"
   ]
  }
 ],
 "metadata": {
  "kernelspec": {
   "display_name": "Python 3",
   "language": "python",
   "name": "python3"
  },
  "language_info": {
   "codemirror_mode": {
    "name": "ipython",
    "version": 3
   },
   "file_extension": ".py",
   "mimetype": "text/x-python",
   "name": "python",
   "nbconvert_exporter": "python",
   "pygments_lexer": "ipython3",
   "version": "3.11.3"
  }
 },
 "nbformat": 4,
 "nbformat_minor": 2
}
