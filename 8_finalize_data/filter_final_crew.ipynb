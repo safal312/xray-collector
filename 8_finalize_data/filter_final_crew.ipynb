{
 "cells": [
  {
   "cell_type": "markdown",
   "metadata": {},
   "source": [
    "### Finalize Crew Data by Filtering"
   ]
  },
  {
   "cell_type": "markdown",
   "metadata": {},
   "source": [
    "This notebook filters out the cast and support crew data for movies in our finalized metadata."
   ]
  },
  {
   "cell_type": "code",
   "execution_count": 4,
   "metadata": {},
   "outputs": [],
   "source": [
    "import pandas as pd\n",
    "import os"
   ]
  },
  {
   "cell_type": "code",
   "execution_count": 1,
   "metadata": {},
   "outputs": [
    {
     "data": {
      "text/plain": [
       "'../data/finalized_data/all_metadata_finalized.csv'"
      ]
     },
     "execution_count": 1,
     "metadata": {},
     "output_type": "execute_result"
    }
   ],
   "source": [
    "import shutil\n",
    "\n",
    "source_file = \"../data/6_character_metadata/all_metadata_finalized.csv\"\n",
    "destination_dir = \"../data/finalized_data/all_metadata_finalized.csv\"\n",
    "\n",
    "shutil.copy(source_file, destination_dir)\n"
   ]
  },
  {
   "cell_type": "code",
   "execution_count": 3,
   "metadata": {},
   "outputs": [],
   "source": [
    "df = pd.read_csv(\"../data/6_character_metadata/all_metadata_finalized.csv\", dtype={\"imdb_id\": str})"
   ]
  },
  {
   "cell_type": "code",
   "execution_count": 4,
   "metadata": {},
   "outputs": [
    {
     "data": {
      "text/html": [
       "<div>\n",
       "<style scoped>\n",
       "    .dataframe tbody tr th:only-of-type {\n",
       "        vertical-align: middle;\n",
       "    }\n",
       "\n",
       "    .dataframe tbody tr th {\n",
       "        vertical-align: top;\n",
       "    }\n",
       "\n",
       "    .dataframe thead th {\n",
       "        text-align: right;\n",
       "    }\n",
       "</style>\n",
       "<table border=\"1\" class=\"dataframe\">\n",
       "  <thead>\n",
       "    <tr style=\"text-align: right;\">\n",
       "      <th></th>\n",
       "      <th>title</th>\n",
       "      <th>imdb_id</th>\n",
       "      <th>file</th>\n",
       "      <th>dir</th>\n",
       "      <th>synopsis</th>\n",
       "      <th>year</th>\n",
       "      <th>link</th>\n",
       "    </tr>\n",
       "  </thead>\n",
       "  <tbody>\n",
       "    <tr>\n",
       "      <th>0</th>\n",
       "      <td>My Fault</td>\n",
       "      <td>21909764</td>\n",
       "      <td>0_My_Fault</td>\n",
       "      <td>com</td>\n",
       "      <td>Noah must leave her town, boyfriend and friend...</td>\n",
       "      <td>2023.0</td>\n",
       "      <td>/My-Fault-Nicole-Wallace/dp/B0B683GB78/ref=sr_...</td>\n",
       "    </tr>\n",
       "    <tr>\n",
       "      <th>1</th>\n",
       "      <td>On The Trail of UFOS: Dark Sky</td>\n",
       "      <td>14928972</td>\n",
       "      <td>1000_On_The_Trail_of_UFOS_Dark_Sky</td>\n",
       "      <td>com</td>\n",
       "      <td>On the Trail of UFOs: Dark Sky traces decades ...</td>\n",
       "      <td>2021.0</td>\n",
       "      <td>/Trail-UFOS-Dark-Sky/dp/B09BKF2WGQ/ref=sr_1_24...</td>\n",
       "    </tr>\n",
       "    <tr>\n",
       "      <th>2</th>\n",
       "      <td>Student Of The Year</td>\n",
       "      <td>2172071</td>\n",
       "      <td>1001_Student_Of_The_Year</td>\n",
       "      <td>com</td>\n",
       "      <td>Introducing Alia Bhatt (Sharanya Singhania), S...</td>\n",
       "      <td>2012.0</td>\n",
       "      <td>/Student-Year-Sidharth-Malhotra/dp/B0BZTD87WK/...</td>\n",
       "    </tr>\n",
       "    <tr>\n",
       "      <th>3</th>\n",
       "      <td>The Badge, The Bible and Bigfoot</td>\n",
       "      <td>11208026</td>\n",
       "      <td>1005_The_Badge_The_Bible_and_Bigfoot</td>\n",
       "      <td>com</td>\n",
       "      <td>In a small coastal town Bigfoot is sighted, an...</td>\n",
       "      <td>2019.0</td>\n",
       "      <td>/Badge-Bible-Bigfoot-Ashley-Wright/dp/B09JMYV8...</td>\n",
       "    </tr>\n",
       "    <tr>\n",
       "      <th>4</th>\n",
       "      <td>Sharknado 5: Global Swarming</td>\n",
       "      <td>6298780</td>\n",
       "      <td>1009_Sharknado_5_Global_Swarming</td>\n",
       "      <td>com</td>\n",
       "      <td>With much of North America lying in ruins, the...</td>\n",
       "      <td>2017.0</td>\n",
       "      <td>/Sharknado-Global-Swarming-Ian-Ziering/dp/B07M...</td>\n",
       "    </tr>\n",
       "  </tbody>\n",
       "</table>\n",
       "</div>"
      ],
      "text/plain": [
       "                              title   imdb_id  \\\n",
       "0                          My Fault  21909764   \n",
       "1    On The Trail of UFOS: Dark Sky  14928972   \n",
       "2               Student Of The Year   2172071   \n",
       "3  The Badge, The Bible and Bigfoot  11208026   \n",
       "4      Sharknado 5: Global Swarming   6298780   \n",
       "\n",
       "                                   file  dir  \\\n",
       "0                            0_My_Fault  com   \n",
       "1    1000_On_The_Trail_of_UFOS_Dark_Sky  com   \n",
       "2              1001_Student_Of_The_Year  com   \n",
       "3  1005_The_Badge_The_Bible_and_Bigfoot  com   \n",
       "4      1009_Sharknado_5_Global_Swarming  com   \n",
       "\n",
       "                                            synopsis    year  \\\n",
       "0  Noah must leave her town, boyfriend and friend...  2023.0   \n",
       "1  On the Trail of UFOs: Dark Sky traces decades ...  2021.0   \n",
       "2  Introducing Alia Bhatt (Sharanya Singhania), S...  2012.0   \n",
       "3  In a small coastal town Bigfoot is sighted, an...  2019.0   \n",
       "4  With much of North America lying in ruins, the...  2017.0   \n",
       "\n",
       "                                                link  \n",
       "0  /My-Fault-Nicole-Wallace/dp/B0B683GB78/ref=sr_...  \n",
       "1  /Trail-UFOS-Dark-Sky/dp/B09BKF2WGQ/ref=sr_1_24...  \n",
       "2  /Student-Year-Sidharth-Malhotra/dp/B0BZTD87WK/...  \n",
       "3  /Badge-Bible-Bigfoot-Ashley-Wright/dp/B09JMYV8...  \n",
       "4  /Sharknado-Global-Swarming-Ian-Ziering/dp/B07M...  "
      ]
     },
     "execution_count": 4,
     "metadata": {},
     "output_type": "execute_result"
    }
   ],
   "source": [
    "df.head()"
   ]
  },
  {
   "cell_type": "markdown",
   "metadata": {},
   "source": [
    "Read people file and subset"
   ]
  },
  {
   "cell_type": "code",
   "execution_count": 5,
   "metadata": {},
   "outputs": [],
   "source": [
    "df_people = pd.read_csv(\"../data/6_character_metadata/all_people_with_duplicates.csv\")"
   ]
  },
  {
   "cell_type": "code",
   "execution_count": 6,
   "metadata": {},
   "outputs": [
    {
     "data": {
      "text/html": [
       "<div>\n",
       "<style scoped>\n",
       "    .dataframe tbody tr th:only-of-type {\n",
       "        vertical-align: middle;\n",
       "    }\n",
       "\n",
       "    .dataframe tbody tr th {\n",
       "        vertical-align: top;\n",
       "    }\n",
       "\n",
       "    .dataframe thead th {\n",
       "        text-align: right;\n",
       "    }\n",
       "</style>\n",
       "<table border=\"1\" class=\"dataframe\">\n",
       "  <thead>\n",
       "    <tr style=\"text-align: right;\">\n",
       "      <th></th>\n",
       "      <th>name_id</th>\n",
       "      <th>person</th>\n",
       "      <th>character</th>\n",
       "      <th>file</th>\n",
       "    </tr>\n",
       "  </thead>\n",
       "  <tbody>\n",
       "    <tr>\n",
       "      <th>0</th>\n",
       "      <td>nm1799971</td>\n",
       "      <td>Marta Hazas</td>\n",
       "      <td>Rafaella</td>\n",
       "      <td>0_My_Fault</td>\n",
       "    </tr>\n",
       "    <tr>\n",
       "      <th>1</th>\n",
       "      <td>nm2338819</td>\n",
       "      <td>Eve Ryan</td>\n",
       "      <td>Betty</td>\n",
       "      <td>0_My_Fault</td>\n",
       "    </tr>\n",
       "    <tr>\n",
       "      <th>2</th>\n",
       "      <td>nm5913850</td>\n",
       "      <td>Nicole Wallace</td>\n",
       "      <td>Noah</td>\n",
       "      <td>0_My_Fault</td>\n",
       "    </tr>\n",
       "    <tr>\n",
       "      <th>3</th>\n",
       "      <td>nm1293644</td>\n",
       "      <td>Ivan MassaguÃ©</td>\n",
       "      <td>Padre Noah</td>\n",
       "      <td>0_My_Fault</td>\n",
       "    </tr>\n",
       "    <tr>\n",
       "      <th>4</th>\n",
       "      <td>nm1107138</td>\n",
       "      <td>Mariano Venancio</td>\n",
       "      <td>Martin</td>\n",
       "      <td>0_My_Fault</td>\n",
       "    </tr>\n",
       "  </tbody>\n",
       "</table>\n",
       "</div>"
      ],
      "text/plain": [
       "     name_id            person   character        file\n",
       "0  nm1799971       Marta Hazas    Rafaella  0_My_Fault\n",
       "1  nm2338819          Eve Ryan       Betty  0_My_Fault\n",
       "2  nm5913850    Nicole Wallace        Noah  0_My_Fault\n",
       "3  nm1293644    Ivan MassaguÃ©  Padre Noah  0_My_Fault\n",
       "4  nm1107138  Mariano Venancio      Martin  0_My_Fault"
      ]
     },
     "execution_count": 6,
     "metadata": {},
     "output_type": "execute_result"
    }
   ],
   "source": [
    "df_people.head()"
   ]
  },
  {
   "cell_type": "code",
   "execution_count": 8,
   "metadata": {},
   "outputs": [
    {
     "data": {
      "text/plain": [
       "(3570, (3265, 7))"
      ]
     },
     "execution_count": 8,
     "metadata": {},
     "output_type": "execute_result"
    }
   ],
   "source": [
    "df_people['file'].nunique(), df.shape"
   ]
  },
  {
   "cell_type": "code",
   "execution_count": 10,
   "metadata": {},
   "outputs": [],
   "source": [
    "filtered_people = df_people[df_people['file'].isin(df['file'])]"
   ]
  },
  {
   "cell_type": "code",
   "execution_count": 12,
   "metadata": {},
   "outputs": [
    {
     "data": {
      "text/plain": [
       "3265"
      ]
     },
     "execution_count": 12,
     "metadata": {},
     "output_type": "execute_result"
    }
   ],
   "source": [
    "filtered_people['file'].nunique()"
   ]
  },
  {
   "cell_type": "code",
   "execution_count": 18,
   "metadata": {},
   "outputs": [],
   "source": [
    "filtered_people.to_csv(\"../data/finalized_data/final_all_cast_with_duplicates.csv\", index=False)"
   ]
  },
  {
   "cell_type": "markdown",
   "metadata": {},
   "source": [
    "Read support crew file and subset"
   ]
  },
  {
   "cell_type": "code",
   "execution_count": 19,
   "metadata": {},
   "outputs": [],
   "source": [
    "df_imdb = pd.read_csv(\"../data/6_character_metadata/movies_support_crew_with_manual.csv\", dtype=str)"
   ]
  },
  {
   "cell_type": "code",
   "execution_count": 20,
   "metadata": {},
   "outputs": [
    {
     "data": {
      "text/html": [
       "<div>\n",
       "<style scoped>\n",
       "    .dataframe tbody tr th:only-of-type {\n",
       "        vertical-align: middle;\n",
       "    }\n",
       "\n",
       "    .dataframe tbody tr th {\n",
       "        vertical-align: top;\n",
       "    }\n",
       "\n",
       "    .dataframe thead th {\n",
       "        text-align: right;\n",
       "    }\n",
       "</style>\n",
       "<table border=\"1\" class=\"dataframe\">\n",
       "  <thead>\n",
       "    <tr style=\"text-align: right;\">\n",
       "      <th></th>\n",
       "      <th>imdb_id</th>\n",
       "      <th>file</th>\n",
       "      <th>role</th>\n",
       "      <th>name_id</th>\n",
       "      <th>person</th>\n",
       "      <th>long_canonical_name</th>\n",
       "      <th>headshot</th>\n",
       "    </tr>\n",
       "  </thead>\n",
       "  <tbody>\n",
       "    <tr>\n",
       "      <th>0</th>\n",
       "      <td>2113683</td>\n",
       "      <td>4513_I_Know_That_Voice</td>\n",
       "      <td>cast</td>\n",
       "      <td>nm0012121</td>\n",
       "      <td>Charlie Adler</td>\n",
       "      <td>Adler, Charlie</td>\n",
       "      <td>https://m.media-amazon.com/images/M/MV5BMjE0OT...</td>\n",
       "    </tr>\n",
       "    <tr>\n",
       "      <th>1</th>\n",
       "      <td>2113683</td>\n",
       "      <td>4513_I_Know_That_Voice</td>\n",
       "      <td>cast</td>\n",
       "      <td>nm0781899</td>\n",
       "      <td>Pamela Adlon</td>\n",
       "      <td>Adlon, Pamela</td>\n",
       "      <td>https://m.media-amazon.com/images/M/MV5BMTc2OT...</td>\n",
       "    </tr>\n",
       "    <tr>\n",
       "      <th>2</th>\n",
       "      <td>2113683</td>\n",
       "      <td>4513_I_Know_That_Voice</td>\n",
       "      <td>cast</td>\n",
       "      <td>nm0016141</td>\n",
       "      <td>Carlos Alazraqui</td>\n",
       "      <td>Alazraqui, Carlos</td>\n",
       "      <td>https://m.media-amazon.com/images/M/MV5BMTQyMT...</td>\n",
       "    </tr>\n",
       "    <tr>\n",
       "      <th>3</th>\n",
       "      <td>2113683</td>\n",
       "      <td>4513_I_Know_That_Voice</td>\n",
       "      <td>cast</td>\n",
       "      <td>nm0029460</td>\n",
       "      <td>Jack Angel</td>\n",
       "      <td>Angel, Jack</td>\n",
       "      <td>https://m.media-amazon.com/images/M/MV5BNjM1Nz...</td>\n",
       "    </tr>\n",
       "    <tr>\n",
       "      <th>4</th>\n",
       "      <td>2113683</td>\n",
       "      <td>4513_I_Know_That_Voice</td>\n",
       "      <td>cast</td>\n",
       "      <td>nm0000799</td>\n",
       "      <td>Edward Asner</td>\n",
       "      <td>Asner, Edward</td>\n",
       "      <td>https://m.media-amazon.com/images/M/MV5BMTk0MD...</td>\n",
       "    </tr>\n",
       "  </tbody>\n",
       "</table>\n",
       "</div>"
      ],
      "text/plain": [
       "   imdb_id                    file  role    name_id            person  \\\n",
       "0  2113683  4513_I_Know_That_Voice  cast  nm0012121     Charlie Adler   \n",
       "1  2113683  4513_I_Know_That_Voice  cast  nm0781899      Pamela Adlon   \n",
       "2  2113683  4513_I_Know_That_Voice  cast  nm0016141  Carlos Alazraqui   \n",
       "3  2113683  4513_I_Know_That_Voice  cast  nm0029460        Jack Angel   \n",
       "4  2113683  4513_I_Know_That_Voice  cast  nm0000799      Edward Asner   \n",
       "\n",
       "  long_canonical_name                                           headshot  \n",
       "0      Adler, Charlie  https://m.media-amazon.com/images/M/MV5BMjE0OT...  \n",
       "1       Adlon, Pamela  https://m.media-amazon.com/images/M/MV5BMTc2OT...  \n",
       "2   Alazraqui, Carlos  https://m.media-amazon.com/images/M/MV5BMTQyMT...  \n",
       "3         Angel, Jack  https://m.media-amazon.com/images/M/MV5BNjM1Nz...  \n",
       "4       Asner, Edward  https://m.media-amazon.com/images/M/MV5BMTk0MD...  "
      ]
     },
     "execution_count": 20,
     "metadata": {},
     "output_type": "execute_result"
    }
   ],
   "source": [
    "df_imdb.head()"
   ]
  },
  {
   "cell_type": "code",
   "execution_count": 21,
   "metadata": {},
   "outputs": [],
   "source": [
    "df_imdb_filtered = df_imdb[df_imdb['file'].isin(df['file'])]"
   ]
  },
  {
   "cell_type": "code",
   "execution_count": 22,
   "metadata": {},
   "outputs": [
    {
     "data": {
      "text/plain": [
       "3265"
      ]
     },
     "execution_count": 22,
     "metadata": {},
     "output_type": "execute_result"
    }
   ],
   "source": [
    "df_imdb_filtered['file'].nunique()"
   ]
  },
  {
   "cell_type": "code",
   "execution_count": 23,
   "metadata": {},
   "outputs": [],
   "source": [
    "df_imdb_filtered.to_csv(\"../data/finalized_data/final_movies_support_crew.csv\", index=False)"
   ]
  }
 ],
 "metadata": {
  "kernelspec": {
   "display_name": "Python 3",
   "language": "python",
   "name": "python3"
  },
  "language_info": {
   "codemirror_mode": {
    "name": "ipython",
    "version": 3
   },
   "file_extension": ".py",
   "mimetype": "text/x-python",
   "name": "python",
   "nbconvert_exporter": "python",
   "pygments_lexer": "ipython3",
   "version": "3.11.3"
  }
 },
 "nbformat": 4,
 "nbformat_minor": 2
}
