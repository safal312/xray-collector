{
 "cells": [
  {
   "cell_type": "code",
   "execution_count": 38,
   "metadata": {},
   "outputs": [],
   "source": [
    "import requests\n",
    "from bs4 import BeautifulSoup as bs\n",
    "import pandas as pd"
   ]
  },
  {
   "cell_type": "code",
   "execution_count": 39,
   "metadata": {},
   "outputs": [],
   "source": [
    "with open(\"criterion.html\", \"r\", encoding='utf-8') as f:\n",
    "    soup = bs(f, \"html.parser\")"
   ]
  },
  {
   "cell_type": "code",
   "execution_count": 43,
   "metadata": {},
   "outputs": [],
   "source": [
    "table = soup.find(\"table\")"
   ]
  },
  {
   "cell_type": "code",
   "execution_count": 47,
   "metadata": {},
   "outputs": [],
   "source": [
    "# find trs with data-role \"gridFilm\"\n",
    "trs = table.find_all(\"tr\", {\"data-role\": \"grid-film\"})"
   ]
  },
  {
   "cell_type": "code",
   "execution_count": 49,
   "metadata": {},
   "outputs": [
    {
     "data": {
      "text/plain": [
       "1678"
      ]
     },
     "execution_count": 49,
     "metadata": {},
     "output_type": "execute_result"
    }
   ],
   "source": [
    "len(trs)"
   ]
  },
  {
   "cell_type": "code",
   "execution_count": 65,
   "metadata": {},
   "outputs": [],
   "source": [
    "data = []\n",
    "\n",
    "for tr in trs:\n",
    "    movie = {}\n",
    "    link = tr[\"data-href\"]\n",
    "\n",
    "    for td in tr.find_all(\"td\"):\n",
    "        td_class = td[\"class\"][0]\n",
    "        td_text = td.text.strip()\n",
    "        movie[td_class] = td_text\n",
    "    \n",
    "    movie['link'] = link\n",
    "    \n",
    "    data.append(movie)"
   ]
  },
  {
   "cell_type": "code",
   "execution_count": 66,
   "metadata": {},
   "outputs": [],
   "source": [
    "df = pd.DataFrame(data)"
   ]
  },
  {
   "cell_type": "code",
   "execution_count": 67,
   "metadata": {},
   "outputs": [
    {
     "data": {
      "text/html": [
       "<div>\n",
       "<style scoped>\n",
       "    .dataframe tbody tr th:only-of-type {\n",
       "        vertical-align: middle;\n",
       "    }\n",
       "\n",
       "    .dataframe tbody tr th {\n",
       "        vertical-align: top;\n",
       "    }\n",
       "\n",
       "    .dataframe thead th {\n",
       "        text-align: right;\n",
       "    }\n",
       "</style>\n",
       "<table border=\"1\" class=\"dataframe\">\n",
       "  <thead>\n",
       "    <tr style=\"text-align: right;\">\n",
       "      <th></th>\n",
       "      <th>g-spine</th>\n",
       "      <th>g-img</th>\n",
       "      <th>g-title</th>\n",
       "      <th>g-director</th>\n",
       "      <th>g-country</th>\n",
       "      <th>g-year</th>\n",
       "      <th>link</th>\n",
       "    </tr>\n",
       "  </thead>\n",
       "  <tbody>\n",
       "    <tr>\n",
       "      <th>0</th>\n",
       "      <td>799</td>\n",
       "      <td></td>\n",
       "      <td>The Kid</td>\n",
       "      <td>Charles Chaplin</td>\n",
       "      <td>United States,</td>\n",
       "      <td>1921</td>\n",
       "      <td>https://www.criterion.com/films/27566-the-kid</td>\n",
       "    </tr>\n",
       "    <tr>\n",
       "      <th>1</th>\n",
       "      <td>579</td>\n",
       "      <td></td>\n",
       "      <td>The Phantom Carriage</td>\n",
       "      <td>Victor Sjöström</td>\n",
       "      <td>Sweden,</td>\n",
       "      <td>1921</td>\n",
       "      <td>https://www.criterion.com/films/27630-the-phan...</td>\n",
       "    </tr>\n",
       "    <tr>\n",
       "      <th>2</th>\n",
       "      <td>134</td>\n",
       "      <td></td>\n",
       "      <td>Häxan</td>\n",
       "      <td>Benjamin Christensen</td>\n",
       "      <td>Denmark,</td>\n",
       "      <td>1922</td>\n",
       "      <td>https://www.criterion.com/films/352-haxan</td>\n",
       "    </tr>\n",
       "    <tr>\n",
       "      <th>3</th>\n",
       "      <td>33</td>\n",
       "      <td></td>\n",
       "      <td>Nanook of the North</td>\n",
       "      <td>Robert Flaherty</td>\n",
       "      <td>United States,</td>\n",
       "      <td>1922</td>\n",
       "      <td>https://www.criterion.com/films/574-nanook-of-...</td>\n",
       "    </tr>\n",
       "    <tr>\n",
       "      <th>4</th>\n",
       "      <td>662</td>\n",
       "      <td></td>\n",
       "      <td>Safety Last!</td>\n",
       "      <td>Fred Newmeyer and Sam Taylor</td>\n",
       "      <td>United States,</td>\n",
       "      <td>1923</td>\n",
       "      <td>https://www.criterion.com/films/28446-safety-last</td>\n",
       "    </tr>\n",
       "    <tr>\n",
       "      <th>...</th>\n",
       "      <td>...</td>\n",
       "      <td>...</td>\n",
       "      <td>...</td>\n",
       "      <td>...</td>\n",
       "      <td>...</td>\n",
       "      <td>...</td>\n",
       "      <td>...</td>\n",
       "    </tr>\n",
       "    <tr>\n",
       "      <th>1673</th>\n",
       "      <td></td>\n",
       "      <td></td>\n",
       "      <td>Eclipse Series 37: When Horror Came to Shochiku</td>\n",
       "      <td></td>\n",
       "      <td></td>\n",
       "      <td></td>\n",
       "      <td>https://www.criterion.com/boxsets/928-eclipse-...</td>\n",
       "    </tr>\n",
       "    <tr>\n",
       "      <th>1674</th>\n",
       "      <td>684</td>\n",
       "      <td></td>\n",
       "      <td>Martin Scorsese’s World Cinema Project No. 1</td>\n",
       "      <td></td>\n",
       "      <td></td>\n",
       "      <td></td>\n",
       "      <td>https://www.criterion.com/boxsets/1021-martin-...</td>\n",
       "    </tr>\n",
       "    <tr>\n",
       "      <th>1675</th>\n",
       "      <td></td>\n",
       "      <td></td>\n",
       "      <td>The Emigrants/The New Land</td>\n",
       "      <td></td>\n",
       "      <td></td>\n",
       "      <td></td>\n",
       "      <td>https://www.criterion.com/boxsets/1165-the-emi...</td>\n",
       "    </tr>\n",
       "    <tr>\n",
       "      <th>1676</th>\n",
       "      <td>124</td>\n",
       "      <td></td>\n",
       "      <td>Carl Theodor Dreyer</td>\n",
       "      <td></td>\n",
       "      <td></td>\n",
       "      <td></td>\n",
       "      <td>https://www.criterion.com/boxsets/254-carl-the...</td>\n",
       "    </tr>\n",
       "    <tr>\n",
       "      <th>1677</th>\n",
       "      <td>873</td>\n",
       "      <td></td>\n",
       "      <td>Martin Scorsese’s World Cinema Project No. 2</td>\n",
       "      <td></td>\n",
       "      <td></td>\n",
       "      <td></td>\n",
       "      <td>https://www.criterion.com/boxsets/1258-martin-...</td>\n",
       "    </tr>\n",
       "  </tbody>\n",
       "</table>\n",
       "<p>1678 rows × 7 columns</p>\n",
       "</div>"
      ],
      "text/plain": [
       "     g-spine g-img                                          g-title  \\\n",
       "0        799                                                The Kid   \n",
       "1        579                                   The Phantom Carriage   \n",
       "2        134                                                  Häxan   \n",
       "3         33                                    Nanook of the North   \n",
       "4        662                                           Safety Last!   \n",
       "...      ...   ...                                              ...   \n",
       "1673                Eclipse Series 37: When Horror Came to Shochiku   \n",
       "1674     684           Martin Scorsese’s World Cinema Project No. 1   \n",
       "1675                                     The Emigrants/The New Land   \n",
       "1676     124                                    Carl Theodor Dreyer   \n",
       "1677     873           Martin Scorsese’s World Cinema Project No. 2   \n",
       "\n",
       "                        g-director       g-country g-year  \\\n",
       "0                  Charles Chaplin  United States,   1921   \n",
       "1                  Victor Sjöström         Sweden,   1921   \n",
       "2             Benjamin Christensen        Denmark,   1922   \n",
       "3                  Robert Flaherty  United States,   1922   \n",
       "4     Fred Newmeyer and Sam Taylor  United States,   1923   \n",
       "...                            ...             ...    ...   \n",
       "1673                                                        \n",
       "1674                                                        \n",
       "1675                                                        \n",
       "1676                                                        \n",
       "1677                                                        \n",
       "\n",
       "                                                   link  \n",
       "0         https://www.criterion.com/films/27566-the-kid  \n",
       "1     https://www.criterion.com/films/27630-the-phan...  \n",
       "2             https://www.criterion.com/films/352-haxan  \n",
       "3     https://www.criterion.com/films/574-nanook-of-...  \n",
       "4     https://www.criterion.com/films/28446-safety-last  \n",
       "...                                                 ...  \n",
       "1673  https://www.criterion.com/boxsets/928-eclipse-...  \n",
       "1674  https://www.criterion.com/boxsets/1021-martin-...  \n",
       "1675  https://www.criterion.com/boxsets/1165-the-emi...  \n",
       "1676  https://www.criterion.com/boxsets/254-carl-the...  \n",
       "1677  https://www.criterion.com/boxsets/1258-martin-...  \n",
       "\n",
       "[1678 rows x 7 columns]"
      ]
     },
     "execution_count": 67,
     "metadata": {},
     "output_type": "execute_result"
    }
   ],
   "source": [
    "df"
   ]
  },
  {
   "cell_type": "code",
   "execution_count": 68,
   "metadata": {},
   "outputs": [],
   "source": [
    "df.to_csv(\"criterion_list.csv\", index=False)"
   ]
  },
  {
   "cell_type": "code",
   "execution_count": 70,
   "metadata": {},
   "outputs": [],
   "source": [
    "df_x = pd.read_csv(\"../data/finalized_data/metadata_with_screenplay_subtitles_tmdb.csv\", dtype={\"movie_id\": str})"
   ]
  },
  {
   "cell_type": "code",
   "execution_count": 73,
   "metadata": {},
   "outputs": [
    {
     "data": {
      "text/plain": [
       "32"
      ]
     },
     "execution_count": 73,
     "metadata": {},
     "output_type": "execute_result"
    }
   ],
   "source": [
    "df_x['title'].isin(df['g-title']).sum()"
   ]
  },
  {
   "cell_type": "code",
   "execution_count": 74,
   "metadata": {},
   "outputs": [],
   "source": [
    "sc_meta = pd.read_csv(\"../data/8_screenplays/2_metadata/validated_movies.csv\", dtype=str)"
   ]
  },
  {
   "cell_type": "code",
   "execution_count": 75,
   "metadata": {},
   "outputs": [
    {
     "data": {
      "text/plain": [
       "110"
      ]
     },
     "execution_count": 75,
     "metadata": {},
     "output_type": "execute_result"
    }
   ],
   "source": [
    "sc_meta['title'].isin(df['g-title']).sum()"
   ]
  }
 ],
 "metadata": {
  "kernelspec": {
   "display_name": "Python 3",
   "language": "python",
   "name": "python3"
  },
  "language_info": {
   "codemirror_mode": {
    "name": "ipython",
    "version": 3
   },
   "file_extension": ".py",
   "mimetype": "text/x-python",
   "name": "python",
   "nbconvert_exporter": "python",
   "pygments_lexer": "ipython3",
   "version": "3.11.3"
  }
 },
 "nbformat": 4,
 "nbformat_minor": 2
}
