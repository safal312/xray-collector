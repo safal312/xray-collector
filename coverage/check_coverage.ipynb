{
 "cells": [
  {
   "cell_type": "code",
   "execution_count": 1,
   "metadata": {},
   "outputs": [],
   "source": [
    "import pandas as pd"
   ]
  },
  {
   "cell_type": "code",
   "execution_count": 7,
   "metadata": {},
   "outputs": [],
   "source": [
    "top = pd.read_csv(\"all_movie_decades.csv\")"
   ]
  },
  {
   "cell_type": "code",
   "execution_count": 8,
   "metadata": {},
   "outputs": [
    {
     "data": {
      "text/html": [
       "<div>\n",
       "<style scoped>\n",
       "    .dataframe tbody tr th:only-of-type {\n",
       "        vertical-align: middle;\n",
       "    }\n",
       "\n",
       "    .dataframe tbody tr th {\n",
       "        vertical-align: top;\n",
       "    }\n",
       "\n",
       "    .dataframe thead th {\n",
       "        text-align: right;\n",
       "    }\n",
       "</style>\n",
       "<table border=\"1\" class=\"dataframe\">\n",
       "  <thead>\n",
       "    <tr style=\"text-align: right;\">\n",
       "      <th></th>\n",
       "      <th>Movie Title</th>\n",
       "      <th>decade</th>\n",
       "      <th>id</th>\n",
       "    </tr>\n",
       "  </thead>\n",
       "  <tbody>\n",
       "    <tr>\n",
       "      <th>0</th>\n",
       "      <td>Intolerance</td>\n",
       "      <td>1910s</td>\n",
       "      <td>tt0006864</td>\n",
       "    </tr>\n",
       "    <tr>\n",
       "      <th>1</th>\n",
       "      <td>The Birth of a Nation</td>\n",
       "      <td>1910s</td>\n",
       "      <td>tt0004972</td>\n",
       "    </tr>\n",
       "    <tr>\n",
       "      <th>2</th>\n",
       "      <td>Cabiria</td>\n",
       "      <td>1910s</td>\n",
       "      <td>tt0003740</td>\n",
       "    </tr>\n",
       "    <tr>\n",
       "      <th>3</th>\n",
       "      <td>Behind the Screen</td>\n",
       "      <td>1910s</td>\n",
       "      <td>tt0006414</td>\n",
       "    </tr>\n",
       "    <tr>\n",
       "      <th>4</th>\n",
       "      <td>The Gardener</td>\n",
       "      <td>1910s</td>\n",
       "      <td>tt0002544</td>\n",
       "    </tr>\n",
       "    <tr>\n",
       "      <th>...</th>\n",
       "      <td>...</td>\n",
       "      <td>...</td>\n",
       "      <td>...</td>\n",
       "    </tr>\n",
       "    <tr>\n",
       "      <th>1134</th>\n",
       "      <td>See How They Run</td>\n",
       "      <td>2020s</td>\n",
       "      <td>tt13640696</td>\n",
       "    </tr>\n",
       "    <tr>\n",
       "      <th>1135</th>\n",
       "      <td>Violent Night</td>\n",
       "      <td>2020s</td>\n",
       "      <td>tt12003946</td>\n",
       "    </tr>\n",
       "    <tr>\n",
       "      <th>1136</th>\n",
       "      <td>Reptile</td>\n",
       "      <td>2020s</td>\n",
       "      <td>tt13274016</td>\n",
       "    </tr>\n",
       "    <tr>\n",
       "      <th>1137</th>\n",
       "      <td>Gran Turismo</td>\n",
       "      <td>2020s</td>\n",
       "      <td>tt4495098</td>\n",
       "    </tr>\n",
       "    <tr>\n",
       "      <th>1138</th>\n",
       "      <td>Dune: Part Two</td>\n",
       "      <td>2020s</td>\n",
       "      <td>tt15239678</td>\n",
       "    </tr>\n",
       "  </tbody>\n",
       "</table>\n",
       "<p>1139 rows × 3 columns</p>\n",
       "</div>"
      ],
      "text/plain": [
       "                Movie Title decade          id\n",
       "0               Intolerance  1910s   tt0006864\n",
       "1     The Birth of a Nation  1910s   tt0004972\n",
       "2                   Cabiria  1910s   tt0003740\n",
       "3         Behind the Screen  1910s   tt0006414\n",
       "4              The Gardener  1910s   tt0002544\n",
       "...                     ...    ...         ...\n",
       "1134       See How They Run  2020s  tt13640696\n",
       "1135          Violent Night  2020s  tt12003946\n",
       "1136                Reptile  2020s  tt13274016\n",
       "1137           Gran Turismo  2020s   tt4495098\n",
       "1138         Dune: Part Two  2020s  tt15239678\n",
       "\n",
       "[1139 rows x 3 columns]"
      ]
     },
     "execution_count": 8,
     "metadata": {},
     "output_type": "execute_result"
    }
   ],
   "source": [
    "top"
   ]
  },
  {
   "cell_type": "code",
   "execution_count": 9,
   "metadata": {},
   "outputs": [],
   "source": [
    "sc = pd.read_csv(\"../data/8_screenplays/3_character_matching/movies_with_high_coverage_and_matching/meta_imdb_and_stats.csv\", dtype=str)"
   ]
  },
  {
   "cell_type": "code",
   "execution_count": 12,
   "metadata": {},
   "outputs": [],
   "source": [
    "sc = sc[[\"imdb\", \"title\"]]"
   ]
  },
  {
   "cell_type": "code",
   "execution_count": 20,
   "metadata": {},
   "outputs": [
    {
     "name": "stdout",
     "output_type": "stream",
     "text": [
      "1910s 0\n",
      "1920s 0\n",
      "1930s 7\n",
      "1940s 9\n",
      "1950s 18\n",
      "1960s 11\n",
      "1970s 25\n",
      "1980s 25\n",
      "1990s 49\n",
      "2000s 50\n",
      "2010s 46\n",
      "2020s 4\n"
     ]
    }
   ],
   "source": [
    "for group in top.groupby(\"decade\"):\n",
    "    decade = group[0]\n",
    "    df = group[1]\n",
    "\n",
    "    commons = df['id'].isin('tt' + sc['imdb']).sum()\n",
    "    print(decade, commons)"
   ]
  },
  {
   "cell_type": "code",
   "execution_count": 21,
   "metadata": {},
   "outputs": [],
   "source": [
    "sc_meta = pd.read_csv(\"../data/8_screenplays/2_metadata/validated_movies.csv\", dtype=str)"
   ]
  },
  {
   "cell_type": "code",
   "execution_count": 25,
   "metadata": {},
   "outputs": [],
   "source": [
    "sc_meta = sc_meta[['imdbID', 'title', 'year']]"
   ]
  },
  {
   "cell_type": "code",
   "execution_count": 31,
   "metadata": {},
   "outputs": [
    {
     "name": "stderr",
     "output_type": "stream",
     "text": [
      "C:\\Users\\safal\\AppData\\Local\\Temp\\ipykernel_10272\\1272775012.py:1: SettingWithCopyWarning: \n",
      "A value is trying to be set on a copy of a slice from a DataFrame.\n",
      "Try using .loc[row_indexer,col_indexer] = value instead\n",
      "\n",
      "See the caveats in the documentation: https://pandas.pydata.org/pandas-docs/stable/user_guide/indexing.html#returning-a-view-versus-a-copy\n",
      "  sc_meta['decade'] = (sc_meta['year'].astype(int) // 10 * 10)\n"
     ]
    }
   ],
   "source": [
    "sc_meta['decade'] = (sc_meta['year'].astype(int) // 10 * 10)"
   ]
  },
  {
   "cell_type": "code",
   "execution_count": 38,
   "metadata": {},
   "outputs": [],
   "source": [
    "sc_meta_f = sc_meta[sc_meta['imdbID'].isin(sc['imdb'])]"
   ]
  },
  {
   "cell_type": "code",
   "execution_count": 55,
   "metadata": {},
   "outputs": [
    {
     "data": {
      "text/plain": [
       "decade\n",
       "1930     11\n",
       "1940     22\n",
       "1950     24\n",
       "1960     23\n",
       "1970     59\n",
       "1980    124\n",
       "1990    333\n",
       "2000    390\n",
       "2010    362\n",
       "2020     19\n",
       "dtype: int64"
      ]
     },
     "execution_count": 55,
     "metadata": {},
     "output_type": "execute_result"
    }
   ],
   "source": [
    "sc_meta_f.groupby(\"decade\").size()"
   ]
  },
  {
   "cell_type": "code",
   "execution_count": 52,
   "metadata": {},
   "outputs": [
    {
     "data": {
      "text/plain": [
       "array([list(['1930', '1931', '1932', '1933', '1934', '1938', '1939']),\n",
       "       list(['1940', '1941', '1943', '1944', '1945', '1946', '1948', '1949']),\n",
       "       list(['1950', '1951', '1952', '1953', '1954', '1955', '1956', '1957', '1958', '1959']),\n",
       "       list(['1960', '1961', '1962', '1963', '1964', '1965', '1967', '1968', '1969']),\n",
       "       list(['1970', '1971', '1972', '1973', '1974', '1975', '1976', '1977', '1978', '1979']),\n",
       "       list(['1980', '1981', '1982', '1983', '1984', '1985', '1986', '1987', '1988', '1989']),\n",
       "       list(['1990', '1991', '1992', '1993', '1994', '1995', '1996', '1997', '1998', '1999']),\n",
       "       list(['2000', '2001', '2002', '2003', '2004', '2005', '2006', '2007', '2008', '2009']),\n",
       "       list(['2010', '2011', '2012', '2013', '2014', '2015', '2016', '2017', '2018', '2019']),\n",
       "       list(['2020', '2021', '2023'])], dtype=object)"
      ]
     },
     "execution_count": 52,
     "metadata": {},
     "output_type": "execute_result"
    }
   ],
   "source": [
    "# groupby decade then get the unique year values in each group, then sort the list of years\n",
    "sc_meta_f.groupby(\"decade\")['year'].unique().apply(lambda x: sorted(x)).values"
   ]
  },
  {
   "cell_type": "code",
   "execution_count": 53,
   "metadata": {},
   "outputs": [
    {
     "data": {
      "text/plain": [
       "decade\n",
       "1930     7\n",
       "1940     8\n",
       "1950    10\n",
       "1960     9\n",
       "1970    10\n",
       "1980    10\n",
       "1990    10\n",
       "2000    10\n",
       "2010    10\n",
       "2020     3\n",
       "Name: year, dtype: int64"
      ]
     },
     "execution_count": 53,
     "metadata": {},
     "output_type": "execute_result"
    }
   ],
   "source": [
    "sc_meta_f.groupby(\"decade\")['year'].nunique()"
   ]
  }
 ],
 "metadata": {
  "kernelspec": {
   "display_name": "Python 3",
   "language": "python",
   "name": "python3"
  },
  "language_info": {
   "codemirror_mode": {
    "name": "ipython",
    "version": 3
   },
   "file_extension": ".py",
   "mimetype": "text/x-python",
   "name": "python",
   "nbconvert_exporter": "python",
   "pygments_lexer": "ipython3",
   "version": "3.11.3"
  }
 },
 "nbformat": 4,
 "nbformat_minor": 2
}
