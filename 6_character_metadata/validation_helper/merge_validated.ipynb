{
 "cells": [
  {
   "cell_type": "markdown",
   "metadata": {},
   "source": [
    "### Merge Validated Ids"
   ]
  },
  {
   "cell_type": "markdown",
   "metadata": {},
   "source": [
    "This notebook fills the entries in `metadata_for_validation` with missing imdb IDs with the manually gathered movie IDs."
   ]
  },
  {
   "cell_type": "code",
   "execution_count": 1,
   "metadata": {},
   "outputs": [],
   "source": [
    "import pandas as pd"
   ]
  },
  {
   "cell_type": "markdown",
   "metadata": {},
   "source": [
    "Import the manually validated metadata file."
   ]
  },
  {
   "cell_type": "code",
   "execution_count": 2,
   "metadata": {},
   "outputs": [],
   "source": [
    "METADATA_DIR = \"../../data/6_character_metadata\"\n",
    "df = pd.read_csv(f\"{METADATA_DIR}/validated_metadata.csv\", dtype={\"alt_id\": str})"
   ]
  },
  {
   "cell_type": "code",
   "execution_count": 3,
   "metadata": {},
   "outputs": [
    {
     "data": {
      "text/html": [
       "<div>\n",
       "<style scoped>\n",
       "    .dataframe tbody tr th:only-of-type {\n",
       "        vertical-align: middle;\n",
       "    }\n",
       "\n",
       "    .dataframe tbody tr th {\n",
       "        vertical-align: top;\n",
       "    }\n",
       "\n",
       "    .dataframe thead th {\n",
       "        text-align: right;\n",
       "    }\n",
       "</style>\n",
       "<table border=\"1\" class=\"dataframe\">\n",
       "  <thead>\n",
       "    <tr style=\"text-align: right;\">\n",
       "      <th></th>\n",
       "      <th>title</th>\n",
       "      <th>movie_id</th>\n",
       "      <th>file</th>\n",
       "      <th>dir</th>\n",
       "      <th>synopsis</th>\n",
       "      <th>year</th>\n",
       "      <th>link</th>\n",
       "      <th>match</th>\n",
       "      <th>alt_id</th>\n",
       "      <th>notes</th>\n",
       "    </tr>\n",
       "  </thead>\n",
       "  <tbody>\n",
       "    <tr>\n",
       "      <th>0</th>\n",
       "      <td>Chain</td>\n",
       "      <td>NaN</td>\n",
       "      <td>5965_Chain</td>\n",
       "      <td>com</td>\n",
       "      <td>A man gets entangled in an extramarital affair...</td>\n",
       "      <td>2019.0</td>\n",
       "      <td>/Chain-Eddie-Watson/dp/B09KHGHG72/ref=sr_1_119...</td>\n",
       "      <td>0</td>\n",
       "      <td>21052498</td>\n",
       "      <td>NaN</td>\n",
       "    </tr>\n",
       "    <tr>\n",
       "      <th>1</th>\n",
       "      <td>Kaala (Tamil)</td>\n",
       "      <td>NaN</td>\n",
       "      <td>3343_Kaala_Tamil</td>\n",
       "      <td>com</td>\n",
       "      <td>Kaala (aka) Karikaalan is a representative of ...</td>\n",
       "      <td>2018.0</td>\n",
       "      <td>/Kaala-Tamil-Super-Star-Rajinikanth/dp/B08KWP2...</td>\n",
       "      <td>0</td>\n",
       "      <td>6929642</td>\n",
       "      <td>NaN</td>\n",
       "    </tr>\n",
       "    <tr>\n",
       "      <th>2</th>\n",
       "      <td>Custody (Tamil)</td>\n",
       "      <td>NaN</td>\n",
       "      <td>5972_Custody_Tamil</td>\n",
       "      <td>com</td>\n",
       "      <td>The movie â€œCustodyâ€ is a run action drama a...</td>\n",
       "      <td>2023.0</td>\n",
       "      <td>/Custody-Tamil-Naga-Chaitanya-Akkineni/dp/B0BZ...</td>\n",
       "      <td>0</td>\n",
       "      <td>23782248</td>\n",
       "      <td>NaN</td>\n",
       "    </tr>\n",
       "    <tr>\n",
       "      <th>3</th>\n",
       "      <td>Tad: The Lost Explorer</td>\n",
       "      <td>NaN</td>\n",
       "      <td>5973_Tad_The_Lost_Explorer</td>\n",
       "      <td>com</td>\n",
       "      <td>Tad's dreams of being a famous adventurer fina...</td>\n",
       "      <td>2013.0</td>\n",
       "      <td>/Tad-Lost-Explorer-Kerry-Shale/dp/B079P6FP7J/r...</td>\n",
       "      <td>0</td>\n",
       "      <td>1764625</td>\n",
       "      <td>NaN</td>\n",
       "    </tr>\n",
       "    <tr>\n",
       "      <th>4</th>\n",
       "      <td>The Big Easy</td>\n",
       "      <td>NaN</td>\n",
       "      <td>1030_The_Big_Easy</td>\n",
       "      <td>com</td>\n",
       "      <td>Set in New Orleans, this crime thriller tells ...</td>\n",
       "      <td>1987.0</td>\n",
       "      <td>/Big-Easy-Dennis-Quaid/dp/B07VWYC9V8/ref=sr_1_...</td>\n",
       "      <td>0</td>\n",
       "      <td>0092654</td>\n",
       "      <td>NaN</td>\n",
       "    </tr>\n",
       "  </tbody>\n",
       "</table>\n",
       "</div>"
      ],
      "text/plain": [
       "                    title  movie_id                        file  dir  \\\n",
       "0                   Chain       NaN                  5965_Chain  com   \n",
       "1           Kaala (Tamil)       NaN            3343_Kaala_Tamil  com   \n",
       "2         Custody (Tamil)       NaN          5972_Custody_Tamil  com   \n",
       "3  Tad: The Lost Explorer       NaN  5973_Tad_The_Lost_Explorer  com   \n",
       "4            The Big Easy       NaN           1030_The_Big_Easy  com   \n",
       "\n",
       "                                            synopsis    year  \\\n",
       "0  A man gets entangled in an extramarital affair...  2019.0   \n",
       "1  Kaala (aka) Karikaalan is a representative of ...  2018.0   \n",
       "2  The movie â€œCustodyâ€ is a run action drama a...  2023.0   \n",
       "3  Tad's dreams of being a famous adventurer fina...  2013.0   \n",
       "4  Set in New Orleans, this crime thriller tells ...  1987.0   \n",
       "\n",
       "                                                link  match    alt_id notes  \n",
       "0  /Chain-Eddie-Watson/dp/B09KHGHG72/ref=sr_1_119...      0  21052498   NaN  \n",
       "1  /Kaala-Tamil-Super-Star-Rajinikanth/dp/B08KWP2...      0   6929642   NaN  \n",
       "2  /Custody-Tamil-Naga-Chaitanya-Akkineni/dp/B0BZ...      0  23782248   NaN  \n",
       "3  /Tad-Lost-Explorer-Kerry-Shale/dp/B079P6FP7J/r...      0   1764625   NaN  \n",
       "4  /Big-Easy-Dennis-Quaid/dp/B07VWYC9V8/ref=sr_1_...      0   0092654   NaN  "
      ]
     },
     "execution_count": 3,
     "metadata": {},
     "output_type": "execute_result"
    }
   ],
   "source": [
    "df.head()"
   ]
  },
  {
   "cell_type": "markdown",
   "metadata": {},
   "source": [
    "Manually removing unfit movies like comedy specials, anthologies, etc. specified in notes"
   ]
  },
  {
   "cell_type": "code",
   "execution_count": 4,
   "metadata": {},
   "outputs": [],
   "source": [
    "df = df.drop([8, 54, 191, 206, 218, 228, 229, 236, 239, 299, 311, 319, 327, 331, 367, 379, 384, 387, 407, 435])"
   ]
  },
  {
   "cell_type": "markdown",
   "metadata": {},
   "source": [
    "Remove all duplicates and null ids."
   ]
  },
  {
   "cell_type": "code",
   "execution_count": 5,
   "metadata": {},
   "outputs": [],
   "source": [
    "df_rem = df.loc[~df['alt_id'].isnull()]"
   ]
  },
  {
   "cell_type": "code",
   "execution_count": 7,
   "metadata": {},
   "outputs": [
    {
     "data": {
      "text/plain": [
       "((421, 10), (421, 10))"
      ]
     },
     "execution_count": 7,
     "metadata": {},
     "output_type": "execute_result"
    }
   ],
   "source": [
    "df_rem.shape, df.shape"
   ]
  },
  {
   "cell_type": "code",
   "execution_count": 8,
   "metadata": {},
   "outputs": [],
   "source": [
    "df_unique = df_rem[~df_rem['alt_id'].duplicated()]"
   ]
  },
  {
   "cell_type": "code",
   "execution_count": 9,
   "metadata": {},
   "outputs": [
    {
     "data": {
      "text/plain": [
       "(370, 10)"
      ]
     },
     "execution_count": 9,
     "metadata": {},
     "output_type": "execute_result"
    }
   ],
   "source": [
    "df_unique.shape"
   ]
  },
  {
   "cell_type": "markdown",
   "metadata": {},
   "source": [
    "Import the original validation file to merge."
   ]
  },
  {
   "cell_type": "code",
   "execution_count": 10,
   "metadata": {},
   "outputs": [],
   "source": [
    "df_meta = pd.read_csv(f\"{METADATA_DIR}/metadata_for_validation.csv\", dtype={\"movie_id\": str})"
   ]
  },
  {
   "cell_type": "code",
   "execution_count": 11,
   "metadata": {},
   "outputs": [
    {
     "data": {
      "text/html": [
       "<div>\n",
       "<style scoped>\n",
       "    .dataframe tbody tr th:only-of-type {\n",
       "        vertical-align: middle;\n",
       "    }\n",
       "\n",
       "    .dataframe tbody tr th {\n",
       "        vertical-align: top;\n",
       "    }\n",
       "\n",
       "    .dataframe thead th {\n",
       "        text-align: right;\n",
       "    }\n",
       "</style>\n",
       "<table border=\"1\" class=\"dataframe\">\n",
       "  <thead>\n",
       "    <tr style=\"text-align: right;\">\n",
       "      <th></th>\n",
       "      <th>title</th>\n",
       "      <th>movie_id</th>\n",
       "      <th>file</th>\n",
       "      <th>dir</th>\n",
       "      <th>synopsis</th>\n",
       "      <th>year</th>\n",
       "      <th>link</th>\n",
       "    </tr>\n",
       "  </thead>\n",
       "  <tbody>\n",
       "    <tr>\n",
       "      <th>0</th>\n",
       "      <td>My Fault</td>\n",
       "      <td>21909764</td>\n",
       "      <td>0_My_Fault</td>\n",
       "      <td>com</td>\n",
       "      <td>Noah must leave her town, boyfriend and friend...</td>\n",
       "      <td>2023.0</td>\n",
       "      <td>/My-Fault-Nicole-Wallace/dp/B0B683GB78/ref=sr_...</td>\n",
       "    </tr>\n",
       "    <tr>\n",
       "      <th>1</th>\n",
       "      <td>On The Trail of UFOS: Dark Sky</td>\n",
       "      <td>14928972</td>\n",
       "      <td>1000_On_The_Trail_of_UFOS_Dark_Sky</td>\n",
       "      <td>com</td>\n",
       "      <td>On the Trail of UFOs: Dark Sky traces decades ...</td>\n",
       "      <td>2021.0</td>\n",
       "      <td>/Trail-UFOS-Dark-Sky/dp/B09BKF2WGQ/ref=sr_1_24...</td>\n",
       "    </tr>\n",
       "    <tr>\n",
       "      <th>2</th>\n",
       "      <td>Student Of The Year</td>\n",
       "      <td>2172071</td>\n",
       "      <td>1001_Student_Of_The_Year</td>\n",
       "      <td>com</td>\n",
       "      <td>Introducing Alia Bhatt (Sharanya Singhania), S...</td>\n",
       "      <td>2012.0</td>\n",
       "      <td>/Student-Year-Sidharth-Malhotra/dp/B0BZTD87WK/...</td>\n",
       "    </tr>\n",
       "    <tr>\n",
       "      <th>3</th>\n",
       "      <td>The Badge, The Bible and Bigfoot</td>\n",
       "      <td>11208026</td>\n",
       "      <td>1005_The_Badge_The_Bible_and_Bigfoot</td>\n",
       "      <td>com</td>\n",
       "      <td>In a small coastal town Bigfoot is sighted, an...</td>\n",
       "      <td>2019.0</td>\n",
       "      <td>/Badge-Bible-Bigfoot-Ashley-Wright/dp/B09JMYV8...</td>\n",
       "    </tr>\n",
       "    <tr>\n",
       "      <th>4</th>\n",
       "      <td>Sharknado 5: Global Swarming</td>\n",
       "      <td>6298780</td>\n",
       "      <td>1009_Sharknado_5_Global_Swarming</td>\n",
       "      <td>com</td>\n",
       "      <td>With much of North America lying in ruins, the...</td>\n",
       "      <td>2017.0</td>\n",
       "      <td>/Sharknado-Global-Swarming-Ian-Ziering/dp/B07M...</td>\n",
       "    </tr>\n",
       "  </tbody>\n",
       "</table>\n",
       "</div>"
      ],
      "text/plain": [
       "                              title  movie_id  \\\n",
       "0                          My Fault  21909764   \n",
       "1    On The Trail of UFOS: Dark Sky  14928972   \n",
       "2               Student Of The Year   2172071   \n",
       "3  The Badge, The Bible and Bigfoot  11208026   \n",
       "4      Sharknado 5: Global Swarming   6298780   \n",
       "\n",
       "                                   file  dir  \\\n",
       "0                            0_My_Fault  com   \n",
       "1    1000_On_The_Trail_of_UFOS_Dark_Sky  com   \n",
       "2              1001_Student_Of_The_Year  com   \n",
       "3  1005_The_Badge_The_Bible_and_Bigfoot  com   \n",
       "4      1009_Sharknado_5_Global_Swarming  com   \n",
       "\n",
       "                                            synopsis    year  \\\n",
       "0  Noah must leave her town, boyfriend and friend...  2023.0   \n",
       "1  On the Trail of UFOs: Dark Sky traces decades ...  2021.0   \n",
       "2  Introducing Alia Bhatt (Sharanya Singhania), S...  2012.0   \n",
       "3  In a small coastal town Bigfoot is sighted, an...  2019.0   \n",
       "4  With much of North America lying in ruins, the...  2017.0   \n",
       "\n",
       "                                                link  \n",
       "0  /My-Fault-Nicole-Wallace/dp/B0B683GB78/ref=sr_...  \n",
       "1  /Trail-UFOS-Dark-Sky/dp/B09BKF2WGQ/ref=sr_1_24...  \n",
       "2  /Student-Year-Sidharth-Malhotra/dp/B0BZTD87WK/...  \n",
       "3  /Badge-Bible-Bigfoot-Ashley-Wright/dp/B09JMYV8...  \n",
       "4  /Sharknado-Global-Swarming-Ian-Ziering/dp/B07M...  "
      ]
     },
     "execution_count": 11,
     "metadata": {},
     "output_type": "execute_result"
    }
   ],
   "source": [
    "df_meta.head()"
   ]
  },
  {
   "cell_type": "markdown",
   "metadata": {},
   "source": [
    "Remove all the null and duplicate movie ids."
   ]
  },
  {
   "cell_type": "code",
   "execution_count": 12,
   "metadata": {},
   "outputs": [],
   "source": [
    "df_meta_rem = df_meta[~df_meta['movie_id'].isnull()]"
   ]
  },
  {
   "cell_type": "markdown",
   "metadata": {},
   "source": [
    "We can also see if there are any duplicates based on the imdb ID in our metadata file since it is a better metric."
   ]
  },
  {
   "cell_type": "code",
   "execution_count": 15,
   "metadata": {},
   "outputs": [
    {
     "data": {
      "text/html": [
       "<div>\n",
       "<style scoped>\n",
       "    .dataframe tbody tr th:only-of-type {\n",
       "        vertical-align: middle;\n",
       "    }\n",
       "\n",
       "    .dataframe tbody tr th {\n",
       "        vertical-align: top;\n",
       "    }\n",
       "\n",
       "    .dataframe thead th {\n",
       "        text-align: right;\n",
       "    }\n",
       "</style>\n",
       "<table border=\"1\" class=\"dataframe\">\n",
       "  <thead>\n",
       "    <tr style=\"text-align: right;\">\n",
       "      <th></th>\n",
       "      <th>title</th>\n",
       "      <th>movie_id</th>\n",
       "      <th>file</th>\n",
       "      <th>dir</th>\n",
       "      <th>synopsis</th>\n",
       "      <th>year</th>\n",
       "      <th>link</th>\n",
       "    </tr>\n",
       "  </thead>\n",
       "  <tbody>\n",
       "    <tr>\n",
       "      <th>367</th>\n",
       "      <td>Ponniyin Selvan Part 2 (Hindi)</td>\n",
       "      <td>22444570</td>\n",
       "      <td>3582_Ponniyin_Selvan_Part_2_Hindi</td>\n",
       "      <td>com</td>\n",
       "      <td>968 AD. The Pandyan assassins gather once agai...</td>\n",
       "      <td>2023.0</td>\n",
       "      <td>/Ponniyin-Selvan-Part-2-Hindi/dp/B0B791B4BJ/re...</td>\n",
       "    </tr>\n",
       "    <tr>\n",
       "      <th>430</th>\n",
       "      <td>Anni Manchi Sakunamule</td>\n",
       "      <td>14986032</td>\n",
       "      <td>1252_Anni_Manchi_Sakunamule</td>\n",
       "      <td>com</td>\n",
       "      <td>With the impact on interpersonal relationships...</td>\n",
       "      <td>2023.0</td>\n",
       "      <td>/Anni-Manchi-Sakunamule-Santosh-Sobhan/dp/B0BZ...</td>\n",
       "    </tr>\n",
       "    <tr>\n",
       "      <th>459</th>\n",
       "      <td>Vaarasudu</td>\n",
       "      <td>11998558</td>\n",
       "      <td>6194_Vaarasudu</td>\n",
       "      <td>com</td>\n",
       "      <td>Vijay, the prodigal son of business tycoon Raj...</td>\n",
       "      <td>2023.0</td>\n",
       "      <td>/Vaarasudu-Thalapathy-Vijay/dp/B0B8S31J5G/ref=...</td>\n",
       "    </tr>\n",
       "    <tr>\n",
       "      <th>539</th>\n",
       "      <td>K.G.F: Chapter 1 (Telugu)</td>\n",
       "      <td>7838252</td>\n",
       "      <td>1305_KGF_Chapter_1_Telugu</td>\n",
       "      <td>com</td>\n",
       "      <td>KGF Chapter 1 is a film based on the gold mine...</td>\n",
       "      <td>2018.0</td>\n",
       "      <td>/K-G-F-Chapter-1-Telugu-Yash/dp/B08KWQ4QMH/ref...</td>\n",
       "    </tr>\n",
       "    <tr>\n",
       "      <th>735</th>\n",
       "      <td>Raktha Sambandham</td>\n",
       "      <td>15175418</td>\n",
       "      <td>1484_Raktha_Sambandham</td>\n",
       "      <td>com</td>\n",
       "      <td>The story revolves around the sibling families...</td>\n",
       "      <td>2021.0</td>\n",
       "      <td>/Raktha-Sambandham-Jyotika/dp/B09HYB6T26/ref=s...</td>\n",
       "    </tr>\n",
       "    <tr>\n",
       "      <th>...</th>\n",
       "      <td>...</td>\n",
       "      <td>...</td>\n",
       "      <td>...</td>\n",
       "      <td>...</td>\n",
       "      <td>...</td>\n",
       "      <td>...</td>\n",
       "      <td>...</td>\n",
       "    </tr>\n",
       "    <tr>\n",
       "      <th>3472</th>\n",
       "      <td>A Lot Like Christmas (4K UHD)</td>\n",
       "      <td>16150870</td>\n",
       "      <td>1409_A_Lot_Like_Christmas_4K_UHD</td>\n",
       "      <td>after2020</td>\n",
       "      <td>Jessica Roberts owns the most popular Christma...</td>\n",
       "      <td>2021.0</td>\n",
       "      <td>/Lot-Like-Christmas-4K-UHD/dp/B0BP1YD4HY/ref=s...</td>\n",
       "    </tr>\n",
       "    <tr>\n",
       "      <th>3509</th>\n",
       "      <td>Balaga</td>\n",
       "      <td>26690825</td>\n",
       "      <td>162_Balaga</td>\n",
       "      <td>after2020</td>\n",
       "      <td>In a village in Telangana, a family head Komar...</td>\n",
       "      <td>2023.0</td>\n",
       "      <td>/Balaga-Priyadarshi/dp/B0C9P21961/ref=sr_1_171...</td>\n",
       "    </tr>\n",
       "    <tr>\n",
       "      <th>3519</th>\n",
       "      <td>The ProtÃ©gÃ©</td>\n",
       "      <td>6079772</td>\n",
       "      <td>907_The_Protege</td>\n",
       "      <td>after2020</td>\n",
       "      <td>Michael Keaton, Maggie Q, and Samuel L. Jackso...</td>\n",
       "      <td>2021.0</td>\n",
       "      <td>/Prot%C3%A9g%C3%A9-Michael-Keaton/dp/B09FKSV56...</td>\n",
       "    </tr>\n",
       "    <tr>\n",
       "      <th>3532</th>\n",
       "      <td>13aam Number Veedu</td>\n",
       "      <td>13242968</td>\n",
       "      <td>953_13aam_Number_Veedu</td>\n",
       "      <td>after2020</td>\n",
       "      <td>5 IT professionals staying together vacate the...</td>\n",
       "      <td>2020.0</td>\n",
       "      <td>/13aam-Number-Veedu-Ramana/dp/B08P2HM7DW/ref=s...</td>\n",
       "    </tr>\n",
       "    <tr>\n",
       "      <th>3549</th>\n",
       "      <td>Kick-Ass</td>\n",
       "      <td>1250777</td>\n",
       "      <td>3322_KickAss</td>\n",
       "      <td>in2010s</td>\n",
       "      <td>NaN</td>\n",
       "      <td>2010.0</td>\n",
       "      <td>/Kick-Ass-Aaron-Johnson/dp/B003Y6EL5W/ref=sr_1...</td>\n",
       "    </tr>\n",
       "  </tbody>\n",
       "</table>\n",
       "<p>98 rows × 7 columns</p>\n",
       "</div>"
      ],
      "text/plain": [
       "                               title  movie_id  \\\n",
       "367   Ponniyin Selvan Part 2 (Hindi)  22444570   \n",
       "430           Anni Manchi Sakunamule  14986032   \n",
       "459                        Vaarasudu  11998558   \n",
       "539        K.G.F: Chapter 1 (Telugu)   7838252   \n",
       "735                Raktha Sambandham  15175418   \n",
       "...                              ...       ...   \n",
       "3472   A Lot Like Christmas (4K UHD)  16150870   \n",
       "3509                          Balaga  26690825   \n",
       "3519                   The ProtÃ©gÃ©   6079772   \n",
       "3532              13aam Number Veedu  13242968   \n",
       "3549                        Kick-Ass   1250777   \n",
       "\n",
       "                                   file        dir  \\\n",
       "367   3582_Ponniyin_Selvan_Part_2_Hindi        com   \n",
       "430         1252_Anni_Manchi_Sakunamule        com   \n",
       "459                      6194_Vaarasudu        com   \n",
       "539           1305_KGF_Chapter_1_Telugu        com   \n",
       "735              1484_Raktha_Sambandham        com   \n",
       "...                                 ...        ...   \n",
       "3472   1409_A_Lot_Like_Christmas_4K_UHD  after2020   \n",
       "3509                         162_Balaga  after2020   \n",
       "3519                    907_The_Protege  after2020   \n",
       "3532             953_13aam_Number_Veedu  after2020   \n",
       "3549                       3322_KickAss    in2010s   \n",
       "\n",
       "                                               synopsis    year  \\\n",
       "367   968 AD. The Pandyan assassins gather once agai...  2023.0   \n",
       "430   With the impact on interpersonal relationships...  2023.0   \n",
       "459   Vijay, the prodigal son of business tycoon Raj...  2023.0   \n",
       "539   KGF Chapter 1 is a film based on the gold mine...  2018.0   \n",
       "735   The story revolves around the sibling families...  2021.0   \n",
       "...                                                 ...     ...   \n",
       "3472  Jessica Roberts owns the most popular Christma...  2021.0   \n",
       "3509  In a village in Telangana, a family head Komar...  2023.0   \n",
       "3519  Michael Keaton, Maggie Q, and Samuel L. Jackso...  2021.0   \n",
       "3532  5 IT professionals staying together vacate the...  2020.0   \n",
       "3549                                                NaN  2010.0   \n",
       "\n",
       "                                                   link  \n",
       "367   /Ponniyin-Selvan-Part-2-Hindi/dp/B0B791B4BJ/re...  \n",
       "430   /Anni-Manchi-Sakunamule-Santosh-Sobhan/dp/B0BZ...  \n",
       "459   /Vaarasudu-Thalapathy-Vijay/dp/B0B8S31J5G/ref=...  \n",
       "539   /K-G-F-Chapter-1-Telugu-Yash/dp/B08KWQ4QMH/ref...  \n",
       "735   /Raktha-Sambandham-Jyotika/dp/B09HYB6T26/ref=s...  \n",
       "...                                                 ...  \n",
       "3472  /Lot-Like-Christmas-4K-UHD/dp/B0BP1YD4HY/ref=s...  \n",
       "3509  /Balaga-Priyadarshi/dp/B0C9P21961/ref=sr_1_171...  \n",
       "3519  /Prot%C3%A9g%C3%A9-Michael-Keaton/dp/B09FKSV56...  \n",
       "3532  /13aam-Number-Veedu-Ramana/dp/B08P2HM7DW/ref=s...  \n",
       "3549  /Kick-Ass-Aaron-Johnson/dp/B003Y6EL5W/ref=sr_1...  \n",
       "\n",
       "[98 rows x 7 columns]"
      ]
     },
     "execution_count": 15,
     "metadata": {},
     "output_type": "execute_result"
    }
   ],
   "source": [
    "df_meta_rem[df_meta_rem['movie_id'].duplicated()]"
   ]
  },
  {
   "cell_type": "markdown",
   "metadata": {},
   "source": [
    "Merge the original validation file with the manually collected data."
   ]
  },
  {
   "cell_type": "code",
   "execution_count": 16,
   "metadata": {},
   "outputs": [],
   "source": [
    "df_meta_2 = df_unique.drop(['movie_id', 'match', 'notes'], axis=1).rename({'alt_id': 'movie_id'}, axis=1).reset_index(drop=True)"
   ]
  },
  {
   "cell_type": "code",
   "execution_count": 17,
   "metadata": {},
   "outputs": [],
   "source": [
    "df_meta_merged = pd.concat([df_meta_rem.reset_index(drop=True), df_meta_2])\n",
    "df_meta_merged = df_meta_merged[~df_meta_merged['movie_id'].duplicated()]"
   ]
  },
  {
   "cell_type": "code",
   "execution_count": 18,
   "metadata": {},
   "outputs": [
    {
     "data": {
      "text/html": [
       "<div>\n",
       "<style scoped>\n",
       "    .dataframe tbody tr th:only-of-type {\n",
       "        vertical-align: middle;\n",
       "    }\n",
       "\n",
       "    .dataframe tbody tr th {\n",
       "        vertical-align: top;\n",
       "    }\n",
       "\n",
       "    .dataframe thead th {\n",
       "        text-align: right;\n",
       "    }\n",
       "</style>\n",
       "<table border=\"1\" class=\"dataframe\">\n",
       "  <thead>\n",
       "    <tr style=\"text-align: right;\">\n",
       "      <th></th>\n",
       "      <th>title</th>\n",
       "      <th>movie_id</th>\n",
       "      <th>file</th>\n",
       "      <th>dir</th>\n",
       "      <th>synopsis</th>\n",
       "      <th>year</th>\n",
       "      <th>link</th>\n",
       "    </tr>\n",
       "  </thead>\n",
       "  <tbody>\n",
       "  </tbody>\n",
       "</table>\n",
       "</div>"
      ],
      "text/plain": [
       "Empty DataFrame\n",
       "Columns: [title, movie_id, file, dir, synopsis, year, link]\n",
       "Index: []"
      ]
     },
     "execution_count": 18,
     "metadata": {},
     "output_type": "execute_result"
    }
   ],
   "source": [
    "df_meta_merged[df_meta_merged['movie_id'].duplicated()]"
   ]
  },
  {
   "cell_type": "markdown",
   "metadata": {},
   "source": [
    "There are no duplicates left which is good."
   ]
  },
  {
   "cell_type": "code",
   "execution_count": 19,
   "metadata": {},
   "outputs": [
    {
     "data": {
      "text/plain": [
       "(3374, 7)"
      ]
     },
     "execution_count": 19,
     "metadata": {},
     "output_type": "execute_result"
    }
   ],
   "source": [
    "df_meta_merged.shape"
   ]
  },
  {
   "cell_type": "code",
   "execution_count": 20,
   "metadata": {},
   "outputs": [],
   "source": [
    "df_meta_merged.to_csv(f\"{METADATA_DIR}/final_validated_metadata.csv\", index=False)"
   ]
  }
 ],
 "metadata": {
  "kernelspec": {
   "display_name": "Python 3",
   "language": "python",
   "name": "python3"
  },
  "language_info": {
   "codemirror_mode": {
    "name": "ipython",
    "version": 3
   },
   "file_extension": ".py",
   "mimetype": "text/x-python",
   "name": "python",
   "nbconvert_exporter": "python",
   "pygments_lexer": "ipython3",
   "version": "3.11.3"
  }
 },
 "nbformat": 4,
 "nbformat_minor": 2
}
