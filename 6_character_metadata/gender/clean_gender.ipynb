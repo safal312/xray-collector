{
 "cells": [
  {
   "cell_type": "code",
   "execution_count": 43,
   "metadata": {},
   "outputs": [],
   "source": [
    "import pandas as pd"
   ]
  },
  {
   "cell_type": "code",
   "execution_count": 44,
   "metadata": {},
   "outputs": [],
   "source": [
    "df = pd.read_csv(\"all_people_gender.csv\", encoding_errors='ignore')"
   ]
  },
  {
   "cell_type": "code",
   "execution_count": 45,
   "metadata": {},
   "outputs": [
    {
     "data": {
      "text/html": [
       "<div>\n",
       "<style scoped>\n",
       "    .dataframe tbody tr th:only-of-type {\n",
       "        vertical-align: middle;\n",
       "    }\n",
       "\n",
       "    .dataframe tbody tr th {\n",
       "        vertical-align: top;\n",
       "    }\n",
       "\n",
       "    .dataframe thead th {\n",
       "        text-align: right;\n",
       "    }\n",
       "</style>\n",
       "<table border=\"1\" class=\"dataframe\">\n",
       "  <thead>\n",
       "    <tr style=\"text-align: right;\">\n",
       "      <th></th>\n",
       "      <th>id</th>\n",
       "      <th>person</th>\n",
       "      <th>character</th>\n",
       "      <th>movie</th>\n",
       "      <th>name_id</th>\n",
       "      <th>gender</th>\n",
       "    </tr>\n",
       "  </thead>\n",
       "  <tbody>\n",
       "    <tr>\n",
       "      <th>0</th>\n",
       "      <td>/name/nm1799971/Rafaella</td>\n",
       "      <td>Marta Hazas</td>\n",
       "      <td>Rafaella</td>\n",
       "      <td>0_My_Fault</td>\n",
       "      <td>nm1799971</td>\n",
       "      <td>Actress/Soundtrack</td>\n",
       "    </tr>\n",
       "    <tr>\n",
       "      <th>1</th>\n",
       "      <td>/name/nm2338819/Betty</td>\n",
       "      <td>Eve Ryan</td>\n",
       "      <td>Betty</td>\n",
       "      <td>0_My_Fault</td>\n",
       "      <td>nm2338819</td>\n",
       "      <td>Actress</td>\n",
       "    </tr>\n",
       "    <tr>\n",
       "      <th>2</th>\n",
       "      <td>/name/nm5913850/Noah</td>\n",
       "      <td>Nicole Wallace</td>\n",
       "      <td>Noah</td>\n",
       "      <td>0_My_Fault</td>\n",
       "      <td>nm5913850</td>\n",
       "      <td>Actress</td>\n",
       "    </tr>\n",
       "    <tr>\n",
       "      <th>3</th>\n",
       "      <td>/name/nm1293644/Padre Noah</td>\n",
       "      <td>Ivan Massagué</td>\n",
       "      <td>Padre Noah</td>\n",
       "      <td>0_My_Fault</td>\n",
       "      <td>nm1293644</td>\n",
       "      <td>Actor/Soundtrack</td>\n",
       "    </tr>\n",
       "    <tr>\n",
       "      <th>4</th>\n",
       "      <td>/name/nm1107138/Martin</td>\n",
       "      <td>Mariano Venancio</td>\n",
       "      <td>Martin</td>\n",
       "      <td>0_My_Fault</td>\n",
       "      <td>nm1107138</td>\n",
       "      <td>Actor/Soundtrack</td>\n",
       "    </tr>\n",
       "  </tbody>\n",
       "</table>\n",
       "</div>"
      ],
      "text/plain": [
       "                           id            person   character       movie  \\\n",
       "0    /name/nm1799971/Rafaella       Marta Hazas    Rafaella  0_My_Fault   \n",
       "1       /name/nm2338819/Betty          Eve Ryan       Betty  0_My_Fault   \n",
       "2        /name/nm5913850/Noah    Nicole Wallace        Noah  0_My_Fault   \n",
       "3  /name/nm1293644/Padre Noah     Ivan Massagué  Padre Noah  0_My_Fault   \n",
       "4      /name/nm1107138/Martin  Mariano Venancio      Martin  0_My_Fault   \n",
       "\n",
       "     name_id              gender  \n",
       "0  nm1799971  Actress/Soundtrack  \n",
       "1  nm2338819             Actress  \n",
       "2  nm5913850             Actress  \n",
       "3  nm1293644    Actor/Soundtrack  \n",
       "4  nm1107138    Actor/Soundtrack  "
      ]
     },
     "execution_count": 45,
     "metadata": {},
     "output_type": "execute_result"
    }
   ],
   "source": [
    "df.head()"
   ]
  },
  {
   "cell_type": "code",
   "execution_count": 46,
   "metadata": {},
   "outputs": [
    {
     "data": {
      "text/plain": [
       "(49260, 6)"
      ]
     },
     "execution_count": 46,
     "metadata": {},
     "output_type": "execute_result"
    }
   ],
   "source": [
    "df.shape"
   ]
  },
  {
   "cell_type": "code",
   "execution_count": 47,
   "metadata": {},
   "outputs": [
    {
     "data": {
      "text/plain": [
       "1397"
      ]
     },
     "execution_count": 47,
     "metadata": {},
     "output_type": "execute_result"
    }
   ],
   "source": [
    "sum(df['gender'].isnull())"
   ]
  },
  {
   "cell_type": "code",
   "execution_count": 48,
   "metadata": {},
   "outputs": [],
   "source": [
    "df_sub = df[~df['gender'].isnull()]"
   ]
  },
  {
   "cell_type": "code",
   "execution_count": 49,
   "metadata": {},
   "outputs": [
    {
     "data": {
      "text/plain": [
       "(47863, 6)"
      ]
     },
     "execution_count": 49,
     "metadata": {},
     "output_type": "execute_result"
    }
   ],
   "source": [
    "df_sub.shape"
   ]
  },
  {
   "cell_type": "code",
   "execution_count": 33,
   "metadata": {},
   "outputs": [
    {
     "data": {
      "text/plain": [
       "0"
      ]
     },
     "execution_count": 33,
     "metadata": {},
     "output_type": "execute_result"
    }
   ],
   "source": [
    "# sanity check to see that no one is labelled as both Actor and Actress\n",
    "sum(df_sub[df_sub['gender'].str.contains('Actor')]['gender'].str.contains('Actress'))"
   ]
  },
  {
   "cell_type": "code",
   "execution_count": 51,
   "metadata": {},
   "outputs": [
    {
     "data": {
      "text/html": [
       "<div>\n",
       "<style scoped>\n",
       "    .dataframe tbody tr th:only-of-type {\n",
       "        vertical-align: middle;\n",
       "    }\n",
       "\n",
       "    .dataframe tbody tr th {\n",
       "        vertical-align: top;\n",
       "    }\n",
       "\n",
       "    .dataframe thead th {\n",
       "        text-align: right;\n",
       "    }\n",
       "</style>\n",
       "<table border=\"1\" class=\"dataframe\">\n",
       "  <thead>\n",
       "    <tr style=\"text-align: right;\">\n",
       "      <th></th>\n",
       "      <th>id</th>\n",
       "      <th>person</th>\n",
       "      <th>character</th>\n",
       "      <th>movie</th>\n",
       "      <th>name_id</th>\n",
       "      <th>gender</th>\n",
       "    </tr>\n",
       "  </thead>\n",
       "  <tbody>\n",
       "    <tr>\n",
       "      <th>25</th>\n",
       "      <td>/name/nm7379431/Self</td>\n",
       "      <td>Seth Breedlove</td>\n",
       "      <td>Self</td>\n",
       "      <td>1000_On_The_Trail_of_UFOS_Dark_Sky</td>\n",
       "      <td>nm7379431</td>\n",
       "      <td>Producer/Director/Editor</td>\n",
       "    </tr>\n",
       "    <tr>\n",
       "      <th>32</th>\n",
       "      <td>/name/nm9160910/Self</td>\n",
       "      <td>Mark Matzke</td>\n",
       "      <td>Self</td>\n",
       "      <td>1000_On_The_Trail_of_UFOS_Dark_Sky</td>\n",
       "      <td>nm9160910</td>\n",
       "      <td>Producer/Writer/Additional Crew</td>\n",
       "    </tr>\n",
       "    <tr>\n",
       "      <th>133</th>\n",
       "      <td>/name/nm2095817/Mike McAlister</td>\n",
       "      <td>Jody Hill</td>\n",
       "      <td>Mike McAlister</td>\n",
       "      <td>5604_The_Foot_Fist_Way</td>\n",
       "      <td>nm2095817</td>\n",
       "      <td>Producer/Writer/Director</td>\n",
       "    </tr>\n",
       "    <tr>\n",
       "      <th>138</th>\n",
       "      <td>/name/nm4259129/Emmanuel</td>\n",
       "      <td>Joseph Stephens</td>\n",
       "      <td>Emmanuel</td>\n",
       "      <td>5604_The_Foot_Fist_Way</td>\n",
       "      <td>nm4259129</td>\n",
       "      <td>Composer/Music Department/Sound Department</td>\n",
       "    </tr>\n",
       "    <tr>\n",
       "      <th>166</th>\n",
       "      <td>/name/nm3755774/Ned</td>\n",
       "      <td>Jake Van Wagoner</td>\n",
       "      <td>Ned</td>\n",
       "      <td>1010_Christmas_BreakIn</td>\n",
       "      <td>nm3755774</td>\n",
       "      <td>Director/Producer/Writer</td>\n",
       "    </tr>\n",
       "    <tr>\n",
       "      <th>...</th>\n",
       "      <td>...</td>\n",
       "      <td>...</td>\n",
       "      <td>...</td>\n",
       "      <td>...</td>\n",
       "      <td>...</td>\n",
       "      <td>...</td>\n",
       "    </tr>\n",
       "    <tr>\n",
       "      <th>48893</th>\n",
       "      <td>/name/nm2684350/D Lok</td>\n",
       "      <td>D. Miles</td>\n",
       "      <td>D Lok</td>\n",
       "      <td>5590_Caged_Animal</td>\n",
       "      <td>nm2684350</td>\n",
       "      <td>Producer/Writer/Director</td>\n",
       "    </tr>\n",
       "    <tr>\n",
       "      <th>48977</th>\n",
       "      <td>/name/nm0876357/Assistant</td>\n",
       "      <td>Kathleen Tull</td>\n",
       "      <td>Assistant</td>\n",
       "      <td>2850_In_the_Electric_Mist</td>\n",
       "      <td>nm0876357</td>\n",
       "      <td>Second Unit Director or Assistant Director/Pro...</td>\n",
       "    </tr>\n",
       "    <tr>\n",
       "      <th>49062</th>\n",
       "      <td>/name/nm0086014/Patrick</td>\n",
       "      <td>Richard Blade</td>\n",
       "      <td>Patrick</td>\n",
       "      <td>5592_Long_Lost_Son</td>\n",
       "      <td>nm0086014</td>\n",
       "      <td>Writer/Producer/Director</td>\n",
       "    </tr>\n",
       "    <tr>\n",
       "      <th>49217</th>\n",
       "      <td>/name/nm5501766/Geeky Boy</td>\n",
       "      <td>Bhanu Pratap Singh</td>\n",
       "      <td>Geeky Boy</td>\n",
       "      <td>3679_Humpty_Sharma_Ki_Dulhania</td>\n",
       "      <td>nm5501766</td>\n",
       "      <td>Writer/Director/Second Unit Director or Assist...</td>\n",
       "    </tr>\n",
       "    <tr>\n",
       "      <th>49226</th>\n",
       "      <td>/name/nm2571852/Filmmaker</td>\n",
       "      <td>Turner Clay</td>\n",
       "      <td>Filmmaker</td>\n",
       "      <td>5598_The_Blackwell_Ghost</td>\n",
       "      <td>nm2571852</td>\n",
       "      <td>Producer/Director/Editor</td>\n",
       "    </tr>\n",
       "  </tbody>\n",
       "</table>\n",
       "<p>950 rows × 6 columns</p>\n",
       "</div>"
      ],
      "text/plain": [
       "                                   id              person       character  \\\n",
       "25               /name/nm7379431/Self      Seth Breedlove            Self   \n",
       "32               /name/nm9160910/Self         Mark Matzke            Self   \n",
       "133    /name/nm2095817/Mike McAlister           Jody Hill  Mike McAlister   \n",
       "138          /name/nm4259129/Emmanuel     Joseph Stephens        Emmanuel   \n",
       "166               /name/nm3755774/Ned    Jake Van Wagoner             Ned   \n",
       "...                               ...                 ...             ...   \n",
       "48893           /name/nm2684350/D Lok            D. Miles           D Lok   \n",
       "48977       /name/nm0876357/Assistant       Kathleen Tull       Assistant   \n",
       "49062         /name/nm0086014/Patrick       Richard Blade         Patrick   \n",
       "49217       /name/nm5501766/Geeky Boy  Bhanu Pratap Singh       Geeky Boy   \n",
       "49226       /name/nm2571852/Filmmaker         Turner Clay       Filmmaker   \n",
       "\n",
       "                                    movie    name_id  \\\n",
       "25     1000_On_The_Trail_of_UFOS_Dark_Sky  nm7379431   \n",
       "32     1000_On_The_Trail_of_UFOS_Dark_Sky  nm9160910   \n",
       "133                5604_The_Foot_Fist_Way  nm2095817   \n",
       "138                5604_The_Foot_Fist_Way  nm4259129   \n",
       "166                1010_Christmas_BreakIn  nm3755774   \n",
       "...                                   ...        ...   \n",
       "48893                   5590_Caged_Animal  nm2684350   \n",
       "48977           2850_In_the_Electric_Mist  nm0876357   \n",
       "49062                  5592_Long_Lost_Son  nm0086014   \n",
       "49217      3679_Humpty_Sharma_Ki_Dulhania  nm5501766   \n",
       "49226            5598_The_Blackwell_Ghost  nm2571852   \n",
       "\n",
       "                                                  gender  \n",
       "25                              Producer/Director/Editor  \n",
       "32                       Producer/Writer/Additional Crew  \n",
       "133                             Producer/Writer/Director  \n",
       "138           Composer/Music Department/Sound Department  \n",
       "166                             Director/Producer/Writer  \n",
       "...                                                  ...  \n",
       "48893                           Producer/Writer/Director  \n",
       "48977  Second Unit Director or Assistant Director/Pro...  \n",
       "49062                           Writer/Producer/Director  \n",
       "49217  Writer/Director/Second Unit Director or Assist...  \n",
       "49226                           Producer/Director/Editor  \n",
       "\n",
       "[950 rows x 6 columns]"
      ]
     },
     "execution_count": 51,
     "metadata": {},
     "output_type": "execute_result"
    }
   ],
   "source": [
    "df_sides = df_sub[~df_sub['gender'].str.contains('Actor|Actress')]\n",
    "df_sides"
   ]
  },
  {
   "cell_type": "code",
   "execution_count": 56,
   "metadata": {},
   "outputs": [],
   "source": [
    "missing_gender = pd.concat([df[df['gender'].isnull()], df_sides])"
   ]
  },
  {
   "cell_type": "code",
   "execution_count": 57,
   "metadata": {},
   "outputs": [
    {
     "data": {
      "text/plain": [
       "(2347, 6)"
      ]
     },
     "execution_count": 57,
     "metadata": {},
     "output_type": "execute_result"
    }
   ],
   "source": [
    "missing_gender.shape"
   ]
  },
  {
   "cell_type": "code",
   "execution_count": 58,
   "metadata": {},
   "outputs": [],
   "source": [
    "missing_gender.to_csv(\"missing_gender.csv\", index=False)"
   ]
  }
 ],
 "metadata": {
  "kernelspec": {
   "display_name": "env",
   "language": "python",
   "name": "python3"
  },
  "language_info": {
   "codemirror_mode": {
    "name": "ipython",
    "version": 3
   },
   "file_extension": ".py",
   "mimetype": "text/x-python",
   "name": "python",
   "nbconvert_exporter": "python",
   "pygments_lexer": "ipython3",
   "version": "3.11.3"
  },
  "orig_nbformat": 4
 },
 "nbformat": 4,
 "nbformat_minor": 2
}
