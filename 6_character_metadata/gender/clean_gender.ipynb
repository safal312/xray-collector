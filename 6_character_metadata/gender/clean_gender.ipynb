{
 "cells": [
  {
   "cell_type": "code",
   "execution_count": 24,
   "metadata": {},
   "outputs": [],
   "source": [
    "import pandas as pd"
   ]
  },
  {
   "cell_type": "code",
   "execution_count": 25,
   "metadata": {},
   "outputs": [],
   "source": [
    "df = pd.read_csv(\"all_people_gender.csv\", encoding_errors='ignore')"
   ]
  },
  {
   "cell_type": "code",
   "execution_count": 26,
   "metadata": {},
   "outputs": [
    {
     "data": {
      "text/html": [
       "<div>\n",
       "<style scoped>\n",
       "    .dataframe tbody tr th:only-of-type {\n",
       "        vertical-align: middle;\n",
       "    }\n",
       "\n",
       "    .dataframe tbody tr th {\n",
       "        vertical-align: top;\n",
       "    }\n",
       "\n",
       "    .dataframe thead th {\n",
       "        text-align: right;\n",
       "    }\n",
       "</style>\n",
       "<table border=\"1\" class=\"dataframe\">\n",
       "  <thead>\n",
       "    <tr style=\"text-align: right;\">\n",
       "      <th></th>\n",
       "      <th>id</th>\n",
       "      <th>person</th>\n",
       "      <th>character</th>\n",
       "      <th>movie</th>\n",
       "      <th>name_id</th>\n",
       "      <th>gender</th>\n",
       "    </tr>\n",
       "  </thead>\n",
       "  <tbody>\n",
       "    <tr>\n",
       "      <th>0</th>\n",
       "      <td>/name/nm1799971/Rafaella</td>\n",
       "      <td>Marta Hazas</td>\n",
       "      <td>Rafaella</td>\n",
       "      <td>0_My_Fault</td>\n",
       "      <td>nm1799971</td>\n",
       "      <td>Actress/Soundtrack</td>\n",
       "    </tr>\n",
       "    <tr>\n",
       "      <th>1</th>\n",
       "      <td>/name/nm2338819/Betty</td>\n",
       "      <td>Eve Ryan</td>\n",
       "      <td>Betty</td>\n",
       "      <td>0_My_Fault</td>\n",
       "      <td>nm2338819</td>\n",
       "      <td>Actress</td>\n",
       "    </tr>\n",
       "    <tr>\n",
       "      <th>2</th>\n",
       "      <td>/name/nm5913850/Noah</td>\n",
       "      <td>Nicole Wallace</td>\n",
       "      <td>Noah</td>\n",
       "      <td>0_My_Fault</td>\n",
       "      <td>nm5913850</td>\n",
       "      <td>Actress</td>\n",
       "    </tr>\n",
       "    <tr>\n",
       "      <th>3</th>\n",
       "      <td>/name/nm1293644/Padre Noah</td>\n",
       "      <td>Ivan Massagué</td>\n",
       "      <td>Padre Noah</td>\n",
       "      <td>0_My_Fault</td>\n",
       "      <td>nm1293644</td>\n",
       "      <td>Actor/Soundtrack</td>\n",
       "    </tr>\n",
       "    <tr>\n",
       "      <th>4</th>\n",
       "      <td>/name/nm1107138/Martin</td>\n",
       "      <td>Mariano Venancio</td>\n",
       "      <td>Martin</td>\n",
       "      <td>0_My_Fault</td>\n",
       "      <td>nm1107138</td>\n",
       "      <td>Actor/Soundtrack</td>\n",
       "    </tr>\n",
       "  </tbody>\n",
       "</table>\n",
       "</div>"
      ],
      "text/plain": [
       "                           id            person   character       movie  \\\n",
       "0    /name/nm1799971/Rafaella       Marta Hazas    Rafaella  0_My_Fault   \n",
       "1       /name/nm2338819/Betty          Eve Ryan       Betty  0_My_Fault   \n",
       "2        /name/nm5913850/Noah    Nicole Wallace        Noah  0_My_Fault   \n",
       "3  /name/nm1293644/Padre Noah     Ivan Massagué  Padre Noah  0_My_Fault   \n",
       "4      /name/nm1107138/Martin  Mariano Venancio      Martin  0_My_Fault   \n",
       "\n",
       "     name_id              gender  \n",
       "0  nm1799971  Actress/Soundtrack  \n",
       "1  nm2338819             Actress  \n",
       "2  nm5913850             Actress  \n",
       "3  nm1293644    Actor/Soundtrack  \n",
       "4  nm1107138    Actor/Soundtrack  "
      ]
     },
     "execution_count": 26,
     "metadata": {},
     "output_type": "execute_result"
    }
   ],
   "source": [
    "df.head()"
   ]
  },
  {
   "cell_type": "markdown",
   "metadata": {},
   "source": [
    "There's one entry with no name id. That's why all_people_gender_parsed has one less entry."
   ]
  },
  {
   "cell_type": "code",
   "execution_count": 27,
   "metadata": {},
   "outputs": [
    {
     "data": {
      "text/plain": [
       "1"
      ]
     },
     "execution_count": 27,
     "metadata": {},
     "output_type": "execute_result"
    }
   ],
   "source": [
    "df['name_id'].isnull().sum()"
   ]
  },
  {
   "cell_type": "code",
   "execution_count": 28,
   "metadata": {},
   "outputs": [
    {
     "data": {
      "text/plain": [
       "(49876, 6)"
      ]
     },
     "execution_count": 28,
     "metadata": {},
     "output_type": "execute_result"
    }
   ],
   "source": [
    "df.shape"
   ]
  },
  {
   "cell_type": "code",
   "execution_count": 5,
   "metadata": {},
   "outputs": [
    {
     "data": {
      "text/plain": [
       "1414"
      ]
     },
     "execution_count": 5,
     "metadata": {},
     "output_type": "execute_result"
    }
   ],
   "source": [
    "sum(df['gender'].isnull())"
   ]
  },
  {
   "cell_type": "code",
   "execution_count": 6,
   "metadata": {},
   "outputs": [],
   "source": [
    "df_sub = df[~df['gender'].isnull()]"
   ]
  },
  {
   "cell_type": "code",
   "execution_count": 7,
   "metadata": {},
   "outputs": [
    {
     "data": {
      "text/plain": [
       "(48462, 6)"
      ]
     },
     "execution_count": 7,
     "metadata": {},
     "output_type": "execute_result"
    }
   ],
   "source": [
    "df_sub.shape"
   ]
  },
  {
   "cell_type": "code",
   "execution_count": 8,
   "metadata": {},
   "outputs": [
    {
     "data": {
      "text/plain": [
       "0"
      ]
     },
     "execution_count": 8,
     "metadata": {},
     "output_type": "execute_result"
    }
   ],
   "source": [
    "# sanity check to see that no one is labelled as both Actor and Actress\n",
    "sum(df_sub[df_sub['gender'].str.contains('Actor')]['gender'].str.contains('Actress'))"
   ]
  },
  {
   "cell_type": "code",
   "execution_count": 9,
   "metadata": {},
   "outputs": [
    {
     "data": {
      "text/plain": [
       "47501"
      ]
     },
     "execution_count": 9,
     "metadata": {},
     "output_type": "execute_result"
    }
   ],
   "source": [
    "sum(df_sub['gender'].str.contains('Actor|Actress'))"
   ]
  },
  {
   "cell_type": "code",
   "execution_count": 11,
   "metadata": {},
   "outputs": [
    {
     "data": {
      "text/html": [
       "<div>\n",
       "<style scoped>\n",
       "    .dataframe tbody tr th:only-of-type {\n",
       "        vertical-align: middle;\n",
       "    }\n",
       "\n",
       "    .dataframe tbody tr th {\n",
       "        vertical-align: top;\n",
       "    }\n",
       "\n",
       "    .dataframe thead th {\n",
       "        text-align: right;\n",
       "    }\n",
       "</style>\n",
       "<table border=\"1\" class=\"dataframe\">\n",
       "  <thead>\n",
       "    <tr style=\"text-align: right;\">\n",
       "      <th></th>\n",
       "      <th>id</th>\n",
       "      <th>person</th>\n",
       "      <th>character</th>\n",
       "      <th>movie</th>\n",
       "      <th>name_id</th>\n",
       "      <th>tag</th>\n",
       "      <th>gender_named</th>\n",
       "    </tr>\n",
       "  </thead>\n",
       "  <tbody>\n",
       "    <tr>\n",
       "      <th>0</th>\n",
       "      <td>/name/nm1799971/Rafaella</td>\n",
       "      <td>Marta Hazas</td>\n",
       "      <td>Rafaella</td>\n",
       "      <td>0_My_Fault</td>\n",
       "      <td>nm1799971</td>\n",
       "      <td>Actress/Soundtrack</td>\n",
       "      <td>F</td>\n",
       "    </tr>\n",
       "    <tr>\n",
       "      <th>1</th>\n",
       "      <td>/name/nm2338819/Betty</td>\n",
       "      <td>Eve Ryan</td>\n",
       "      <td>Betty</td>\n",
       "      <td>0_My_Fault</td>\n",
       "      <td>nm2338819</td>\n",
       "      <td>Actress</td>\n",
       "      <td>F</td>\n",
       "    </tr>\n",
       "    <tr>\n",
       "      <th>2</th>\n",
       "      <td>/name/nm5913850/Noah</td>\n",
       "      <td>Nicole Wallace</td>\n",
       "      <td>Noah</td>\n",
       "      <td>0_My_Fault</td>\n",
       "      <td>nm5913850</td>\n",
       "      <td>Actress</td>\n",
       "      <td>F</td>\n",
       "    </tr>\n",
       "    <tr>\n",
       "      <th>3</th>\n",
       "      <td>/name/nm1293644/Padre Noah</td>\n",
       "      <td>Ivan Massagué</td>\n",
       "      <td>Padre Noah</td>\n",
       "      <td>0_My_Fault</td>\n",
       "      <td>nm1293644</td>\n",
       "      <td>Actor/Soundtrack</td>\n",
       "      <td>M</td>\n",
       "    </tr>\n",
       "    <tr>\n",
       "      <th>4</th>\n",
       "      <td>/name/nm1107138/Martin</td>\n",
       "      <td>Mariano Venancio</td>\n",
       "      <td>Martin</td>\n",
       "      <td>0_My_Fault</td>\n",
       "      <td>nm1107138</td>\n",
       "      <td>Actor/Soundtrack</td>\n",
       "      <td>M</td>\n",
       "    </tr>\n",
       "    <tr>\n",
       "      <th>...</th>\n",
       "      <td>...</td>\n",
       "      <td>...</td>\n",
       "      <td>...</td>\n",
       "      <td>...</td>\n",
       "      <td>...</td>\n",
       "      <td>...</td>\n",
       "      <td>...</td>\n",
       "    </tr>\n",
       "    <tr>\n",
       "      <th>49871</th>\n",
       "      <td>/name/nm12663307/Sansarik News Anchor</td>\n",
       "      <td>Pratik Kothari</td>\n",
       "      <td>Sansarik News Anchor</td>\n",
       "      <td>986_Sherni</td>\n",
       "      <td>nm12663307</td>\n",
       "      <td>Actor</td>\n",
       "      <td>M</td>\n",
       "    </tr>\n",
       "    <tr>\n",
       "      <th>49872</th>\n",
       "      <td>/name/nm11655824/WNC 50, News Anchor</td>\n",
       "      <td>Sonia Shrivastava</td>\n",
       "      <td>WNC 50, News Anchor</td>\n",
       "      <td>986_Sherni</td>\n",
       "      <td>nm11655824</td>\n",
       "      <td>Actress</td>\n",
       "      <td>F</td>\n",
       "    </tr>\n",
       "    <tr>\n",
       "      <th>49873</th>\n",
       "      <td>/name/nm12663427/Drone Operator</td>\n",
       "      <td>Sumit Upwanshi</td>\n",
       "      <td>Drone Operator</td>\n",
       "      <td>986_Sherni</td>\n",
       "      <td>nm12663427</td>\n",
       "      <td>Actor</td>\n",
       "      <td>M</td>\n",
       "    </tr>\n",
       "    <tr>\n",
       "      <th>49874</th>\n",
       "      <td>/name/nm12663438/Informant on Bike</td>\n",
       "      <td>Monu Garve</td>\n",
       "      <td>Informant on Bike</td>\n",
       "      <td>986_Sherni</td>\n",
       "      <td>nm12663438</td>\n",
       "      <td>Actor</td>\n",
       "      <td>M</td>\n",
       "    </tr>\n",
       "    <tr>\n",
       "      <th>49875</th>\n",
       "      <td>/name/nm12663439/Informant on Bike</td>\n",
       "      <td>Sameer Khan</td>\n",
       "      <td>Informant on Bike</td>\n",
       "      <td>986_Sherni</td>\n",
       "      <td>nm12663439</td>\n",
       "      <td>Actor</td>\n",
       "      <td>M</td>\n",
       "    </tr>\n",
       "  </tbody>\n",
       "</table>\n",
       "<p>48462 rows × 7 columns</p>\n",
       "</div>"
      ],
      "text/plain": [
       "                                          id             person  \\\n",
       "0                   /name/nm1799971/Rafaella        Marta Hazas   \n",
       "1                      /name/nm2338819/Betty           Eve Ryan   \n",
       "2                       /name/nm5913850/Noah     Nicole Wallace   \n",
       "3                 /name/nm1293644/Padre Noah      Ivan Massagué   \n",
       "4                     /name/nm1107138/Martin   Mariano Venancio   \n",
       "...                                      ...                ...   \n",
       "49871  /name/nm12663307/Sansarik News Anchor     Pratik Kothari   \n",
       "49872   /name/nm11655824/WNC 50, News Anchor  Sonia Shrivastava   \n",
       "49873        /name/nm12663427/Drone Operator     Sumit Upwanshi   \n",
       "49874     /name/nm12663438/Informant on Bike         Monu Garve   \n",
       "49875     /name/nm12663439/Informant on Bike        Sameer Khan   \n",
       "\n",
       "                  character       movie     name_id                 tag  \\\n",
       "0                  Rafaella  0_My_Fault   nm1799971  Actress/Soundtrack   \n",
       "1                     Betty  0_My_Fault   nm2338819             Actress   \n",
       "2                      Noah  0_My_Fault   nm5913850             Actress   \n",
       "3                Padre Noah  0_My_Fault   nm1293644    Actor/Soundtrack   \n",
       "4                    Martin  0_My_Fault   nm1107138    Actor/Soundtrack   \n",
       "...                     ...         ...         ...                 ...   \n",
       "49871  Sansarik News Anchor  986_Sherni  nm12663307               Actor   \n",
       "49872   WNC 50, News Anchor  986_Sherni  nm11655824             Actress   \n",
       "49873        Drone Operator  986_Sherni  nm12663427               Actor   \n",
       "49874     Informant on Bike  986_Sherni  nm12663438               Actor   \n",
       "49875     Informant on Bike  986_Sherni  nm12663439               Actor   \n",
       "\n",
       "      gender_named  \n",
       "0                F  \n",
       "1                F  \n",
       "2                F  \n",
       "3                M  \n",
       "4                M  \n",
       "...            ...  \n",
       "49871            M  \n",
       "49872            F  \n",
       "49873            M  \n",
       "49874            M  \n",
       "49875            M  \n",
       "\n",
       "[48462 rows x 7 columns]"
      ]
     },
     "execution_count": 11,
     "metadata": {},
     "output_type": "execute_result"
    }
   ],
   "source": [
    "# sum(df_sub['gender'].str.contains('Actor')), sum(df_sub['gender'].str.contains('Actress'))\n",
    "df_sub_g = df_sub.copy()\n",
    "df_sub_g['gender_named'] = None\n",
    "df_sub_g.loc[df_sub_g['gender'].str.contains('Actor'),'gender_named'] = \"M\"\n",
    "df_sub_g.loc[df_sub_g['gender'].str.contains('Actress'),'gender_named'] = \"F\"\n",
    "df_sub_g = df_sub_g.rename(columns={'gender':'tag'})\n",
    "df_sub_g"
   ]
  },
  {
   "cell_type": "code",
   "execution_count": 12,
   "metadata": {},
   "outputs": [
    {
     "data": {
      "text/plain": [
       "47501"
      ]
     },
     "execution_count": 12,
     "metadata": {},
     "output_type": "execute_result"
    }
   ],
   "source": [
    "sum(~df_sub_g['gender_named'].isnull())"
   ]
  },
  {
   "cell_type": "code",
   "execution_count": 13,
   "metadata": {},
   "outputs": [],
   "source": [
    "df_sub_g.to_csv(\"all_people_gender_parsed.csv\", index=False)"
   ]
  },
  {
   "cell_type": "code",
   "execution_count": 14,
   "metadata": {},
   "outputs": [
    {
     "data": {
      "text/html": [
       "<div>\n",
       "<style scoped>\n",
       "    .dataframe tbody tr th:only-of-type {\n",
       "        vertical-align: middle;\n",
       "    }\n",
       "\n",
       "    .dataframe tbody tr th {\n",
       "        vertical-align: top;\n",
       "    }\n",
       "\n",
       "    .dataframe thead th {\n",
       "        text-align: right;\n",
       "    }\n",
       "</style>\n",
       "<table border=\"1\" class=\"dataframe\">\n",
       "  <thead>\n",
       "    <tr style=\"text-align: right;\">\n",
       "      <th></th>\n",
       "      <th>id</th>\n",
       "      <th>person</th>\n",
       "      <th>character</th>\n",
       "      <th>movie</th>\n",
       "      <th>name_id</th>\n",
       "      <th>gender</th>\n",
       "    </tr>\n",
       "  </thead>\n",
       "  <tbody>\n",
       "    <tr>\n",
       "      <th>25</th>\n",
       "      <td>/name/nm7379431/Self</td>\n",
       "      <td>Seth Breedlove</td>\n",
       "      <td>Self</td>\n",
       "      <td>1000_On_The_Trail_of_UFOS_Dark_Sky</td>\n",
       "      <td>nm7379431</td>\n",
       "      <td>Producer/Director/Editor</td>\n",
       "    </tr>\n",
       "    <tr>\n",
       "      <th>32</th>\n",
       "      <td>/name/nm9160910/Self</td>\n",
       "      <td>Mark Matzke</td>\n",
       "      <td>Self</td>\n",
       "      <td>1000_On_The_Trail_of_UFOS_Dark_Sky</td>\n",
       "      <td>nm9160910</td>\n",
       "      <td>Producer/Writer/Additional Crew</td>\n",
       "    </tr>\n",
       "    <tr>\n",
       "      <th>133</th>\n",
       "      <td>/name/nm2095817/Mike McAlister</td>\n",
       "      <td>Jody Hill</td>\n",
       "      <td>Mike McAlister</td>\n",
       "      <td>5604_The_Foot_Fist_Way</td>\n",
       "      <td>nm2095817</td>\n",
       "      <td>Producer/Writer/Director</td>\n",
       "    </tr>\n",
       "    <tr>\n",
       "      <th>138</th>\n",
       "      <td>/name/nm4259129/Emmanuel</td>\n",
       "      <td>Joseph Stephens</td>\n",
       "      <td>Emmanuel</td>\n",
       "      <td>5604_The_Foot_Fist_Way</td>\n",
       "      <td>nm4259129</td>\n",
       "      <td>Composer/Music Department/Sound Department</td>\n",
       "    </tr>\n",
       "    <tr>\n",
       "      <th>166</th>\n",
       "      <td>/name/nm3755774/Ned</td>\n",
       "      <td>Jake Van Wagoner</td>\n",
       "      <td>Ned</td>\n",
       "      <td>1010_Christmas_BreakIn</td>\n",
       "      <td>nm3755774</td>\n",
       "      <td>Director/Producer/Writer</td>\n",
       "    </tr>\n",
       "    <tr>\n",
       "      <th>...</th>\n",
       "      <td>...</td>\n",
       "      <td>...</td>\n",
       "      <td>...</td>\n",
       "      <td>...</td>\n",
       "      <td>...</td>\n",
       "      <td>...</td>\n",
       "    </tr>\n",
       "    <tr>\n",
       "      <th>49716</th>\n",
       "      <td>/name/nm10867193/Herself</td>\n",
       "      <td>Maria Logan</td>\n",
       "      <td>Herself</td>\n",
       "      <td>4720_Citizen_K</td>\n",
       "      <td>nm10867193</td>\n",
       "      <td>Producer</td>\n",
       "    </tr>\n",
       "    <tr>\n",
       "      <th>49719</th>\n",
       "      <td>/name/nm6281092/Himself</td>\n",
       "      <td>Alexei Navalny</td>\n",
       "      <td>Himself</td>\n",
       "      <td>4720_Citizen_K</td>\n",
       "      <td>nm6281092</td>\n",
       "      <td>Director/Writer/Producer</td>\n",
       "    </tr>\n",
       "    <tr>\n",
       "      <th>49780</th>\n",
       "      <td>/name/nm3236749/Gunner Walsham</td>\n",
       "      <td>Brock Harris</td>\n",
       "      <td>Gunner Walsham</td>\n",
       "      <td>2791_Wild_Game</td>\n",
       "      <td>nm3236749</td>\n",
       "      <td>Director/Writer/Producer</td>\n",
       "    </tr>\n",
       "    <tr>\n",
       "      <th>49800</th>\n",
       "      <td>/name/nm1871490/Robert</td>\n",
       "      <td>Paul Kampf</td>\n",
       "      <td>Robert</td>\n",
       "      <td>3119_Imprisoned__Laurence_Fishburne</td>\n",
       "      <td>nm1871490</td>\n",
       "      <td>Producer/Writer/Director</td>\n",
       "    </tr>\n",
       "    <tr>\n",
       "      <th>49867</th>\n",
       "      <td>/name/nm5062265/</td>\n",
       "      <td>Greg Critser</td>\n",
       "      <td>NaN</td>\n",
       "      <td>3178_Prescription_Thugs</td>\n",
       "      <td>nm5062265</td>\n",
       "      <td>Writer</td>\n",
       "    </tr>\n",
       "  </tbody>\n",
       "</table>\n",
       "<p>961 rows × 6 columns</p>\n",
       "</div>"
      ],
      "text/plain": [
       "                                   id            person       character  \\\n",
       "25               /name/nm7379431/Self    Seth Breedlove            Self   \n",
       "32               /name/nm9160910/Self       Mark Matzke            Self   \n",
       "133    /name/nm2095817/Mike McAlister         Jody Hill  Mike McAlister   \n",
       "138          /name/nm4259129/Emmanuel   Joseph Stephens        Emmanuel   \n",
       "166               /name/nm3755774/Ned  Jake Van Wagoner             Ned   \n",
       "...                               ...               ...             ...   \n",
       "49716        /name/nm10867193/Herself       Maria Logan         Herself   \n",
       "49719         /name/nm6281092/Himself    Alexei Navalny         Himself   \n",
       "49780  /name/nm3236749/Gunner Walsham      Brock Harris  Gunner Walsham   \n",
       "49800          /name/nm1871490/Robert        Paul Kampf          Robert   \n",
       "49867                /name/nm5062265/      Greg Critser             NaN   \n",
       "\n",
       "                                     movie     name_id  \\\n",
       "25      1000_On_The_Trail_of_UFOS_Dark_Sky   nm7379431   \n",
       "32      1000_On_The_Trail_of_UFOS_Dark_Sky   nm9160910   \n",
       "133                 5604_The_Foot_Fist_Way   nm2095817   \n",
       "138                 5604_The_Foot_Fist_Way   nm4259129   \n",
       "166                 1010_Christmas_BreakIn   nm3755774   \n",
       "...                                    ...         ...   \n",
       "49716                       4720_Citizen_K  nm10867193   \n",
       "49719                       4720_Citizen_K   nm6281092   \n",
       "49780                       2791_Wild_Game   nm3236749   \n",
       "49800  3119_Imprisoned__Laurence_Fishburne   nm1871490   \n",
       "49867              3178_Prescription_Thugs   nm5062265   \n",
       "\n",
       "                                           gender  \n",
       "25                       Producer/Director/Editor  \n",
       "32                Producer/Writer/Additional Crew  \n",
       "133                      Producer/Writer/Director  \n",
       "138    Composer/Music Department/Sound Department  \n",
       "166                      Director/Producer/Writer  \n",
       "...                                           ...  \n",
       "49716                                    Producer  \n",
       "49719                    Director/Writer/Producer  \n",
       "49780                    Director/Writer/Producer  \n",
       "49800                    Producer/Writer/Director  \n",
       "49867                                      Writer  \n",
       "\n",
       "[961 rows x 6 columns]"
      ]
     },
     "execution_count": 14,
     "metadata": {},
     "output_type": "execute_result"
    }
   ],
   "source": [
    "df_sides = df_sub[~df_sub['gender'].str.contains('Actor|Actress')]\n",
    "df_sides"
   ]
  },
  {
   "cell_type": "code",
   "execution_count": 18,
   "metadata": {},
   "outputs": [],
   "source": [
    "missing_gender = pd.concat([df[df['gender'].isnull()], df_sides])"
   ]
  },
  {
   "cell_type": "code",
   "execution_count": 20,
   "metadata": {},
   "outputs": [
    {
     "data": {
      "text/plain": [
       "(2375, 6)"
      ]
     },
     "execution_count": 20,
     "metadata": {},
     "output_type": "execute_result"
    }
   ],
   "source": [
    "missing_gender.shape"
   ]
  },
  {
   "cell_type": "code",
   "execution_count": 21,
   "metadata": {},
   "outputs": [],
   "source": [
    "missing_gender.to_csv(\"missing_gender.csv\", index=False)"
   ]
  }
 ],
 "metadata": {
  "kernelspec": {
   "display_name": "env",
   "language": "python",
   "name": "python3"
  },
  "language_info": {
   "codemirror_mode": {
    "name": "ipython",
    "version": 3
   },
   "file_extension": ".py",
   "mimetype": "text/x-python",
   "name": "python",
   "nbconvert_exporter": "python",
   "pygments_lexer": "ipython3",
   "version": "3.11.3"
  },
  "orig_nbformat": 4
 },
 "nbformat": 4,
 "nbformat_minor": 2
}
