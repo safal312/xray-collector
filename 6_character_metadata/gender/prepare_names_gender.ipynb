{
 "cells": [
  {
   "cell_type": "code",
   "execution_count": 21,
   "metadata": {},
   "outputs": [],
   "source": [
    "import pandas as pd\n",
    "from unidecode import unidecode"
   ]
  },
  {
   "cell_type": "code",
   "execution_count": 22,
   "metadata": {},
   "outputs": [],
   "source": [
    "df = pd.read_csv('all_unique_crew_for_inference.csv', dtype={\"person_id\": \"str\"})"
   ]
  },
  {
   "cell_type": "code",
   "execution_count": 23,
   "metadata": {},
   "outputs": [
    {
     "data": {
      "text/plain": [
       "0            Devon Bowman\n",
       "1          Morgan Gerhard\n",
       "2            Gerald Burke\n",
       "3         Kelly Ann Foley\n",
       "4             Tom Lawless\n",
       "               ...       \n",
       "319320    Mdhamiri  Nkemi\n",
       "319321       Jon Anderson\n",
       "319322         Harry Gadd\n",
       "319323    Patricia Muckle\n",
       "319324      George Tsikos\n",
       "Name: name_parsed, Length: 319325, dtype: object"
      ]
     },
     "execution_count": 23,
     "metadata": {},
     "output_type": "execute_result"
    }
   ],
   "source": [
    "df['name_parsed'] = df['name'].apply(unidecode)\n",
    "df['name_parsed'] = df['name'].str.replace('[^a-zA-Z\\s]', '', regex=True)\n",
    "df['name_parsed'].str.split(\" .-/\", regex=True).explode()"
   ]
  },
  {
   "cell_type": "code",
   "execution_count": 27,
   "metadata": {},
   "outputs": [
    {
     "data": {
      "text/plain": [
       "0"
      ]
     },
     "execution_count": 27,
     "metadata": {},
     "output_type": "execute_result"
    }
   ],
   "source": [
    "df['person_id'].duplicated().sum()"
   ]
  },
  {
   "cell_type": "code",
   "execution_count": 25,
   "metadata": {},
   "outputs": [],
   "source": [
    "df.to_csv('parsed_names_all_unique_crew_for_inference.csv', index=False)"
   ]
  }
 ],
 "metadata": {
  "kernelspec": {
   "display_name": "Python 3",
   "language": "python",
   "name": "python3"
  },
  "language_info": {
   "codemirror_mode": {
    "name": "ipython",
    "version": 3
   },
   "file_extension": ".py",
   "mimetype": "text/x-python",
   "name": "python",
   "nbconvert_exporter": "python",
   "pygments_lexer": "ipython3",
   "version": "3.11.3"
  }
 },
 "nbformat": 4,
 "nbformat_minor": 2
}
