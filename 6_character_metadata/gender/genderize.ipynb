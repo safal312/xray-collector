{
 "cells": [
  {
   "cell_type": "code",
   "execution_count": 2,
   "metadata": {},
   "outputs": [],
   "source": [
    "import pandas as pd\n",
    "import requests\n",
    "import os\n",
    "from unidecode import unidecode\n",
    "import json"
   ]
  },
  {
   "cell_type": "code",
   "execution_count": 3,
   "metadata": {},
   "outputs": [],
   "source": [
    "df = pd.read_csv(\"missing_gender.csv\")"
   ]
  },
  {
   "cell_type": "code",
   "execution_count": 4,
   "metadata": {},
   "outputs": [
    {
     "data": {
      "text/html": [
       "<div>\n",
       "<style scoped>\n",
       "    .dataframe tbody tr th:only-of-type {\n",
       "        vertical-align: middle;\n",
       "    }\n",
       "\n",
       "    .dataframe tbody tr th {\n",
       "        vertical-align: top;\n",
       "    }\n",
       "\n",
       "    .dataframe thead th {\n",
       "        text-align: right;\n",
       "    }\n",
       "</style>\n",
       "<table border=\"1\" class=\"dataframe\">\n",
       "  <thead>\n",
       "    <tr style=\"text-align: right;\">\n",
       "      <th></th>\n",
       "      <th>id</th>\n",
       "      <th>person</th>\n",
       "      <th>character</th>\n",
       "      <th>movie</th>\n",
       "      <th>name_id</th>\n",
       "      <th>gender</th>\n",
       "    </tr>\n",
       "  </thead>\n",
       "  <tbody>\n",
       "    <tr>\n",
       "      <th>606</th>\n",
       "      <td>xst-prd-502</td>\n",
       "      <td>Read the Book</td>\n",
       "      <td>Deenie by Judy Blume</td>\n",
       "      <td>1608_Judy_Blume_Forever</td>\n",
       "      <td>NaN</td>\n",
       "      <td>NaN</td>\n",
       "    </tr>\n",
       "  </tbody>\n",
       "</table>\n",
       "</div>"
      ],
      "text/plain": [
       "              id         person             character  \\\n",
       "606  xst-prd-502  Read the Book  Deenie by Judy Blume   \n",
       "\n",
       "                       movie name_id gender  \n",
       "606  1608_Judy_Blume_Forever     NaN    NaN  "
      ]
     },
     "execution_count": 4,
     "metadata": {},
     "output_type": "execute_result"
    }
   ],
   "source": [
    "df[df['name_id'].isnull()]"
   ]
  },
  {
   "cell_type": "code",
   "execution_count": 6,
   "metadata": {},
   "outputs": [
    {
     "data": {
      "text/html": [
       "<div>\n",
       "<style scoped>\n",
       "    .dataframe tbody tr th:only-of-type {\n",
       "        vertical-align: middle;\n",
       "    }\n",
       "\n",
       "    .dataframe tbody tr th {\n",
       "        vertical-align: top;\n",
       "    }\n",
       "\n",
       "    .dataframe thead th {\n",
       "        text-align: right;\n",
       "    }\n",
       "</style>\n",
       "<table border=\"1\" class=\"dataframe\">\n",
       "  <thead>\n",
       "    <tr style=\"text-align: right;\">\n",
       "      <th></th>\n",
       "      <th>id</th>\n",
       "      <th>person</th>\n",
       "      <th>character</th>\n",
       "      <th>movie</th>\n",
       "      <th>name_id</th>\n",
       "      <th>gender</th>\n",
       "    </tr>\n",
       "  </thead>\n",
       "  <tbody>\n",
       "    <tr>\n",
       "      <th>0</th>\n",
       "      <td>/name/nm13818646/Self</td>\n",
       "      <td>Kenneth Scheuvront</td>\n",
       "      <td>Self</td>\n",
       "      <td>1000_On_The_Trail_of_UFOS_Dark_Sky</td>\n",
       "      <td>nm13818646</td>\n",
       "      <td>NaN</td>\n",
       "    </tr>\n",
       "    <tr>\n",
       "      <th>1</th>\n",
       "      <td>/name/nm10541807/Self</td>\n",
       "      <td>Shannon Legro</td>\n",
       "      <td>Self</td>\n",
       "      <td>1000_On_The_Trail_of_UFOS_Dark_Sky</td>\n",
       "      <td>nm10541807</td>\n",
       "      <td>NaN</td>\n",
       "    </tr>\n",
       "    <tr>\n",
       "      <th>2</th>\n",
       "      <td>/name/nm13818650/Self</td>\n",
       "      <td>Dave Roberts</td>\n",
       "      <td>Self</td>\n",
       "      <td>1000_On_The_Trail_of_UFOS_Dark_Sky</td>\n",
       "      <td>nm13818650</td>\n",
       "      <td>NaN</td>\n",
       "    </tr>\n",
       "    <tr>\n",
       "      <th>3</th>\n",
       "      <td>/name/nm13818652/Self</td>\n",
       "      <td>Steve Hummel</td>\n",
       "      <td>Self</td>\n",
       "      <td>1000_On_The_Trail_of_UFOS_Dark_Sky</td>\n",
       "      <td>nm13818652</td>\n",
       "      <td>NaN</td>\n",
       "    </tr>\n",
       "    <tr>\n",
       "      <th>4</th>\n",
       "      <td>/name/nm13818651/Self</td>\n",
       "      <td>Matt Welsch</td>\n",
       "      <td>Self</td>\n",
       "      <td>1000_On_The_Trail_of_UFOS_Dark_Sky</td>\n",
       "      <td>nm13818651</td>\n",
       "      <td>NaN</td>\n",
       "    </tr>\n",
       "  </tbody>\n",
       "</table>\n",
       "</div>"
      ],
      "text/plain": [
       "                      id              person character  \\\n",
       "0  /name/nm13818646/Self  Kenneth Scheuvront      Self   \n",
       "1  /name/nm10541807/Self       Shannon Legro      Self   \n",
       "2  /name/nm13818650/Self        Dave Roberts      Self   \n",
       "3  /name/nm13818652/Self        Steve Hummel      Self   \n",
       "4  /name/nm13818651/Self         Matt Welsch      Self   \n",
       "\n",
       "                                movie     name_id gender  \n",
       "0  1000_On_The_Trail_of_UFOS_Dark_Sky  nm13818646    NaN  \n",
       "1  1000_On_The_Trail_of_UFOS_Dark_Sky  nm10541807    NaN  \n",
       "2  1000_On_The_Trail_of_UFOS_Dark_Sky  nm13818650    NaN  \n",
       "3  1000_On_The_Trail_of_UFOS_Dark_Sky  nm13818652    NaN  \n",
       "4  1000_On_The_Trail_of_UFOS_Dark_Sky  nm13818651    NaN  "
      ]
     },
     "execution_count": 6,
     "metadata": {},
     "output_type": "execute_result"
    }
   ],
   "source": [
    "df.head()"
   ]
  },
  {
   "cell_type": "code",
   "execution_count": 16,
   "metadata": {},
   "outputs": [],
   "source": [
    "df = df[~df['name_id'].isnull()]"
   ]
  },
  {
   "cell_type": "code",
   "execution_count": 17,
   "metadata": {},
   "outputs": [
    {
     "name": "stdout",
     "output_type": "stream",
     "text": [
      "200 1397 nm14225415 Bekah Sosland Siegfriedt female\n",
      "200 1398 nm0947418 Boris Yeltsin male\n",
      "200 1399 nm10867191 Igor Malashenko male\n",
      "200 1400 nm9717533 Arkady Ostrovsky male\n",
      "200 1401 nm9723725 Igor Sechin male\n",
      "200 1402 nm9543537 Henia Bryer female\n",
      "200 1403 nm9543538 Maurice Bryer male\n",
      "200 1404 nm13857135 Mike Bell male\n",
      "200 1405 nm13857134 Mark Bell male\n",
      "200 1406 nm13857131 Rosemary Bell female\n",
      "200 1407 nm13857141 Richard Taite male\n",
      "200 1408 nm13857144 Rand McClain male\n",
      "200 1409 nm13857136 Stuart H. Garber male\n",
      "200 1410 nm14167562 Tanna Leone female\n",
      "200 1411 nm13857139 Gwen Olson female\n",
      "200 1412 nm13857137 David Healey male\n",
      "200 1413 nm7753055 Ted Lieu male\n",
      "200 2364 nm11426530 Pravin Bhosale male\n",
      "200 2365 nm1223910 Sujoy Ghosh male\n",
      "200 2366 nm0384065 William Hill male\n",
      "200 2367 nm1939381 Martin Sixsmith male\n",
      "200 2368 nm2281605 Boris Berezovsky male\n",
      "200 2369 nm2286394 Vladimir Gusinsky male\n",
      "200 2370 nm10867193 Maria Logan female\n",
      "200 2371 nm6281092 Alexei Navalny male\n",
      "200 2372 nm3236749 Brock Harris male\n",
      "200 2373 nm1871490 Paul Kampf male\n",
      "200 2374 nm5062265 Greg Critser male\n"
     ]
    }
   ],
   "source": [
    "try:\n",
    "    with open(\"genderize_data.json\", \"r\") as f:\n",
    "        out = json.load(f)\n",
    "except FileNotFoundError:\n",
    "    out = []\n",
    "\n",
    "name_list = list(map(lambda x: x['name_id'], out))\n",
    "df_sub = df[~df['name_id'].isin(name_list)]\n",
    "\n",
    "for index, row in df_sub.iterrows():\n",
    "    person = row['person']\n",
    "    # person = \"\".join(c for c in row['person'] if c.isalpha())\n",
    "\n",
    "    f_name = person.split()[0]\n",
    "\n",
    "    res = requests.get(f\"https://api.genderize.io?name={f_name}\")\n",
    "    \n",
    "    content = res.json()\n",
    "    if 'error' in content:\n",
    "        print(content['error'])\n",
    "        break\n",
    "    \n",
    "    content['name_id'] = row['name_id']\n",
    "\n",
    "    print(res.status_code, index, row['name_id'], person, content['gender'])\n",
    "    if res.status_code == 200:\n",
    "        out.append(content)\n",
    "    else:\n",
    "        break"
   ]
  },
  {
   "cell_type": "code",
   "execution_count": 19,
   "metadata": {},
   "outputs": [
    {
     "data": {
      "text/plain": [
       "2374"
      ]
     },
     "execution_count": 19,
     "metadata": {},
     "output_type": "execute_result"
    }
   ],
   "source": [
    "len(out)"
   ]
  },
  {
   "cell_type": "code",
   "execution_count": 21,
   "metadata": {},
   "outputs": [],
   "source": [
    "with open(\"genderize_data.json\", \"w\") as f:\n",
    "    f.write(json.dumps(out))"
   ]
  }
 ],
 "metadata": {
  "kernelspec": {
   "display_name": "env",
   "language": "python",
   "name": "python3"
  },
  "language_info": {
   "codemirror_mode": {
    "name": "ipython",
    "version": 3
   },
   "file_extension": ".py",
   "mimetype": "text/x-python",
   "name": "python",
   "nbconvert_exporter": "python",
   "pygments_lexer": "ipython3",
   "version": "3.11.3"
  },
  "orig_nbformat": 4
 },
 "nbformat": 4,
 "nbformat_minor": 2
}
