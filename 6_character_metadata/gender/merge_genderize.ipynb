{
 "cells": [
  {
   "cell_type": "code",
   "execution_count": 1,
   "metadata": {},
   "outputs": [],
   "source": [
    "import pandas as pd"
   ]
  },
  {
   "cell_type": "code",
   "execution_count": 79,
   "metadata": {},
   "outputs": [],
   "source": [
    "df_genderize = pd.read_json('genderize_data.json')"
   ]
  },
  {
   "cell_type": "code",
   "execution_count": 80,
   "metadata": {},
   "outputs": [
    {
     "data": {
      "text/plain": [
       "(2374, 5)"
      ]
     },
     "execution_count": 80,
     "metadata": {},
     "output_type": "execute_result"
    }
   ],
   "source": [
    "df_genderize.shape"
   ]
  },
  {
   "cell_type": "code",
   "execution_count": 81,
   "metadata": {},
   "outputs": [],
   "source": [
    "df_all_people = pd.read_csv(\"all_people_gender.csv\", encoding_errors='ignore')"
   ]
  },
  {
   "cell_type": "code",
   "execution_count": 82,
   "metadata": {},
   "outputs": [
    {
     "data": {
      "text/html": [
       "<div>\n",
       "<style scoped>\n",
       "    .dataframe tbody tr th:only-of-type {\n",
       "        vertical-align: middle;\n",
       "    }\n",
       "\n",
       "    .dataframe tbody tr th {\n",
       "        vertical-align: top;\n",
       "    }\n",
       "\n",
       "    .dataframe thead th {\n",
       "        text-align: right;\n",
       "    }\n",
       "</style>\n",
       "<table border=\"1\" class=\"dataframe\">\n",
       "  <thead>\n",
       "    <tr style=\"text-align: right;\">\n",
       "      <th></th>\n",
       "      <th>id</th>\n",
       "      <th>person</th>\n",
       "      <th>character</th>\n",
       "      <th>movie</th>\n",
       "      <th>name_id</th>\n",
       "      <th>tag</th>\n",
       "      <th>gender_named</th>\n",
       "    </tr>\n",
       "  </thead>\n",
       "  <tbody>\n",
       "    <tr>\n",
       "      <th>0</th>\n",
       "      <td>/name/nm13818646/Self</td>\n",
       "      <td>Kenneth Scheuvront</td>\n",
       "      <td>Self</td>\n",
       "      <td>1000_On_The_Trail_of_UFOS_Dark_Sky</td>\n",
       "      <td>nm13818646</td>\n",
       "      <td>NaN</td>\n",
       "      <td>M</td>\n",
       "    </tr>\n",
       "    <tr>\n",
       "      <th>1</th>\n",
       "      <td>/name/nm10541807/Self</td>\n",
       "      <td>Shannon Legro</td>\n",
       "      <td>Self</td>\n",
       "      <td>1000_On_The_Trail_of_UFOS_Dark_Sky</td>\n",
       "      <td>nm10541807</td>\n",
       "      <td>NaN</td>\n",
       "      <td>F</td>\n",
       "    </tr>\n",
       "    <tr>\n",
       "      <th>2</th>\n",
       "      <td>/name/nm7379431/Self</td>\n",
       "      <td>Seth Breedlove</td>\n",
       "      <td>Self</td>\n",
       "      <td>1000_On_The_Trail_of_UFOS_Dark_Sky</td>\n",
       "      <td>nm7379431</td>\n",
       "      <td>Producer/Director/Editor</td>\n",
       "      <td>M</td>\n",
       "    </tr>\n",
       "    <tr>\n",
       "      <th>3</th>\n",
       "      <td>/name/nm13818650/Self</td>\n",
       "      <td>Dave Roberts</td>\n",
       "      <td>Self</td>\n",
       "      <td>1000_On_The_Trail_of_UFOS_Dark_Sky</td>\n",
       "      <td>nm13818650</td>\n",
       "      <td>NaN</td>\n",
       "      <td>M</td>\n",
       "    </tr>\n",
       "    <tr>\n",
       "      <th>4</th>\n",
       "      <td>/name/nm13818652/Self</td>\n",
       "      <td>Steve Hummel</td>\n",
       "      <td>Self</td>\n",
       "      <td>1000_On_The_Trail_of_UFOS_Dark_Sky</td>\n",
       "      <td>nm13818652</td>\n",
       "      <td>NaN</td>\n",
       "      <td>M</td>\n",
       "    </tr>\n",
       "    <tr>\n",
       "      <th>...</th>\n",
       "      <td>...</td>\n",
       "      <td>...</td>\n",
       "      <td>...</td>\n",
       "      <td>...</td>\n",
       "      <td>...</td>\n",
       "      <td>...</td>\n",
       "      <td>...</td>\n",
       "    </tr>\n",
       "    <tr>\n",
       "      <th>2369</th>\n",
       "      <td>/name/nm14167562/Self</td>\n",
       "      <td>Tanna Leone</td>\n",
       "      <td>Self</td>\n",
       "      <td>6200_Kendrick_Lamar_Live_The_Big_Steppers_Tour</td>\n",
       "      <td>nm14167562</td>\n",
       "      <td>NaN</td>\n",
       "      <td>F</td>\n",
       "    </tr>\n",
       "    <tr>\n",
       "      <th>2370</th>\n",
       "      <td>/name/nm13857139/</td>\n",
       "      <td>Gwen Olson</td>\n",
       "      <td>NaN</td>\n",
       "      <td>3178_Prescription_Thugs</td>\n",
       "      <td>nm13857139</td>\n",
       "      <td>NaN</td>\n",
       "      <td>F</td>\n",
       "    </tr>\n",
       "    <tr>\n",
       "      <th>2371</th>\n",
       "      <td>/name/nm13857137/</td>\n",
       "      <td>David Healey</td>\n",
       "      <td>NaN</td>\n",
       "      <td>3178_Prescription_Thugs</td>\n",
       "      <td>nm13857137</td>\n",
       "      <td>NaN</td>\n",
       "      <td>M</td>\n",
       "    </tr>\n",
       "    <tr>\n",
       "      <th>2372</th>\n",
       "      <td>/name/nm5062265/</td>\n",
       "      <td>Greg Critser</td>\n",
       "      <td>NaN</td>\n",
       "      <td>3178_Prescription_Thugs</td>\n",
       "      <td>nm5062265</td>\n",
       "      <td>Writer</td>\n",
       "      <td>M</td>\n",
       "    </tr>\n",
       "    <tr>\n",
       "      <th>2373</th>\n",
       "      <td>/name/nm7753055/</td>\n",
       "      <td>Ted Lieu</td>\n",
       "      <td>NaN</td>\n",
       "      <td>3178_Prescription_Thugs</td>\n",
       "      <td>nm7753055</td>\n",
       "      <td>NaN</td>\n",
       "      <td>M</td>\n",
       "    </tr>\n",
       "  </tbody>\n",
       "</table>\n",
       "<p>2374 rows × 7 columns</p>\n",
       "</div>"
      ],
      "text/plain": [
       "                         id              person character  \\\n",
       "0     /name/nm13818646/Self  Kenneth Scheuvront      Self   \n",
       "1     /name/nm10541807/Self       Shannon Legro      Self   \n",
       "2      /name/nm7379431/Self      Seth Breedlove      Self   \n",
       "3     /name/nm13818650/Self        Dave Roberts      Self   \n",
       "4     /name/nm13818652/Self        Steve Hummel      Self   \n",
       "...                     ...                 ...       ...   \n",
       "2369  /name/nm14167562/Self         Tanna Leone      Self   \n",
       "2370      /name/nm13857139/          Gwen Olson       NaN   \n",
       "2371      /name/nm13857137/        David Healey       NaN   \n",
       "2372       /name/nm5062265/        Greg Critser       NaN   \n",
       "2373       /name/nm7753055/            Ted Lieu       NaN   \n",
       "\n",
       "                                               movie     name_id  \\\n",
       "0                 1000_On_The_Trail_of_UFOS_Dark_Sky  nm13818646   \n",
       "1                 1000_On_The_Trail_of_UFOS_Dark_Sky  nm10541807   \n",
       "2                 1000_On_The_Trail_of_UFOS_Dark_Sky   nm7379431   \n",
       "3                 1000_On_The_Trail_of_UFOS_Dark_Sky  nm13818650   \n",
       "4                 1000_On_The_Trail_of_UFOS_Dark_Sky  nm13818652   \n",
       "...                                              ...         ...   \n",
       "2369  6200_Kendrick_Lamar_Live_The_Big_Steppers_Tour  nm14167562   \n",
       "2370                         3178_Prescription_Thugs  nm13857139   \n",
       "2371                         3178_Prescription_Thugs  nm13857137   \n",
       "2372                         3178_Prescription_Thugs   nm5062265   \n",
       "2373                         3178_Prescription_Thugs   nm7753055   \n",
       "\n",
       "                           tag gender_named  \n",
       "0                          NaN            M  \n",
       "1                          NaN            F  \n",
       "2     Producer/Director/Editor            M  \n",
       "3                          NaN            M  \n",
       "4                          NaN            M  \n",
       "...                        ...          ...  \n",
       "2369                       NaN            F  \n",
       "2370                       NaN            F  \n",
       "2371                       NaN            M  \n",
       "2372                    Writer            M  \n",
       "2373                       NaN            M  \n",
       "\n",
       "[2374 rows x 7 columns]"
      ]
     },
     "execution_count": 82,
     "metadata": {},
     "output_type": "execute_result"
    }
   ],
   "source": [
    "merged_df = df_all_people.merge(df_genderize[['name_id', 'gender']], on='name_id')\n",
    "merged_df_genderize = merged_df.rename(columns={'gender_x': 'tag', 'gender_y': 'gender_named'})\n",
    "merged_df_genderize['gender_named'] = merged_df_genderize['gender_named'].map({'male': 'M', 'female': 'F'})\n",
    "\n",
    "merged_df_genderize\n"
   ]
  },
  {
   "cell_type": "markdown",
   "metadata": {},
   "source": [
    "### add the genderize data to the parsed gender data"
   ]
  },
  {
   "cell_type": "code",
   "execution_count": 95,
   "metadata": {},
   "outputs": [],
   "source": [
    "df_all_gender_parsed = pd.read_csv(\"all_people_gender_parsed.csv\", encoding_errors='ignore')"
   ]
  },
  {
   "cell_type": "code",
   "execution_count": 96,
   "metadata": {},
   "outputs": [
    {
     "data": {
      "text/html": [
       "<div>\n",
       "<style scoped>\n",
       "    .dataframe tbody tr th:only-of-type {\n",
       "        vertical-align: middle;\n",
       "    }\n",
       "\n",
       "    .dataframe tbody tr th {\n",
       "        vertical-align: top;\n",
       "    }\n",
       "\n",
       "    .dataframe thead th {\n",
       "        text-align: right;\n",
       "    }\n",
       "</style>\n",
       "<table border=\"1\" class=\"dataframe\">\n",
       "  <thead>\n",
       "    <tr style=\"text-align: right;\">\n",
       "      <th></th>\n",
       "      <th>id</th>\n",
       "      <th>person</th>\n",
       "      <th>character</th>\n",
       "      <th>movie</th>\n",
       "      <th>name_id</th>\n",
       "      <th>tag</th>\n",
       "      <th>gender_named</th>\n",
       "    </tr>\n",
       "  </thead>\n",
       "  <tbody>\n",
       "    <tr>\n",
       "      <th>0</th>\n",
       "      <td>/name/nm1799971/Rafaella</td>\n",
       "      <td>Marta Hazas</td>\n",
       "      <td>Rafaella</td>\n",
       "      <td>0_My_Fault</td>\n",
       "      <td>nm1799971</td>\n",
       "      <td>Actress/Soundtrack</td>\n",
       "      <td>F</td>\n",
       "    </tr>\n",
       "    <tr>\n",
       "      <th>1</th>\n",
       "      <td>/name/nm2338819/Betty</td>\n",
       "      <td>Eve Ryan</td>\n",
       "      <td>Betty</td>\n",
       "      <td>0_My_Fault</td>\n",
       "      <td>nm2338819</td>\n",
       "      <td>Actress</td>\n",
       "      <td>F</td>\n",
       "    </tr>\n",
       "    <tr>\n",
       "      <th>2</th>\n",
       "      <td>/name/nm5913850/Noah</td>\n",
       "      <td>Nicole Wallace</td>\n",
       "      <td>Noah</td>\n",
       "      <td>0_My_Fault</td>\n",
       "      <td>nm5913850</td>\n",
       "      <td>Actress</td>\n",
       "      <td>F</td>\n",
       "    </tr>\n",
       "    <tr>\n",
       "      <th>3</th>\n",
       "      <td>/name/nm1293644/Padre Noah</td>\n",
       "      <td>Ivan Massagué</td>\n",
       "      <td>Padre Noah</td>\n",
       "      <td>0_My_Fault</td>\n",
       "      <td>nm1293644</td>\n",
       "      <td>Actor/Soundtrack</td>\n",
       "      <td>M</td>\n",
       "    </tr>\n",
       "    <tr>\n",
       "      <th>4</th>\n",
       "      <td>/name/nm1107138/Martin</td>\n",
       "      <td>Mariano Venancio</td>\n",
       "      <td>Martin</td>\n",
       "      <td>0_My_Fault</td>\n",
       "      <td>nm1107138</td>\n",
       "      <td>Actor/Soundtrack</td>\n",
       "      <td>M</td>\n",
       "    </tr>\n",
       "  </tbody>\n",
       "</table>\n",
       "</div>"
      ],
      "text/plain": [
       "                           id            person   character       movie  \\\n",
       "0    /name/nm1799971/Rafaella       Marta Hazas    Rafaella  0_My_Fault   \n",
       "1       /name/nm2338819/Betty          Eve Ryan       Betty  0_My_Fault   \n",
       "2        /name/nm5913850/Noah    Nicole Wallace        Noah  0_My_Fault   \n",
       "3  /name/nm1293644/Padre Noah     Ivan Massagué  Padre Noah  0_My_Fault   \n",
       "4      /name/nm1107138/Martin  Mariano Venancio      Martin  0_My_Fault   \n",
       "\n",
       "     name_id                 tag gender_named  \n",
       "0  nm1799971  Actress/Soundtrack            F  \n",
       "1  nm2338819             Actress            F  \n",
       "2  nm5913850             Actress            F  \n",
       "3  nm1293644    Actor/Soundtrack            M  \n",
       "4  nm1107138    Actor/Soundtrack            M  "
      ]
     },
     "execution_count": 96,
     "metadata": {},
     "output_type": "execute_result"
    }
   ],
   "source": [
    "df_all_gender_parsed.head()"
   ]
  },
  {
   "cell_type": "code",
   "execution_count": 97,
   "metadata": {},
   "outputs": [
    {
     "data": {
      "text/plain": [
       "(48462, 7)"
      ]
     },
     "execution_count": 97,
     "metadata": {},
     "output_type": "execute_result"
    }
   ],
   "source": [
    "df_all_gender_parsed.shape"
   ]
  },
  {
   "cell_type": "code",
   "execution_count": 99,
   "metadata": {},
   "outputs": [],
   "source": [
    "# we removed the people that didn't have any tags initially in this file\n",
    "# we didn't remove the ones that didn't have Actor or Actress tag for us to infer the gender\n",
    "df_first = df_all_gender_parsed[~df_all_gender_parsed['gender_named'].isnull()]"
   ]
  },
  {
   "cell_type": "code",
   "execution_count": 100,
   "metadata": {},
   "outputs": [
    {
     "data": {
      "text/plain": [
       "0"
      ]
     },
     "execution_count": 100,
     "metadata": {},
     "output_type": "execute_result"
    }
   ],
   "source": [
    "# No matches in the two dataframes\n",
    "df_first['name_id'].isin(merged_df_genderize['name_id']).sum()"
   ]
  },
  {
   "cell_type": "code",
   "execution_count": 101,
   "metadata": {},
   "outputs": [
    {
     "data": {
      "text/plain": [
       "(47501, 7)"
      ]
     },
     "execution_count": 101,
     "metadata": {},
     "output_type": "execute_result"
    }
   ],
   "source": [
    "df_first.shape"
   ]
  },
  {
   "cell_type": "code",
   "execution_count": 90,
   "metadata": {},
   "outputs": [],
   "source": [
    "all_merged = pd.concat([df_first, merged_df_genderize])"
   ]
  },
  {
   "cell_type": "code",
   "execution_count": 103,
   "metadata": {},
   "outputs": [
    {
     "data": {
      "text/plain": [
       "((49876, 6), (49875, 7))"
      ]
     },
     "execution_count": 103,
     "metadata": {},
     "output_type": "execute_result"
    }
   ],
   "source": [
    "df_all_people.shape, all_merged.shape"
   ]
  },
  {
   "cell_type": "code",
   "execution_count": 110,
   "metadata": {},
   "outputs": [
    {
     "data": {
      "text/html": [
       "<div>\n",
       "<style scoped>\n",
       "    .dataframe tbody tr th:only-of-type {\n",
       "        vertical-align: middle;\n",
       "    }\n",
       "\n",
       "    .dataframe tbody tr th {\n",
       "        vertical-align: top;\n",
       "    }\n",
       "\n",
       "    .dataframe thead th {\n",
       "        text-align: right;\n",
       "    }\n",
       "</style>\n",
       "<table border=\"1\" class=\"dataframe\">\n",
       "  <thead>\n",
       "    <tr style=\"text-align: right;\">\n",
       "      <th></th>\n",
       "      <th>id</th>\n",
       "      <th>person</th>\n",
       "      <th>character</th>\n",
       "      <th>movie</th>\n",
       "      <th>name_id</th>\n",
       "      <th>gender</th>\n",
       "    </tr>\n",
       "  </thead>\n",
       "  <tbody>\n",
       "    <tr>\n",
       "      <th>17656</th>\n",
       "      <td>xst-prd-502</td>\n",
       "      <td>Read the Book</td>\n",
       "      <td>Deenie by Judy Blume</td>\n",
       "      <td>1608_Judy_Blume_Forever</td>\n",
       "      <td>NaN</td>\n",
       "      <td>NaN</td>\n",
       "    </tr>\n",
       "  </tbody>\n",
       "</table>\n",
       "</div>"
      ],
      "text/plain": [
       "                id         person             character  \\\n",
       "17656  xst-prd-502  Read the Book  Deenie by Judy Blume   \n",
       "\n",
       "                         movie name_id gender  \n",
       "17656  1608_Judy_Blume_Forever     NaN    NaN  "
      ]
     },
     "execution_count": 110,
     "metadata": {},
     "output_type": "execute_result"
    }
   ],
   "source": [
    "# No matches in the two dataframes\n",
    "df_all_people[~df_all_people['name_id'].isin(all_merged['name_id'])]"
   ]
  },
  {
   "cell_type": "code",
   "execution_count": 113,
   "metadata": {},
   "outputs": [
    {
     "data": {
      "text/plain": [
       "0"
      ]
     },
     "execution_count": 113,
     "metadata": {},
     "output_type": "execute_result"
    }
   ],
   "source": [
    "all_merged['name_id'].duplicated().sum()"
   ]
  },
  {
   "cell_type": "code",
   "execution_count": 114,
   "metadata": {},
   "outputs": [],
   "source": [
    "all_merged.to_csv(\"all_people_gender_merged.csv\", index=False)"
   ]
  }
 ],
 "metadata": {
  "kernelspec": {
   "display_name": "Python 3",
   "language": "python",
   "name": "python3"
  },
  "language_info": {
   "codemirror_mode": {
    "name": "ipython",
    "version": 3
   },
   "file_extension": ".py",
   "mimetype": "text/x-python",
   "name": "python",
   "nbconvert_exporter": "python",
   "pygments_lexer": "ipython3",
   "version": "3.11.3"
  }
 },
 "nbformat": 4,
 "nbformat_minor": 2
}
