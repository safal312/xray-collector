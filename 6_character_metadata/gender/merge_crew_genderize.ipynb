{
 "cells": [
  {
   "cell_type": "code",
   "execution_count": 48,
   "metadata": {},
   "outputs": [],
   "source": [
    "import pandas as pd"
   ]
  },
  {
   "cell_type": "code",
   "execution_count": 103,
   "metadata": {},
   "outputs": [],
   "source": [
    "df_genderize = pd.read_csv(\"crew_genderize_data.csv\", dtype={'name_id': str})"
   ]
  },
  {
   "cell_type": "code",
   "execution_count": 104,
   "metadata": {},
   "outputs": [],
   "source": [
    "df_unique_names = pd.read_csv(\"parsed_names_all_unique_crew_for_inference.csv\", dtype={\"person_id\": str})"
   ]
  },
  {
   "cell_type": "code",
   "execution_count": 105,
   "metadata": {},
   "outputs": [],
   "source": [
    "df_gm = df_unique_names.merge(df_genderize[['gender', 'count', 'probability', 'name_id']], left_on=\"person_id\", right_on=\"name_id\")"
   ]
  },
  {
   "cell_type": "code",
   "execution_count": 106,
   "metadata": {},
   "outputs": [
    {
     "data": {
      "text/plain": [
       "4789"
      ]
     },
     "execution_count": 106,
     "metadata": {},
     "output_type": "execute_result"
    }
   ],
   "source": [
    "df_gm['gender'].isnull().sum()"
   ]
  },
  {
   "cell_type": "code",
   "execution_count": 107,
   "metadata": {},
   "outputs": [],
   "source": [
    "df_gm = df_gm.drop(columns=['person_id'])"
   ]
  },
  {
   "cell_type": "code",
   "execution_count": 108,
   "metadata": {},
   "outputs": [
    {
     "data": {
      "text/html": [
       "<div>\n",
       "<style scoped>\n",
       "    .dataframe tbody tr th:only-of-type {\n",
       "        vertical-align: middle;\n",
       "    }\n",
       "\n",
       "    .dataframe tbody tr th {\n",
       "        vertical-align: top;\n",
       "    }\n",
       "\n",
       "    .dataframe thead th {\n",
       "        text-align: right;\n",
       "    }\n",
       "</style>\n",
       "<table border=\"1\" class=\"dataframe\">\n",
       "  <thead>\n",
       "    <tr style=\"text-align: right;\">\n",
       "      <th></th>\n",
       "      <th>movie_id</th>\n",
       "      <th>file</th>\n",
       "      <th>role</th>\n",
       "      <th>name</th>\n",
       "      <th>long_canonical_name</th>\n",
       "      <th>headshot</th>\n",
       "      <th>name_parsed</th>\n",
       "      <th>gender</th>\n",
       "      <th>count</th>\n",
       "      <th>probability</th>\n",
       "      <th>name_id</th>\n",
       "    </tr>\n",
       "  </thead>\n",
       "  <tbody>\n",
       "    <tr>\n",
       "      <th>0</th>\n",
       "      <td>2113683</td>\n",
       "      <td>4513_I_Know_That_Voice</td>\n",
       "      <td>cast</td>\n",
       "      <td>Devon Bowman</td>\n",
       "      <td>Bowman, Devon</td>\n",
       "      <td>NaN</td>\n",
       "      <td>Devon Bowman</td>\n",
       "      <td>male</td>\n",
       "      <td>3308</td>\n",
       "      <td>0.79</td>\n",
       "      <td>1329505</td>\n",
       "    </tr>\n",
       "    <tr>\n",
       "      <th>1</th>\n",
       "      <td>2113683</td>\n",
       "      <td>4513_I_Know_That_Voice</td>\n",
       "      <td>cast</td>\n",
       "      <td>Morgan Gerhard</td>\n",
       "      <td>Gerhard, Morgan</td>\n",
       "      <td>NaN</td>\n",
       "      <td>Morgan Gerhard</td>\n",
       "      <td>male</td>\n",
       "      <td>18372</td>\n",
       "      <td>0.79</td>\n",
       "      <td>1439900</td>\n",
       "    </tr>\n",
       "    <tr>\n",
       "      <th>2</th>\n",
       "      <td>2113683</td>\n",
       "      <td>4513_I_Know_That_Voice</td>\n",
       "      <td>cast</td>\n",
       "      <td>Gerald Burke</td>\n",
       "      <td>Burke, Gerald</td>\n",
       "      <td>NaN</td>\n",
       "      <td>Gerald Burke</td>\n",
       "      <td>male</td>\n",
       "      <td>115901</td>\n",
       "      <td>1.00</td>\n",
       "      <td>2825311</td>\n",
       "    </tr>\n",
       "    <tr>\n",
       "      <th>3</th>\n",
       "      <td>2113683</td>\n",
       "      <td>4513_I_Know_That_Voice</td>\n",
       "      <td>cast</td>\n",
       "      <td>Kelly Ann Foley</td>\n",
       "      <td>Foley, Kelly Ann</td>\n",
       "      <td>NaN</td>\n",
       "      <td>Kelly Ann Foley</td>\n",
       "      <td>female</td>\n",
       "      <td>62441</td>\n",
       "      <td>0.89</td>\n",
       "      <td>0284182</td>\n",
       "    </tr>\n",
       "    <tr>\n",
       "      <th>4</th>\n",
       "      <td>2113683</td>\n",
       "      <td>4513_I_Know_That_Voice</td>\n",
       "      <td>cast</td>\n",
       "      <td>Tom Lawless</td>\n",
       "      <td>Lawless, Tom</td>\n",
       "      <td>NaN</td>\n",
       "      <td>Tom Lawless</td>\n",
       "      <td>male</td>\n",
       "      <td>698532</td>\n",
       "      <td>1.00</td>\n",
       "      <td>4905404</td>\n",
       "    </tr>\n",
       "    <tr>\n",
       "      <th>...</th>\n",
       "      <td>...</td>\n",
       "      <td>...</td>\n",
       "      <td>...</td>\n",
       "      <td>...</td>\n",
       "      <td>...</td>\n",
       "      <td>...</td>\n",
       "      <td>...</td>\n",
       "      <td>...</td>\n",
       "      <td>...</td>\n",
       "      <td>...</td>\n",
       "      <td>...</td>\n",
       "    </tr>\n",
       "    <tr>\n",
       "      <th>319320</th>\n",
       "      <td>3726322</td>\n",
       "      <td>2580_It_Never_Sleeps</td>\n",
       "      <td>editorial department</td>\n",
       "      <td>Mdhamiri Á Nkemi</td>\n",
       "      <td>Nkemi, Mdhamiri Á</td>\n",
       "      <td>NaN</td>\n",
       "      <td>Mdhamiri  Nkemi</td>\n",
       "      <td>NaN</td>\n",
       "      <td>0</td>\n",
       "      <td>0.00</td>\n",
       "      <td>4995023</td>\n",
       "    </tr>\n",
       "    <tr>\n",
       "      <th>319321</th>\n",
       "      <td>3726322</td>\n",
       "      <td>2580_It_Never_Sleeps</td>\n",
       "      <td>miscellaneous crew</td>\n",
       "      <td>Jon Anderson</td>\n",
       "      <td>Anderson, Jon</td>\n",
       "      <td>NaN</td>\n",
       "      <td>Jon Anderson</td>\n",
       "      <td>male</td>\n",
       "      <td>249969</td>\n",
       "      <td>1.00</td>\n",
       "      <td>9196204</td>\n",
       "    </tr>\n",
       "    <tr>\n",
       "      <th>319322</th>\n",
       "      <td>3726322</td>\n",
       "      <td>2580_It_Never_Sleeps</td>\n",
       "      <td>miscellaneous crew</td>\n",
       "      <td>Harry Gadd</td>\n",
       "      <td>Gadd, Harry</td>\n",
       "      <td>NaN</td>\n",
       "      <td>Harry Gadd</td>\n",
       "      <td>male</td>\n",
       "      <td>177229</td>\n",
       "      <td>1.00</td>\n",
       "      <td>6538683</td>\n",
       "    </tr>\n",
       "    <tr>\n",
       "      <th>319323</th>\n",
       "      <td>3726322</td>\n",
       "      <td>2580_It_Never_Sleeps</td>\n",
       "      <td>miscellaneous crew</td>\n",
       "      <td>Patricia Muckle</td>\n",
       "      <td>Muckle, Patricia</td>\n",
       "      <td>NaN</td>\n",
       "      <td>Patricia Muckle</td>\n",
       "      <td>female</td>\n",
       "      <td>809021</td>\n",
       "      <td>1.00</td>\n",
       "      <td>6538684</td>\n",
       "    </tr>\n",
       "    <tr>\n",
       "      <th>319324</th>\n",
       "      <td>3726322</td>\n",
       "      <td>2580_It_Never_Sleeps</td>\n",
       "      <td>miscellaneous crew</td>\n",
       "      <td>George Tsikos</td>\n",
       "      <td>Tsikos, George</td>\n",
       "      <td>NaN</td>\n",
       "      <td>George Tsikos</td>\n",
       "      <td>male</td>\n",
       "      <td>542554</td>\n",
       "      <td>1.00</td>\n",
       "      <td>2928951</td>\n",
       "    </tr>\n",
       "  </tbody>\n",
       "</table>\n",
       "<p>319325 rows × 11 columns</p>\n",
       "</div>"
      ],
      "text/plain": [
       "        movie_id                    file                  role  \\\n",
       "0        2113683  4513_I_Know_That_Voice                  cast   \n",
       "1        2113683  4513_I_Know_That_Voice                  cast   \n",
       "2        2113683  4513_I_Know_That_Voice                  cast   \n",
       "3        2113683  4513_I_Know_That_Voice                  cast   \n",
       "4        2113683  4513_I_Know_That_Voice                  cast   \n",
       "...          ...                     ...                   ...   \n",
       "319320   3726322    2580_It_Never_Sleeps  editorial department   \n",
       "319321   3726322    2580_It_Never_Sleeps    miscellaneous crew   \n",
       "319322   3726322    2580_It_Never_Sleeps    miscellaneous crew   \n",
       "319323   3726322    2580_It_Never_Sleeps    miscellaneous crew   \n",
       "319324   3726322    2580_It_Never_Sleeps    miscellaneous crew   \n",
       "\n",
       "                    name long_canonical_name headshot      name_parsed  \\\n",
       "0           Devon Bowman       Bowman, Devon      NaN     Devon Bowman   \n",
       "1         Morgan Gerhard     Gerhard, Morgan      NaN   Morgan Gerhard   \n",
       "2           Gerald Burke       Burke, Gerald      NaN     Gerald Burke   \n",
       "3        Kelly Ann Foley    Foley, Kelly Ann      NaN  Kelly Ann Foley   \n",
       "4            Tom Lawless        Lawless, Tom      NaN      Tom Lawless   \n",
       "...                  ...                 ...      ...              ...   \n",
       "319320  Mdhamiri Á Nkemi   Nkemi, Mdhamiri Á      NaN  Mdhamiri  Nkemi   \n",
       "319321      Jon Anderson       Anderson, Jon      NaN     Jon Anderson   \n",
       "319322        Harry Gadd         Gadd, Harry      NaN       Harry Gadd   \n",
       "319323   Patricia Muckle    Muckle, Patricia      NaN  Patricia Muckle   \n",
       "319324     George Tsikos      Tsikos, George      NaN    George Tsikos   \n",
       "\n",
       "        gender   count  probability  name_id  \n",
       "0         male    3308         0.79  1329505  \n",
       "1         male   18372         0.79  1439900  \n",
       "2         male  115901         1.00  2825311  \n",
       "3       female   62441         0.89  0284182  \n",
       "4         male  698532         1.00  4905404  \n",
       "...        ...     ...          ...      ...  \n",
       "319320     NaN       0         0.00  4995023  \n",
       "319321    male  249969         1.00  9196204  \n",
       "319322    male  177229         1.00  6538683  \n",
       "319323  female  809021         1.00  6538684  \n",
       "319324    male  542554         1.00  2928951  \n",
       "\n",
       "[319325 rows x 11 columns]"
      ]
     },
     "execution_count": 108,
     "metadata": {},
     "output_type": "execute_result"
    }
   ],
   "source": [
    "df_gm"
   ]
  },
  {
   "cell_type": "code",
   "execution_count": 109,
   "metadata": {},
   "outputs": [],
   "source": [
    "df_cast = pd.read_csv(\"all_people_gender_merged.csv\", dtype={'person_id': str})"
   ]
  },
  {
   "cell_type": "code",
   "execution_count": 110,
   "metadata": {},
   "outputs": [],
   "source": [
    "df_cast['gender_named'] = df_cast['gender_named'].map({\"F\": \"female\", \"M\": \"male\"})"
   ]
  },
  {
   "cell_type": "code",
   "execution_count": 111,
   "metadata": {},
   "outputs": [],
   "source": [
    "df_cast = df_cast[~df_cast['person'].duplicated()]"
   ]
  },
  {
   "cell_type": "code",
   "execution_count": 112,
   "metadata": {},
   "outputs": [],
   "source": [
    "df_people = pd.read_csv(\"../support_crew/manual_crew/movies_support_crew_with_manual.csv\", dtype=str)"
   ]
  },
  {
   "cell_type": "code",
   "execution_count": 113,
   "metadata": {},
   "outputs": [],
   "source": [
    "df_all_gm = df_people.merge(df_cast[['person', 'gender_named']], \n",
    "                            left_on = \"name\", right_on='person', how='left')\n",
    "df_all_gm = df_all_gm.rename(columns={\"gender_named\": \"gender\"})"
   ]
  },
  {
   "cell_type": "code",
   "execution_count": 114,
   "metadata": {},
   "outputs": [
    {
     "data": {
      "text/plain": [
       "(644969, 9)"
      ]
     },
     "execution_count": 114,
     "metadata": {},
     "output_type": "execute_result"
    }
   ],
   "source": [
    "df_all_gm.shape"
   ]
  },
  {
   "cell_type": "code",
   "execution_count": 115,
   "metadata": {},
   "outputs": [
    {
     "data": {
      "text/plain": [
       "91661"
      ]
     },
     "execution_count": 115,
     "metadata": {},
     "output_type": "execute_result"
    }
   ],
   "source": [
    "(~df_all_gm['gender'].isnull()).sum()"
   ]
  },
  {
   "cell_type": "code",
   "execution_count": 116,
   "metadata": {},
   "outputs": [],
   "source": [
    "df_all_gm_with_crew = df_all_gm.merge(df_gm[['name', 'gender']],\n",
    "                                      on=\"name\", how=\"left\")"
   ]
  },
  {
   "cell_type": "code",
   "execution_count": 117,
   "metadata": {},
   "outputs": [],
   "source": [
    "df_all_gm_with_crew['gender'] = df_all_gm_with_crew['gender_x'].combine_first(df_all_gm_with_crew['gender_y'])"
   ]
  },
  {
   "cell_type": "code",
   "execution_count": 118,
   "metadata": {},
   "outputs": [],
   "source": [
    "df_all_gm_with_crew = df_all_gm_with_crew.drop(columns=['gender_x', 'gender_y'])"
   ]
  },
  {
   "cell_type": "code",
   "execution_count": 119,
   "metadata": {},
   "outputs": [
    {
     "data": {
      "text/plain": [
       "7363"
      ]
     },
     "execution_count": 119,
     "metadata": {},
     "output_type": "execute_result"
    }
   ],
   "source": [
    "df_all_gm_with_crew['gender'].isnull().sum()"
   ]
  },
  {
   "cell_type": "code",
   "execution_count": 120,
   "metadata": {},
   "outputs": [
    {
     "data": {
      "text/plain": [
       "((644969, 9), (644969, 7))"
      ]
     },
     "execution_count": 120,
     "metadata": {},
     "output_type": "execute_result"
    }
   ],
   "source": [
    "df_all_gm_with_crew.shape, df_people.shape"
   ]
  },
  {
   "cell_type": "code",
   "execution_count": 121,
   "metadata": {},
   "outputs": [],
   "source": [
    "df_all_gm_with_crew.to_csv(\"all_people_with_manual_gender_merged.csv\", index=False)"
   ]
  }
 ],
 "metadata": {
  "kernelspec": {
   "display_name": "Python 3",
   "language": "python",
   "name": "python3"
  },
  "language_info": {
   "codemirror_mode": {
    "name": "ipython",
    "version": 3
   },
   "file_extension": ".py",
   "mimetype": "text/x-python",
   "name": "python",
   "nbconvert_exporter": "python",
   "pygments_lexer": "ipython3",
   "version": "3.11.3"
  }
 },
 "nbformat": 4,
 "nbformat_minor": 2
}
