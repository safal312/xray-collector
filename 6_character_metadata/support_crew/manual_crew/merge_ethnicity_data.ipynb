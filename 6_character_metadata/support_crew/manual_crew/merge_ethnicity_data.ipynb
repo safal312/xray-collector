{
 "cells": [
  {
   "cell_type": "code",
   "execution_count": 1,
   "metadata": {},
   "outputs": [],
   "source": [
    "import pandas as pd"
   ]
  },
  {
   "cell_type": "code",
   "execution_count": 2,
   "metadata": {},
   "outputs": [],
   "source": [
    "df_eth = pd.read_csv(\"../ethnicity_unique_names_movies_support_crew.csv\", encoding=\"utf-8\", dtype=str)"
   ]
  },
  {
   "cell_type": "code",
   "execution_count": 3,
   "metadata": {},
   "outputs": [],
   "source": [
    "df_eth_manual = pd.read_csv(\"./ethnicity_unique_names_movies_support_crew_with_manual.csv\", dtype=str)"
   ]
  },
  {
   "cell_type": "code",
   "execution_count": 4,
   "metadata": {},
   "outputs": [],
   "source": [
    "df_merged = pd.concat([df_eth, df_eth_manual])"
   ]
  },
  {
   "cell_type": "code",
   "execution_count": 5,
   "metadata": {},
   "outputs": [
    {
     "data": {
      "text/plain": [
       "((368220, 8), (297903, 8), (70317, 8))"
      ]
     },
     "execution_count": 5,
     "metadata": {},
     "output_type": "execute_result"
    }
   ],
   "source": [
    "df_merged.shape, df_eth.shape, df_eth_manual.shape"
   ]
  },
  {
   "cell_type": "code",
   "execution_count": 6,
   "metadata": {},
   "outputs": [
    {
     "data": {
      "text/plain": [
       "0"
      ]
     },
     "execution_count": 6,
     "metadata": {},
     "output_type": "execute_result"
    }
   ],
   "source": [
    "df_merged['person_id'].duplicated().sum()"
   ]
  },
  {
   "cell_type": "code",
   "execution_count": 13,
   "metadata": {},
   "outputs": [
    {
     "data": {
      "text/plain": [
       "0"
      ]
     },
     "execution_count": 13,
     "metadata": {},
     "output_type": "execute_result"
    }
   ],
   "source": [
    "df_merged['name'].duplicated().sum()"
   ]
  },
  {
   "cell_type": "code",
   "execution_count": 17,
   "metadata": {},
   "outputs": [
    {
     "data": {
      "text/html": [
       "<div>\n",
       "<style scoped>\n",
       "    .dataframe tbody tr th:only-of-type {\n",
       "        vertical-align: middle;\n",
       "    }\n",
       "\n",
       "    .dataframe tbody tr th {\n",
       "        vertical-align: top;\n",
       "    }\n",
       "\n",
       "    .dataframe thead th {\n",
       "        text-align: right;\n",
       "    }\n",
       "</style>\n",
       "<table border=\"1\" class=\"dataframe\">\n",
       "  <thead>\n",
       "    <tr style=\"text-align: right;\">\n",
       "      <th></th>\n",
       "      <th>2PRACE</th>\n",
       "      <th>Hispanic</th>\n",
       "      <th>API</th>\n",
       "      <th>Black</th>\n",
       "      <th>AIAN</th>\n",
       "      <th>White</th>\n",
       "      <th>person_id</th>\n",
       "      <th>name</th>\n",
       "    </tr>\n",
       "  </thead>\n",
       "  <tbody>\n",
       "    <tr>\n",
       "      <th>27964</th>\n",
       "      <td>0.0010314836337072682</td>\n",
       "      <td>0.002091486540210817</td>\n",
       "      <td>0.9765323780573033</td>\n",
       "      <td>0.000983997347611939</td>\n",
       "      <td>8.762073247229018e-05</td>\n",
       "      <td>0.019273033688694315</td>\n",
       "      <td>4214180</td>\n",
       "      <td>Yong-goo Do</td>\n",
       "    </tr>\n",
       "  </tbody>\n",
       "</table>\n",
       "</div>"
      ],
      "text/plain": [
       "                      2PRACE              Hispanic                 API  \\\n",
       "27964  0.0010314836337072682  0.002091486540210817  0.9765323780573033   \n",
       "\n",
       "                      Black                   AIAN                 White  \\\n",
       "27964  0.000983997347611939  8.762073247229018e-05  0.019273033688694315   \n",
       "\n",
       "      person_id         name  \n",
       "27964   4214180  Yong-goo Do  "
      ]
     },
     "execution_count": 17,
     "metadata": {},
     "output_type": "execute_result"
    }
   ],
   "source": [
    "df_eth_manual[df_eth_manual['person_id'] == '4214180']"
   ]
  },
  {
   "cell_type": "code",
   "execution_count": 8,
   "metadata": {},
   "outputs": [],
   "source": [
    "df_crew = pd.read_csv(\"./movies_support_crew_with_manual.csv\", dtype=str)"
   ]
  },
  {
   "cell_type": "code",
   "execution_count": 9,
   "metadata": {},
   "outputs": [
    {
     "data": {
      "text/html": [
       "<div>\n",
       "<style scoped>\n",
       "    .dataframe tbody tr th:only-of-type {\n",
       "        vertical-align: middle;\n",
       "    }\n",
       "\n",
       "    .dataframe tbody tr th {\n",
       "        vertical-align: top;\n",
       "    }\n",
       "\n",
       "    .dataframe thead th {\n",
       "        text-align: right;\n",
       "    }\n",
       "</style>\n",
       "<table border=\"1\" class=\"dataframe\">\n",
       "  <thead>\n",
       "    <tr style=\"text-align: right;\">\n",
       "      <th></th>\n",
       "      <th>movie_id</th>\n",
       "      <th>file</th>\n",
       "      <th>role</th>\n",
       "      <th>person_id</th>\n",
       "      <th>name</th>\n",
       "      <th>long_canonical_name</th>\n",
       "      <th>headshot</th>\n",
       "    </tr>\n",
       "  </thead>\n",
       "  <tbody>\n",
       "    <tr>\n",
       "      <th>0</th>\n",
       "      <td>2113683</td>\n",
       "      <td>4513_I_Know_That_Voice</td>\n",
       "      <td>cast</td>\n",
       "      <td>0012121</td>\n",
       "      <td>Charlie Adler</td>\n",
       "      <td>Adler, Charlie</td>\n",
       "      <td>https://m.media-amazon.com/images/M/MV5BMjE0OT...</td>\n",
       "    </tr>\n",
       "    <tr>\n",
       "      <th>1</th>\n",
       "      <td>2113683</td>\n",
       "      <td>4513_I_Know_That_Voice</td>\n",
       "      <td>cast</td>\n",
       "      <td>0781899</td>\n",
       "      <td>Pamela Adlon</td>\n",
       "      <td>Adlon, Pamela</td>\n",
       "      <td>https://m.media-amazon.com/images/M/MV5BMTc2OT...</td>\n",
       "    </tr>\n",
       "    <tr>\n",
       "      <th>2</th>\n",
       "      <td>2113683</td>\n",
       "      <td>4513_I_Know_That_Voice</td>\n",
       "      <td>cast</td>\n",
       "      <td>0016141</td>\n",
       "      <td>Carlos Alazraqui</td>\n",
       "      <td>Alazraqui, Carlos</td>\n",
       "      <td>https://m.media-amazon.com/images/M/MV5BMTQyMT...</td>\n",
       "    </tr>\n",
       "    <tr>\n",
       "      <th>3</th>\n",
       "      <td>2113683</td>\n",
       "      <td>4513_I_Know_That_Voice</td>\n",
       "      <td>cast</td>\n",
       "      <td>0029460</td>\n",
       "      <td>Jack Angel</td>\n",
       "      <td>Angel, Jack</td>\n",
       "      <td>https://m.media-amazon.com/images/M/MV5BNjM1Nz...</td>\n",
       "    </tr>\n",
       "    <tr>\n",
       "      <th>4</th>\n",
       "      <td>2113683</td>\n",
       "      <td>4513_I_Know_That_Voice</td>\n",
       "      <td>cast</td>\n",
       "      <td>0000799</td>\n",
       "      <td>Edward Asner</td>\n",
       "      <td>Asner, Edward</td>\n",
       "      <td>https://m.media-amazon.com/images/M/MV5BMTk0MD...</td>\n",
       "    </tr>\n",
       "  </tbody>\n",
       "</table>\n",
       "</div>"
      ],
      "text/plain": [
       "  movie_id                    file  role person_id              name  \\\n",
       "0  2113683  4513_I_Know_That_Voice  cast   0012121     Charlie Adler   \n",
       "1  2113683  4513_I_Know_That_Voice  cast   0781899      Pamela Adlon   \n",
       "2  2113683  4513_I_Know_That_Voice  cast   0016141  Carlos Alazraqui   \n",
       "3  2113683  4513_I_Know_That_Voice  cast   0029460        Jack Angel   \n",
       "4  2113683  4513_I_Know_That_Voice  cast   0000799      Edward Asner   \n",
       "\n",
       "  long_canonical_name                                           headshot  \n",
       "0      Adler, Charlie  https://m.media-amazon.com/images/M/MV5BMjE0OT...  \n",
       "1       Adlon, Pamela  https://m.media-amazon.com/images/M/MV5BMTc2OT...  \n",
       "2   Alazraqui, Carlos  https://m.media-amazon.com/images/M/MV5BMTQyMT...  \n",
       "3         Angel, Jack  https://m.media-amazon.com/images/M/MV5BNjM1Nz...  \n",
       "4       Asner, Edward  https://m.media-amazon.com/images/M/MV5BMTk0MD...  "
      ]
     },
     "execution_count": 9,
     "metadata": {},
     "output_type": "execute_result"
    }
   ],
   "source": [
    "df_crew.head()"
   ]
  },
  {
   "cell_type": "code",
   "execution_count": 43,
   "metadata": {},
   "outputs": [],
   "source": [
    "# df_merged_crew = df_crew.merge(df_merged.drop(\"person_id\", axis=1), on='name', how='left')\n",
    "# df_merged_crew_filled = df_merged_crew.fillna(df_eth_manual.set_index('name'))\n",
    "# df_merged_crew_filled\n",
    "\n",
    "# Merge based on 'person_id'\n",
    "id_merge = df_crew.merge(df_merged.drop(\"name\", axis=1), on='person_id', how='left')\n",
    "name_merge = df_crew.merge(df_merged.drop(\"person_id\", axis=1), on='name', how='left')"
   ]
  },
  {
   "cell_type": "code",
   "execution_count": 46,
   "metadata": {},
   "outputs": [
    {
     "data": {
      "text/plain": [
       "(27249, 21)"
      ]
     },
     "execution_count": 46,
     "metadata": {},
     "output_type": "execute_result"
    }
   ],
   "source": [
    "id_merge['2PRACE'].isna().sum(), name_merge['2PRACE'].isna().sum()"
   ]
  },
  {
   "cell_type": "code",
   "execution_count": 50,
   "metadata": {},
   "outputs": [
    {
     "data": {
      "text/plain": [
       "((644969, 13), (644969, 13))"
      ]
     },
     "execution_count": 50,
     "metadata": {},
     "output_type": "execute_result"
    }
   ],
   "source": [
    "name_merge.shape, id_merge.shape"
   ]
  },
  {
   "cell_type": "code",
   "execution_count": 51,
   "metadata": {},
   "outputs": [],
   "source": [
    "for col in ['2PRACE', 'Hispanic', 'API', 'Black', 'AIAN', 'White']:\n",
    "    id_merge[col] = id_merge[col].combine_first(name_merge[col])"
   ]
  },
  {
   "cell_type": "code",
   "execution_count": 53,
   "metadata": {},
   "outputs": [
    {
     "data": {
      "text/plain": [
       "0"
      ]
     },
     "execution_count": 53,
     "metadata": {},
     "output_type": "execute_result"
    }
   ],
   "source": [
    "id_merge['2PRACE'].isna().sum()"
   ]
  },
  {
   "cell_type": "code",
   "execution_count": 55,
   "metadata": {},
   "outputs": [
    {
     "data": {
      "text/html": [
       "<div>\n",
       "<style scoped>\n",
       "    .dataframe tbody tr th:only-of-type {\n",
       "        vertical-align: middle;\n",
       "    }\n",
       "\n",
       "    .dataframe tbody tr th {\n",
       "        vertical-align: top;\n",
       "    }\n",
       "\n",
       "    .dataframe thead th {\n",
       "        text-align: right;\n",
       "    }\n",
       "</style>\n",
       "<table border=\"1\" class=\"dataframe\">\n",
       "  <thead>\n",
       "    <tr style=\"text-align: right;\">\n",
       "      <th></th>\n",
       "      <th>movie_id</th>\n",
       "      <th>file</th>\n",
       "      <th>role</th>\n",
       "      <th>person_id</th>\n",
       "      <th>name</th>\n",
       "      <th>long_canonical_name</th>\n",
       "      <th>headshot</th>\n",
       "      <th>2PRACE</th>\n",
       "      <th>Hispanic</th>\n",
       "      <th>API</th>\n",
       "      <th>Black</th>\n",
       "      <th>AIAN</th>\n",
       "      <th>White</th>\n",
       "    </tr>\n",
       "  </thead>\n",
       "  <tbody>\n",
       "    <tr>\n",
       "      <th>134290</th>\n",
       "      <td>11987082</td>\n",
       "      <td>3535_Paagal</td>\n",
       "      <td>thanks</td>\n",
       "      <td>1212153</td>\n",
       "      <td>Sivaji</td>\n",
       "      <td>Sivaji</td>\n",
       "      <td>NaN</td>\n",
       "      <td>5.731435136919907e-07</td>\n",
       "      <td>3.031929187430631e-05</td>\n",
       "      <td>0.867024387380741</td>\n",
       "      <td>2.2524540088095232e-05</td>\n",
       "      <td>1.1462870273839814e-06</td>\n",
       "      <td>0.13292104935675547</td>\n",
       "    </tr>\n",
       "    <tr>\n",
       "      <th>324105</th>\n",
       "      <td>7805494</td>\n",
       "      <td>3051_V_Telugu</td>\n",
       "      <td>cast</td>\n",
       "      <td>1212153</td>\n",
       "      <td>Sivaji\\r\\n          \\r\\n          \\r\\n        ...</td>\n",
       "      <td>episode, Sivaji\\r\\n          \\r\\n          \\r\\...</td>\n",
       "      <td>https://m.media-amazon.com/images/M/MV5BMzk0MW...</td>\n",
       "      <td>5.731435136919907e-07</td>\n",
       "      <td>3.031929187430631e-05</td>\n",
       "      <td>0.867024387380741</td>\n",
       "      <td>2.2524540088095232e-05</td>\n",
       "      <td>1.1462870273839814e-06</td>\n",
       "      <td>0.13292104935675547</td>\n",
       "    </tr>\n",
       "  </tbody>\n",
       "</table>\n",
       "</div>"
      ],
      "text/plain": [
       "        movie_id           file    role person_id  \\\n",
       "134290  11987082    3535_Paagal  thanks   1212153   \n",
       "324105   7805494  3051_V_Telugu    cast   1212153   \n",
       "\n",
       "                                                     name  \\\n",
       "134290                                             Sivaji   \n",
       "324105  Sivaji\\r\\n          \\r\\n          \\r\\n        ...   \n",
       "\n",
       "                                      long_canonical_name  \\\n",
       "134290                                             Sivaji   \n",
       "324105  episode, Sivaji\\r\\n          \\r\\n          \\r\\...   \n",
       "\n",
       "                                                 headshot  \\\n",
       "134290                                                NaN   \n",
       "324105  https://m.media-amazon.com/images/M/MV5BMzk0MW...   \n",
       "\n",
       "                       2PRACE               Hispanic                API  \\\n",
       "134290  5.731435136919907e-07  3.031929187430631e-05  0.867024387380741   \n",
       "324105  5.731435136919907e-07  3.031929187430631e-05  0.867024387380741   \n",
       "\n",
       "                         Black                    AIAN                White  \n",
       "134290  2.2524540088095232e-05  1.1462870273839814e-06  0.13292104935675547  \n",
       "324105  2.2524540088095232e-05  1.1462870273839814e-06  0.13292104935675547  "
      ]
     },
     "execution_count": 55,
     "metadata": {},
     "output_type": "execute_result"
    }
   ],
   "source": [
    "id_merge[id_merge['person_id'] == '1212153']"
   ]
  },
  {
   "cell_type": "code",
   "execution_count": 56,
   "metadata": {},
   "outputs": [
    {
     "data": {
      "text/html": [
       "<div>\n",
       "<style scoped>\n",
       "    .dataframe tbody tr th:only-of-type {\n",
       "        vertical-align: middle;\n",
       "    }\n",
       "\n",
       "    .dataframe tbody tr th {\n",
       "        vertical-align: top;\n",
       "    }\n",
       "\n",
       "    .dataframe thead th {\n",
       "        text-align: right;\n",
       "    }\n",
       "</style>\n",
       "<table border=\"1\" class=\"dataframe\">\n",
       "  <thead>\n",
       "    <tr style=\"text-align: right;\">\n",
       "      <th></th>\n",
       "      <th>movie_id</th>\n",
       "      <th>file</th>\n",
       "      <th>role</th>\n",
       "      <th>person_id</th>\n",
       "      <th>name</th>\n",
       "      <th>long_canonical_name</th>\n",
       "      <th>headshot</th>\n",
       "      <th>2PRACE</th>\n",
       "      <th>Hispanic</th>\n",
       "      <th>API</th>\n",
       "      <th>Black</th>\n",
       "      <th>AIAN</th>\n",
       "      <th>White</th>\n",
       "    </tr>\n",
       "  </thead>\n",
       "  <tbody>\n",
       "  </tbody>\n",
       "</table>\n",
       "</div>"
      ],
      "text/plain": [
       "Empty DataFrame\n",
       "Columns: [movie_id, file, role, person_id, name, long_canonical_name, headshot, 2PRACE, Hispanic, API, Black, AIAN, White]\n",
       "Index: []"
      ]
     },
     "execution_count": 56,
     "metadata": {},
     "output_type": "execute_result"
    }
   ],
   "source": [
    "unmatched_rows = id_merge[id_merge.drop(\"headshot\", axis=1).isnull().any(axis=1)]\n",
    "unmatched_rows"
   ]
  },
  {
   "cell_type": "code",
   "execution_count": 57,
   "metadata": {},
   "outputs": [
    {
     "data": {
      "text/html": [
       "<div>\n",
       "<style scoped>\n",
       "    .dataframe tbody tr th:only-of-type {\n",
       "        vertical-align: middle;\n",
       "    }\n",
       "\n",
       "    .dataframe tbody tr th {\n",
       "        vertical-align: top;\n",
       "    }\n",
       "\n",
       "    .dataframe thead th {\n",
       "        text-align: right;\n",
       "    }\n",
       "</style>\n",
       "<table border=\"1\" class=\"dataframe\">\n",
       "  <thead>\n",
       "    <tr style=\"text-align: right;\">\n",
       "      <th></th>\n",
       "      <th>movie_id</th>\n",
       "      <th>file</th>\n",
       "      <th>role</th>\n",
       "      <th>person_id</th>\n",
       "      <th>name</th>\n",
       "      <th>long_canonical_name</th>\n",
       "      <th>headshot</th>\n",
       "      <th>2PRACE</th>\n",
       "      <th>Hispanic</th>\n",
       "      <th>API</th>\n",
       "      <th>Black</th>\n",
       "      <th>AIAN</th>\n",
       "      <th>White</th>\n",
       "    </tr>\n",
       "  </thead>\n",
       "  <tbody>\n",
       "    <tr>\n",
       "      <th>0</th>\n",
       "      <td>2113683</td>\n",
       "      <td>4513_I_Know_That_Voice</td>\n",
       "      <td>cast</td>\n",
       "      <td>0012121</td>\n",
       "      <td>Charlie Adler</td>\n",
       "      <td>Adler, Charlie</td>\n",
       "      <td>https://m.media-amazon.com/images/M/MV5BMjE0OT...</td>\n",
       "      <td>0.0003791493558141442</td>\n",
       "      <td>0.004028159965422246</td>\n",
       "      <td>0.002948061788088118</td>\n",
       "      <td>0.0014853414308007712</td>\n",
       "      <td>0.0003638633244289737</td>\n",
       "      <td>0.9907954241354457</td>\n",
       "    </tr>\n",
       "    <tr>\n",
       "      <th>1</th>\n",
       "      <td>2113683</td>\n",
       "      <td>4513_I_Know_That_Voice</td>\n",
       "      <td>cast</td>\n",
       "      <td>0781899</td>\n",
       "      <td>Pamela Adlon</td>\n",
       "      <td>Adlon, Pamela</td>\n",
       "      <td>https://m.media-amazon.com/images/M/MV5BMTc2OT...</td>\n",
       "      <td>0.00016229024615924882</td>\n",
       "      <td>0.008780870928979985</td>\n",
       "      <td>0.003105828935275198</td>\n",
       "      <td>0.013599195324743239</td>\n",
       "      <td>0.0005266409979604417</td>\n",
       "      <td>0.9738251735668818</td>\n",
       "    </tr>\n",
       "    <tr>\n",
       "      <th>2</th>\n",
       "      <td>2113683</td>\n",
       "      <td>4513_I_Know_That_Voice</td>\n",
       "      <td>cast</td>\n",
       "      <td>0016141</td>\n",
       "      <td>Carlos Alazraqui</td>\n",
       "      <td>Alazraqui, Carlos</td>\n",
       "      <td>https://m.media-amazon.com/images/M/MV5BMTQyMT...</td>\n",
       "      <td>0.00028741778834684336</td>\n",
       "      <td>0.5850444253544991</td>\n",
       "      <td>0.00926526090279111</td>\n",
       "      <td>0.008216561584701094</td>\n",
       "      <td>0.000936954355268692</td>\n",
       "      <td>0.3962493800143933</td>\n",
       "    </tr>\n",
       "    <tr>\n",
       "      <th>3</th>\n",
       "      <td>2113683</td>\n",
       "      <td>4513_I_Know_That_Voice</td>\n",
       "      <td>cast</td>\n",
       "      <td>0029460</td>\n",
       "      <td>Jack Angel</td>\n",
       "      <td>Angel, Jack</td>\n",
       "      <td>https://m.media-amazon.com/images/M/MV5BNjM1Nz...</td>\n",
       "      <td>0.0004429278807594805</td>\n",
       "      <td>0.055670210334570217</td>\n",
       "      <td>0.009624638861322256</td>\n",
       "      <td>0.011203545637844781</td>\n",
       "      <td>0.001461365121574873</td>\n",
       "      <td>0.9215973121639284</td>\n",
       "    </tr>\n",
       "    <tr>\n",
       "      <th>4</th>\n",
       "      <td>2113683</td>\n",
       "      <td>4513_I_Know_That_Voice</td>\n",
       "      <td>cast</td>\n",
       "      <td>0000799</td>\n",
       "      <td>Edward Asner</td>\n",
       "      <td>Asner, Edward</td>\n",
       "      <td>https://m.media-amazon.com/images/M/MV5BMTk0MD...</td>\n",
       "      <td>6.064218678774983e-05</td>\n",
       "      <td>0.0024106095500817386</td>\n",
       "      <td>0.001584809684461344</td>\n",
       "      <td>0.003809807328995229</td>\n",
       "      <td>0.0016577832147546153</td>\n",
       "      <td>0.9904763480349194</td>\n",
       "    </tr>\n",
       "    <tr>\n",
       "      <th>...</th>\n",
       "      <td>...</td>\n",
       "      <td>...</td>\n",
       "      <td>...</td>\n",
       "      <td>...</td>\n",
       "      <td>...</td>\n",
       "      <td>...</td>\n",
       "      <td>...</td>\n",
       "      <td>...</td>\n",
       "      <td>...</td>\n",
       "      <td>...</td>\n",
       "      <td>...</td>\n",
       "      <td>...</td>\n",
       "      <td>...</td>\n",
       "    </tr>\n",
       "    <tr>\n",
       "      <th>644964</th>\n",
       "      <td>3726322</td>\n",
       "      <td>2580_It_Never_Sleeps</td>\n",
       "      <td>miscellaneous crew</td>\n",
       "      <td>9196204</td>\n",
       "      <td>Jon Anderson</td>\n",
       "      <td>Anderson, Jon</td>\n",
       "      <td>NaN</td>\n",
       "      <td>0.0004742130593430362</td>\n",
       "      <td>0.002511315294553805</td>\n",
       "      <td>0.001812386390648068</td>\n",
       "      <td>0.0435861157252399</td>\n",
       "      <td>0.001572079510532787</td>\n",
       "      <td>0.9500438900196825</td>\n",
       "    </tr>\n",
       "    <tr>\n",
       "      <th>644965</th>\n",
       "      <td>3726322</td>\n",
       "      <td>2580_It_Never_Sleeps</td>\n",
       "      <td>miscellaneous crew</td>\n",
       "      <td>5274081</td>\n",
       "      <td>Ric Crossley</td>\n",
       "      <td>Crossley, Ric</td>\n",
       "      <td>NaN</td>\n",
       "      <td>0.0007941670788681925</td>\n",
       "      <td>0.005419533191862647</td>\n",
       "      <td>0.0031838742781688492</td>\n",
       "      <td>0.03839277819759911</td>\n",
       "      <td>0.0024256393730785492</td>\n",
       "      <td>0.9497840078804227</td>\n",
       "    </tr>\n",
       "    <tr>\n",
       "      <th>644966</th>\n",
       "      <td>3726322</td>\n",
       "      <td>2580_It_Never_Sleeps</td>\n",
       "      <td>miscellaneous crew</td>\n",
       "      <td>6538683</td>\n",
       "      <td>Harry Gadd</td>\n",
       "      <td>Gadd, Harry</td>\n",
       "      <td>NaN</td>\n",
       "      <td>0.00047279853707243543</td>\n",
       "      <td>0.0018119664135041258</td>\n",
       "      <td>0.007429932623627976</td>\n",
       "      <td>0.005593074483875149</td>\n",
       "      <td>0.001107519397315787</td>\n",
       "      <td>0.9835847085446046</td>\n",
       "    </tr>\n",
       "    <tr>\n",
       "      <th>644967</th>\n",
       "      <td>3726322</td>\n",
       "      <td>2580_It_Never_Sleeps</td>\n",
       "      <td>miscellaneous crew</td>\n",
       "      <td>6538684</td>\n",
       "      <td>Patricia Muckle</td>\n",
       "      <td>Muckle, Patricia</td>\n",
       "      <td>NaN</td>\n",
       "      <td>0.0005602276403970595</td>\n",
       "      <td>0.010957889549922141</td>\n",
       "      <td>0.0005086851693280298</td>\n",
       "      <td>0.13905133154553878</td>\n",
       "      <td>0.0002963433201626137</td>\n",
       "      <td>0.8486255227746513</td>\n",
       "    </tr>\n",
       "    <tr>\n",
       "      <th>644968</th>\n",
       "      <td>3726322</td>\n",
       "      <td>2580_It_Never_Sleeps</td>\n",
       "      <td>miscellaneous crew</td>\n",
       "      <td>2928951</td>\n",
       "      <td>George Tsikos</td>\n",
       "      <td>Tsikos, George</td>\n",
       "      <td>NaN</td>\n",
       "      <td>0.00021434973315080506</td>\n",
       "      <td>0.012248999695322524</td>\n",
       "      <td>0.0056008320353843274</td>\n",
       "      <td>0.012977625555455135</td>\n",
       "      <td>0.0005652820122996983</td>\n",
       "      <td>0.9683929109683875</td>\n",
       "    </tr>\n",
       "  </tbody>\n",
       "</table>\n",
       "<p>644969 rows × 13 columns</p>\n",
       "</div>"
      ],
      "text/plain": [
       "       movie_id                    file                role person_id  \\\n",
       "0       2113683  4513_I_Know_That_Voice                cast   0012121   \n",
       "1       2113683  4513_I_Know_That_Voice                cast   0781899   \n",
       "2       2113683  4513_I_Know_That_Voice                cast   0016141   \n",
       "3       2113683  4513_I_Know_That_Voice                cast   0029460   \n",
       "4       2113683  4513_I_Know_That_Voice                cast   0000799   \n",
       "...         ...                     ...                 ...       ...   \n",
       "644964  3726322    2580_It_Never_Sleeps  miscellaneous crew   9196204   \n",
       "644965  3726322    2580_It_Never_Sleeps  miscellaneous crew   5274081   \n",
       "644966  3726322    2580_It_Never_Sleeps  miscellaneous crew   6538683   \n",
       "644967  3726322    2580_It_Never_Sleeps  miscellaneous crew   6538684   \n",
       "644968  3726322    2580_It_Never_Sleeps  miscellaneous crew   2928951   \n",
       "\n",
       "                    name long_canonical_name  \\\n",
       "0          Charlie Adler      Adler, Charlie   \n",
       "1           Pamela Adlon       Adlon, Pamela   \n",
       "2       Carlos Alazraqui   Alazraqui, Carlos   \n",
       "3             Jack Angel         Angel, Jack   \n",
       "4           Edward Asner       Asner, Edward   \n",
       "...                  ...                 ...   \n",
       "644964      Jon Anderson       Anderson, Jon   \n",
       "644965      Ric Crossley       Crossley, Ric   \n",
       "644966        Harry Gadd         Gadd, Harry   \n",
       "644967   Patricia Muckle    Muckle, Patricia   \n",
       "644968     George Tsikos      Tsikos, George   \n",
       "\n",
       "                                                 headshot  \\\n",
       "0       https://m.media-amazon.com/images/M/MV5BMjE0OT...   \n",
       "1       https://m.media-amazon.com/images/M/MV5BMTc2OT...   \n",
       "2       https://m.media-amazon.com/images/M/MV5BMTQyMT...   \n",
       "3       https://m.media-amazon.com/images/M/MV5BNjM1Nz...   \n",
       "4       https://m.media-amazon.com/images/M/MV5BMTk0MD...   \n",
       "...                                                   ...   \n",
       "644964                                                NaN   \n",
       "644965                                                NaN   \n",
       "644966                                                NaN   \n",
       "644967                                                NaN   \n",
       "644968                                                NaN   \n",
       "\n",
       "                        2PRACE               Hispanic                    API  \\\n",
       "0        0.0003791493558141442   0.004028159965422246   0.002948061788088118   \n",
       "1       0.00016229024615924882   0.008780870928979985   0.003105828935275198   \n",
       "2       0.00028741778834684336     0.5850444253544991    0.00926526090279111   \n",
       "3        0.0004429278807594805   0.055670210334570217   0.009624638861322256   \n",
       "4        6.064218678774983e-05  0.0024106095500817386   0.001584809684461344   \n",
       "...                        ...                    ...                    ...   \n",
       "644964   0.0004742130593430362   0.002511315294553805   0.001812386390648068   \n",
       "644965   0.0007941670788681925   0.005419533191862647  0.0031838742781688492   \n",
       "644966  0.00047279853707243543  0.0018119664135041258   0.007429932623627976   \n",
       "644967   0.0005602276403970595   0.010957889549922141  0.0005086851693280298   \n",
       "644968  0.00021434973315080506   0.012248999695322524  0.0056008320353843274   \n",
       "\n",
       "                        Black                   AIAN               White  \n",
       "0       0.0014853414308007712  0.0003638633244289737  0.9907954241354457  \n",
       "1        0.013599195324743239  0.0005266409979604417  0.9738251735668818  \n",
       "2        0.008216561584701094   0.000936954355268692  0.3962493800143933  \n",
       "3        0.011203545637844781   0.001461365121574873  0.9215973121639284  \n",
       "4        0.003809807328995229  0.0016577832147546153  0.9904763480349194  \n",
       "...                       ...                    ...                 ...  \n",
       "644964     0.0435861157252399   0.001572079510532787  0.9500438900196825  \n",
       "644965    0.03839277819759911  0.0024256393730785492  0.9497840078804227  \n",
       "644966   0.005593074483875149   0.001107519397315787  0.9835847085446046  \n",
       "644967    0.13905133154553878  0.0002963433201626137  0.8486255227746513  \n",
       "644968   0.012977625555455135  0.0005652820122996983  0.9683929109683875  \n",
       "\n",
       "[644969 rows x 13 columns]"
      ]
     },
     "execution_count": 57,
     "metadata": {},
     "output_type": "execute_result"
    }
   ],
   "source": [
    "id_merge"
   ]
  },
  {
   "cell_type": "code",
   "execution_count": 58,
   "metadata": {},
   "outputs": [],
   "source": [
    "id_merge.to_csv(\"all_support_crew_with_ethnicity.csv\", index=False)"
   ]
  }
 ],
 "metadata": {
  "kernelspec": {
   "display_name": "Python 3",
   "language": "python",
   "name": "python3"
  },
  "language_info": {
   "codemirror_mode": {
    "name": "ipython",
    "version": 3
   },
   "file_extension": ".py",
   "mimetype": "text/x-python",
   "name": "python",
   "nbconvert_exporter": "python",
   "pygments_lexer": "ipython3",
   "version": "3.11.3"
  }
 },
 "nbformat": 4,
 "nbformat_minor": 2
}
