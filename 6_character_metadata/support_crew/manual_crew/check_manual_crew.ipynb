{
 "cells": [
  {
   "cell_type": "code",
   "execution_count": 1,
   "metadata": {},
   "outputs": [],
   "source": [
    "import pandas as pd"
   ]
  },
  {
   "cell_type": "code",
   "execution_count": 2,
   "metadata": {},
   "outputs": [],
   "source": [
    "df = pd.read_csv(\"movies_support_crew_with_manual.csv\", dtype=str)"
   ]
  },
  {
   "cell_type": "code",
   "execution_count": 3,
   "metadata": {},
   "outputs": [
    {
     "data": {
      "text/html": [
       "<div>\n",
       "<style scoped>\n",
       "    .dataframe tbody tr th:only-of-type {\n",
       "        vertical-align: middle;\n",
       "    }\n",
       "\n",
       "    .dataframe tbody tr th {\n",
       "        vertical-align: top;\n",
       "    }\n",
       "\n",
       "    .dataframe thead th {\n",
       "        text-align: right;\n",
       "    }\n",
       "</style>\n",
       "<table border=\"1\" class=\"dataframe\">\n",
       "  <thead>\n",
       "    <tr style=\"text-align: right;\">\n",
       "      <th></th>\n",
       "      <th>movie_id</th>\n",
       "      <th>file</th>\n",
       "      <th>role</th>\n",
       "      <th>person_id</th>\n",
       "      <th>name</th>\n",
       "      <th>long_canonical_name</th>\n",
       "      <th>headshot</th>\n",
       "    </tr>\n",
       "  </thead>\n",
       "  <tbody>\n",
       "    <tr>\n",
       "      <th>0</th>\n",
       "      <td>2113683</td>\n",
       "      <td>4513_I_Know_That_Voice</td>\n",
       "      <td>cast</td>\n",
       "      <td>0012121</td>\n",
       "      <td>Charlie Adler</td>\n",
       "      <td>Adler, Charlie</td>\n",
       "      <td>https://m.media-amazon.com/images/M/MV5BMjE0OT...</td>\n",
       "    </tr>\n",
       "    <tr>\n",
       "      <th>1</th>\n",
       "      <td>2113683</td>\n",
       "      <td>4513_I_Know_That_Voice</td>\n",
       "      <td>cast</td>\n",
       "      <td>0781899</td>\n",
       "      <td>Pamela Adlon</td>\n",
       "      <td>Adlon, Pamela</td>\n",
       "      <td>https://m.media-amazon.com/images/M/MV5BMTc2OT...</td>\n",
       "    </tr>\n",
       "    <tr>\n",
       "      <th>2</th>\n",
       "      <td>2113683</td>\n",
       "      <td>4513_I_Know_That_Voice</td>\n",
       "      <td>cast</td>\n",
       "      <td>0016141</td>\n",
       "      <td>Carlos Alazraqui</td>\n",
       "      <td>Alazraqui, Carlos</td>\n",
       "      <td>https://m.media-amazon.com/images/M/MV5BMTQyMT...</td>\n",
       "    </tr>\n",
       "    <tr>\n",
       "      <th>3</th>\n",
       "      <td>2113683</td>\n",
       "      <td>4513_I_Know_That_Voice</td>\n",
       "      <td>cast</td>\n",
       "      <td>0029460</td>\n",
       "      <td>Jack Angel</td>\n",
       "      <td>Angel, Jack</td>\n",
       "      <td>https://m.media-amazon.com/images/M/MV5BNjM1Nz...</td>\n",
       "    </tr>\n",
       "    <tr>\n",
       "      <th>4</th>\n",
       "      <td>2113683</td>\n",
       "      <td>4513_I_Know_That_Voice</td>\n",
       "      <td>cast</td>\n",
       "      <td>0000799</td>\n",
       "      <td>Edward Asner</td>\n",
       "      <td>Asner, Edward</td>\n",
       "      <td>https://m.media-amazon.com/images/M/MV5BMTk0MD...</td>\n",
       "    </tr>\n",
       "  </tbody>\n",
       "</table>\n",
       "</div>"
      ],
      "text/plain": [
       "  movie_id                    file  role person_id              name  \\\n",
       "0  2113683  4513_I_Know_That_Voice  cast   0012121     Charlie Adler   \n",
       "1  2113683  4513_I_Know_That_Voice  cast   0781899      Pamela Adlon   \n",
       "2  2113683  4513_I_Know_That_Voice  cast   0016141  Carlos Alazraqui   \n",
       "3  2113683  4513_I_Know_That_Voice  cast   0029460        Jack Angel   \n",
       "4  2113683  4513_I_Know_That_Voice  cast   0000799      Edward Asner   \n",
       "\n",
       "  long_canonical_name                                           headshot  \n",
       "0      Adler, Charlie  https://m.media-amazon.com/images/M/MV5BMjE0OT...  \n",
       "1       Adlon, Pamela  https://m.media-amazon.com/images/M/MV5BMTc2OT...  \n",
       "2   Alazraqui, Carlos  https://m.media-amazon.com/images/M/MV5BMTQyMT...  \n",
       "3         Angel, Jack  https://m.media-amazon.com/images/M/MV5BNjM1Nz...  \n",
       "4       Asner, Edward  https://m.media-amazon.com/images/M/MV5BMTk0MD...  "
      ]
     },
     "execution_count": 3,
     "metadata": {},
     "output_type": "execute_result"
    }
   ],
   "source": [
    "df.head()"
   ]
  },
  {
   "cell_type": "code",
   "execution_count": 4,
   "metadata": {},
   "outputs": [
    {
     "data": {
      "text/plain": [
       "(3374, 7)"
      ]
     },
     "execution_count": 4,
     "metadata": {},
     "output_type": "execute_result"
    }
   ],
   "source": [
    "df_in = pd.read_csv(\"../../../7_imdb_validation/validation_helper/final_validated_metadata.csv\", dtype={\"movie_id\": str})\n",
    "df_in = df_in[~df_in['movie_id'].isna()]\n",
    "df_sub = df_in[~df_in['movie_id'].duplicated()]\n",
    "df_sub.shape"
   ]
  },
  {
   "cell_type": "code",
   "execution_count": 5,
   "metadata": {},
   "outputs": [
    {
     "data": {
      "text/plain": [
       "3374"
      ]
     },
     "execution_count": 5,
     "metadata": {},
     "output_type": "execute_result"
    }
   ],
   "source": [
    "len(df['movie_id'].unique())"
   ]
  },
  {
   "cell_type": "markdown",
   "metadata": {},
   "source": [
    "In the final validated movie file, there are no duplicates or null movie ids."
   ]
  },
  {
   "cell_type": "code",
   "execution_count": 6,
   "metadata": {},
   "outputs": [
    {
     "data": {
      "text/plain": [
       "(256842, (644969, 7))"
      ]
     },
     "execution_count": 6,
     "metadata": {},
     "output_type": "execute_result"
    }
   ],
   "source": [
    "sum(df['person_id'].duplicated()), df.shape"
   ]
  },
  {
   "cell_type": "code",
   "execution_count": 7,
   "metadata": {},
   "outputs": [],
   "source": [
    "df_dup = df[~df['person_id'].duplicated()]"
   ]
  },
  {
   "cell_type": "code",
   "execution_count": 10,
   "metadata": {},
   "outputs": [
    {
     "data": {
      "text/html": [
       "<div>\n",
       "<style scoped>\n",
       "    .dataframe tbody tr th:only-of-type {\n",
       "        vertical-align: middle;\n",
       "    }\n",
       "\n",
       "    .dataframe tbody tr th {\n",
       "        vertical-align: top;\n",
       "    }\n",
       "\n",
       "    .dataframe thead th {\n",
       "        text-align: right;\n",
       "    }\n",
       "</style>\n",
       "<table border=\"1\" class=\"dataframe\">\n",
       "  <thead>\n",
       "    <tr style=\"text-align: right;\">\n",
       "      <th></th>\n",
       "      <th>movie_id</th>\n",
       "      <th>file</th>\n",
       "      <th>role</th>\n",
       "      <th>person_id</th>\n",
       "      <th>name</th>\n",
       "      <th>long_canonical_name</th>\n",
       "      <th>headshot</th>\n",
       "    </tr>\n",
       "  </thead>\n",
       "  <tbody>\n",
       "    <tr>\n",
       "      <th>0</th>\n",
       "      <td>2113683</td>\n",
       "      <td>4513_I_Know_That_Voice</td>\n",
       "      <td>cast</td>\n",
       "      <td>0012121</td>\n",
       "      <td>Charlie Adler</td>\n",
       "      <td>Adler, Charlie</td>\n",
       "      <td>https://m.media-amazon.com/images/M/MV5BMjE0OT...</td>\n",
       "    </tr>\n",
       "    <tr>\n",
       "      <th>1</th>\n",
       "      <td>2113683</td>\n",
       "      <td>4513_I_Know_That_Voice</td>\n",
       "      <td>cast</td>\n",
       "      <td>0781899</td>\n",
       "      <td>Pamela Adlon</td>\n",
       "      <td>Adlon, Pamela</td>\n",
       "      <td>https://m.media-amazon.com/images/M/MV5BMTc2OT...</td>\n",
       "    </tr>\n",
       "    <tr>\n",
       "      <th>2</th>\n",
       "      <td>2113683</td>\n",
       "      <td>4513_I_Know_That_Voice</td>\n",
       "      <td>cast</td>\n",
       "      <td>0016141</td>\n",
       "      <td>Carlos Alazraqui</td>\n",
       "      <td>Alazraqui, Carlos</td>\n",
       "      <td>https://m.media-amazon.com/images/M/MV5BMTQyMT...</td>\n",
       "    </tr>\n",
       "    <tr>\n",
       "      <th>3</th>\n",
       "      <td>2113683</td>\n",
       "      <td>4513_I_Know_That_Voice</td>\n",
       "      <td>cast</td>\n",
       "      <td>0029460</td>\n",
       "      <td>Jack Angel</td>\n",
       "      <td>Angel, Jack</td>\n",
       "      <td>https://m.media-amazon.com/images/M/MV5BNjM1Nz...</td>\n",
       "    </tr>\n",
       "    <tr>\n",
       "      <th>4</th>\n",
       "      <td>2113683</td>\n",
       "      <td>4513_I_Know_That_Voice</td>\n",
       "      <td>cast</td>\n",
       "      <td>0000799</td>\n",
       "      <td>Edward Asner</td>\n",
       "      <td>Asner, Edward</td>\n",
       "      <td>https://m.media-amazon.com/images/M/MV5BMTk0MD...</td>\n",
       "    </tr>\n",
       "    <tr>\n",
       "      <th>...</th>\n",
       "      <td>...</td>\n",
       "      <td>...</td>\n",
       "      <td>...</td>\n",
       "      <td>...</td>\n",
       "      <td>...</td>\n",
       "      <td>...</td>\n",
       "      <td>...</td>\n",
       "    </tr>\n",
       "    <tr>\n",
       "      <th>644962</th>\n",
       "      <td>3726322</td>\n",
       "      <td>2580_It_Never_Sleeps</td>\n",
       "      <td>editorial department</td>\n",
       "      <td>4995023</td>\n",
       "      <td>Mdhamiri Á Nkemi</td>\n",
       "      <td>Nkemi, Mdhamiri Á</td>\n",
       "      <td>NaN</td>\n",
       "    </tr>\n",
       "    <tr>\n",
       "      <th>644964</th>\n",
       "      <td>3726322</td>\n",
       "      <td>2580_It_Never_Sleeps</td>\n",
       "      <td>miscellaneous crew</td>\n",
       "      <td>9196204</td>\n",
       "      <td>Jon Anderson</td>\n",
       "      <td>Anderson, Jon</td>\n",
       "      <td>NaN</td>\n",
       "    </tr>\n",
       "    <tr>\n",
       "      <th>644966</th>\n",
       "      <td>3726322</td>\n",
       "      <td>2580_It_Never_Sleeps</td>\n",
       "      <td>miscellaneous crew</td>\n",
       "      <td>6538683</td>\n",
       "      <td>Harry Gadd</td>\n",
       "      <td>Gadd, Harry</td>\n",
       "      <td>NaN</td>\n",
       "    </tr>\n",
       "    <tr>\n",
       "      <th>644967</th>\n",
       "      <td>3726322</td>\n",
       "      <td>2580_It_Never_Sleeps</td>\n",
       "      <td>miscellaneous crew</td>\n",
       "      <td>6538684</td>\n",
       "      <td>Patricia Muckle</td>\n",
       "      <td>Muckle, Patricia</td>\n",
       "      <td>NaN</td>\n",
       "    </tr>\n",
       "    <tr>\n",
       "      <th>644968</th>\n",
       "      <td>3726322</td>\n",
       "      <td>2580_It_Never_Sleeps</td>\n",
       "      <td>miscellaneous crew</td>\n",
       "      <td>2928951</td>\n",
       "      <td>George Tsikos</td>\n",
       "      <td>Tsikos, George</td>\n",
       "      <td>NaN</td>\n",
       "    </tr>\n",
       "  </tbody>\n",
       "</table>\n",
       "<p>388127 rows × 7 columns</p>\n",
       "</div>"
      ],
      "text/plain": [
       "       movie_id                    file                  role person_id  \\\n",
       "0       2113683  4513_I_Know_That_Voice                  cast   0012121   \n",
       "1       2113683  4513_I_Know_That_Voice                  cast   0781899   \n",
       "2       2113683  4513_I_Know_That_Voice                  cast   0016141   \n",
       "3       2113683  4513_I_Know_That_Voice                  cast   0029460   \n",
       "4       2113683  4513_I_Know_That_Voice                  cast   0000799   \n",
       "...         ...                     ...                   ...       ...   \n",
       "644962  3726322    2580_It_Never_Sleeps  editorial department   4995023   \n",
       "644964  3726322    2580_It_Never_Sleeps    miscellaneous crew   9196204   \n",
       "644966  3726322    2580_It_Never_Sleeps    miscellaneous crew   6538683   \n",
       "644967  3726322    2580_It_Never_Sleeps    miscellaneous crew   6538684   \n",
       "644968  3726322    2580_It_Never_Sleeps    miscellaneous crew   2928951   \n",
       "\n",
       "                    name long_canonical_name  \\\n",
       "0          Charlie Adler      Adler, Charlie   \n",
       "1           Pamela Adlon       Adlon, Pamela   \n",
       "2       Carlos Alazraqui   Alazraqui, Carlos   \n",
       "3             Jack Angel         Angel, Jack   \n",
       "4           Edward Asner       Asner, Edward   \n",
       "...                  ...                 ...   \n",
       "644962  Mdhamiri Á Nkemi   Nkemi, Mdhamiri Á   \n",
       "644964      Jon Anderson       Anderson, Jon   \n",
       "644966        Harry Gadd         Gadd, Harry   \n",
       "644967   Patricia Muckle    Muckle, Patricia   \n",
       "644968     George Tsikos      Tsikos, George   \n",
       "\n",
       "                                                 headshot  \n",
       "0       https://m.media-amazon.com/images/M/MV5BMjE0OT...  \n",
       "1       https://m.media-amazon.com/images/M/MV5BMTc2OT...  \n",
       "2       https://m.media-amazon.com/images/M/MV5BMTQyMT...  \n",
       "3       https://m.media-amazon.com/images/M/MV5BNjM1Nz...  \n",
       "4       https://m.media-amazon.com/images/M/MV5BMTk0MD...  \n",
       "...                                                   ...  \n",
       "644962                                                NaN  \n",
       "644964                                                NaN  \n",
       "644966                                                NaN  \n",
       "644967                                                NaN  \n",
       "644968                                                NaN  \n",
       "\n",
       "[388127 rows x 7 columns]"
      ]
     },
     "execution_count": 10,
     "metadata": {},
     "output_type": "execute_result"
    }
   ],
   "source": [
    "df_dup"
   ]
  },
  {
   "cell_type": "code",
   "execution_count": 13,
   "metadata": {},
   "outputs": [],
   "source": [
    "df_dup[~df_dup['name'].duplicated()].to_csv(\"all_support_crew_with_unique_names.csv\", index=False)"
   ]
  },
  {
   "cell_type": "code",
   "execution_count": 9,
   "metadata": {},
   "outputs": [],
   "source": [
    "df_eth = pd.read_csv(\"../ethnicity_unique_names_movies_support_crew.csv\", encoding=\"utf-8\", dtype=str)"
   ]
  },
  {
   "cell_type": "code",
   "execution_count": 40,
   "metadata": {},
   "outputs": [
    {
     "data": {
      "text/html": [
       "<div>\n",
       "<style scoped>\n",
       "    .dataframe tbody tr th:only-of-type {\n",
       "        vertical-align: middle;\n",
       "    }\n",
       "\n",
       "    .dataframe tbody tr th {\n",
       "        vertical-align: top;\n",
       "    }\n",
       "\n",
       "    .dataframe thead th {\n",
       "        text-align: right;\n",
       "    }\n",
       "</style>\n",
       "<table border=\"1\" class=\"dataframe\">\n",
       "  <thead>\n",
       "    <tr style=\"text-align: right;\">\n",
       "      <th></th>\n",
       "      <th>2PRACE</th>\n",
       "      <th>Hispanic</th>\n",
       "      <th>API</th>\n",
       "      <th>Black</th>\n",
       "      <th>AIAN</th>\n",
       "      <th>White</th>\n",
       "      <th>person_id</th>\n",
       "      <th>name</th>\n",
       "    </tr>\n",
       "  </thead>\n",
       "  <tbody>\n",
       "    <tr>\n",
       "      <th>0</th>\n",
       "      <td>0.0004397593402373635</td>\n",
       "      <td>0.0017234620741103195</td>\n",
       "      <td>0.000701243243587646</td>\n",
       "      <td>0.04742280646561268</td>\n",
       "      <td>0.0019146228504846876</td>\n",
       "      <td>0.9477981060259673</td>\n",
       "      <td>1329505</td>\n",
       "      <td>Devon Bowman</td>\n",
       "    </tr>\n",
       "    <tr>\n",
       "      <th>1</th>\n",
       "      <td>0.00019053485184474382</td>\n",
       "      <td>0.0009057924236982357</td>\n",
       "      <td>0.00027725071750165313</td>\n",
       "      <td>0.0006166609758333718</td>\n",
       "      <td>0.0006668833161314149</td>\n",
       "      <td>0.9973428777149906</td>\n",
       "      <td>1439900</td>\n",
       "      <td>Morgan Gerhard</td>\n",
       "    </tr>\n",
       "    <tr>\n",
       "      <th>2</th>\n",
       "      <td>0.0004035530841650152</td>\n",
       "      <td>0.002867911822994444</td>\n",
       "      <td>0.0019120517281026761</td>\n",
       "      <td>0.024686545822272084</td>\n",
       "      <td>0.0010849856387335887</td>\n",
       "      <td>0.9690449519037322</td>\n",
       "      <td>2825311</td>\n",
       "      <td>Gerald Burke</td>\n",
       "    </tr>\n",
       "    <tr>\n",
       "      <th>3</th>\n",
       "      <td>0.0002495800477448197</td>\n",
       "      <td>0.0014816834072511281</td>\n",
       "      <td>0.00180762461012521</td>\n",
       "      <td>0.007147823860306688</td>\n",
       "      <td>0.00045631483557485175</td>\n",
       "      <td>0.9888569732389972</td>\n",
       "      <td>0284182</td>\n",
       "      <td>Kelly Ann Foley</td>\n",
       "    </tr>\n",
       "    <tr>\n",
       "      <th>4</th>\n",
       "      <td>0.0002970944716706766</td>\n",
       "      <td>0.0010258410365129374</td>\n",
       "      <td>0.001375298229598634</td>\n",
       "      <td>0.0073219757269283635</td>\n",
       "      <td>0.0011008716594015685</td>\n",
       "      <td>0.9888789188758879</td>\n",
       "      <td>4905404</td>\n",
       "      <td>Tom Lawless</td>\n",
       "    </tr>\n",
       "  </tbody>\n",
       "</table>\n",
       "</div>"
      ],
      "text/plain": [
       "                   2PRACE               Hispanic                     API  \\\n",
       "0   0.0004397593402373635  0.0017234620741103195    0.000701243243587646   \n",
       "1  0.00019053485184474382  0.0009057924236982357  0.00027725071750165313   \n",
       "2   0.0004035530841650152   0.002867911822994444   0.0019120517281026761   \n",
       "3   0.0002495800477448197  0.0014816834072511281     0.00180762461012521   \n",
       "4   0.0002970944716706766  0.0010258410365129374    0.001375298229598634   \n",
       "\n",
       "                   Black                    AIAN               White  \\\n",
       "0    0.04742280646561268   0.0019146228504846876  0.9477981060259673   \n",
       "1  0.0006166609758333718   0.0006668833161314149  0.9973428777149906   \n",
       "2   0.024686545822272084   0.0010849856387335887  0.9690449519037322   \n",
       "3   0.007147823860306688  0.00045631483557485175  0.9888569732389972   \n",
       "4  0.0073219757269283635   0.0011008716594015685  0.9888789188758879   \n",
       "\n",
       "  person_id             name  \n",
       "0   1329505     Devon Bowman  \n",
       "1   1439900   Morgan Gerhard  \n",
       "2   2825311     Gerald Burke  \n",
       "3   0284182  Kelly Ann Foley  \n",
       "4   4905404      Tom Lawless  "
      ]
     },
     "execution_count": 40,
     "metadata": {},
     "output_type": "execute_result"
    }
   ],
   "source": [
    "df_eth.head()"
   ]
  },
  {
   "cell_type": "code",
   "execution_count": 41,
   "metadata": {},
   "outputs": [],
   "source": [
    "filtered = (\"nm\" + df_dup['person_id']).isin(\"nm\" + df_eth['person_id'])"
   ]
  },
  {
   "cell_type": "code",
   "execution_count": 42,
   "metadata": {},
   "outputs": [],
   "source": [
    "df_rem = df_dup[~filtered]"
   ]
  },
  {
   "cell_type": "code",
   "execution_count": 43,
   "metadata": {},
   "outputs": [
    {
     "data": {
      "text/plain": [
       "(90224, 7)"
      ]
     },
     "execution_count": 43,
     "metadata": {},
     "output_type": "execute_result"
    }
   ],
   "source": [
    "df_rem.shape"
   ]
  },
  {
   "cell_type": "markdown",
   "metadata": {},
   "source": [
    "unique_movies_support_crew.csv has all support crew after removing duplicated person IDs and names already present in our cast list."
   ]
  },
  {
   "cell_type": "code",
   "execution_count": 44,
   "metadata": {},
   "outputs": [],
   "source": [
    "df_rem.to_csv(\"unique_movies_support_crew_with_manual.csv\", index=False)"
   ]
  },
  {
   "cell_type": "code",
   "execution_count": 45,
   "metadata": {},
   "outputs": [],
   "source": [
    "df_dup_name = df_rem[~df_rem['name'].duplicated()]"
   ]
  },
  {
   "cell_type": "code",
   "execution_count": 49,
   "metadata": {},
   "outputs": [
    {
     "data": {
      "text/plain": [
       "10070"
      ]
     },
     "execution_count": 49,
     "metadata": {},
     "output_type": "execute_result"
    }
   ],
   "source": [
    "df_rem['name'].duplicated().sum()"
   ]
  },
  {
   "cell_type": "code",
   "execution_count": 46,
   "metadata": {},
   "outputs": [
    {
     "data": {
      "text/plain": [
       "9837"
      ]
     },
     "execution_count": 46,
     "metadata": {},
     "output_type": "execute_result"
    }
   ],
   "source": [
    "sum(df_dup_name['name'].isin(df_eth['name']))"
   ]
  },
  {
   "cell_type": "markdown",
   "metadata": {},
   "source": [
    "We further remove the duplicated names of different people to reduce data."
   ]
  },
  {
   "cell_type": "code",
   "execution_count": 47,
   "metadata": {},
   "outputs": [],
   "source": [
    "unique_names = df_dup_name[~df_dup_name['name'].isin(df_eth['name'])]"
   ]
  },
  {
   "cell_type": "code",
   "execution_count": 48,
   "metadata": {},
   "outputs": [
    {
     "data": {
      "text/plain": [
       "(70317, 7)"
      ]
     },
     "execution_count": 48,
     "metadata": {},
     "output_type": "execute_result"
    }
   ],
   "source": [
    "unique_names.shape"
   ]
  },
  {
   "cell_type": "code",
   "execution_count": 50,
   "metadata": {},
   "outputs": [],
   "source": [
    "unique_names.to_csv(\"unique_names_movies_support_crew_with_manual.csv\", index=False)"
   ]
  }
 ],
 "metadata": {
  "kernelspec": {
   "display_name": "Python 3",
   "language": "python",
   "name": "python3"
  },
  "language_info": {
   "codemirror_mode": {
    "name": "ipython",
    "version": 3
   },
   "file_extension": ".py",
   "mimetype": "text/x-python",
   "name": "python",
   "nbconvert_exporter": "python",
   "pygments_lexer": "ipython3",
   "version": "3.11.3"
  }
 },
 "nbformat": 4,
 "nbformat_minor": 2
}
