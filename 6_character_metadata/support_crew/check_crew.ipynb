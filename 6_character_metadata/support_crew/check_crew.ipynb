{
 "cells": [
  {
   "cell_type": "code",
   "execution_count": 1,
   "metadata": {},
   "outputs": [],
   "source": [
    "import pandas as pd"
   ]
  },
  {
   "cell_type": "code",
   "execution_count": 2,
   "metadata": {},
   "outputs": [],
   "source": [
    "df = pd.read_csv(\"movies_support_crew.csv\", dtype=str)"
   ]
  },
  {
   "cell_type": "code",
   "execution_count": 3,
   "metadata": {},
   "outputs": [
    {
     "data": {
      "text/html": [
       "<div>\n",
       "<style scoped>\n",
       "    .dataframe tbody tr th:only-of-type {\n",
       "        vertical-align: middle;\n",
       "    }\n",
       "\n",
       "    .dataframe tbody tr th {\n",
       "        vertical-align: top;\n",
       "    }\n",
       "\n",
       "    .dataframe thead th {\n",
       "        text-align: right;\n",
       "    }\n",
       "</style>\n",
       "<table border=\"1\" class=\"dataframe\">\n",
       "  <thead>\n",
       "    <tr style=\"text-align: right;\">\n",
       "      <th></th>\n",
       "      <th>movie_id</th>\n",
       "      <th>file</th>\n",
       "      <th>role</th>\n",
       "      <th>person_id</th>\n",
       "      <th>name</th>\n",
       "      <th>long_canonical_name</th>\n",
       "      <th>headshot</th>\n",
       "    </tr>\n",
       "  </thead>\n",
       "  <tbody>\n",
       "    <tr>\n",
       "      <th>0</th>\n",
       "      <td>2113683</td>\n",
       "      <td>4513_I_Know_That_Voice</td>\n",
       "      <td>cast</td>\n",
       "      <td>0012121</td>\n",
       "      <td>Charlie Adler</td>\n",
       "      <td>Adler, Charlie</td>\n",
       "      <td>https://m.media-amazon.com/images/M/MV5BMjE0OT...</td>\n",
       "    </tr>\n",
       "    <tr>\n",
       "      <th>1</th>\n",
       "      <td>2113683</td>\n",
       "      <td>4513_I_Know_That_Voice</td>\n",
       "      <td>cast</td>\n",
       "      <td>0781899</td>\n",
       "      <td>Pamela Adlon</td>\n",
       "      <td>Adlon, Pamela</td>\n",
       "      <td>https://m.media-amazon.com/images/M/MV5BMTc2OT...</td>\n",
       "    </tr>\n",
       "    <tr>\n",
       "      <th>2</th>\n",
       "      <td>2113683</td>\n",
       "      <td>4513_I_Know_That_Voice</td>\n",
       "      <td>cast</td>\n",
       "      <td>0016141</td>\n",
       "      <td>Carlos Alazraqui</td>\n",
       "      <td>Alazraqui, Carlos</td>\n",
       "      <td>https://m.media-amazon.com/images/M/MV5BMTQyMT...</td>\n",
       "    </tr>\n",
       "    <tr>\n",
       "      <th>3</th>\n",
       "      <td>2113683</td>\n",
       "      <td>4513_I_Know_That_Voice</td>\n",
       "      <td>cast</td>\n",
       "      <td>0029460</td>\n",
       "      <td>Jack Angel</td>\n",
       "      <td>Angel, Jack</td>\n",
       "      <td>https://m.media-amazon.com/images/M/MV5BNjM1Nz...</td>\n",
       "    </tr>\n",
       "    <tr>\n",
       "      <th>4</th>\n",
       "      <td>2113683</td>\n",
       "      <td>4513_I_Know_That_Voice</td>\n",
       "      <td>cast</td>\n",
       "      <td>0000799</td>\n",
       "      <td>Edward Asner</td>\n",
       "      <td>Asner, Edward</td>\n",
       "      <td>https://m.media-amazon.com/images/M/MV5BMTk0MD...</td>\n",
       "    </tr>\n",
       "  </tbody>\n",
       "</table>\n",
       "</div>"
      ],
      "text/plain": [
       "  movie_id                    file  role person_id              name  \\\n",
       "0  2113683  4513_I_Know_That_Voice  cast   0012121     Charlie Adler   \n",
       "1  2113683  4513_I_Know_That_Voice  cast   0781899      Pamela Adlon   \n",
       "2  2113683  4513_I_Know_That_Voice  cast   0016141  Carlos Alazraqui   \n",
       "3  2113683  4513_I_Know_That_Voice  cast   0029460        Jack Angel   \n",
       "4  2113683  4513_I_Know_That_Voice  cast   0000799      Edward Asner   \n",
       "\n",
       "  long_canonical_name                                           headshot  \n",
       "0      Adler, Charlie  https://m.media-amazon.com/images/M/MV5BMjE0OT...  \n",
       "1       Adlon, Pamela  https://m.media-amazon.com/images/M/MV5BMTc2OT...  \n",
       "2   Alazraqui, Carlos  https://m.media-amazon.com/images/M/MV5BMTQyMT...  \n",
       "3         Angel, Jack  https://m.media-amazon.com/images/M/MV5BNjM1Nz...  \n",
       "4       Asner, Edward  https://m.media-amazon.com/images/M/MV5BMTk0MD...  "
      ]
     },
     "execution_count": 3,
     "metadata": {},
     "output_type": "execute_result"
    }
   ],
   "source": [
    "df.head()"
   ]
  },
  {
   "cell_type": "code",
   "execution_count": 4,
   "metadata": {},
   "outputs": [
    {
     "data": {
      "text/plain": [
       "(3028, 15)"
      ]
     },
     "execution_count": 4,
     "metadata": {},
     "output_type": "execute_result"
    }
   ],
   "source": [
    "df_in = pd.read_csv(\"../movies_with_ids.csv\", dtype={\"movie_id\": str})\n",
    "df_in = df_in[~df_in['movie_id'].isna()]\n",
    "df_sub = df_in[~df_in['movie_id'].duplicated()]\n",
    "df_sub.shape"
   ]
  },
  {
   "cell_type": "code",
   "execution_count": 5,
   "metadata": {},
   "outputs": [
    {
     "data": {
      "text/plain": [
       "3028"
      ]
     },
     "execution_count": 5,
     "metadata": {},
     "output_type": "execute_result"
    }
   ],
   "source": [
    "len(df['movie_id'].unique())"
   ]
  },
  {
   "cell_type": "markdown",
   "metadata": {},
   "source": [
    "The movie ids are the same so after removing nulls and duplicated ids, we get crew info for all remaining movies."
   ]
  },
  {
   "cell_type": "code",
   "execution_count": 6,
   "metadata": {},
   "outputs": [
    {
     "data": {
      "text/plain": [
       "(230720, (592778, 7))"
      ]
     },
     "execution_count": 6,
     "metadata": {},
     "output_type": "execute_result"
    }
   ],
   "source": [
    "sum(df['person_id'].duplicated()), df.shape"
   ]
  },
  {
   "cell_type": "code",
   "execution_count": 7,
   "metadata": {},
   "outputs": [],
   "source": [
    "df_dup = df[~df['person_id'].duplicated()]"
   ]
  },
  {
   "cell_type": "code",
   "execution_count": 8,
   "metadata": {},
   "outputs": [
    {
     "data": {
      "text/html": [
       "<div>\n",
       "<style scoped>\n",
       "    .dataframe tbody tr th:only-of-type {\n",
       "        vertical-align: middle;\n",
       "    }\n",
       "\n",
       "    .dataframe tbody tr th {\n",
       "        vertical-align: top;\n",
       "    }\n",
       "\n",
       "    .dataframe thead th {\n",
       "        text-align: right;\n",
       "    }\n",
       "</style>\n",
       "<table border=\"1\" class=\"dataframe\">\n",
       "  <thead>\n",
       "    <tr style=\"text-align: right;\">\n",
       "      <th></th>\n",
       "      <th>movie_id</th>\n",
       "      <th>file</th>\n",
       "      <th>role</th>\n",
       "      <th>person_id</th>\n",
       "      <th>name</th>\n",
       "      <th>long_canonical_name</th>\n",
       "      <th>headshot</th>\n",
       "    </tr>\n",
       "  </thead>\n",
       "  <tbody>\n",
       "    <tr>\n",
       "      <th>0</th>\n",
       "      <td>2113683</td>\n",
       "      <td>4513_I_Know_That_Voice</td>\n",
       "      <td>cast</td>\n",
       "      <td>0012121</td>\n",
       "      <td>Charlie Adler</td>\n",
       "      <td>Adler, Charlie</td>\n",
       "      <td>https://m.media-amazon.com/images/M/MV5BMjE0OT...</td>\n",
       "    </tr>\n",
       "    <tr>\n",
       "      <th>1</th>\n",
       "      <td>2113683</td>\n",
       "      <td>4513_I_Know_That_Voice</td>\n",
       "      <td>cast</td>\n",
       "      <td>0781899</td>\n",
       "      <td>Pamela Adlon</td>\n",
       "      <td>Adlon, Pamela</td>\n",
       "      <td>https://m.media-amazon.com/images/M/MV5BMTc2OT...</td>\n",
       "    </tr>\n",
       "    <tr>\n",
       "      <th>2</th>\n",
       "      <td>2113683</td>\n",
       "      <td>4513_I_Know_That_Voice</td>\n",
       "      <td>cast</td>\n",
       "      <td>0016141</td>\n",
       "      <td>Carlos Alazraqui</td>\n",
       "      <td>Alazraqui, Carlos</td>\n",
       "      <td>https://m.media-amazon.com/images/M/MV5BMTQyMT...</td>\n",
       "    </tr>\n",
       "    <tr>\n",
       "      <th>3</th>\n",
       "      <td>2113683</td>\n",
       "      <td>4513_I_Know_That_Voice</td>\n",
       "      <td>cast</td>\n",
       "      <td>0029460</td>\n",
       "      <td>Jack Angel</td>\n",
       "      <td>Angel, Jack</td>\n",
       "      <td>https://m.media-amazon.com/images/M/MV5BNjM1Nz...</td>\n",
       "    </tr>\n",
       "    <tr>\n",
       "      <th>4</th>\n",
       "      <td>2113683</td>\n",
       "      <td>4513_I_Know_That_Voice</td>\n",
       "      <td>cast</td>\n",
       "      <td>0000799</td>\n",
       "      <td>Edward Asner</td>\n",
       "      <td>Asner, Edward</td>\n",
       "      <td>https://m.media-amazon.com/images/M/MV5BMTk0MD...</td>\n",
       "    </tr>\n",
       "    <tr>\n",
       "      <th>...</th>\n",
       "      <td>...</td>\n",
       "      <td>...</td>\n",
       "      <td>...</td>\n",
       "      <td>...</td>\n",
       "      <td>...</td>\n",
       "      <td>...</td>\n",
       "      <td>...</td>\n",
       "    </tr>\n",
       "    <tr>\n",
       "      <th>592757</th>\n",
       "      <td>0065126</td>\n",
       "      <td>5659_True_Grit_1969</td>\n",
       "      <td>stunt performer</td>\n",
       "      <td>0314104</td>\n",
       "      <td>Fred Gerber</td>\n",
       "      <td>Gerber, Fred</td>\n",
       "      <td>NaN</td>\n",
       "    </tr>\n",
       "    <tr>\n",
       "      <th>592760</th>\n",
       "      <td>0065126</td>\n",
       "      <td>5659_True_Grit_1969</td>\n",
       "      <td>stunt performer</td>\n",
       "      <td>0430114</td>\n",
       "      <td>Monty Jordan</td>\n",
       "      <td>Jordan, Monty</td>\n",
       "      <td>NaN</td>\n",
       "    </tr>\n",
       "    <tr>\n",
       "      <th>592765</th>\n",
       "      <td>0065126</td>\n",
       "      <td>5659_True_Grit_1969</td>\n",
       "      <td>camera and electrical department</td>\n",
       "      <td>0689492</td>\n",
       "      <td>Paul M. Pollard</td>\n",
       "      <td>Pollard, Paul M.</td>\n",
       "      <td>NaN</td>\n",
       "    </tr>\n",
       "    <tr>\n",
       "      <th>592767</th>\n",
       "      <td>0065126</td>\n",
       "      <td>5659_True_Grit_1969</td>\n",
       "      <td>camera and electrical department</td>\n",
       "      <td>0949601</td>\n",
       "      <td>Harry Young</td>\n",
       "      <td>Young, Harry</td>\n",
       "      <td>NaN</td>\n",
       "    </tr>\n",
       "    <tr>\n",
       "      <th>592769</th>\n",
       "      <td>0065126</td>\n",
       "      <td>5659_True_Grit_1969</td>\n",
       "      <td>costume department</td>\n",
       "      <td>6491446</td>\n",
       "      <td>Jane Bockstruck</td>\n",
       "      <td>Bockstruck, Jane</td>\n",
       "      <td>NaN</td>\n",
       "    </tr>\n",
       "  </tbody>\n",
       "</table>\n",
       "<p>362058 rows × 7 columns</p>\n",
       "</div>"
      ],
      "text/plain": [
       "       movie_id                    file                              role  \\\n",
       "0       2113683  4513_I_Know_That_Voice                              cast   \n",
       "1       2113683  4513_I_Know_That_Voice                              cast   \n",
       "2       2113683  4513_I_Know_That_Voice                              cast   \n",
       "3       2113683  4513_I_Know_That_Voice                              cast   \n",
       "4       2113683  4513_I_Know_That_Voice                              cast   \n",
       "...         ...                     ...                               ...   \n",
       "592757  0065126     5659_True_Grit_1969                   stunt performer   \n",
       "592760  0065126     5659_True_Grit_1969                   stunt performer   \n",
       "592765  0065126     5659_True_Grit_1969  camera and electrical department   \n",
       "592767  0065126     5659_True_Grit_1969  camera and electrical department   \n",
       "592769  0065126     5659_True_Grit_1969                costume department   \n",
       "\n",
       "       person_id              name long_canonical_name  \\\n",
       "0        0012121     Charlie Adler      Adler, Charlie   \n",
       "1        0781899      Pamela Adlon       Adlon, Pamela   \n",
       "2        0016141  Carlos Alazraqui   Alazraqui, Carlos   \n",
       "3        0029460        Jack Angel         Angel, Jack   \n",
       "4        0000799      Edward Asner       Asner, Edward   \n",
       "...          ...               ...                 ...   \n",
       "592757   0314104       Fred Gerber        Gerber, Fred   \n",
       "592760   0430114      Monty Jordan       Jordan, Monty   \n",
       "592765   0689492   Paul M. Pollard    Pollard, Paul M.   \n",
       "592767   0949601       Harry Young        Young, Harry   \n",
       "592769   6491446   Jane Bockstruck    Bockstruck, Jane   \n",
       "\n",
       "                                                 headshot  \n",
       "0       https://m.media-amazon.com/images/M/MV5BMjE0OT...  \n",
       "1       https://m.media-amazon.com/images/M/MV5BMTc2OT...  \n",
       "2       https://m.media-amazon.com/images/M/MV5BMTQyMT...  \n",
       "3       https://m.media-amazon.com/images/M/MV5BNjM1Nz...  \n",
       "4       https://m.media-amazon.com/images/M/MV5BMTk0MD...  \n",
       "...                                                   ...  \n",
       "592757                                                NaN  \n",
       "592760                                                NaN  \n",
       "592765                                                NaN  \n",
       "592767                                                NaN  \n",
       "592769                                                NaN  \n",
       "\n",
       "[362058 rows x 7 columns]"
      ]
     },
     "execution_count": 8,
     "metadata": {},
     "output_type": "execute_result"
    }
   ],
   "source": [
    "df_dup"
   ]
  },
  {
   "cell_type": "code",
   "execution_count": 10,
   "metadata": {},
   "outputs": [],
   "source": [
    "all_people_cast = pd.read_csv(\"../all_people.csv\")"
   ]
  },
  {
   "cell_type": "code",
   "execution_count": 11,
   "metadata": {},
   "outputs": [
    {
     "data": {
      "text/html": [
       "<div>\n",
       "<style scoped>\n",
       "    .dataframe tbody tr th:only-of-type {\n",
       "        vertical-align: middle;\n",
       "    }\n",
       "\n",
       "    .dataframe tbody tr th {\n",
       "        vertical-align: top;\n",
       "    }\n",
       "\n",
       "    .dataframe thead th {\n",
       "        text-align: right;\n",
       "    }\n",
       "</style>\n",
       "<table border=\"1\" class=\"dataframe\">\n",
       "  <thead>\n",
       "    <tr style=\"text-align: right;\">\n",
       "      <th></th>\n",
       "      <th>id</th>\n",
       "      <th>person</th>\n",
       "      <th>character</th>\n",
       "      <th>movie</th>\n",
       "      <th>name_id</th>\n",
       "    </tr>\n",
       "  </thead>\n",
       "  <tbody>\n",
       "    <tr>\n",
       "      <th>0</th>\n",
       "      <td>/name/nm1799971/Rafaella</td>\n",
       "      <td>Marta Hazas</td>\n",
       "      <td>Rafaella</td>\n",
       "      <td>0_My_Fault</td>\n",
       "      <td>nm1799971</td>\n",
       "    </tr>\n",
       "    <tr>\n",
       "      <th>1</th>\n",
       "      <td>/name/nm2338819/Betty</td>\n",
       "      <td>Eve Ryan</td>\n",
       "      <td>Betty</td>\n",
       "      <td>0_My_Fault</td>\n",
       "      <td>nm2338819</td>\n",
       "    </tr>\n",
       "    <tr>\n",
       "      <th>2</th>\n",
       "      <td>/name/nm5913850/Noah</td>\n",
       "      <td>Nicole Wallace</td>\n",
       "      <td>Noah</td>\n",
       "      <td>0_My_Fault</td>\n",
       "      <td>nm5913850</td>\n",
       "    </tr>\n",
       "    <tr>\n",
       "      <th>3</th>\n",
       "      <td>/name/nm1293644/Padre Noah</td>\n",
       "      <td>Ivan MassaguÃ©</td>\n",
       "      <td>Padre Noah</td>\n",
       "      <td>0_My_Fault</td>\n",
       "      <td>nm1293644</td>\n",
       "    </tr>\n",
       "    <tr>\n",
       "      <th>4</th>\n",
       "      <td>/name/nm1107138/Martin</td>\n",
       "      <td>Mariano Venancio</td>\n",
       "      <td>Martin</td>\n",
       "      <td>0_My_Fault</td>\n",
       "      <td>nm1107138</td>\n",
       "    </tr>\n",
       "    <tr>\n",
       "      <th>...</th>\n",
       "      <td>...</td>\n",
       "      <td>...</td>\n",
       "      <td>...</td>\n",
       "      <td>...</td>\n",
       "      <td>...</td>\n",
       "    </tr>\n",
       "    <tr>\n",
       "      <th>49871</th>\n",
       "      <td>/name/nm5110271/Courthouse Reporter</td>\n",
       "      <td>Phil Biedron</td>\n",
       "      <td>Courthouse Reporter</td>\n",
       "      <td>9_Till</td>\n",
       "      <td>nm5110271</td>\n",
       "    </tr>\n",
       "    <tr>\n",
       "      <th>49872</th>\n",
       "      <td>/name/nm8032581/Ruby Hurley</td>\n",
       "      <td>Princess Elmore</td>\n",
       "      <td>Ruby Hurley</td>\n",
       "      <td>9_Till</td>\n",
       "      <td>nm8032581</td>\n",
       "    </tr>\n",
       "    <tr>\n",
       "      <th>49873</th>\n",
       "      <td>/name/nm1615964/Sheriff Strider</td>\n",
       "      <td>Brendan Patrick Connor</td>\n",
       "      <td>Sheriff Strider</td>\n",
       "      <td>9_Till</td>\n",
       "      <td>nm1615964</td>\n",
       "    </tr>\n",
       "    <tr>\n",
       "      <th>49874</th>\n",
       "      <td>/name/nm0002694/James Hicks</td>\n",
       "      <td>Leland L. Jones</td>\n",
       "      <td>James Hicks</td>\n",
       "      <td>9_Till</td>\n",
       "      <td>nm0002694</td>\n",
       "    </tr>\n",
       "    <tr>\n",
       "      <th>49875</th>\n",
       "      <td>/name/nm4131598/S. Carlton</td>\n",
       "      <td>Josh Ventura</td>\n",
       "      <td>S. Carlton</td>\n",
       "      <td>9_Till</td>\n",
       "      <td>nm4131598</td>\n",
       "    </tr>\n",
       "  </tbody>\n",
       "</table>\n",
       "<p>49876 rows × 5 columns</p>\n",
       "</div>"
      ],
      "text/plain": [
       "                                        id                  person  \\\n",
       "0                 /name/nm1799971/Rafaella             Marta Hazas   \n",
       "1                    /name/nm2338819/Betty                Eve Ryan   \n",
       "2                     /name/nm5913850/Noah          Nicole Wallace   \n",
       "3               /name/nm1293644/Padre Noah          Ivan MassaguÃ©   \n",
       "4                   /name/nm1107138/Martin        Mariano Venancio   \n",
       "...                                    ...                     ...   \n",
       "49871  /name/nm5110271/Courthouse Reporter            Phil Biedron   \n",
       "49872          /name/nm8032581/Ruby Hurley         Princess Elmore   \n",
       "49873      /name/nm1615964/Sheriff Strider  Brendan Patrick Connor   \n",
       "49874          /name/nm0002694/James Hicks         Leland L. Jones   \n",
       "49875           /name/nm4131598/S. Carlton            Josh Ventura   \n",
       "\n",
       "                 character       movie    name_id  \n",
       "0                 Rafaella  0_My_Fault  nm1799971  \n",
       "1                    Betty  0_My_Fault  nm2338819  \n",
       "2                     Noah  0_My_Fault  nm5913850  \n",
       "3               Padre Noah  0_My_Fault  nm1293644  \n",
       "4                   Martin  0_My_Fault  nm1107138  \n",
       "...                    ...         ...        ...  \n",
       "49871  Courthouse Reporter      9_Till  nm5110271  \n",
       "49872          Ruby Hurley      9_Till  nm8032581  \n",
       "49873      Sheriff Strider      9_Till  nm1615964  \n",
       "49874          James Hicks      9_Till  nm0002694  \n",
       "49875           S. Carlton      9_Till  nm4131598  \n",
       "\n",
       "[49876 rows x 5 columns]"
      ]
     },
     "execution_count": 11,
     "metadata": {},
     "output_type": "execute_result"
    }
   ],
   "source": [
    "all_people_cast"
   ]
  },
  {
   "cell_type": "code",
   "execution_count": 14,
   "metadata": {},
   "outputs": [],
   "source": [
    "filtered = (\"nm\" + df_dup['person_id']).isin(all_people_cast['name_id'])"
   ]
  },
  {
   "cell_type": "code",
   "execution_count": 21,
   "metadata": {},
   "outputs": [],
   "source": [
    "df_rem = df_dup[~filtered]"
   ]
  },
  {
   "cell_type": "markdown",
   "metadata": {},
   "source": [
    "unique_movies_support_crew.csv has all support crew after removing duplicated person IDs and names already present in our cast list."
   ]
  },
  {
   "cell_type": "code",
   "execution_count": 22,
   "metadata": {},
   "outputs": [],
   "source": [
    "df_rem.to_csv(\"unique_movies_support_crew.csv\", index=False)"
   ]
  },
  {
   "cell_type": "code",
   "execution_count": 30,
   "metadata": {},
   "outputs": [],
   "source": [
    "df_dup_name = df_rem[~df_rem['name'].duplicated()]"
   ]
  },
  {
   "cell_type": "code",
   "execution_count": 31,
   "metadata": {},
   "outputs": [
    {
     "data": {
      "text/plain": [
       "2911"
      ]
     },
     "execution_count": 31,
     "metadata": {},
     "output_type": "execute_result"
    }
   ],
   "source": [
    "sum(df_dup_name['name'].isin(all_people_cast['person']))"
   ]
  },
  {
   "cell_type": "markdown",
   "metadata": {},
   "source": [
    "We further remove the duplicated names of different people to reduce data."
   ]
  },
  {
   "cell_type": "code",
   "execution_count": 36,
   "metadata": {},
   "outputs": [],
   "source": [
    "unique_names = df_dup_name[~df_dup_name['name'].isin(all_people_cast['person'])]"
   ]
  },
  {
   "cell_type": "code",
   "execution_count": 37,
   "metadata": {},
   "outputs": [
    {
     "data": {
      "text/plain": [
       "(297903, 7)"
      ]
     },
     "execution_count": 37,
     "metadata": {},
     "output_type": "execute_result"
    }
   ],
   "source": [
    "unique_names.shape"
   ]
  },
  {
   "cell_type": "code",
   "execution_count": 38,
   "metadata": {},
   "outputs": [],
   "source": [
    "unique_names.to_csv(\"unique_names_movies_support_crew.csv\", index=False)"
   ]
  }
 ],
 "metadata": {
  "kernelspec": {
   "display_name": "Python 3",
   "language": "python",
   "name": "python3"
  },
  "language_info": {
   "codemirror_mode": {
    "name": "ipython",
    "version": 3
   },
   "file_extension": ".py",
   "mimetype": "text/x-python",
   "name": "python",
   "nbconvert_exporter": "python",
   "pygments_lexer": "ipython3",
   "version": "3.11.3"
  }
 },
 "nbformat": 4,
 "nbformat_minor": 2
}
