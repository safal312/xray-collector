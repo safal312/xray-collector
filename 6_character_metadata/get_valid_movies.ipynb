{
 "cells": [
  {
   "cell_type": "markdown",
   "metadata": {},
   "source": [
    "### Get Valid Movies"
   ]
  },
  {
   "cell_type": "markdown",
   "metadata": {},
   "source": [
    "This file creates the metadata of only the movies that have cast information. Through this process, we remove movies that don't have appropriate x-ray data from our metadata. This file creates the file `movies_with_cast_manual.csv`"
   ]
  },
  {
   "cell_type": "code",
   "execution_count": 1,
   "metadata": {},
   "outputs": [],
   "source": [
    "import pandas as pd"
   ]
  },
  {
   "cell_type": "code",
   "execution_count": 2,
   "metadata": {},
   "outputs": [],
   "source": [
    "df_people = pd.read_csv(\"../data/6_character_metadata/all_people_with_duplicates.csv\")"
   ]
  },
  {
   "cell_type": "code",
   "execution_count": 3,
   "metadata": {},
   "outputs": [
    {
     "data": {
      "text/html": [
       "<div>\n",
       "<style scoped>\n",
       "    .dataframe tbody tr th:only-of-type {\n",
       "        vertical-align: middle;\n",
       "    }\n",
       "\n",
       "    .dataframe tbody tr th {\n",
       "        vertical-align: top;\n",
       "    }\n",
       "\n",
       "    .dataframe thead th {\n",
       "        text-align: right;\n",
       "    }\n",
       "</style>\n",
       "<table border=\"1\" class=\"dataframe\">\n",
       "  <thead>\n",
       "    <tr style=\"text-align: right;\">\n",
       "      <th></th>\n",
       "      <th>name_id</th>\n",
       "      <th>person</th>\n",
       "      <th>character</th>\n",
       "      <th>file</th>\n",
       "    </tr>\n",
       "  </thead>\n",
       "  <tbody>\n",
       "    <tr>\n",
       "      <th>0</th>\n",
       "      <td>nm1799971</td>\n",
       "      <td>Marta Hazas</td>\n",
       "      <td>Rafaella</td>\n",
       "      <td>0_My_Fault</td>\n",
       "    </tr>\n",
       "    <tr>\n",
       "      <th>1</th>\n",
       "      <td>nm2338819</td>\n",
       "      <td>Eve Ryan</td>\n",
       "      <td>Betty</td>\n",
       "      <td>0_My_Fault</td>\n",
       "    </tr>\n",
       "    <tr>\n",
       "      <th>2</th>\n",
       "      <td>nm5913850</td>\n",
       "      <td>Nicole Wallace</td>\n",
       "      <td>Noah</td>\n",
       "      <td>0_My_Fault</td>\n",
       "    </tr>\n",
       "    <tr>\n",
       "      <th>3</th>\n",
       "      <td>nm1293644</td>\n",
       "      <td>Ivan MassaguÃ©</td>\n",
       "      <td>Padre Noah</td>\n",
       "      <td>0_My_Fault</td>\n",
       "    </tr>\n",
       "    <tr>\n",
       "      <th>4</th>\n",
       "      <td>nm1107138</td>\n",
       "      <td>Mariano Venancio</td>\n",
       "      <td>Martin</td>\n",
       "      <td>0_My_Fault</td>\n",
       "    </tr>\n",
       "  </tbody>\n",
       "</table>\n",
       "</div>"
      ],
      "text/plain": [
       "     name_id            person   character        file\n",
       "0  nm1799971       Marta Hazas    Rafaella  0_My_Fault\n",
       "1  nm2338819          Eve Ryan       Betty  0_My_Fault\n",
       "2  nm5913850    Nicole Wallace        Noah  0_My_Fault\n",
       "3  nm1293644    Ivan MassaguÃ©  Padre Noah  0_My_Fault\n",
       "4  nm1107138  Mariano Venancio      Martin  0_My_Fault"
      ]
     },
     "execution_count": 3,
     "metadata": {},
     "output_type": "execute_result"
    }
   ],
   "source": [
    "df_people.head()"
   ]
  },
  {
   "cell_type": "code",
   "execution_count": 5,
   "metadata": {},
   "outputs": [
    {
     "data": {
      "text/plain": [
       "3570"
      ]
     },
     "execution_count": 5,
     "metadata": {},
     "output_type": "execute_result"
    }
   ],
   "source": [
    "df_people['file'].nunique()"
   ]
  },
  {
   "cell_type": "code",
   "execution_count": 6,
   "metadata": {},
   "outputs": [],
   "source": [
    "import os\n",
    "\n",
    "all = []\n",
    "for dir in [\"com\", \"in2010s\", \"before2010\", \"after2020\"]:\n",
    "    # all = all + os.listdir(f\"../data/4_parsed_xrays/{dir}\")\n",
    "    df = pd.read_csv(f\"../data/4_parsed_xrays/{dir}_sub_movies_with_xrays.csv\")\n",
    "    df['dir'] = dir\n",
    "    all.append(df)"
   ]
  },
  {
   "cell_type": "code",
   "execution_count": 7,
   "metadata": {},
   "outputs": [],
   "source": [
    "df_all_merged = pd.concat(all)"
   ]
  },
  {
   "cell_type": "code",
   "execution_count": 8,
   "metadata": {},
   "outputs": [
    {
     "data": {
      "text/plain": [
       "(3570, 12)"
      ]
     },
     "execution_count": 8,
     "metadata": {},
     "output_type": "execute_result"
    }
   ],
   "source": [
    "df_all_merged.shape"
   ]
  },
  {
   "cell_type": "markdown",
   "metadata": {},
   "source": [
    "Some movies didn't have their title which is necessary for imdb matching in their metadata. Therefore, we use the metadata from `2_metadata`."
   ]
  },
  {
   "cell_type": "code",
   "execution_count": 11,
   "metadata": {},
   "outputs": [
    {
     "name": "stdout",
     "output_type": "stream",
     "text": [
      "com\n",
      "in2010s\n",
      "before2010\n",
      "after2020\n"
     ]
    }
   ],
   "source": [
    "for dir in df_all_merged['dir'].unique():\n",
    "    file_with_title = pd.read_csv(f\"../data/2_metadata/{dir}/clean_meta_en_prime.csv\")[['file', 'title']]\n",
    "    print(dir)\n",
    "    df_missing = df_all_merged.loc[(df_all_merged['title'].isnull()) & (df_all_merged['dir'] == dir)]\n",
    "    \n",
    "    filtered = file_with_title[file_with_title['file'].isin(df_missing['file'])]\n",
    "    df_all_merged.loc[(df_all_merged['title'].isnull()) & (df_all_merged['dir'] == dir), 'title'] = filtered['title'].values"
   ]
  },
  {
   "cell_type": "code",
   "execution_count": 12,
   "metadata": {},
   "outputs": [
    {
     "data": {
      "text/plain": [
       "0"
      ]
     },
     "execution_count": 12,
     "metadata": {},
     "output_type": "execute_result"
    }
   ],
   "source": [
    "df_all_merged['title'].isnull().sum()"
   ]
  },
  {
   "cell_type": "code",
   "execution_count": 13,
   "metadata": {},
   "outputs": [],
   "source": [
    "SAVE_DIR = \"../data/6_character_metadata\""
   ]
  },
  {
   "cell_type": "code",
   "execution_count": 16,
   "metadata": {},
   "outputs": [],
   "source": [
    "df_all_merged[df_all_merged['file'].isin(df_people['file'])].to_csv(f\"{SAVE_DIR}/movies_with_cast_manual.csv\", index=False)"
   ]
  }
 ],
 "metadata": {
  "kernelspec": {
   "display_name": "Python 3",
   "language": "python",
   "name": "python3"
  },
  "language_info": {
   "codemirror_mode": {
    "name": "ipython",
    "version": 3
   },
   "file_extension": ".py",
   "mimetype": "text/x-python",
   "name": "python",
   "nbconvert_exporter": "python",
   "pygments_lexer": "ipython3",
   "version": "3.11.3"
  }
 },
 "nbformat": 4,
 "nbformat_minor": 2
}
