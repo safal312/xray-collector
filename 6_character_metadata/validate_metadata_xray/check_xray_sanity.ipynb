{
 "cells": [
  {
   "cell_type": "markdown",
   "metadata": {},
   "source": [
    "### Check Xray duplicates"
   ]
  },
  {
   "cell_type": "markdown",
   "metadata": {},
   "source": [
    "This notebook checks for cases where two movies might be sharing the same x-ray file. Such a scenario can arise out of network issues or other unknown factors. To find such instances, we see if any two movies have the exact same cast. The strategy is explained throughout the notebook."
   ]
  },
  {
   "cell_type": "code",
   "execution_count": 32,
   "metadata": {},
   "outputs": [],
   "source": [
    "import pandas as pd"
   ]
  },
  {
   "cell_type": "markdown",
   "metadata": {},
   "source": [
    "Read the validated metadata"
   ]
  },
  {
   "cell_type": "code",
   "execution_count": 33,
   "metadata": {},
   "outputs": [],
   "source": [
    "meta = pd.read_csv(\"../../data/6_character_metadata/final_validated_metadata.csv\", dtype={\"imdb_id\": str})"
   ]
  },
  {
   "cell_type": "markdown",
   "metadata": {},
   "source": [
    "Read the people file to check we have data for all movies."
   ]
  },
  {
   "cell_type": "code",
   "execution_count": 34,
   "metadata": {},
   "outputs": [],
   "source": [
    "people = pd.read_csv(\"../../data/6_character_metadata/all_people_with_duplicates.csv\")"
   ]
  },
  {
   "cell_type": "code",
   "execution_count": 35,
   "metadata": {},
   "outputs": [],
   "source": [
    "final_people = people[people['file'].isin(meta['file'])]"
   ]
  },
  {
   "cell_type": "code",
   "execution_count": 36,
   "metadata": {},
   "outputs": [
    {
     "data": {
      "text/plain": [
       "3377"
      ]
     },
     "execution_count": 36,
     "metadata": {},
     "output_type": "execute_result"
    }
   ],
   "source": [
    "final_people['file'].nunique()"
   ]
  },
  {
   "cell_type": "code",
   "execution_count": 37,
   "metadata": {},
   "outputs": [
    {
     "data": {
      "text/plain": [
       "3377"
      ]
     },
     "execution_count": 37,
     "metadata": {},
     "output_type": "execute_result"
    }
   ],
   "source": [
    "meta['file'].nunique()"
   ]
  },
  {
   "cell_type": "markdown",
   "metadata": {},
   "source": [
    "Combine all the people into a list. We check for duplicate X-Rays by using this cast information."
   ]
  },
  {
   "cell_type": "code",
   "execution_count": 38,
   "metadata": {},
   "outputs": [
    {
     "data": {
      "text/html": [
       "<div>\n",
       "<style scoped>\n",
       "    .dataframe tbody tr th:only-of-type {\n",
       "        vertical-align: middle;\n",
       "    }\n",
       "\n",
       "    .dataframe tbody tr th {\n",
       "        vertical-align: top;\n",
       "    }\n",
       "\n",
       "    .dataframe thead th {\n",
       "        text-align: right;\n",
       "    }\n",
       "</style>\n",
       "<table border=\"1\" class=\"dataframe\">\n",
       "  <thead>\n",
       "    <tr style=\"text-align: right;\">\n",
       "      <th></th>\n",
       "      <th>file</th>\n",
       "      <th>name_id</th>\n",
       "    </tr>\n",
       "  </thead>\n",
       "  <tbody>\n",
       "    <tr>\n",
       "      <th>0</th>\n",
       "      <td>0_My_Fault</td>\n",
       "      <td>[nm1799971, nm2338819, nm5913850, nm1293644, n...</td>\n",
       "    </tr>\n",
       "    <tr>\n",
       "      <th>1</th>\n",
       "      <td>1000_On_The_Trail_of_UFOS_Dark_Sky</td>\n",
       "      <td>[nm13818646, nm10541807, nm7379431, nm13818650...</td>\n",
       "    </tr>\n",
       "    <tr>\n",
       "      <th>2</th>\n",
       "      <td>1001_Student_Of_The_Year</td>\n",
       "      <td>[nm5023746, nm0438501, nm4765939, nm5208689, n...</td>\n",
       "    </tr>\n",
       "    <tr>\n",
       "      <th>3</th>\n",
       "      <td>1003_Exit_Humanity</td>\n",
       "      <td>[nm0004051, nm4056899, nm4224457, nm2495152, n...</td>\n",
       "    </tr>\n",
       "    <tr>\n",
       "      <th>4</th>\n",
       "      <td>1005_The_Badge_The_Bible_and_Bigfoot</td>\n",
       "      <td>[nm11004690, nm10977492, nm10977492, nm1100120...</td>\n",
       "    </tr>\n",
       "    <tr>\n",
       "      <th>...</th>\n",
       "      <td>...</td>\n",
       "      <td>...</td>\n",
       "    </tr>\n",
       "    <tr>\n",
       "      <th>3372</th>\n",
       "      <td>998_Haunting_of_Helena</td>\n",
       "      <td>[nm3246544, nm1074178, nm5021846, nm0581711, n...</td>\n",
       "    </tr>\n",
       "    <tr>\n",
       "      <th>3373</th>\n",
       "      <td>999_Lost_Child</td>\n",
       "      <td>[nm1628079, nm7748637, nm11619505, nm11619502,...</td>\n",
       "    </tr>\n",
       "    <tr>\n",
       "      <th>3374</th>\n",
       "      <td>99_Cowgirls_N_Angels</td>\n",
       "      <td>[nm1933128, nm1027429, nm4685196, nm1988958, n...</td>\n",
       "    </tr>\n",
       "    <tr>\n",
       "      <th>3375</th>\n",
       "      <td>9_80_For_Brady</td>\n",
       "      <td>[nm0005499, nm0000404, nm0000398, nm0001549, n...</td>\n",
       "    </tr>\n",
       "    <tr>\n",
       "      <th>3376</th>\n",
       "      <td>9_Till</td>\n",
       "      <td>[nm4314990, nm8786575, nm11231176, nm1143549, ...</td>\n",
       "    </tr>\n",
       "  </tbody>\n",
       "</table>\n",
       "<p>3377 rows × 2 columns</p>\n",
       "</div>"
      ],
      "text/plain": [
       "                                      file  \\\n",
       "0                               0_My_Fault   \n",
       "1       1000_On_The_Trail_of_UFOS_Dark_Sky   \n",
       "2                 1001_Student_Of_The_Year   \n",
       "3                       1003_Exit_Humanity   \n",
       "4     1005_The_Badge_The_Bible_and_Bigfoot   \n",
       "...                                    ...   \n",
       "3372                998_Haunting_of_Helena   \n",
       "3373                        999_Lost_Child   \n",
       "3374                  99_Cowgirls_N_Angels   \n",
       "3375                        9_80_For_Brady   \n",
       "3376                                9_Till   \n",
       "\n",
       "                                                name_id  \n",
       "0     [nm1799971, nm2338819, nm5913850, nm1293644, n...  \n",
       "1     [nm13818646, nm10541807, nm7379431, nm13818650...  \n",
       "2     [nm5023746, nm0438501, nm4765939, nm5208689, n...  \n",
       "3     [nm0004051, nm4056899, nm4224457, nm2495152, n...  \n",
       "4     [nm11004690, nm10977492, nm10977492, nm1100120...  \n",
       "...                                                 ...  \n",
       "3372  [nm3246544, nm1074178, nm5021846, nm0581711, n...  \n",
       "3373  [nm1628079, nm7748637, nm11619505, nm11619502,...  \n",
       "3374  [nm1933128, nm1027429, nm4685196, nm1988958, n...  \n",
       "3375  [nm0005499, nm0000404, nm0000398, nm0001549, n...  \n",
       "3376  [nm4314990, nm8786575, nm11231176, nm1143549, ...  \n",
       "\n",
       "[3377 rows x 2 columns]"
      ]
     },
     "execution_count": 38,
     "metadata": {},
     "output_type": "execute_result"
    }
   ],
   "source": [
    "dup = pd.DataFrame(final_people.groupby('file')['name_id'].agg(list)).reset_index()\n",
    "dup"
   ]
  },
  {
   "cell_type": "code",
   "execution_count": 39,
   "metadata": {},
   "outputs": [],
   "source": [
    "duplicate_entries = dup[dup.duplicated('name_id', keep=False)]"
   ]
  },
  {
   "cell_type": "code",
   "execution_count": 40,
   "metadata": {},
   "outputs": [
    {
     "data": {
      "text/plain": [
       "(193, 2)"
      ]
     },
     "execution_count": 40,
     "metadata": {},
     "output_type": "execute_result"
    }
   ],
   "source": [
    "duplicate_entries.shape"
   ]
  },
  {
   "cell_type": "markdown",
   "metadata": {},
   "source": [
    "We get all the movies that have duplicate entries. "
   ]
  },
  {
   "cell_type": "markdown",
   "metadata": {},
   "source": [
    "Among these duplicated movies, we assume that if a movie was matched using the imdb_matching algorithm, it is likely the correct x-ray data of the movie. Thus, movies that weren't matched have inappropriate x-ray data."
   ]
  },
  {
   "cell_type": "markdown",
   "metadata": {},
   "source": [
    "IDs in the `metadata_for_validation` file were collected using the algorithm."
   ]
  },
  {
   "cell_type": "code",
   "execution_count": 15,
   "metadata": {},
   "outputs": [],
   "source": [
    "meta_imdb_matched = pd.read_csv(\"../../data/6_character_metadata/metadata_for_validation.csv\", dtype={\"imdb_id\": str})"
   ]
  },
  {
   "cell_type": "code",
   "execution_count": 16,
   "metadata": {},
   "outputs": [],
   "source": [
    "# movie matched with imdb\n",
    "empty = meta_imdb_matched[meta_imdb_matched['imdb_id'].isnull()]\n",
    "# movie matched by imdb matching algorithm\n",
    "properly_matched = meta_imdb_matched[~meta_imdb_matched['imdb_id'].isnull()]"
   ]
  },
  {
   "cell_type": "code",
   "execution_count": 17,
   "metadata": {},
   "outputs": [
    {
     "data": {
      "text/html": [
       "<div>\n",
       "<style scoped>\n",
       "    .dataframe tbody tr th:only-of-type {\n",
       "        vertical-align: middle;\n",
       "    }\n",
       "\n",
       "    .dataframe tbody tr th {\n",
       "        vertical-align: top;\n",
       "    }\n",
       "\n",
       "    .dataframe thead th {\n",
       "        text-align: right;\n",
       "    }\n",
       "</style>\n",
       "<table border=\"1\" class=\"dataframe\">\n",
       "  <thead>\n",
       "    <tr style=\"text-align: right;\">\n",
       "      <th></th>\n",
       "      <th>file</th>\n",
       "      <th>name_id</th>\n",
       "    </tr>\n",
       "  </thead>\n",
       "  <tbody>\n",
       "    <tr>\n",
       "      <th>11</th>\n",
       "      <td>1013_MOM_BEHIND_THE_WHEEL</td>\n",
       "      <td>[nm10056858, nm8257146, nm3559559, nm4204921, ...</td>\n",
       "    </tr>\n",
       "    <tr>\n",
       "      <th>28</th>\n",
       "      <td>1030_The_Big_Easy</td>\n",
       "      <td>[nm1486911, nm1267552, nm6143802, nm8511145, n...</td>\n",
       "    </tr>\n",
       "    <tr>\n",
       "      <th>44</th>\n",
       "      <td>1052_Zero_Days</td>\n",
       "      <td>[nm6932074, nm2408881, nm3535087, nm4049575, n...</td>\n",
       "    </tr>\n",
       "    <tr>\n",
       "      <th>75</th>\n",
       "      <td>1091_Bird_Catcher_The</td>\n",
       "      <td>[nm0033165, nm1030395, nm1401531, nm0444621, n...</td>\n",
       "    </tr>\n",
       "    <tr>\n",
       "      <th>90</th>\n",
       "      <td>1122_Muddy_Malayalam</td>\n",
       "      <td>[nm3606518, nm0621937, nm2144007, nm0841552, n...</td>\n",
       "    </tr>\n",
       "    <tr>\n",
       "      <th>...</th>\n",
       "      <td>...</td>\n",
       "      <td>...</td>\n",
       "    </tr>\n",
       "    <tr>\n",
       "      <th>3233</th>\n",
       "      <td>800_CLIMAX</td>\n",
       "      <td>[nm12339812, nm0707399, nm10466463, nm12539241...</td>\n",
       "    </tr>\n",
       "    <tr>\n",
       "      <th>3241</th>\n",
       "      <td>809_Well_Done_Baby</td>\n",
       "      <td>[nm12339812, nm0707399, nm10466463, nm12539241...</td>\n",
       "    </tr>\n",
       "    <tr>\n",
       "      <th>3260</th>\n",
       "      <td>837_Nanis_Gang_Leader</td>\n",
       "      <td>[nm1633541, nm10976972, nm9171680, nm13373316,...</td>\n",
       "    </tr>\n",
       "    <tr>\n",
       "      <th>3321</th>\n",
       "      <td>909_Tender_Mercies</td>\n",
       "      <td>[nm9555673, nm7757668, nm4756769, nm9361072, n...</td>\n",
       "    </tr>\n",
       "    <tr>\n",
       "      <th>3362</th>\n",
       "      <td>982_Ape_vs_Monster</td>\n",
       "      <td>[nm1978748, nm8379677, nm2467118, nm5953245, n...</td>\n",
       "    </tr>\n",
       "  </tbody>\n",
       "</table>\n",
       "<p>95 rows × 2 columns</p>\n",
       "</div>"
      ],
      "text/plain": [
       "                           file  \\\n",
       "11    1013_MOM_BEHIND_THE_WHEEL   \n",
       "28            1030_The_Big_Easy   \n",
       "44               1052_Zero_Days   \n",
       "75        1091_Bird_Catcher_The   \n",
       "90         1122_Muddy_Malayalam   \n",
       "...                         ...   \n",
       "3233                 800_CLIMAX   \n",
       "3241         809_Well_Done_Baby   \n",
       "3260      837_Nanis_Gang_Leader   \n",
       "3321         909_Tender_Mercies   \n",
       "3362         982_Ape_vs_Monster   \n",
       "\n",
       "                                                name_id  \n",
       "11    [nm10056858, nm8257146, nm3559559, nm4204921, ...  \n",
       "28    [nm1486911, nm1267552, nm6143802, nm8511145, n...  \n",
       "44    [nm6932074, nm2408881, nm3535087, nm4049575, n...  \n",
       "75    [nm0033165, nm1030395, nm1401531, nm0444621, n...  \n",
       "90    [nm3606518, nm0621937, nm2144007, nm0841552, n...  \n",
       "...                                                 ...  \n",
       "3233  [nm12339812, nm0707399, nm10466463, nm12539241...  \n",
       "3241  [nm12339812, nm0707399, nm10466463, nm12539241...  \n",
       "3260  [nm1633541, nm10976972, nm9171680, nm13373316,...  \n",
       "3321  [nm9555673, nm7757668, nm4756769, nm9361072, n...  \n",
       "3362  [nm1978748, nm8379677, nm2467118, nm5953245, n...  \n",
       "\n",
       "[95 rows x 2 columns]"
      ]
     },
     "execution_count": 17,
     "metadata": {},
     "output_type": "execute_result"
    }
   ],
   "source": [
    "unmatched_duplicates = duplicate_entries[duplicate_entries['file'].isin(empty['file'])]\n",
    "unmatched_duplicates"
   ]
  },
  {
   "cell_type": "markdown",
   "metadata": {},
   "source": [
    "The movies above are the duplicated entries that weren't matched by imdb_matching algorithm. If we remove them, we'll be left with entries that were matched properly and have genuine x-ray data of their respective movies."
   ]
  },
  {
   "cell_type": "code",
   "execution_count": 18,
   "metadata": {},
   "outputs": [],
   "source": [
    "# remove the entries that couldn't be matched by algorithm (possibly because of duplicate xrays)\n",
    "duplicate_entries_2 = duplicate_entries[~duplicate_entries['file'].isin(empty['file'])]"
   ]
  },
  {
   "cell_type": "code",
   "execution_count": 20,
   "metadata": {},
   "outputs": [
    {
     "data": {
      "text/html": [
       "<div>\n",
       "<style scoped>\n",
       "    .dataframe tbody tr th:only-of-type {\n",
       "        vertical-align: middle;\n",
       "    }\n",
       "\n",
       "    .dataframe tbody tr th {\n",
       "        vertical-align: top;\n",
       "    }\n",
       "\n",
       "    .dataframe thead th {\n",
       "        text-align: right;\n",
       "    }\n",
       "</style>\n",
       "<table border=\"1\" class=\"dataframe\">\n",
       "  <thead>\n",
       "    <tr style=\"text-align: right;\">\n",
       "      <th></th>\n",
       "      <th>file</th>\n",
       "      <th>name_id</th>\n",
       "    </tr>\n",
       "  </thead>\n",
       "  <tbody>\n",
       "    <tr>\n",
       "      <th>245</th>\n",
       "      <td>1317_Pata_Nahi_Par_Bolna_Hai</td>\n",
       "      <td>[nm7732132]</td>\n",
       "    </tr>\n",
       "    <tr>\n",
       "      <th>293</th>\n",
       "      <td>1375_Tathastu</td>\n",
       "      <td>[nm6321286]</td>\n",
       "    </tr>\n",
       "    <tr>\n",
       "      <th>341</th>\n",
       "      <td>1414_Dilli_Se_Hoon_BD</td>\n",
       "      <td>[nm7677658]</td>\n",
       "    </tr>\n",
       "    <tr>\n",
       "      <th>365</th>\n",
       "      <td>1436_Daddy_Issues</td>\n",
       "      <td>[nm0930149]</td>\n",
       "    </tr>\n",
       "    <tr>\n",
       "      <th>690</th>\n",
       "      <td>1850_Gaadi_Tera_Bhai_Chalayega</td>\n",
       "      <td>[nm7677658]</td>\n",
       "    </tr>\n",
       "    <tr>\n",
       "      <th>800</th>\n",
       "      <td>1974_Fun_Size</td>\n",
       "      <td>[nm0930149]</td>\n",
       "    </tr>\n",
       "    <tr>\n",
       "      <th>1005</th>\n",
       "      <td>2314_Whistle</td>\n",
       "      <td>[nm10154962, nm9497172, nm6489058, nm1686962, ...</td>\n",
       "    </tr>\n",
       "    <tr>\n",
       "      <th>1072</th>\n",
       "      <td>2400_Biswa_Kalyan_Rath_Biswa_Mast_Aadmi</td>\n",
       "      <td>[nm8271396]</td>\n",
       "    </tr>\n",
       "    <tr>\n",
       "      <th>1372</th>\n",
       "      <td>2897_Zakir_Khan_Haq_Se_Single</td>\n",
       "      <td>[nm6321286]</td>\n",
       "    </tr>\n",
       "    <tr>\n",
       "      <th>1646</th>\n",
       "      <td>3494_Kaksha_Gyarvi</td>\n",
       "      <td>[nm6321286]</td>\n",
       "    </tr>\n",
       "    <tr>\n",
       "      <th>1650</th>\n",
       "      <td>3498_Biswa_Kalyan_Rath_Sushi</td>\n",
       "      <td>[nm8271396]</td>\n",
       "    </tr>\n",
       "    <tr>\n",
       "      <th>1979</th>\n",
       "      <td>424_Tommy_Little_Ill_See_Myself_Out</td>\n",
       "      <td>[nm3180159]</td>\n",
       "    </tr>\n",
       "    <tr>\n",
       "      <th>1993</th>\n",
       "      <td>4284_Tommy_Little_Pretty_Fly_For_A_Dickhead</td>\n",
       "      <td>[nm3180159]</td>\n",
       "    </tr>\n",
       "    <tr>\n",
       "      <th>2186</th>\n",
       "      <td>4841_I_Was_Not_Ready_Da</td>\n",
       "      <td>[nm8682311]</td>\n",
       "    </tr>\n",
       "    <tr>\n",
       "      <th>2222</th>\n",
       "      <td>4953_Aravind_SA__Madrasi_Da</td>\n",
       "      <td>[nm8682311]</td>\n",
       "    </tr>\n",
       "    <tr>\n",
       "      <th>2290</th>\n",
       "      <td>5156_Aalas_Motaapa_Ghabraahat</td>\n",
       "      <td>[nm7732132]</td>\n",
       "    </tr>\n",
       "    <tr>\n",
       "      <th>2906</th>\n",
       "      <td>6082_Biswa_Kalyan_Raths_Mood_Kharaab</td>\n",
       "      <td>[nm8271396]</td>\n",
       "    </tr>\n",
       "  </tbody>\n",
       "</table>\n",
       "</div>"
      ],
      "text/plain": [
       "                                             file  \\\n",
       "245                  1317_Pata_Nahi_Par_Bolna_Hai   \n",
       "293                                 1375_Tathastu   \n",
       "341                         1414_Dilli_Se_Hoon_BD   \n",
       "365                             1436_Daddy_Issues   \n",
       "690                1850_Gaadi_Tera_Bhai_Chalayega   \n",
       "800                                 1974_Fun_Size   \n",
       "1005                                 2314_Whistle   \n",
       "1072      2400_Biswa_Kalyan_Rath_Biswa_Mast_Aadmi   \n",
       "1372                2897_Zakir_Khan_Haq_Se_Single   \n",
       "1646                           3494_Kaksha_Gyarvi   \n",
       "1650                 3498_Biswa_Kalyan_Rath_Sushi   \n",
       "1979          424_Tommy_Little_Ill_See_Myself_Out   \n",
       "1993  4284_Tommy_Little_Pretty_Fly_For_A_Dickhead   \n",
       "2186                      4841_I_Was_Not_Ready_Da   \n",
       "2222                  4953_Aravind_SA__Madrasi_Da   \n",
       "2290                5156_Aalas_Motaapa_Ghabraahat   \n",
       "2906         6082_Biswa_Kalyan_Raths_Mood_Kharaab   \n",
       "\n",
       "                                                name_id  \n",
       "245                                         [nm7732132]  \n",
       "293                                         [nm6321286]  \n",
       "341                                         [nm7677658]  \n",
       "365                                         [nm0930149]  \n",
       "690                                         [nm7677658]  \n",
       "800                                         [nm0930149]  \n",
       "1005  [nm10154962, nm9497172, nm6489058, nm1686962, ...  \n",
       "1072                                        [nm8271396]  \n",
       "1372                                        [nm6321286]  \n",
       "1646                                        [nm6321286]  \n",
       "1650                                        [nm8271396]  \n",
       "1979                                        [nm3180159]  \n",
       "1993                                        [nm3180159]  \n",
       "2186                                        [nm8682311]  \n",
       "2222                                        [nm8682311]  \n",
       "2290                                        [nm7732132]  \n",
       "2906                                        [nm8271396]  "
      ]
     },
     "execution_count": 20,
     "metadata": {},
     "output_type": "execute_result"
    }
   ],
   "source": [
    "# after we removed the entries that weren't matched,\n",
    "# we may have removed duplicate cases for many movies\n",
    "\n",
    "# now we can check for movies that are still duplicated\n",
    "dup_2 = duplicate_entries_2[duplicate_entries_2['name_id'].duplicated(keep=False)]\n",
    "# keep the genuine movie that has muliple titles\n",
    "dup_2 = dup_2[dup_2['file'] != '1697_Bigil']\n",
    "dup_2"
   ]
  },
  {
   "cell_type": "markdown",
   "metadata": {},
   "source": [
    "Bigil, whistle same movie. Others are comedy specials. Duplicated because they are from the same person."
   ]
  },
  {
   "cell_type": "markdown",
   "metadata": {},
   "source": [
    "Thus, if we remove these duplicates as well, we won't have any more duplicates left."
   ]
  },
  {
   "cell_type": "code",
   "execution_count": 21,
   "metadata": {},
   "outputs": [
    {
     "data": {
      "text/html": [
       "<div>\n",
       "<style scoped>\n",
       "    .dataframe tbody tr th:only-of-type {\n",
       "        vertical-align: middle;\n",
       "    }\n",
       "\n",
       "    .dataframe tbody tr th {\n",
       "        vertical-align: top;\n",
       "    }\n",
       "\n",
       "    .dataframe thead th {\n",
       "        text-align: right;\n",
       "    }\n",
       "</style>\n",
       "<table border=\"1\" class=\"dataframe\">\n",
       "  <thead>\n",
       "    <tr style=\"text-align: right;\">\n",
       "      <th></th>\n",
       "      <th>title</th>\n",
       "      <th>imdb_id</th>\n",
       "      <th>file</th>\n",
       "      <th>dir</th>\n",
       "      <th>synopsis</th>\n",
       "      <th>year</th>\n",
       "      <th>link</th>\n",
       "    </tr>\n",
       "  </thead>\n",
       "  <tbody>\n",
       "    <tr>\n",
       "      <th>0</th>\n",
       "      <td>My Fault</td>\n",
       "      <td>21909764</td>\n",
       "      <td>0_My_Fault</td>\n",
       "      <td>com</td>\n",
       "      <td>Noah must leave her town, boyfriend and friend...</td>\n",
       "      <td>2023.0</td>\n",
       "      <td>/My-Fault-Nicole-Wallace/dp/B0B683GB78/ref=sr_...</td>\n",
       "    </tr>\n",
       "    <tr>\n",
       "      <th>1</th>\n",
       "      <td>On The Trail of UFOS: Dark Sky</td>\n",
       "      <td>14928972</td>\n",
       "      <td>1000_On_The_Trail_of_UFOS_Dark_Sky</td>\n",
       "      <td>com</td>\n",
       "      <td>On the Trail of UFOs: Dark Sky traces decades ...</td>\n",
       "      <td>2021.0</td>\n",
       "      <td>/Trail-UFOS-Dark-Sky/dp/B09BKF2WGQ/ref=sr_1_24...</td>\n",
       "    </tr>\n",
       "    <tr>\n",
       "      <th>2</th>\n",
       "      <td>Student Of The Year</td>\n",
       "      <td>2172071</td>\n",
       "      <td>1001_Student_Of_The_Year</td>\n",
       "      <td>com</td>\n",
       "      <td>Introducing Alia Bhatt (Sharanya Singhania), S...</td>\n",
       "      <td>2012.0</td>\n",
       "      <td>/Student-Year-Sidharth-Malhotra/dp/B0BZTD87WK/...</td>\n",
       "    </tr>\n",
       "    <tr>\n",
       "      <th>3</th>\n",
       "      <td>The Badge, The Bible and Bigfoot</td>\n",
       "      <td>11208026</td>\n",
       "      <td>1005_The_Badge_The_Bible_and_Bigfoot</td>\n",
       "      <td>com</td>\n",
       "      <td>In a small coastal town Bigfoot is sighted, an...</td>\n",
       "      <td>2019.0</td>\n",
       "      <td>/Badge-Bible-Bigfoot-Ashley-Wright/dp/B09JMYV8...</td>\n",
       "    </tr>\n",
       "    <tr>\n",
       "      <th>4</th>\n",
       "      <td>Sharknado 5: Global Swarming</td>\n",
       "      <td>6298780</td>\n",
       "      <td>1009_Sharknado_5_Global_Swarming</td>\n",
       "      <td>com</td>\n",
       "      <td>With much of North America lying in ruins, the...</td>\n",
       "      <td>2017.0</td>\n",
       "      <td>/Sharknado-Global-Swarming-Ian-Ziering/dp/B07M...</td>\n",
       "    </tr>\n",
       "    <tr>\n",
       "      <th>...</th>\n",
       "      <td>...</td>\n",
       "      <td>...</td>\n",
       "      <td>...</td>\n",
       "      <td>...</td>\n",
       "      <td>...</td>\n",
       "      <td>...</td>\n",
       "      <td>...</td>\n",
       "    </tr>\n",
       "    <tr>\n",
       "      <th>3369</th>\n",
       "      <td>Only</td>\n",
       "      <td>3984356</td>\n",
       "      <td>868_Only</td>\n",
       "      <td>after2020</td>\n",
       "      <td>After a mysterious plague threatens to kill al...</td>\n",
       "      <td>2020.0</td>\n",
       "      <td>/Only-Freida-Pinto/dp/B085PWDYFV/ref=sr_1_2357...</td>\n",
       "    </tr>\n",
       "    <tr>\n",
       "      <th>3370</th>\n",
       "      <td>Hustle</td>\n",
       "      <td>15693006</td>\n",
       "      <td>1742_Hustle</td>\n",
       "      <td>after2020</td>\n",
       "      <td>A con artist finds herself torn between a no-s...</td>\n",
       "      <td>2021.0</td>\n",
       "      <td>/Hustle-Nancy-Isime/dp/B0BZ57DWF9/ref=sr_1_528...</td>\n",
       "    </tr>\n",
       "    <tr>\n",
       "      <th>3371</th>\n",
       "      <td>No Man's Land</td>\n",
       "      <td>15686202</td>\n",
       "      <td>935_No_Mans_Land</td>\n",
       "      <td>after2020</td>\n",
       "      <td>Working as a housekeeper, Sumitra trudges alon...</td>\n",
       "      <td>2021.0</td>\n",
       "      <td>/No-Mans-Land-Lukman-Avaran/dp/B09LT2P8NW/ref=...</td>\n",
       "    </tr>\n",
       "    <tr>\n",
       "      <th>3372</th>\n",
       "      <td>Ombatthane Dikku</td>\n",
       "      <td>12299992</td>\n",
       "      <td>975_Ombatthane_Dikku</td>\n",
       "      <td>after2020</td>\n",
       "      <td>Varadappa, a sawmill owner and rural don sends...</td>\n",
       "      <td>2022.0</td>\n",
       "      <td>/Ombatthane-Dikku-Loose-Mada-Yogi/dp/B09SGV3NL...</td>\n",
       "    </tr>\n",
       "    <tr>\n",
       "      <th>3374</th>\n",
       "      <td>Chain reaction</td>\n",
       "      <td>6314382</td>\n",
       "      <td>985_Chain_reaction</td>\n",
       "      <td>after2020</td>\n",
       "      <td>Guilherme is an honest family man. Exemplary a...</td>\n",
       "      <td>2021.0</td>\n",
       "      <td>/Chain-reaction-Monique-Alfradique/dp/B09MF9X1...</td>\n",
       "    </tr>\n",
       "  </tbody>\n",
       "</table>\n",
       "<p>3265 rows × 7 columns</p>\n",
       "</div>"
      ],
      "text/plain": [
       "                                 title   imdb_id  \\\n",
       "0                             My Fault  21909764   \n",
       "1       On The Trail of UFOS: Dark Sky  14928972   \n",
       "2                  Student Of The Year   2172071   \n",
       "3     The Badge, The Bible and Bigfoot  11208026   \n",
       "4         Sharknado 5: Global Swarming   6298780   \n",
       "...                                ...       ...   \n",
       "3369                              Only   3984356   \n",
       "3370                            Hustle  15693006   \n",
       "3371                     No Man's Land  15686202   \n",
       "3372                  Ombatthane Dikku  12299992   \n",
       "3374                    Chain reaction   6314382   \n",
       "\n",
       "                                      file        dir  \\\n",
       "0                               0_My_Fault        com   \n",
       "1       1000_On_The_Trail_of_UFOS_Dark_Sky        com   \n",
       "2                 1001_Student_Of_The_Year        com   \n",
       "3     1005_The_Badge_The_Bible_and_Bigfoot        com   \n",
       "4         1009_Sharknado_5_Global_Swarming        com   \n",
       "...                                    ...        ...   \n",
       "3369                              868_Only  after2020   \n",
       "3370                           1742_Hustle  after2020   \n",
       "3371                      935_No_Mans_Land  after2020   \n",
       "3372                  975_Ombatthane_Dikku  after2020   \n",
       "3374                    985_Chain_reaction  after2020   \n",
       "\n",
       "                                               synopsis    year  \\\n",
       "0     Noah must leave her town, boyfriend and friend...  2023.0   \n",
       "1     On the Trail of UFOs: Dark Sky traces decades ...  2021.0   \n",
       "2     Introducing Alia Bhatt (Sharanya Singhania), S...  2012.0   \n",
       "3     In a small coastal town Bigfoot is sighted, an...  2019.0   \n",
       "4     With much of North America lying in ruins, the...  2017.0   \n",
       "...                                                 ...     ...   \n",
       "3369  After a mysterious plague threatens to kill al...  2020.0   \n",
       "3370  A con artist finds herself torn between a no-s...  2021.0   \n",
       "3371  Working as a housekeeper, Sumitra trudges alon...  2021.0   \n",
       "3372  Varadappa, a sawmill owner and rural don sends...  2022.0   \n",
       "3374  Guilherme is an honest family man. Exemplary a...  2021.0   \n",
       "\n",
       "                                                   link  \n",
       "0     /My-Fault-Nicole-Wallace/dp/B0B683GB78/ref=sr_...  \n",
       "1     /Trail-UFOS-Dark-Sky/dp/B09BKF2WGQ/ref=sr_1_24...  \n",
       "2     /Student-Year-Sidharth-Malhotra/dp/B0BZTD87WK/...  \n",
       "3     /Badge-Bible-Bigfoot-Ashley-Wright/dp/B09JMYV8...  \n",
       "4     /Sharknado-Global-Swarming-Ian-Ziering/dp/B07M...  \n",
       "...                                                 ...  \n",
       "3369  /Only-Freida-Pinto/dp/B085PWDYFV/ref=sr_1_2357...  \n",
       "3370  /Hustle-Nancy-Isime/dp/B0BZ57DWF9/ref=sr_1_528...  \n",
       "3371  /No-Mans-Land-Lukman-Avaran/dp/B09LT2P8NW/ref=...  \n",
       "3372  /Ombatthane-Dikku-Loose-Mada-Yogi/dp/B09SGV3NL...  \n",
       "3374  /Chain-reaction-Monique-Alfradique/dp/B09MF9X1...  \n",
       "\n",
       "[3265 rows x 7 columns]"
      ]
     },
     "execution_count": 21,
     "metadata": {},
     "output_type": "execute_result"
    }
   ],
   "source": [
    "# first remove \"imdb unmatched\" duplicates\n",
    "meta_1 = meta[~meta['file'].isin(unmatched_duplicates['file'])]\n",
    "# then remove entries that are still duplicated after removing \"imdb unmatched\" duplicates, like the comedy specials\n",
    "meta_2 = meta_1[~meta_1['file'].isin(dup_2['file'])]\n",
    "meta_2"
   ]
  },
  {
   "cell_type": "code",
   "execution_count": 22,
   "metadata": {},
   "outputs": [],
   "source": [
    "meta_2.to_csv(\"../../data/6_character_metadata/filtered_final_validated_metadata.csv\", index=False)"
   ]
  }
 ],
 "metadata": {
  "kernelspec": {
   "display_name": "Python 3",
   "language": "python",
   "name": "python3"
  },
  "language_info": {
   "codemirror_mode": {
    "name": "ipython",
    "version": 3
   },
   "file_extension": ".py",
   "mimetype": "text/x-python",
   "name": "python",
   "nbconvert_exporter": "python",
   "pygments_lexer": "ipython3",
   "version": "3.11.3"
  }
 },
 "nbformat": 4,
 "nbformat_minor": 2
}
