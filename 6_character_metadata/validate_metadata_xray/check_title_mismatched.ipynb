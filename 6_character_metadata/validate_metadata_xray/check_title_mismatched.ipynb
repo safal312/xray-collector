{
 "cells": [
  {
   "cell_type": "markdown",
   "metadata": {},
   "source": [
    "### Check mismtached \"Playback Resources\" (metadata) of movies."
   ]
  },
  {
   "cell_type": "markdown",
   "metadata": {},
   "source": [
    "There are cases where the Playback Resources file is duplicated for different movies because of network issues. We inspect such cases in this notebook."
   ]
  },
  {
   "cell_type": "code",
   "execution_count": 1,
   "metadata": {},
   "outputs": [],
   "source": [
    "import pandas as pd"
   ]
  },
  {
   "cell_type": "code",
   "execution_count": 2,
   "metadata": {},
   "outputs": [],
   "source": [
    "METADATA_DIR = \"../../data/6_character_metadata/\""
   ]
  },
  {
   "cell_type": "code",
   "execution_count": 3,
   "metadata": {},
   "outputs": [],
   "source": [
    "df = pd.read_csv(f\"{METADATA_DIR}/final_validated_metadata.csv\", dtype=str)"
   ]
  },
  {
   "cell_type": "code",
   "execution_count": 4,
   "metadata": {},
   "outputs": [
    {
     "data": {
      "text/html": [
       "<div>\n",
       "<style scoped>\n",
       "    .dataframe tbody tr th:only-of-type {\n",
       "        vertical-align: middle;\n",
       "    }\n",
       "\n",
       "    .dataframe tbody tr th {\n",
       "        vertical-align: top;\n",
       "    }\n",
       "\n",
       "    .dataframe thead th {\n",
       "        text-align: right;\n",
       "    }\n",
       "</style>\n",
       "<table border=\"1\" class=\"dataframe\">\n",
       "  <thead>\n",
       "    <tr style=\"text-align: right;\">\n",
       "      <th></th>\n",
       "      <th>title</th>\n",
       "      <th>imdb_id</th>\n",
       "      <th>file</th>\n",
       "      <th>dir</th>\n",
       "      <th>synopsis</th>\n",
       "      <th>year</th>\n",
       "      <th>link</th>\n",
       "    </tr>\n",
       "  </thead>\n",
       "  <tbody>\n",
       "    <tr>\n",
       "      <th>0</th>\n",
       "      <td>My Fault</td>\n",
       "      <td>21909764</td>\n",
       "      <td>0_My_Fault</td>\n",
       "      <td>com</td>\n",
       "      <td>Noah must leave her town, boyfriend and friend...</td>\n",
       "      <td>2023.0</td>\n",
       "      <td>/My-Fault-Nicole-Wallace/dp/B0B683GB78/ref=sr_...</td>\n",
       "    </tr>\n",
       "    <tr>\n",
       "      <th>1</th>\n",
       "      <td>On The Trail of UFOS: Dark Sky</td>\n",
       "      <td>14928972</td>\n",
       "      <td>1000_On_The_Trail_of_UFOS_Dark_Sky</td>\n",
       "      <td>com</td>\n",
       "      <td>On the Trail of UFOs: Dark Sky traces decades ...</td>\n",
       "      <td>2021.0</td>\n",
       "      <td>/Trail-UFOS-Dark-Sky/dp/B09BKF2WGQ/ref=sr_1_24...</td>\n",
       "    </tr>\n",
       "    <tr>\n",
       "      <th>2</th>\n",
       "      <td>Student Of The Year</td>\n",
       "      <td>2172071</td>\n",
       "      <td>1001_Student_Of_The_Year</td>\n",
       "      <td>com</td>\n",
       "      <td>Introducing Alia Bhatt (Sharanya Singhania), S...</td>\n",
       "      <td>2012.0</td>\n",
       "      <td>/Student-Year-Sidharth-Malhotra/dp/B0BZTD87WK/...</td>\n",
       "    </tr>\n",
       "    <tr>\n",
       "      <th>3</th>\n",
       "      <td>The Badge, The Bible and Bigfoot</td>\n",
       "      <td>11208026</td>\n",
       "      <td>1005_The_Badge_The_Bible_and_Bigfoot</td>\n",
       "      <td>com</td>\n",
       "      <td>In a small coastal town Bigfoot is sighted, an...</td>\n",
       "      <td>2019.0</td>\n",
       "      <td>/Badge-Bible-Bigfoot-Ashley-Wright/dp/B09JMYV8...</td>\n",
       "    </tr>\n",
       "    <tr>\n",
       "      <th>4</th>\n",
       "      <td>Sharknado 5: Global Swarming</td>\n",
       "      <td>6298780</td>\n",
       "      <td>1009_Sharknado_5_Global_Swarming</td>\n",
       "      <td>com</td>\n",
       "      <td>With much of North America lying in ruins, the...</td>\n",
       "      <td>2017.0</td>\n",
       "      <td>/Sharknado-Global-Swarming-Ian-Ziering/dp/B07M...</td>\n",
       "    </tr>\n",
       "  </tbody>\n",
       "</table>\n",
       "</div>"
      ],
      "text/plain": [
       "                              title   imdb_id  \\\n",
       "0                          My Fault  21909764   \n",
       "1    On The Trail of UFOS: Dark Sky  14928972   \n",
       "2               Student Of The Year   2172071   \n",
       "3  The Badge, The Bible and Bigfoot  11208026   \n",
       "4      Sharknado 5: Global Swarming   6298780   \n",
       "\n",
       "                                   file  dir  \\\n",
       "0                            0_My_Fault  com   \n",
       "1    1000_On_The_Trail_of_UFOS_Dark_Sky  com   \n",
       "2              1001_Student_Of_The_Year  com   \n",
       "3  1005_The_Badge_The_Bible_and_Bigfoot  com   \n",
       "4      1009_Sharknado_5_Global_Swarming  com   \n",
       "\n",
       "                                            synopsis    year  \\\n",
       "0  Noah must leave her town, boyfriend and friend...  2023.0   \n",
       "1  On the Trail of UFOs: Dark Sky traces decades ...  2021.0   \n",
       "2  Introducing Alia Bhatt (Sharanya Singhania), S...  2012.0   \n",
       "3  In a small coastal town Bigfoot is sighted, an...  2019.0   \n",
       "4  With much of North America lying in ruins, the...  2017.0   \n",
       "\n",
       "                                                link  \n",
       "0  /My-Fault-Nicole-Wallace/dp/B0B683GB78/ref=sr_...  \n",
       "1  /Trail-UFOS-Dark-Sky/dp/B09BKF2WGQ/ref=sr_1_24...  \n",
       "2  /Student-Year-Sidharth-Malhotra/dp/B0BZTD87WK/...  \n",
       "3  /Badge-Bible-Bigfoot-Ashley-Wright/dp/B09JMYV8...  \n",
       "4  /Sharknado-Global-Swarming-Ian-Ziering/dp/B07M...  "
      ]
     },
     "execution_count": 4,
     "metadata": {},
     "output_type": "execute_result"
    }
   ],
   "source": [
    "df.head()"
   ]
  },
  {
   "cell_type": "markdown",
   "metadata": {},
   "source": [
    "Try to create the unique movie identifier using the procedure we followed in `2_parse_links` to see if the current identifier has a match."
   ]
  },
  {
   "cell_type": "code",
   "execution_count": 5,
   "metadata": {},
   "outputs": [],
   "source": [
    "from unidecode import unidecode\n",
    "\n",
    "df['clean_title'] = [unidecode(text) for text in df['title']]\n",
    "df['clean_title'] = df['clean_title'].str.replace(\"[^0-9a-zA-Z ]\", \"\", regex=True).str.replace(\" \", \"_\")"
   ]
  },
  {
   "cell_type": "code",
   "execution_count": 6,
   "metadata": {},
   "outputs": [
    {
     "data": {
      "text/plain": [
       "67"
      ]
     },
     "execution_count": 6,
     "metadata": {},
     "output_type": "execute_result"
    }
   ],
   "source": [
    "sum(~(df['clean_title'] == df['file'].str.split('_').str[1:].str.join(\"_\")))"
   ]
  },
  {
   "cell_type": "code",
   "execution_count": 7,
   "metadata": {},
   "outputs": [],
   "source": [
    "df[~(df['clean_title'] == df['file'].str.split('_').str[1:].str.join(\"_\"))].to_csv(\"check_title_mismatch.csv\", index=False)"
   ]
  }
 ],
 "metadata": {
  "kernelspec": {
   "display_name": "Python 3",
   "language": "python",
   "name": "python3"
  },
  "language_info": {
   "codemirror_mode": {
    "name": "ipython",
    "version": 3
   },
   "file_extension": ".py",
   "mimetype": "text/x-python",
   "name": "python",
   "nbconvert_exporter": "python",
   "pygments_lexer": "ipython3",
   "version": "3.11.3"
  }
 },
 "nbformat": 4,
 "nbformat_minor": 2
}
